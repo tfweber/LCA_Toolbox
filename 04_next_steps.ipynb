{
 "cells": [
  {
   "cell_type": "code",
   "execution_count": 1,
   "id": "04365249",
   "metadata": {},
   "outputs": [],
   "source": [
    "# As next steps, we want to import EXIOBASE and BONSAI and get to analyse them as well all linked to the same biosphere flows and in the same project."
   ]
  },
  {
   "cell_type": "code",
   "execution_count": 1,
   "id": "475035d3",
   "metadata": {},
   "outputs": [],
   "source": [
    "# Also, I want that others try to see if they can run this repository and get the same results."
   ]
  },
  {
   "cell_type": "code",
   "execution_count": null,
   "id": "99dd0fe0",
   "metadata": {},
   "outputs": [],
   "source": [
    "# I would also like to add a connection to the BONSAI API to analyse the backgrounds of the results displayed on the BONSAI website."
   ]
  }
 ],
 "metadata": {
  "kernelspec": {
   "display_name": "brightway25",
   "language": "python",
   "name": "python3"
  },
  "language_info": {
   "codemirror_mode": {
    "name": "ipython",
    "version": 3
   },
   "file_extension": ".py",
   "mimetype": "text/x-python",
   "name": "python",
   "nbconvert_exporter": "python",
   "pygments_lexer": "ipython3",
   "version": "3.12.11"
  }
 },
 "nbformat": 4,
 "nbformat_minor": 5
}
