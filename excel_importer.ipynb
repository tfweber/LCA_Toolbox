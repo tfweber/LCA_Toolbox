{
 "cells": [
  {
   "cell_type": "code",
   "execution_count": 73,
   "id": "570df8b9",
   "metadata": {},
   "outputs": [],
   "source": [
    "# basic imports from brightway\n",
    "import bw2analyzer as ba\n",
    "import bw2calc as bc\n",
    "import bw2data as bd\n",
    "from bw2data import databases\n",
    "import bw2io as bi\n",
    "from bw2io import ExcelImporter\n",
    "from bw2io.importers import SingleOutputEcospold2Importer\n",
    "import bw2analyzer as bwa\n",
    "from bw2data import methods\n",
    "import argparse\n",
    "import bw2data as bd\n",
    "\n",
    "# other relevant packages\n",
    "import numpy as np\n",
    "import pandas as pd\n",
    "import matplotlib.pyplot as plt\n",
    "from pathlib import Path"
   ]
  },
  {
   "cell_type": "code",
   "execution_count": 87,
   "id": "97ab9d3b",
   "metadata": {},
   "outputs": [],
   "source": [
    "# define a project where we install the databases and work in this script\n",
    "bd.projects.set_current('brightway25')"
   ]
  },
  {
   "cell_type": "code",
   "execution_count": 92,
   "id": "d72656cc",
   "metadata": {},
   "outputs": [
    {
     "data": {
      "text/plain": [
       "Databases dictionary with 3 object(s):\n",
       "\tbw25_db\n",
       "\tecoinvent-3.10-biosphere\n",
       "\tecoinvent310clca"
      ]
     },
     "execution_count": 92,
     "metadata": {},
     "output_type": "execute_result"
    }
   ],
   "source": [
    "bd.databases"
   ]
  },
  {
   "cell_type": "code",
   "execution_count": 101,
   "id": "9bf969b7",
   "metadata": {},
   "outputs": [],
   "source": [
    "ei_clca = bd.Database('ecoinvent310clca')\n",
    "ei_bio = bd.Database('ecoinvent-3.10-biosphere')\n",
    "test = bd.Database('bw25_db')"
   ]
  },
  {
   "cell_type": "code",
   "execution_count": 102,
   "id": "45dab468",
   "metadata": {},
   "outputs": [
    {
     "name": "stdout",
     "output_type": "stream",
     "text": [
      "Extracted 1 worksheets in 0.01 seconds\n"
     ]
    }
   ],
   "source": [
    "excel_db = bi.ExcelImporter(\"C:/Users/TimWeber/OneDrive - 2.-0 LCA Consultants ApS/Intranet - Brightway2/excel_model_example/brightway25_excel_db_template.xlsx\")"
   ]
  },
  {
   "cell_type": "code",
   "execution_count": 105,
   "id": "1ce7a78d",
   "metadata": {},
   "outputs": [
    {
     "name": "stdout",
     "output_type": "stream",
     "text": [
      "Applying strategy: link_iterable_by_fields\n",
      "Applying strategy: link_iterable_by_fields\n"
     ]
    },
    {
     "name": "stderr",
     "output_type": "stream",
     "text": [
      "  0%|          | 0/1 [00:00<?, ?it/s]\n"
     ]
    },
    {
     "ename": "InvalidExchange",
     "evalue": "",
     "output_type": "error",
     "traceback": [
      "\u001b[31m---------------------------------------------------------------------------\u001b[39m",
      "\u001b[31mInvalidExchange\u001b[39m                           Traceback (most recent call last)",
      "\u001b[36mCell\u001b[39m\u001b[36m \u001b[39m\u001b[32mIn[105]\u001b[39m\u001b[32m, line 3\u001b[39m\n\u001b[32m      1\u001b[39m excel_db.match_database(fields=[\u001b[33m'\u001b[39m\u001b[33mname\u001b[39m\u001b[33m'\u001b[39m,\u001b[33m'\u001b[39m\u001b[33munit\u001b[39m\u001b[33m'\u001b[39m,\u001b[33m'\u001b[39m\u001b[33mlocation\u001b[39m\u001b[33m'\u001b[39m])\n\u001b[32m      2\u001b[39m excel_db.match_database(db_name=ei_clca.name,fields=[\u001b[33m'\u001b[39m\u001b[33mname\u001b[39m\u001b[33m'\u001b[39m,\u001b[33m'\u001b[39m\u001b[33munit\u001b[39m\u001b[33m'\u001b[39m,\u001b[33m'\u001b[39m\u001b[33mlocation\u001b[39m\u001b[33m'\u001b[39m,\u001b[33m'\u001b[39m\u001b[33mactivity type\u001b[39m\u001b[33m'\u001b[39m])\n\u001b[32m----> \u001b[39m\u001b[32m3\u001b[39m \u001b[43mexcel_db\u001b[49m\u001b[43m.\u001b[49m\u001b[43mwrite_database\u001b[49m\u001b[43m(\u001b[49m\u001b[43m)\u001b[49m\n",
      "\u001b[36mFile \u001b[39m\u001b[32mc:\\Users\\TimWeber\\anaconda3\\envs\\brightway25\\Lib\\site-packages\\bw2io\\importers\\excel.py:284\u001b[39m, in \u001b[36mExcelImporter.write_database\u001b[39m\u001b[34m(self, **kwargs)\u001b[39m\n\u001b[32m    282\u001b[39m \u001b[38;5;250m\u001b[39m\u001b[33;03m\"\"\"Same as base ``write_database`` method, but ``activate_parameters`` is True by default.\"\"\"\u001b[39;00m\n\u001b[32m    283\u001b[39m kwargs[\u001b[33m\"\u001b[39m\u001b[33mactivate_parameters\u001b[39m\u001b[33m\"\u001b[39m] = kwargs.get(\u001b[33m\"\u001b[39m\u001b[33mactivate_parameters\u001b[39m\u001b[33m\"\u001b[39m, \u001b[38;5;28;01mTrue\u001b[39;00m)\n\u001b[32m--> \u001b[39m\u001b[32m284\u001b[39m \u001b[38;5;28;43msuper\u001b[39;49m\u001b[43m(\u001b[49m\u001b[43mExcelImporter\u001b[49m\u001b[43m,\u001b[49m\u001b[43m \u001b[49m\u001b[38;5;28;43mself\u001b[39;49m\u001b[43m)\u001b[49m\u001b[43m.\u001b[49m\u001b[43mwrite_database\u001b[49m\u001b[43m(\u001b[49m\u001b[43m*\u001b[49m\u001b[43m*\u001b[49m\u001b[43mkwargs\u001b[49m\u001b[43m)\u001b[49m\n",
      "\u001b[36mFile \u001b[39m\u001b[32mc:\\Users\\TimWeber\\anaconda3\\envs\\brightway25\\Lib\\site-packages\\bw2io\\importers\\base_lci.py:370\u001b[39m, in \u001b[36mLCIImporter.write_database\u001b[39m\u001b[34m(self, data, delete_existing, backend, activate_parameters, db_name, searchable, check_typos, **kwargs)\u001b[39m\n\u001b[32m    367\u001b[39m \u001b[38;5;28mself\u001b[39m.write_database_parameters(activate_parameters, delete_existing)\n\u001b[32m    369\u001b[39m existing.update(data)\n\u001b[32m--> \u001b[39m\u001b[32m370\u001b[39m \u001b[43mdb\u001b[49m\u001b[43m.\u001b[49m\u001b[43mwrite\u001b[49m\u001b[43m(\u001b[49m\u001b[43mexisting\u001b[49m\u001b[43m,\u001b[49m\u001b[43m \u001b[49m\u001b[43msearchable\u001b[49m\u001b[43m=\u001b[49m\u001b[43msearchable\u001b[49m\u001b[43m,\u001b[49m\u001b[43m \u001b[49m\u001b[43mcheck_typos\u001b[49m\u001b[43m=\u001b[49m\u001b[43mcheck_typos\u001b[49m\u001b[43m)\u001b[49m\n\u001b[32m    372\u001b[39m \u001b[38;5;28;01mif\u001b[39;00m activate_parameters:\n\u001b[32m    373\u001b[39m     \u001b[38;5;28mself\u001b[39m._write_activity_parameters(activity_parameters)\n",
      "\u001b[36mFile \u001b[39m\u001b[32mc:\\Users\\TimWeber\\anaconda3\\envs\\brightway25\\Lib\\site-packages\\bw2data\\backends\\base.py:648\u001b[39m, in \u001b[36mSQLiteBackend.write\u001b[39m\u001b[34m(self, data, process, searchable, check_typos, signal)\u001b[39m\n\u001b[32m    646\u001b[39m \u001b[38;5;28;01mif\u001b[39;00m data:\n\u001b[32m    647\u001b[39m     \u001b[38;5;28;01mtry\u001b[39;00m:\n\u001b[32m--> \u001b[39m\u001b[32m648\u001b[39m         \u001b[38;5;28;43mself\u001b[39;49m\u001b[43m.\u001b[49m\u001b[43m_efficient_write_many_data\u001b[49m\u001b[43m(\u001b[49m\u001b[43mdata\u001b[49m\u001b[43m,\u001b[49m\u001b[43m \u001b[49m\u001b[43mcheck_typos\u001b[49m\u001b[43m=\u001b[49m\u001b[43mcheck_typos\u001b[49m\u001b[43m)\u001b[49m\n\u001b[32m    649\u001b[39m     \u001b[38;5;28;01mexcept\u001b[39;00m:\n\u001b[32m    650\u001b[39m         \u001b[38;5;66;03m# Purge all data from database, then reraise\u001b[39;00m\n\u001b[32m    651\u001b[39m         \u001b[38;5;28mself\u001b[39m.delete(warn=\u001b[38;5;28;01mFalse\u001b[39;00m, signal=signal)\n",
      "\u001b[36mFile \u001b[39m\u001b[32mc:\\Users\\TimWeber\\anaconda3\\envs\\brightway25\\Lib\\site-packages\\bw2data\\backends\\base.py:567\u001b[39m, in \u001b[36mSQLiteBackend._efficient_write_many_data\u001b[39m\u001b[34m(self, data, indices, check_typos)\u001b[39m\n\u001b[32m    564\u001b[39m exchanges, activities = [], []\n\u001b[32m    566\u001b[39m \u001b[38;5;28;01mfor\u001b[39;00m ds \u001b[38;5;129;01min\u001b[39;00m tqdm_wrapper(data, \u001b[38;5;28mgetattr\u001b[39m(config, \u001b[33m\"\u001b[39m\u001b[33mis_test\u001b[39m\u001b[33m\"\u001b[39m, \u001b[38;5;28;01mFalse\u001b[39;00m)):\n\u001b[32m--> \u001b[39m\u001b[32m567\u001b[39m     exchanges, activities = \u001b[38;5;28;43mself\u001b[39;49m\u001b[43m.\u001b[49m\u001b[43m_efficient_write_dataset\u001b[49m\u001b[43m(\u001b[49m\n\u001b[32m    568\u001b[39m \u001b[43m        \u001b[49m\u001b[43mds\u001b[49m\u001b[43m,\u001b[49m\u001b[43m \u001b[49m\u001b[43mexchanges\u001b[49m\u001b[43m,\u001b[49m\u001b[43m \u001b[49m\u001b[43mactivities\u001b[49m\u001b[43m,\u001b[49m\u001b[43m \u001b[49m\u001b[43mcheck_typos\u001b[49m\n\u001b[32m    569\u001b[39m \u001b[43m    \u001b[49m\u001b[43m)\u001b[49m\n\u001b[32m    571\u001b[39m \u001b[38;5;28;01mif\u001b[39;00m activities:\n\u001b[32m    572\u001b[39m     ActivityDataset.insert_many(activities).execute()\n",
      "\u001b[36mFile \u001b[39m\u001b[32mc:\\Users\\TimWeber\\anaconda3\\envs\\brightway25\\Lib\\site-packages\\bw2data\\backends\\base.py:519\u001b[39m, in \u001b[36mSQLiteBackend._efficient_write_dataset\u001b[39m\u001b[34m(self, ds, exchanges, activities, check_typos)\u001b[39m\n\u001b[32m    517\u001b[39m \u001b[38;5;28;01mfor\u001b[39;00m exchange \u001b[38;5;129;01min\u001b[39;00m ds.get(\u001b[33m\"\u001b[39m\u001b[33mexchanges\u001b[39m\u001b[33m\"\u001b[39m, []):\n\u001b[32m    518\u001b[39m     \u001b[38;5;28;01mif\u001b[39;00m \u001b[33m\"\u001b[39m\u001b[33minput\u001b[39m\u001b[33m\"\u001b[39m \u001b[38;5;129;01mnot\u001b[39;00m \u001b[38;5;129;01min\u001b[39;00m exchange \u001b[38;5;129;01mor\u001b[39;00m \u001b[33m\"\u001b[39m\u001b[33mamount\u001b[39m\u001b[33m\"\u001b[39m \u001b[38;5;129;01mnot\u001b[39;00m \u001b[38;5;129;01min\u001b[39;00m exchange:\n\u001b[32m--> \u001b[39m\u001b[32m519\u001b[39m         \u001b[38;5;28;01mraise\u001b[39;00m InvalidExchange\n\u001b[32m    520\u001b[39m     \u001b[38;5;28;01mif\u001b[39;00m \u001b[33m\"\u001b[39m\u001b[33mtype\u001b[39m\u001b[33m\"\u001b[39m \u001b[38;5;129;01mnot\u001b[39;00m \u001b[38;5;129;01min\u001b[39;00m exchange:\n\u001b[32m    521\u001b[39m         \u001b[38;5;28;01mraise\u001b[39;00m UntypedExchange\n",
      "\u001b[31mInvalidExchange\u001b[39m: "
     ]
    }
   ],
   "source": [
    "excel_db.match_database(fields=['name','unit','location'])\n",
    "excel_db.match_database(db_name=ei_clca.name,fields=['name','unit','location','activity type'])\n",
    "excel_db.write_database()"
   ]
  },
  {
   "cell_type": "code",
   "execution_count": 94,
   "id": "1d066ed8",
   "metadata": {},
   "outputs": [
    {
     "name": "stdout",
     "output_type": "stream",
     "text": [
      "Applying strategy: csv_restore_tuples\n",
      "Applying strategy: csv_restore_booleans\n",
      "Applying strategy: csv_numerize\n",
      "Applying strategy: csv_drop_unknown\n",
      "Applying strategy: csv_add_missing_exchanges_section\n",
      "Applying strategy: normalize_units\n",
      "Applying strategy: normalize_biosphere_categories\n",
      "Applying strategy: normalize_biosphere_names\n",
      "Applying strategy: strip_biosphere_exc_locations\n",
      "Applying strategy: set_code_by_activity_hash\n",
      "Applying strategy: link_iterable_by_fields\n",
      "Applying strategy: assign_only_product_as_production\n",
      "Applying strategy: link_technosphere_by_activity_hash\n",
      "Applying strategy: drop_falsey_uncertainty_fields_but_keep_zeros\n",
      "Applying strategy: convert_uncertainty_types_to_integers\n",
      "Applying strategy: convert_activity_parameters_to_list\n",
      "Applied 16 strategies in 0.22 seconds\n"
     ]
    }
   ],
   "source": [
    "excel_db.apply_strategies()"
   ]
  },
  {
   "cell_type": "code",
   "execution_count": 95,
   "id": "a0bedc9d",
   "metadata": {},
   "outputs": [
    {
     "name": "stdout",
     "output_type": "stream",
     "text": [
      "Applying strategy: link_iterable_by_fields\n"
     ]
    }
   ],
   "source": [
    "excel_db.match_database()"
   ]
  },
  {
   "cell_type": "code",
   "execution_count": 96,
   "id": "311262ce",
   "metadata": {},
   "outputs": [],
   "source": [
    "for act in excel_db.data:\n",
    "    act['exchanges'] = [\n",
    "        exc for exc in act.get('exchanges', [])\n",
    "        if all(k in exc for k in ['input'])\n",
    "    ]"
   ]
  },
  {
   "cell_type": "code",
   "execution_count": 97,
   "id": "f1428891",
   "metadata": {},
   "outputs": [
    {
     "name": "stderr",
     "output_type": "stream",
     "text": [
      "100%|██████████| 1/1 [00:00<?, ?it/s]\n"
     ]
    },
    {
     "name": "stdout",
     "output_type": "stream",
     "text": [
      "10:33:11+0200 [info     ] Vacuuming database            \n"
     ]
    },
    {
     "name": "stdout",
     "output_type": "stream",
     "text": [
      "Created database: bw25_db\n"
     ]
    }
   ],
   "source": [
    "excel_db.write_database(activate_parameters=False)"
   ]
  },
  {
   "cell_type": "code",
   "execution_count": 98,
   "id": "93a8ea24",
   "metadata": {},
   "outputs": [],
   "source": [
    "for act in bd.Database('bw25_db'):\n",
    "    for exc in act.exchanges():\n",
    "        if exc['type'] == 'biosphere':\n",
    "            print(exc)"
   ]
  }
 ],
 "metadata": {
  "kernelspec": {
   "display_name": "brightway25",
   "language": "python",
   "name": "python3"
  },
  "language_info": {
   "codemirror_mode": {
    "name": "ipython",
    "version": 3
   },
   "file_extension": ".py",
   "mimetype": "text/x-python",
   "name": "python",
   "nbconvert_exporter": "python",
   "pygments_lexer": "ipython3",
   "version": "3.12.11"
  }
 },
 "nbformat": 4,
 "nbformat_minor": 5
}
