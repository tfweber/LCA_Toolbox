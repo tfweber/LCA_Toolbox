{
 "cells": [
  {
   "cell_type": "code",
   "execution_count": 1,
   "id": "570df8b9",
   "metadata": {},
   "outputs": [
    {
     "name": "stdout",
     "output_type": "stream",
     "text": [
      "09:22:21+0200 [warning  ] Can't import `SimaProBlockCSVImporter` - please install `bw2io` with `pip install bw2io[multifunctional]` or install `multifunctional` and `bw_simapro_csv` manually.\n"
     ]
    }
   ],
   "source": [
    "# basic imports from brightway\n",
    "import bw2analyzer as ba\n",
    "import bw2calc as bc\n",
    "import bw2data as bd\n",
    "from bw2data import databases\n",
    "import bw2io as bi\n",
    "from bw2io import ExcelImporter\n",
    "from bw2io.importers import SingleOutputEcospold2Importer\n",
    "import bw2analyzer as bwa\n",
    "from bw2data import methods\n",
    "import argparse\n",
    "import bw2data as bd\n",
    "\n",
    "# other relevant packages\n",
    "import numpy as np\n",
    "import pandas as pd\n",
    "import matplotlib.pyplot as plt\n",
    "from pathlib import Path"
   ]
  },
  {
   "cell_type": "code",
   "execution_count": 47,
   "id": "97ab9d3b",
   "metadata": {},
   "outputs": [],
   "source": [
    "# define a project where we install the databases and work in this script\n",
    "bd.projects.set_current('brightway25')"
   ]
  },
  {
   "cell_type": "code",
   "execution_count": 48,
   "id": "d72656cc",
   "metadata": {},
   "outputs": [
    {
     "data": {
      "text/plain": [
       "Databases dictionary with 4 object(s):\n",
       "\tbw25_db\n",
       "\tecoinvent-3.10-biosphere\n",
       "\tecoinvent310clca\n",
       "\ttest"
      ]
     },
     "execution_count": 48,
     "metadata": {},
     "output_type": "execute_result"
    }
   ],
   "source": [
    "bd.databases"
   ]
  },
  {
   "cell_type": "code",
   "execution_count": 65,
   "id": "9bf969b7",
   "metadata": {},
   "outputs": [],
   "source": [
    "ei_clca = bd.Database('ecoinvent310clca')\n",
    "ei_bio = bd.Database('ecoinvent-3.10-biosphere')\n",
    "test = bd.Database('bw25_db')"
   ]
  },
  {
   "cell_type": "code",
   "execution_count": 66,
   "id": "45dab468",
   "metadata": {},
   "outputs": [
    {
     "name": "stdout",
     "output_type": "stream",
     "text": [
      "Extracted 1 worksheets in 0.02 seconds\n"
     ]
    }
   ],
   "source": [
    "excel_db = bi.ExcelImporter(\"C:/Users/TimWeber/OneDrive - 2.-0 LCA Consultants ApS/Intranet - Brightway2/excel_model_example/brightway25_excel_db_template.xlsx\")"
   ]
  },
  {
   "cell_type": "code",
   "execution_count": 67,
   "id": "1d066ed8",
   "metadata": {},
   "outputs": [
    {
     "name": "stdout",
     "output_type": "stream",
     "text": [
      "Applying strategy: csv_restore_tuples\n",
      "Applying strategy: csv_restore_booleans\n",
      "Applying strategy: csv_numerize\n",
      "Applying strategy: csv_drop_unknown\n",
      "Applying strategy: csv_add_missing_exchanges_section\n",
      "Applying strategy: normalize_units\n",
      "Applying strategy: normalize_biosphere_categories\n",
      "Applying strategy: normalize_biosphere_names\n",
      "Applying strategy: strip_biosphere_exc_locations\n",
      "Applying strategy: set_code_by_activity_hash\n",
      "Applying strategy: link_iterable_by_fields\n",
      "Applying strategy: assign_only_product_as_production\n",
      "Applying strategy: link_technosphere_by_activity_hash\n",
      "Applying strategy: drop_falsey_uncertainty_fields_but_keep_zeros\n",
      "Applying strategy: convert_uncertainty_types_to_integers\n",
      "Applying strategy: convert_activity_parameters_to_list\n",
      "Applied 16 strategies in 0.31 seconds\n"
     ]
    }
   ],
   "source": [
    "excel_db.apply_strategies()"
   ]
  },
  {
   "cell_type": "code",
   "execution_count": 68,
   "id": "a0bedc9d",
   "metadata": {},
   "outputs": [
    {
     "name": "stdout",
     "output_type": "stream",
     "text": [
      "Applying strategy: link_iterable_by_fields\n"
     ]
    }
   ],
   "source": [
    "excel_db.match_database()"
   ]
  },
  {
   "cell_type": "code",
   "execution_count": 70,
   "id": "311262ce",
   "metadata": {},
   "outputs": [],
   "source": [
    "for act in excel_db.data:\n",
    "    act['exchanges'] = [\n",
    "        exc for exc in act.get('exchanges', [])\n",
    "        if all(k in exc for k in ['amount', 'input', 'type'])\n",
    "    ]"
   ]
  },
  {
   "cell_type": "code",
   "execution_count": 71,
   "id": "f1428891",
   "metadata": {},
   "outputs": [
    {
     "name": "stderr",
     "output_type": "stream",
     "text": [
      "100%|██████████| 1/1 [00:00<?, ?it/s]\n"
     ]
    },
    {
     "name": "stdout",
     "output_type": "stream",
     "text": [
      "10:24:20+0200 [info     ] Vacuuming database            \n"
     ]
    },
    {
     "name": "stdout",
     "output_type": "stream",
     "text": [
      "Created database: bw25_db\n"
     ]
    }
   ],
   "source": [
    "excel_db.write_database(activate_parameters=False)"
   ]
  },
  {
   "cell_type": "code",
   "execution_count": 72,
   "id": "93a8ea24",
   "metadata": {},
   "outputs": [],
   "source": [
    "for act in bd.Database('bw25_db'):\n",
    "    for exc in act.exchanges():\n",
    "        if exc['type'] == 'biosphere':\n",
    "            print(exc)"
   ]
  }
 ],
 "metadata": {
  "kernelspec": {
   "display_name": "brightway25",
   "language": "python",
   "name": "python3"
  },
  "language_info": {
   "codemirror_mode": {
    "name": "ipython",
    "version": 3
   },
   "file_extension": ".py",
   "mimetype": "text/x-python",
   "name": "python",
   "nbconvert_exporter": "python",
   "pygments_lexer": "ipython3",
   "version": "3.12.11"
  }
 },
 "nbformat": 4,
 "nbformat_minor": 5
}
