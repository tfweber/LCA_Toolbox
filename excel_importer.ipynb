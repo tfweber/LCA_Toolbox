{
 "cells": [
  {
   "cell_type": "code",
   "execution_count": 26,
   "id": "570df8b9",
   "metadata": {},
   "outputs": [],
   "source": [
    "# basic imports from brightway\n",
    "import bw2analyzer as ba\n",
    "import bw2calc as bc\n",
    "import bw2data as bd\n",
    "from bw2data import databases\n",
    "import bw2io as bi\n",
    "from bw2io import ExcelImporter\n",
    "from bw2io.importers import SingleOutputEcospold2Importer\n",
    "import bw2analyzer as bwa\n",
    "from bw2data import methods\n",
    "import argparse\n",
    "import bw2data as bd\n",
    "\n",
    "# other relevant packages\n",
    "import numpy as np\n",
    "import pandas as pd\n",
    "import matplotlib.pyplot as plt\n",
    "from pathlib import Path"
   ]
  },
  {
   "cell_type": "code",
   "execution_count": 27,
   "id": "97ab9d3b",
   "metadata": {},
   "outputs": [],
   "source": [
    "# define a project where we install the databases and work in this script\n",
    "bd.projects.set_current('brightway25')"
   ]
  },
  {
   "cell_type": "code",
   "execution_count": 28,
   "id": "d72656cc",
   "metadata": {},
   "outputs": [
    {
     "data": {
      "text/plain": [
       "Databases dictionary with 4 object(s):\n",
       "\tbiosphere3\n",
       "\tbw25_db\n",
       "\tecoinvent-3.10-biosphere\n",
       "\tecoinvent310clca"
      ]
     },
     "execution_count": 28,
     "metadata": {},
     "output_type": "execute_result"
    }
   ],
   "source": [
    "bd.databases"
   ]
  },
  {
   "cell_type": "code",
   "execution_count": 29,
   "id": "9bf969b7",
   "metadata": {},
   "outputs": [],
   "source": [
    "ei_clca = bd.Database('ecoinvent310clca')\n",
    "ei_bio = bd.Database('ecoinvent-3.10-biosphere')\n",
    "test = bd.Database('bw25_db')\n",
    "el_bio3 = bd.Database('biosphere3')"
   ]
  },
  {
   "cell_type": "code",
   "execution_count": 30,
   "id": "45dab468",
   "metadata": {},
   "outputs": [
    {
     "name": "stdout",
     "output_type": "stream",
     "text": [
      "Extracted 1 worksheets in 0.03 seconds\n"
     ]
    }
   ],
   "source": [
    "excel_db = bi.ExcelImporter(\"C:\\\\Users\\\\TimWeber\\\\OneDrive - 2.-0 LCA Consultants ApS\\\\Intranet - Brightway2\\\\excel_model_example\\\\brightway25_excel_db_template.xlsx\")"
   ]
  },
  {
   "cell_type": "code",
   "execution_count": 31,
   "id": "8aaf00e7",
   "metadata": {},
   "outputs": [
    {
     "name": "stdout",
     "output_type": "stream",
     "text": [
      "Applying strategy: csv_restore_tuples\n",
      "Applying strategy: csv_restore_booleans\n",
      "Applying strategy: csv_numerize\n",
      "Applying strategy: csv_drop_unknown\n",
      "Applying strategy: csv_add_missing_exchanges_section\n",
      "Applying strategy: normalize_units\n",
      "Applying strategy: normalize_biosphere_categories\n",
      "Applying strategy: normalize_biosphere_names\n",
      "Applying strategy: strip_biosphere_exc_locations\n",
      "Applying strategy: set_code_by_activity_hash\n",
      "Applying strategy: link_iterable_by_fields\n",
      "Applying strategy: assign_only_product_as_production\n",
      "Applying strategy: link_technosphere_by_activity_hash\n",
      "Applying strategy: drop_falsey_uncertainty_fields_but_keep_zeros\n",
      "Applying strategy: convert_uncertainty_types_to_integers\n",
      "Applying strategy: convert_activity_parameters_to_list\n",
      "Applied 16 strategies in 0.25 seconds\n"
     ]
    }
   ],
   "source": [
    "excel_db.apply_strategies()"
   ]
  },
  {
   "cell_type": "code",
   "execution_count": 32,
   "id": "a4023446",
   "metadata": {},
   "outputs": [
    {
     "name": "stdout",
     "output_type": "stream",
     "text": [
      "Applying strategy: link_iterable_by_fields\n"
     ]
    }
   ],
   "source": [
    "excel_db.match_database(fields=['name','location'])"
   ]
  },
  {
   "cell_type": "code",
   "execution_count": 33,
   "id": "3ed4559f",
   "metadata": {},
   "outputs": [
    {
     "name": "stdout",
     "output_type": "stream",
     "text": [
      "Applying strategy: link_iterable_by_fields\n"
     ]
    }
   ],
   "source": [
    "excel_db.match_database(db_name='ecoinvent310clca',\n",
    "                        fields=['name','location','unit'])"
   ]
  },
  {
   "cell_type": "code",
   "execution_count": 34,
   "id": "56ad6141",
   "metadata": {},
   "outputs": [
    {
     "name": "stdout",
     "output_type": "stream",
     "text": [
      "Applying strategy: link_iterable_by_fields\n"
     ]
    }
   ],
   "source": [
    "excel_db.match_database(db_name='ecoinvent-3.10-biosphere',\n",
    "                        fields=['name','categories','unit'])"
   ]
  },
  {
   "cell_type": "code",
   "execution_count": 35,
   "id": "349fd661",
   "metadata": {},
   "outputs": [
    {
     "data": {
      "text/html": [
       "<div>\n",
       "<style scoped>\n",
       "    .dataframe tbody tr th:only-of-type {\n",
       "        vertical-align: middle;\n",
       "    }\n",
       "\n",
       "    .dataframe tbody tr th {\n",
       "        vertical-align: top;\n",
       "    }\n",
       "\n",
       "    .dataframe thead th {\n",
       "        text-align: right;\n",
       "    }\n",
       "</style>\n",
       "<table border=\"1\" class=\"dataframe\">\n",
       "  <thead>\n",
       "    <tr style=\"text-align: right;\">\n",
       "      <th></th>\n",
       "    </tr>\n",
       "  </thead>\n",
       "  <tbody>\n",
       "  </tbody>\n",
       "</table>\n",
       "</div>"
      ],
      "text/plain": [
       "Empty DataFrame\n",
       "Columns: []\n",
       "Index: []"
      ]
     },
     "execution_count": 35,
     "metadata": {},
     "output_type": "execute_result"
    }
   ],
   "source": [
    "# check foreground imports for unlinked processes\n",
    "pd.DataFrame(excel_db.unlinked)"
   ]
  },
  {
   "cell_type": "code",
   "execution_count": 36,
   "id": "5662d7b2",
   "metadata": {},
   "outputs": [
    {
     "name": "stderr",
     "output_type": "stream",
     "text": [
      "100%|██████████| 1/1 [00:00<00:00, 1721.09it/s]\n"
     ]
    },
    {
     "name": "stdout",
     "output_type": "stream",
     "text": [
      "14:44:51+0200 [info     ] Vacuuming database            \n",
      "Created database: bw25_db\n"
     ]
    }
   ],
   "source": [
    "excel_db.write_database()"
   ]
  },
  {
   "cell_type": "code",
   "execution_count": 38,
   "id": "159c0adb",
   "metadata": {},
   "outputs": [],
   "source": [
    "data_ceramics = [activity.as_dict() for activity in test]\n"
   ]
  },
  {
   "cell_type": "code",
   "execution_count": 39,
   "id": "53b57810",
   "metadata": {},
   "outputs": [],
   "source": [
    "df_ceramics = pd.DataFrame(data_ceramics)\n"
   ]
  },
  {
   "cell_type": "code",
   "execution_count": 40,
   "id": "507072d0",
   "metadata": {},
   "outputs": [
    {
     "data": {
      "text/html": [
       "<div>\n",
       "<style scoped>\n",
       "    .dataframe tbody tr th:only-of-type {\n",
       "        vertical-align: middle;\n",
       "    }\n",
       "\n",
       "    .dataframe tbody tr th {\n",
       "        vertical-align: top;\n",
       "    }\n",
       "\n",
       "    .dataframe thead th {\n",
       "        text-align: right;\n",
       "    }\n",
       "</style>\n",
       "<table border=\"1\" class=\"dataframe\">\n",
       "  <thead>\n",
       "    <tr style=\"text-align: right;\">\n",
       "      <th></th>\n",
       "      <th>production amount</th>\n",
       "      <th>unit</th>\n",
       "      <th>location</th>\n",
       "      <th>code</th>\n",
       "      <th>reference product</th>\n",
       "      <th>comment</th>\n",
       "      <th>name</th>\n",
       "      <th>worksheet name</th>\n",
       "      <th>database</th>\n",
       "      <th>type</th>\n",
       "      <th>id</th>\n",
       "    </tr>\n",
       "  </thead>\n",
       "  <tbody>\n",
       "    <tr>\n",
       "      <th>0</th>\n",
       "      <td>1</td>\n",
       "      <td>kilogram</td>\n",
       "      <td>GLO</td>\n",
       "      <td>ceramics</td>\n",
       "      <td>ceramics</td>\n",
       "      <td>None</td>\n",
       "      <td>ceramics production</td>\n",
       "      <td>LCI</td>\n",
       "      <td>bw25_db</td>\n",
       "      <td>processwithreferenceproduct</td>\n",
       "      <td>214726098899460096</td>\n",
       "    </tr>\n",
       "  </tbody>\n",
       "</table>\n",
       "</div>"
      ],
      "text/plain": [
       "   production amount      unit location      code reference product comment  \\\n",
       "0                  1  kilogram      GLO  ceramics          ceramics    None   \n",
       "\n",
       "                  name worksheet name database                         type  \\\n",
       "0  ceramics production            LCI  bw25_db  processwithreferenceproduct   \n",
       "\n",
       "                   id  \n",
       "0  214726098899460096  "
      ]
     },
     "metadata": {},
     "output_type": "display_data"
    }
   ],
   "source": [
    "from IPython.display import display\n",
    "display(df_ceramics)"
   ]
  },
  {
   "cell_type": "code",
   "execution_count": 41,
   "id": "7d25e612",
   "metadata": {},
   "outputs": [
    {
     "name": "stdout",
     "output_type": "stream",
     "text": [
      "Extra activities (no matching products): set()\n",
      "Extra products (no matching activities): set()\n"
     ]
    }
   ],
   "source": [
    "# Get all activities and products\n",
    "activities = set(test)  # All activities in the database\n",
    "\n",
    "# Get all products linked via production exchanges\n",
    "products = set([\n",
    "    exc.input for act in test\n",
    "    for exc in act.exchanges() if exc.input == act.key\n",
    "])\n",
    "\n",
    "# Identify mismatches\n",
    "extra_activities = activities - products\n",
    "extra_products = products - activities\n",
    "\n",
    "print(\"Extra activities (no matching products):\", extra_activities)\n",
    "print(\"Extra products (no matching activities):\", extra_products)"
   ]
  },
  {
   "cell_type": "code",
   "execution_count": 46,
   "id": "fdb1e46a",
   "metadata": {},
   "outputs": [],
   "source": [
    "ceramics_new = test.get(name='ceramics production')"
   ]
  },
  {
   "cell_type": "code",
   "execution_count": 47,
   "id": "68ae3bb8",
   "metadata": {},
   "outputs": [],
   "source": [
    "lcia_gwp100 = ('EF v3.1', 'climate change', 'global warming potential (GWP100)')\n",
    "lcia_water = ('EF v3.1','water use','user deprivation potential (deprivation-weighted water consumption)')\n",
    "lcia_land = ('EF v3.1', 'land use', 'soil quality index')"
   ]
  },
  {
   "cell_type": "code",
   "execution_count": 48,
   "id": "43042b1f",
   "metadata": {},
   "outputs": [
    {
     "data": {
      "text/plain": [
       "0.15302178136694788"
      ]
     },
     "execution_count": 48,
     "metadata": {},
     "output_type": "execute_result"
    }
   ],
   "source": [
    "ceramics_lca = ceramics_new.lca(lcia_gwp100)\n",
    "ceramics_lca.score\n"
   ]
  }
 ],
 "metadata": {
  "kernelspec": {
   "display_name": "brightway25",
   "language": "python",
   "name": "python3"
  },
  "language_info": {
   "codemirror_mode": {
    "name": "ipython",
    "version": 3
   },
   "file_extension": ".py",
   "mimetype": "text/x-python",
   "name": "python",
   "nbconvert_exporter": "python",
   "pygments_lexer": "ipython3",
   "version": "3.12.11"
  }
 },
 "nbformat": 4,
 "nbformat_minor": 5
}
