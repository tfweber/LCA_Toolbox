{
 "cells": [
  {
   "cell_type": "markdown",
   "id": "9b82b5a9",
   "metadata": {},
   "source": [
    "This file imports an EXCEL model (here template example from BW25 sharepoint folder) and matches it with the background database in the project. For this repository we are currently working with ecoinvent310clca\n",
    "\n",
    "After successfully importing a database to a Brightway project, the database is stored in the project and doesn't have to be imported every time we open the repository. Unless we make changes to the background database of course"
   ]
  },
  {
   "cell_type": "markdown",
   "id": "d4eda904",
   "metadata": {},
   "source": [
    "# EXCEL Model importer"
   ]
  },
  {
   "cell_type": "markdown",
   "id": "a1bbd74e",
   "metadata": {},
   "source": [
    "#### 1. Import packages"
   ]
  },
  {
   "cell_type": "code",
   "execution_count": null,
   "id": "570df8b9",
   "metadata": {},
   "outputs": [],
   "source": [
    "# basic imports from brightway\n",
    "import bw2analyzer as ba\n",
    "import bw2calc as bc\n",
    "import bw2data as bd\n",
    "from bw2data import databases\n",
    "import bw2io as bi\n",
    "from bw2io import ExcelImporter\n",
    "from bw2io.importers import SingleOutputEcospold2Importer\n",
    "import bw2analyzer as bwa\n",
    "from bw2data import methods\n",
    "import argparse\n",
    "import bw2data as bd\n",
    "\n",
    "# other relevant packages\n",
    "import numpy as np\n",
    "import pandas as pd\n",
    "import matplotlib.pyplot as plt\n",
    "from pathlib import Path"
   ]
  },
  {
   "cell_type": "markdown",
   "id": "4edefd78",
   "metadata": {},
   "source": [
    "#### 2. Set project and see databases"
   ]
  },
  {
   "cell_type": "code",
   "execution_count": null,
   "id": "97ab9d3b",
   "metadata": {},
   "outputs": [],
   "source": [
    "# define a project where we install the databases and work in this script\n",
    "bd.projects.set_current('brightway25')"
   ]
  },
  {
   "cell_type": "code",
   "execution_count": null,
   "id": "d72656cc",
   "metadata": {},
   "outputs": [],
   "source": [
    "bd.databases"
   ]
  },
  {
   "cell_type": "code",
   "execution_count": null,
   "id": "9bf969b7",
   "metadata": {},
   "outputs": [],
   "source": [
    "ei_clca = bd.Database('ecoinvent310clca')\n",
    "ei_bio = bd.Database('ecoinvent-3.10-biosphere')\n",
    "db_template = bd.Database('bw25_db')\n",
    "el_bio3 = bd.Database('biosphere3')"
   ]
  },
  {
   "cell_type": "markdown",
   "id": "743c6c64",
   "metadata": {},
   "source": [
    "#### 3. Import the EXCEL file containing the model "
   ]
  },
  {
   "cell_type": "code",
   "execution_count": null,
   "id": "45dab468",
   "metadata": {},
   "outputs": [],
   "source": [
    "excel_db = bi.ExcelImporter(\"C:\\\\Users\\\\TimWeber\\\\OneDrive - 2.-0 LCA Consultants ApS\\\\Intranet - Brightway2\\\\excel_model_example\\\\bw25_model_example.xlsx\")"
   ]
  },
  {
   "cell_type": "markdown",
   "id": "77582f2d",
   "metadata": {},
   "source": [
    "#### 4. Importing means matching with background databases and writing the database"
   ]
  },
  {
   "cell_type": "code",
   "execution_count": null,
   "id": "8aaf00e7",
   "metadata": {},
   "outputs": [],
   "source": [
    "excel_db.apply_strategies()"
   ]
  },
  {
   "cell_type": "code",
   "execution_count": null,
   "id": "a4023446",
   "metadata": {},
   "outputs": [],
   "source": [
    "excel_db.match_database(fields=['name','location'])"
   ]
  },
  {
   "cell_type": "code",
   "execution_count": null,
   "id": "3ed4559f",
   "metadata": {},
   "outputs": [],
   "source": [
    "excel_db.match_database(db_name='ecoinvent310clca',\n",
    "                        fields=['name','location','unit'])"
   ]
  },
  {
   "cell_type": "code",
   "execution_count": null,
   "id": "56ad6141",
   "metadata": {},
   "outputs": [],
   "source": [
    "excel_db.match_database(db_name='ecoinvent-3.10-biosphere',\n",
    "                        fields=['name','categories','unit'])"
   ]
  },
  {
   "cell_type": "code",
   "execution_count": null,
   "id": "8053630c",
   "metadata": {},
   "outputs": [],
   "source": [
    "excel_db.match_database(db_name='biosphere3',\n",
    "                        fields=['name','categories','unit'])"
   ]
  },
  {
   "cell_type": "code",
   "execution_count": null,
   "id": "349fd661",
   "metadata": {},
   "outputs": [],
   "source": [
    "# check foreground imports for unlinked processes\n",
    "pd.DataFrame(excel_db.unlinked)"
   ]
  },
  {
   "cell_type": "code",
   "execution_count": null,
   "id": "5662d7b2",
   "metadata": {},
   "outputs": [],
   "source": [
    "excel_db.write_database()"
   ]
  },
  {
   "cell_type": "code",
   "execution_count": null,
   "id": "2d8a98e3",
   "metadata": {},
   "outputs": [],
   "source": [
    "# if there are unlinked exchanges, this helps localizing them in order to fix them\n",
    "list(excel_db.unlinked)\n"
   ]
  },
  {
   "cell_type": "markdown",
   "id": "0ba49287",
   "metadata": {},
   "source": [
    "#### 5. Store data in a dataframe so it can be analysed in Brightway 2.5"
   ]
  },
  {
   "cell_type": "code",
   "execution_count": null,
   "id": "159c0adb",
   "metadata": {},
   "outputs": [],
   "source": [
    "data_db_template = [activity.as_dict() for activity in db_template]\n"
   ]
  },
  {
   "cell_type": "code",
   "execution_count": null,
   "id": "53b57810",
   "metadata": {},
   "outputs": [],
   "source": [
    "df_db_template = pd.DataFrame(data_db_template)\n"
   ]
  },
  {
   "cell_type": "code",
   "execution_count": null,
   "id": "507072d0",
   "metadata": {},
   "outputs": [],
   "source": [
    "from IPython.display import display\n",
    "display(df_db_template)"
   ]
  },
  {
   "cell_type": "code",
   "execution_count": null,
   "id": "7d25e612",
   "metadata": {},
   "outputs": [],
   "source": [
    "# Get all activities and products\n",
    "activities = set(db_template)  # All activities in the database\n",
    "\n",
    "# Get all products linked via production exchanges\n",
    "products = set([\n",
    "    exc.input for act in db_template\n",
    "    for exc in act.exchanges() if exc.input == act.key\n",
    "])\n",
    "\n",
    "# Identify mismatches\n",
    "extra_activities = activities - products\n",
    "extra_products = products - activities\n",
    "\n",
    "print(\"Extra activities (no matching products):\", extra_activities)\n",
    "print(\"Extra products (no matching activities):\", extra_products)"
   ]
  },
  {
   "cell_type": "code",
   "execution_count": null,
   "id": "fef2a891",
   "metadata": {},
   "outputs": [],
   "source": [
    "# what also works to show all activities in a database is the following\n",
    "for act in db_template:\n",
    "    print(act)"
   ]
  }
 ],
 "metadata": {
  "kernelspec": {
   "display_name": "brightway25",
   "language": "python",
   "name": "python3"
  },
  "language_info": {
   "codemirror_mode": {
    "name": "ipython",
    "version": 3
   },
   "file_extension": ".py",
   "mimetype": "text/x-python",
   "name": "python",
   "nbconvert_exporter": "python",
   "pygments_lexer": "ipython3",
   "version": "3.12.11"
  }
 },
 "nbformat": 4,
 "nbformat_minor": 5
}
