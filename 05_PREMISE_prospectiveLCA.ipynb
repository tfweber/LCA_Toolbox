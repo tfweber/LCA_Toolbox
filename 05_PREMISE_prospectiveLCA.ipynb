{
 "cells": [
  {
   "cell_type": "code",
   "execution_count": null,
   "id": "0a025a5b",
   "metadata": {},
   "outputs": [],
   "source": [
    "# We shall import PREMISE here and see if we can develop prospective versions of ecoinvent for the ceramics process"
   ]
  },
  {
   "cell_type": "code",
   "execution_count": null,
   "id": "5796d6ea",
   "metadata": {},
   "outputs": [],
   "source": [
    "from premise import *\n",
    "import bw2data"
   ]
  },
  {
   "cell_type": "code",
   "execution_count": null,
   "id": "9d26f77e",
   "metadata": {},
   "outputs": [],
   "source": [
    "# basic imports from brightway\n",
    "import bw2analyzer as ba\n",
    "import bw2calc as bc\n",
    "import bw2data as bd\n",
    "import bw2io as bi\n",
    "from bw2io.importers import SingleOutputEcospold2Importer\n",
    "import bw2analyzer as bwa\n",
    "from bw2data import methods\n",
    "\n",
    "# other relevant packages\n",
    "import numpy as np\n",
    "import pandas as pd\n",
    "import matplotlib.pyplot as plt\n",
    "from pathlib import Path\n",
    "import seaborn as sns"
   ]
  },
  {
   "cell_type": "code",
   "execution_count": null,
   "id": "b75ec020",
   "metadata": {},
   "outputs": [],
   "source": [
    "# define a project where we install the databases and work in this script\n",
    "bd.projects.set_current('brightway25')"
   ]
  },
  {
   "cell_type": "code",
   "execution_count": null,
   "id": "2ebd6593",
   "metadata": {},
   "outputs": [],
   "source": [
    "bd.databases"
   ]
  },
  {
   "cell_type": "code",
   "execution_count": null,
   "id": "a6ed053c",
   "metadata": {},
   "outputs": [],
   "source": [
    "ei_clca = bd.Database('ecoinvent310clca')\n",
    "ei_bio = bd.Database('ecoinvent-3.10-biosphere')\n",
    "db_template = bd.Database('bw25_db')\n",
    "el_bio3 = bd.Database('biosphere3')"
   ]
  },
  {
   "cell_type": "code",
   "execution_count": null,
   "id": "240fa705",
   "metadata": {},
   "outputs": [],
   "source": [
    "# We can now create a new database with prospective data using the NewDatabase() function from premise\n",
    "\n",
    "ndb = NewDatabase(\n",
    "    scenarios=[\n",
    "        {\"model\":\"image\", \"pathway\":\"SSP2-RCP19\", \"year\":2050},\n",
    "        {\"model\":\"remind\", \"pathway\":\"SSP2-PkBudg500\", \"year\":2050},\n",
    "    ],\n",
    "    source_db=\"ecoinvent-3.10-cutoff\", # <-- name of the database in the BW2 project. Must be a string.\n",
    "    source_version=\"3.10\", # <-- version of ecoinvent. Can be \"3.8\", \"3.9\" or \"3.10\". Must be a string.\n",
    "    key='xxxxxxxxxxxxxxxxxxxxxxxxx', # <-- decryption key\n",
    "    # to be requested from the library maintainers if you want ot use default scenarios included in `premise`\n",
    "    keep_source_db_uncertainty=False, # False by default, set to True if you want to keep ecoinvent's uncertainty data\n",
    "    keep_imports_uncertainty=False, # False by default, set to True if you want to keep the uncertainty data of the additional inventories\n",
    "    use_absolute_efficiency=True, # False by default, set to True if you want to use the IAM's absolute efficiencies\n",
    ")"
   ]
  },
  {
   "cell_type": "code",
   "execution_count": null,
   "id": "85428895",
   "metadata": {},
   "outputs": [],
   "source": [
    "# Here is a list of all arguments that can be passed to NewDatabase():\n",
    "# One task is to provide background information in .md file directly here to understand what each argument means and how the parameters can be used\n",
    "\n",
    "scenarios: List[dict], # list of scenarios to process\n",
    "source_version: str = \"3.10\", # version of ecoinvent database. Can be \"3.6\", \"3.7\", \"3.8\", \"3.9\" or \"3.10\".\n",
    "source_type: str = \"brightway\", # type of source database. Can be \"brightway\" or \"ecospold\".\n",
    "key: bytes = None, # decryption key\n",
    "source_db: str = None, # name of database if source_type is \"brightway\"\n",
    "source_file_path: str = None, # path to ecospold files if source_type is \"ecospold\"\n",
    "additional_inventories: List[dict] = None, # list of additional inventories to import\n",
    "system_model: str = \"cutoff\", # system model. Can be \"cutoff\" or \"consequential\".\n",
    "system_args: dict = None, # arguments for the \"consequential \"system model\n",
    "use_cached_inventories: bool = True, # use cached inventories\n",
    "use_cached_database: bool = True, # use cached database\n",
    "quiet=False, # suppress output\n",
    "keep_imports_uncertainty=False, # keep uncertainty data of additional inventories\n",
    "keep_source_db_uncertainty=False, # keep uncertainty data of source database\n",
    "gains_scenario=\"CLE\", # Air pollutionn GAINS scenario\n",
    "use_absolute_efficiency=False, # use IAM's absolute efficiencies instead of efficiencies relative to 2020\n",
    "biosphere_name: str = \"biosphere3\", # name of biosphere database in brightway project if different from \"biosphere3\""
   ]
  },
  {
   "cell_type": "code",
   "execution_count": null,
   "id": "465f27fe",
   "metadata": {},
   "outputs": [],
   "source": [
    "# In this fashion, we can create a new database with prospective data\n",
    "sc = Scenario(name=\"my_scenario\", model=\"remind\")\n",
    "sc.extract_from_brightway(\"ecoinvent 3.9_cutoff\")\n"
   ]
  },
  {
   "cell_type": "code",
   "execution_count": null,
   "id": "db6255fc",
   "metadata": {},
   "outputs": [],
   "source": [
    "sc.transform(scenario_name=\"SSP2-Base\", year=2030)"
   ]
  },
  {
   "cell_type": "code",
   "execution_count": null,
   "id": "cef41279",
   "metadata": {},
   "outputs": [],
   "source": [
    "# taken from Martis IKEA branch\n",
    "\n",
    "config = Config()\n",
    "bd.projects.set_current(config.PROJECT_NAME_bw25)\n",
    "\n",
    "# premise key\n",
    "secrets_path = config.IKEA_DIR_PATH / \"secrets.toml\"\n",
    "with open(secrets_path, \"rb\") as f:\n",
    "secrets = tomllib.load(f)\n",
    "premise_key = secrets[\"premise_key\"]\n",
    "\n",
    "scenarios = [\n",
    "{\"model\": \"image\", \"pathway\": \"SSP2-RCP26\", \"year\": 2024},\n",
    "{\"model\": \"image\", \"pathway\": \"SSP2-RCP26\", \"year\": 2025},\n",
    "{\"model\": \"image\", \"pathway\": \"SSP2-RCP26\", \"year\": 2026},\n",
    "{\"model\": \"image\", \"pathway\": \"SSP2-RCP26\", \"year\": 2027},\n",
    "{\"model\": \"image\", \"pathway\": \"SSP2-RCP26\", \"year\": 2028},\n",
    "{\"model\": \"image\", \"pathway\": \"SSP2-RCP26\", \"year\": 2029},\n",
    "{\"model\": \"image\", \"pathway\": \"SSP2-RCP26\", \"year\": 2030},\n",
    "]\n",
    "\n",
    "ndb = premise.NewDatabase(\n",
    "scenarios=scenarios,\n",
    "source_db=config.ECOINVENT_ALCA_NAME,\n",
    "source_version=\"3.10\",\n",
    "key=premise_key,\n",
    "keep_source_db_uncertainty=False,\n",
    "keep_imports_uncertainty=True,\n",
    "use_absolute_efficiency=True,\n",
    "system_model=\"cutoff\",\n",
    "biosphere_name=bd.config.biosphere,\n",
    ")\n",
    "\n",
    "ndb.update()  # update all sectors\n",
    "\n",
    "ndb.write_db_to_brightway()"
   ]
  }
 ],
 "metadata": {
  "kernelspec": {
   "display_name": "LCA_Toolbox",
   "language": "python",
   "name": "python3"
  },
  "language_info": {
   "codemirror_mode": {
    "name": "ipython",
    "version": 3
   },
   "file_extension": ".py",
   "mimetype": "text/x-python",
   "name": "python",
   "nbconvert_exporter": "python",
   "pygments_lexer": "ipython3",
   "version": "3.11.13"
  }
 },
 "nbformat": 4,
 "nbformat_minor": 5
}
