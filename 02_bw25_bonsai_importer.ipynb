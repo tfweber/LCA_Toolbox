{
 "cells": [
  {
   "cell_type": "code",
   "execution_count": 1,
   "id": "e5cba5e4",
   "metadata": {},
   "outputs": [],
   "source": [
    "# Let's add BONSAI too!\n",
    "\n",
    "# Tasks\n",
    "# 1. Add BONSAI requirements to installed packages\n",
    "# 2. Import BONSAI database to the project"
   ]
  },
  {
   "cell_type": "code",
   "execution_count": 2,
   "id": "4fc5a85c",
   "metadata": {},
   "outputs": [],
   "source": [
    "# basic imports from brightway\n",
    "import bw2analyzer as ba\n",
    "import bw2calc as bc\n",
    "import bw2data as bd\n",
    "import bw2io as bi\n",
    "from bw2io.importers import SingleOutputEcospold2Importer\n",
    "import bw2analyzer as bwa\n",
    "from bw2data import methods\n",
    "from bw2io import create_default_biosphere3\n",
    "\n",
    "# other relevant packages\n",
    "import numpy as np\n",
    "import pandas as pd\n",
    "import matplotlib.pyplot as plt\n",
    "from pathlib import Path"
   ]
  },
  {
   "cell_type": "code",
   "execution_count": 3,
   "id": "d3ca983e",
   "metadata": {},
   "outputs": [
    {
     "ename": "ImportError",
     "evalue": "cannot import name 'BonsaiImporter' from 'bw2io.importers' (c:\\Users\\TimWeber\\anaconda3\\envs\\LCA_Toolbox\\Lib\\site-packages\\bw2io\\importers\\__init__.py)",
     "output_type": "error",
     "traceback": [
      "\u001b[31m---------------------------------------------------------------------------\u001b[39m",
      "\u001b[31mImportError\u001b[39m                               Traceback (most recent call last)",
      "\u001b[36mCell\u001b[39m\u001b[36m \u001b[39m\u001b[32mIn[3]\u001b[39m\u001b[32m, line 1\u001b[39m\n\u001b[32m----> \u001b[39m\u001b[32m1\u001b[39m \u001b[38;5;28;01mfrom\u001b[39;00m\u001b[38;5;250m \u001b[39m\u001b[34;01mbw2io\u001b[39;00m\u001b[34;01m.\u001b[39;00m\u001b[34;01mimporters\u001b[39;00m\u001b[38;5;250m \u001b[39m\u001b[38;5;28;01mimport\u001b[39;00m BonsaiImporter\n",
      "\u001b[31mImportError\u001b[39m: cannot import name 'BonsaiImporter' from 'bw2io.importers' (c:\\Users\\TimWeber\\anaconda3\\envs\\LCA_Toolbox\\Lib\\site-packages\\bw2io\\importers\\__init__.py)"
     ]
    }
   ],
   "source": [
    "from bw2io.importers import BonsaiImporter"
   ]
  }
 ],
 "metadata": {
  "kernelspec": {
   "display_name": "LCA_Toolbox",
   "language": "python",
   "name": "python3"
  },
  "language_info": {
   "codemirror_mode": {
    "name": "ipython",
    "version": 3
   },
   "file_extension": ".py",
   "mimetype": "text/x-python",
   "name": "python",
   "nbconvert_exporter": "python",
   "pygments_lexer": "ipython3",
   "version": "3.11.13"
  }
 },
 "nbformat": 4,
 "nbformat_minor": 5
}
