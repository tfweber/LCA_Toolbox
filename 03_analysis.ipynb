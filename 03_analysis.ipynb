{
 "cells": [
  {
   "cell_type": "code",
   "execution_count": null,
   "id": "4c86d140",
   "metadata": {},
   "outputs": [],
   "source": [
    "# This file aims to display some functions regarding Brightway 2.5, to demonstrate what can be done with the software when you have a foreground model matched with ecoinvent's bio- and technosphere."
   ]
  },
  {
   "cell_type": "markdown",
   "id": "c750cf2e",
   "metadata": {},
   "source": [
    "# Analysis"
   ]
  },
  {
   "cell_type": "markdown",
   "id": "b5448288",
   "metadata": {},
   "source": [
    "### 1. Loading the project"
   ]
  },
  {
   "cell_type": "code",
   "execution_count": 2,
   "id": "3669ab2c",
   "metadata": {},
   "outputs": [
    {
     "name": "stdout",
     "output_type": "stream",
     "text": [
      "15:34:02+0200 [warning  ] Can't import `SimaProBlockCSVImporter` - please install `bw2io` with `pip install bw2io[multifunctional]` or install `multifunctional` and `bw_simapro_csv` manually.\n"
     ]
    }
   ],
   "source": [
    "# basic imports from brightway\n",
    "import bw2analyzer as ba\n",
    "import bw2calc as bc\n",
    "import bw2data as bd\n",
    "import bw2io as bi\n",
    "from bw2io.importers import SingleOutputEcospold2Importer\n",
    "import bw2analyzer as bwa\n",
    "from bw2data import methods\n",
    "\n",
    "# other relevant packages\n",
    "import numpy as np\n",
    "import pandas as pd\n",
    "import matplotlib.pyplot as plt\n",
    "from pathlib import Path\n",
    "import seaborn as sns"
   ]
  },
  {
   "cell_type": "code",
   "execution_count": 3,
   "id": "30000da6",
   "metadata": {},
   "outputs": [],
   "source": [
    "# define a project where we install the databases and work in this script\n",
    "bd.projects.set_current('brightway25')"
   ]
  },
  {
   "cell_type": "markdown",
   "id": "5b324b81",
   "metadata": {},
   "source": [
    "### 2. Database overview"
   ]
  },
  {
   "cell_type": "code",
   "execution_count": 4,
   "id": "b46e4c34",
   "metadata": {},
   "outputs": [
    {
     "data": {
      "text/plain": [
       "Databases dictionary with 4 object(s):\n",
       "\tbiosphere3\n",
       "\tbw25_db\n",
       "\tecoinvent-3.10-biosphere\n",
       "\tecoinvent310clca"
      ]
     },
     "execution_count": 4,
     "metadata": {},
     "output_type": "execute_result"
    }
   ],
   "source": [
    "bd.databases"
   ]
  },
  {
   "cell_type": "code",
   "execution_count": 5,
   "id": "78022104",
   "metadata": {},
   "outputs": [
    {
     "data": {
      "text/plain": [
       "'brightway25'"
      ]
     },
     "execution_count": 5,
     "metadata": {},
     "output_type": "execute_result"
    }
   ],
   "source": [
    "bd.projects.current"
   ]
  },
  {
   "cell_type": "code",
   "execution_count": 6,
   "id": "9d616a26",
   "metadata": {},
   "outputs": [],
   "source": [
    "ei_clca = bd.Database('ecoinvent310clca')\n",
    "ei_bio = bd.Database('ecoinvent-3.10-biosphere')\n",
    "db_template = bd.Database('bw25_db')\n",
    "el_bio3 = bd.Database('biosphere3')"
   ]
  },
  {
   "cell_type": "markdown",
   "id": "aca1586a",
   "metadata": {},
   "source": [
    "### 3. Database exploration"
   ]
  },
  {
   "cell_type": "code",
   "execution_count": null,
   "id": "ddaf4b71",
   "metadata": {},
   "outputs": [],
   "source": [
    "db_template.search('ceramics')"
   ]
  },
  {
   "cell_type": "code",
   "execution_count": 7,
   "id": "45a4e890",
   "metadata": {},
   "outputs": [
    {
     "data": {
      "text/plain": [
       "['consumer electronics production, mobile device, smartphone' (unit, GLO, None),\n",
       " 'treatment of used smartphone, mechanical treatment' (kilogram, GLO, None),\n",
       " 'market for power adapter, for smartphone' (unit, GLO, None),\n",
       " 'market for consumer electronics, mobile device, smartphone' (unit, GLO, None),\n",
       " 'market for used smartphone' (kilogram, GLO, None),\n",
       " 'power adapter production, for smartphone' (unit, GLO, None),\n",
       " 'electronic component production, passive, mobile, earpiece and speaker' (kilogram, GLO, None),\n",
       " 'liquid crystal display production, unmounted, mobile device' (kilogram, GLO, None),\n",
       " 'consumer electronics production, mobile device, tablet' (unit, GLO, None),\n",
       " 'printed wiring board production, mounted mainboard, mobile device, double-sided, Pb free' (square meter, GLO, None)]"
      ]
     },
     "execution_count": 7,
     "metadata": {},
     "output_type": "execute_result"
    }
   ],
   "source": [
    "ei_clca.search('smartphone')"
   ]
  },
  {
   "cell_type": "code",
   "execution_count": 8,
   "id": "9129ac64",
   "metadata": {},
   "outputs": [],
   "source": [
    "# define a process as object in the project\n",
    "ceramics = db_template.get(name = 'porcelain ceramics production', location = \"RER\", unit = 'kilogram')\n",
    "smartphone = ei_clca.get(name = 'consumer electronics production, mobile device, smartphone', location = \"GLO\", unit = 'unit')\n"
   ]
  },
  {
   "cell_type": "code",
   "execution_count": 10,
   "id": "d2283e55",
   "metadata": {},
   "outputs": [
    {
     "name": "stdout",
     "output_type": "stream",
     "text": [
      "Exchange: 81.0739200457627 kilogram 'market group for tap water' (kilogram, GLO, None) to 'consumer electronics production, mobile device, smartphone' (unit, GLO, None)>\n",
      "Exchange: 1.0 unit 'consumer electronics production, mobile device, smartphone' (unit, GLO, None) to 'consumer electronics production, mobile device, smartphone' (unit, GLO, None)>\n",
      "Exchange: 1.0 unit 'market for power adapter, for smartphone' (unit, GLO, None) to 'consumer electronics production, mobile device, smartphone' (unit, GLO, None)>\n",
      "Exchange: 0.44 kilowatt hour 'market group for electricity, medium voltage' (kilowatt hour, GLO, None) to 'consumer electronics production, mobile device, smartphone' (unit, GLO, None)>\n",
      "Exchange: 0.153230769230769 meter 'market for cable, connector for computer, without plugs' (meter, GLO, None) to 'consumer electronics production, mobile device, smartphone' (unit, GLO, None)>\n",
      "Exchange: 0.0547008547008547 unit 'market for plug, inlet and outlet, for computer cable' (unit, GLO, None) to 'consumer electronics production, mobile device, smartphone' (unit, GLO, None)>\n",
      "Exchange: 0.04636 kilogram 'market for sheet rolling, chromium steel' (kilogram, GLO, None) to 'consumer electronics production, mobile device, smartphone' (unit, GLO, None)>\n",
      "Exchange: 0.04636 kilogram 'market for steel, chromium steel 18/8' (kilogram, GLO, None) to 'consumer electronics production, mobile device, smartphone' (unit, GLO, None)>\n",
      "Exchange: 0.04563036 kilogram 'market for liquid crystal display, unmounted, mobile device' (kilogram, GLO, None) to 'consumer electronics production, mobile device, smartphone' (unit, GLO, None)>\n",
      "Exchange: 0.0386 kilogram 'market for battery, Li-ion, NCA, rechargeable, prismatic' (kilogram, GLO, None) to 'consumer electronics production, mobile device, smartphone' (unit, GLO, None)>\n",
      "Exchange: 0.01246 kilogram 'market for injection moulding' (kilogram, GLO, None) to 'consumer electronics production, mobile device, smartphone' (unit, GLO, None)>\n",
      "Exchange: 0.010673370577281191 kilogram 'market for polycarbonate' (kilogram, RoW, None) to 'consumer electronics production, mobile device, smartphone' (unit, GLO, None)>\n",
      "Exchange: 0.00494550912279153 cubic meter 'Water' (cubic meter, None, ('air',)) to 'consumer electronics production, mobile device, smartphone' (unit, GLO, None)>\n",
      "Exchange: 0.004196 kilogram 'market for copper, cathode' (kilogram, GLO, None) to 'consumer electronics production, mobile device, smartphone' (unit, GLO, None)>\n",
      "Exchange: 0.004196 kilogram 'market for metal working, average for copper product manufacturing' (kilogram, GLO, None) to 'consumer electronics production, mobile device, smartphone' (unit, GLO, None)>\n",
      "Exchange: 0.002957679 square meter 'market for printed wiring board, mounted mainboard, mobile device, double-sided, Pb free' (square meter, GLO, None) to 'consumer electronics production, mobile device, smartphone' (unit, GLO, None)>\n",
      "Exchange: 0.002175 kilogram 'market for electronic component, passive, unspecified' (kilogram, GLO, None) to 'consumer electronics production, mobile device, smartphone' (unit, GLO, None)>\n",
      "Exchange: 0.00191 kilogram 'market for electric connector, peripheral type buss' (kilogram, GLO, None) to 'consumer electronics production, mobile device, smartphone' (unit, GLO, None)>\n",
      "Exchange: 0.00184217 kilogram 'market for electronic component, passive, mobile, earpiece and speaker' (kilogram, GLO, None) to 'consumer electronics production, mobile device, smartphone' (unit, GLO, None)>\n",
      "Exchange: 0.0017866294227188082 kilogram 'market for polycarbonate' (kilogram, RER, None) to 'consumer electronics production, mobile device, smartphone' (unit, GLO, None)>\n",
      "Exchange: 0.000779 kilogram 'market for glass fibre reinforced plastic, polyester resin, hand lay-up' (kilogram, GLO, None) to 'consumer electronics production, mobile device, smartphone' (unit, GLO, None)>\n",
      "Exchange: 0.00055 kilogram 'market for polyethylene terephthalate, granulate, amorphous' (kilogram, GLO, None) to 'consumer electronics production, mobile device, smartphone' (unit, GLO, None)>\n",
      "Exchange: 0.000185 kilogram 'market for cable, ribbon cable, 20-pin, with plugs' (kilogram, GLO, None) to 'consumer electronics production, mobile device, smartphone' (unit, GLO, None)>\n",
      "Exchange: 0.000144 kilogram 'market for casting, brass' (kilogram, GLO, None) to 'consumer electronics production, mobile device, smartphone' (unit, GLO, None)>\n",
      "Exchange: 0.00014328 kilogram 'market for brass' (kilogram, RoW, None) to 'consumer electronics production, mobile device, smartphone' (unit, GLO, None)>\n",
      "Exchange: 6.05e-05 kilogram 'market for inductor, miniature radio frequency chip' (kilogram, GLO, None) to 'consumer electronics production, mobile device, smartphone' (unit, GLO, None)>\n",
      "Exchange: 1.7e-05 kilogram 'market for ferrite' (kilogram, GLO, None) to 'consumer electronics production, mobile device, smartphone' (unit, GLO, None)>\n",
      "Exchange: 7.2e-07 kilogram 'market for brass' (kilogram, CH, None) to 'consumer electronics production, mobile device, smartphone' (unit, GLO, None)>\n",
      "Exchange: -0.0003663758597341378 cubic meter 'market for wastewater, unpolluted' (cubic meter, CH, None) to 'consumer electronics production, mobile device, smartphone' (unit, GLO, None)>\n",
      "Exchange: -0.01316 kilogram 'market for used cable' (kilogram, GLO, None) to 'consumer electronics production, mobile device, smartphone' (unit, GLO, None)>\n",
      "Exchange: -0.07576203506323707 cubic meter 'market for wastewater, unpolluted' (cubic meter, RoW, None) to 'consumer electronics production, mobile device, smartphone' (unit, GLO, None)>\n",
      "Exchange: -0.157866709 kilogram 'market for used smartphone' (kilogram, GLO, None) to 'consumer electronics production, mobile device, smartphone' (unit, GLO, None)>\n"
     ]
    }
   ],
   "source": [
    "# quickly print all exchanges of the process defined above, sorted by amount (large to small)\n",
    "exchanges = sorted(smartphone.exchanges(), key=lambda exc: exc['amount'], reverse=True)\n",
    "for exc in exchanges:\n",
    "    print(exc)"
   ]
  },
  {
   "cell_type": "markdown",
   "id": "6f6d8c1a",
   "metadata": {},
   "source": [
    "### 4. Impact assessment methods"
   ]
  },
  {
   "cell_type": "code",
   "execution_count": null,
   "id": "feffe801",
   "metadata": {},
   "outputs": [],
   "source": [
    "# here we will analyse the set of methods that are available as part of the background\n",
    "list(bd.methods)[:5]"
   ]
  },
  {
   "cell_type": "code",
   "execution_count": null,
   "id": "a00284e0",
   "metadata": {},
   "outputs": [],
   "source": [
    "# printing all methods that contain a specific keyword, e.g. \"climate change\"\n",
    "climate_methods = [m for m in bd.methods if any(\"climate change\" in str(part).lower() for part in m)]\n",
    "for method in climate_methods:\n",
    "    print(method)"
   ]
  },
  {
   "cell_type": "code",
   "execution_count": 12,
   "id": "3b0b476b",
   "metadata": {},
   "outputs": [],
   "source": [
    "# selecting the impact assessment methods that we want to use in our analysis\n",
    "lcia_gwp100 = ('EF v3.1', 'climate change', 'global warming potential (GWP100)')\n",
    "lcia_water = ('EF v3.1','water use','user deprivation potential (deprivation-weighted water consumption)')\n",
    "lcia_land = ('EF v3.1', 'land use', 'soil quality index')"
   ]
  },
  {
   "cell_type": "markdown",
   "id": "a68e120e",
   "metadata": {},
   "source": [
    "### 4. LCI "
   ]
  },
  {
   "cell_type": "code",
   "execution_count": null,
   "id": "6166da62",
   "metadata": {},
   "outputs": [],
   "source": [
    "# export the LCI to e\n",
    "bi.export.excel.write_lci_excel(db_template.name,\n",
    "                                objs=[ceramics],\n",
    "                                dirpath=Path.cwd())"
   ]
  },
  {
   "cell_type": "markdown",
   "id": "52d66648",
   "metadata": {},
   "source": [
    "### 5. LCIA"
   ]
  },
  {
   "cell_type": "code",
   "execution_count": 13,
   "id": "ca05a284",
   "metadata": {},
   "outputs": [
    {
     "data": {
      "text/plain": [
       "37.61836396506968"
      ]
     },
     "execution_count": 13,
     "metadata": {},
     "output_type": "execute_result"
    }
   ],
   "source": [
    "# Quick LCIA calculation\n",
    "smartphone_lca = smartphone.lca(lcia_gwp100)\n",
    "smartphone_lca.score\n"
   ]
  },
  {
   "cell_type": "markdown",
   "id": "357aef27",
   "metadata": {},
   "source": [
    "### 6. Contribution analysis"
   ]
  },
  {
   "cell_type": "code",
   "execution_count": 14,
   "id": "a49b7b1e",
   "metadata": {},
   "outputs": [
    {
     "name": "stdout",
     "output_type": "stream",
     "text": [
      "Fraction of score | Absolute score | Amount | Activity\n",
      "0001 | 37.62 |     1 | 'consumer electronics production, mobile device, smartphone' (unit, GLO, None)\n",
      "  0.129 | 4.844 | 0.04563 | 'market for liquid crystal display, unmounted, mobile device' (kilogram, GLO, None)\n",
      "    0.129 | 4.839 | 0.04563 | 'liquid crystal display production, unmounted, mobile device' (kilogram, GLO, None)\n",
      "      0.0709 | 2.669 | 4.315 | 'market group for electricity, medium voltage' (kilowatt hour, GLO, None)\n",
      "  0.0877 | 3.299 |     1 | 'market for power adapter, for smartphone' (unit, GLO, None)\n",
      "    0.0876 | 3.295 |     1 | 'power adapter production, for smartphone' (unit, GLO, None)\n",
      "  0.74 | 27.83 | 0.002958 | 'market for printed wiring board, mounted mainboard, mobile device, double-sided, Pb free' (square met\n",
      "    0.74 | 27.83 | 0.002958 | 'printed wiring board production, mounted mainboard, mobile device, double-sided, Pb free' (square m\n",
      "      0.678 | 25.49 | 0.0009209 | 'market for wafer, fabricated, for integrated circuit' (square meter, GLO, None)\n"
     ]
    }
   ],
   "source": [
    "# One option to do a contribution analysis is to use the recursive calculation method\n",
    "bwa.print_recursive_calculation(smartphone,\n",
    "lcia_method=lcia_gwp100,max_level=3,cutoff=0.05)"
   ]
  },
  {
   "cell_type": "code",
   "execution_count": 16,
   "id": "185b3405",
   "metadata": {},
   "outputs": [
    {
     "data": {
      "text/html": [
       "<div>\n",
       "<style scoped>\n",
       "    .dataframe tbody tr th:only-of-type {\n",
       "        vertical-align: middle;\n",
       "    }\n",
       "\n",
       "    .dataframe tbody tr th {\n",
       "        vertical-align: top;\n",
       "    }\n",
       "\n",
       "    .dataframe thead th {\n",
       "        text-align: right;\n",
       "    }\n",
       "</style>\n",
       "<table border=\"1\" class=\"dataframe\">\n",
       "  <thead>\n",
       "    <tr style=\"text-align: right;\">\n",
       "      <th></th>\n",
       "      <th>label</th>\n",
       "      <th>parent</th>\n",
       "      <th>score</th>\n",
       "      <th>fraction</th>\n",
       "      <th>amount</th>\n",
       "      <th>name</th>\n",
       "      <th>key</th>\n",
       "    </tr>\n",
       "  </thead>\n",
       "  <tbody>\n",
       "    <tr>\n",
       "      <th>0</th>\n",
       "      <td>root</td>\n",
       "      <td>None</td>\n",
       "      <td>37.618364</td>\n",
       "      <td>1.000000</td>\n",
       "      <td>1.000000</td>\n",
       "      <td>consumer electronics production, mobile device...</td>\n",
       "      <td>(ecoinvent310clca, 81b1261c4390eccaba4f6a3bd1e...</td>\n",
       "    </tr>\n",
       "    <tr>\n",
       "      <th>1</th>\n",
       "      <td>root_a</td>\n",
       "      <td>root</td>\n",
       "      <td>0.833467</td>\n",
       "      <td>0.022156</td>\n",
       "      <td>0.038600</td>\n",
       "      <td>market for battery, Li-ion, NCA, rechargeable,...</td>\n",
       "      <td>(ecoinvent310clca, 0eac769618da0c069731991238a...</td>\n",
       "    </tr>\n",
       "    <tr>\n",
       "      <th>2</th>\n",
       "      <td>root_p</td>\n",
       "      <td>root</td>\n",
       "      <td>4.843835</td>\n",
       "      <td>0.128763</td>\n",
       "      <td>0.045630</td>\n",
       "      <td>market for liquid crystal display, unmounted, ...</td>\n",
       "      <td>(ecoinvent310clca, 386ff8d67353229fc7c677f3f56...</td>\n",
       "    </tr>\n",
       "    <tr>\n",
       "      <th>3</th>\n",
       "      <td>root_v</td>\n",
       "      <td>root</td>\n",
       "      <td>3.298918</td>\n",
       "      <td>0.087694</td>\n",
       "      <td>1.000000</td>\n",
       "      <td>market for power adapter, for smartphone</td>\n",
       "      <td>(ecoinvent310clca, 64454f11844724c88ff093788e4...</td>\n",
       "    </tr>\n",
       "    <tr>\n",
       "      <th>4</th>\n",
       "      <td>root_w</td>\n",
       "      <td>root</td>\n",
       "      <td>27.827572</td>\n",
       "      <td>0.739734</td>\n",
       "      <td>0.002958</td>\n",
       "      <td>market for printed wiring board, mounted mainb...</td>\n",
       "      <td>(ecoinvent310clca, f848d3037bdacb2c97fb0683a68...</td>\n",
       "    </tr>\n",
       "  </tbody>\n",
       "</table>\n",
       "</div>"
      ],
      "text/plain": [
       "    label parent      score  fraction    amount  \\\n",
       "0    root   None  37.618364  1.000000  1.000000   \n",
       "1  root_a   root   0.833467  0.022156  0.038600   \n",
       "2  root_p   root   4.843835  0.128763  0.045630   \n",
       "3  root_v   root   3.298918  0.087694  1.000000   \n",
       "4  root_w   root  27.827572  0.739734  0.002958   \n",
       "\n",
       "                                                name  \\\n",
       "0  consumer electronics production, mobile device...   \n",
       "1  market for battery, Li-ion, NCA, rechargeable,...   \n",
       "2  market for liquid crystal display, unmounted, ...   \n",
       "3           market for power adapter, for smartphone   \n",
       "4  market for printed wiring board, mounted mainb...   \n",
       "\n",
       "                                                 key  \n",
       "0  (ecoinvent310clca, 81b1261c4390eccaba4f6a3bd1e...  \n",
       "1  (ecoinvent310clca, 0eac769618da0c069731991238a...  \n",
       "2  (ecoinvent310clca, 386ff8d67353229fc7c677f3f56...  \n",
       "3  (ecoinvent310clca, 64454f11844724c88ff093788e4...  \n",
       "4  (ecoinvent310clca, f848d3037bdacb2c97fb0683a68...  "
      ]
     },
     "execution_count": 16,
     "metadata": {},
     "output_type": "execute_result"
    }
   ],
   "source": [
    "# Another option is to use the recursive calculation to an object, which returns a DataFrame\n",
    "smartphone_ca_gwp = bwa.utils.recursive_calculation_to_object(smartphone,\n",
    "                                          lcia_method=lcia_gwp100,\n",
    "                                          max_level=1,\n",
    "                                          cutoff=0.02,\n",
    "                                          as_dataframe=True,\n",
    "                                          )\n",
    "smartphone_ca_gwp"
   ]
  },
  {
   "cell_type": "code",
   "execution_count": 17,
   "id": "3075ad93",
   "metadata": {},
   "outputs": [
    {
     "data": {
      "text/html": [
       "<div>\n",
       "<style scoped>\n",
       "    .dataframe tbody tr th:only-of-type {\n",
       "        vertical-align: middle;\n",
       "    }\n",
       "\n",
       "    .dataframe tbody tr th {\n",
       "        vertical-align: top;\n",
       "    }\n",
       "\n",
       "    .dataframe thead th {\n",
       "        text-align: right;\n",
       "    }\n",
       "</style>\n",
       "<table border=\"1\" class=\"dataframe\">\n",
       "  <thead>\n",
       "    <tr style=\"text-align: right;\">\n",
       "      <th></th>\n",
       "      <th></th>\n",
       "      <th>amount</th>\n",
       "    </tr>\n",
       "    <tr>\n",
       "      <th>col_name</th>\n",
       "      <th>row_name</th>\n",
       "      <th></th>\n",
       "    </tr>\n",
       "  </thead>\n",
       "  <tbody>\n",
       "    <tr>\n",
       "      <th>electricity production, hard coal</th>\n",
       "      <th>Carbon dioxide, fossil</th>\n",
       "      <td>9.790533</td>\n",
       "    </tr>\n",
       "    <tr>\n",
       "      <th>heat and power co-generation, natural gas, combined cycle power plant, 400MW electrical</th>\n",
       "      <th>Carbon dioxide, fossil</th>\n",
       "      <td>6.357821</td>\n",
       "    </tr>\n",
       "    <tr>\n",
       "      <th>electricity production, lignite</th>\n",
       "      <th>Carbon dioxide, fossil</th>\n",
       "      <td>3.968893</td>\n",
       "    </tr>\n",
       "    <tr>\n",
       "      <th>electricity production, natural gas, combined cycle power plant</th>\n",
       "      <th>Carbon dioxide, fossil</th>\n",
       "      <td>3.251080</td>\n",
       "    </tr>\n",
       "    <tr>\n",
       "      <th>heat and power co-generation, natural gas, 200kW electrical, lean burn</th>\n",
       "      <th>Carbon dioxide, fossil</th>\n",
       "      <td>1.966277</td>\n",
       "    </tr>\n",
       "    <tr>\n",
       "      <th>...</th>\n",
       "      <th>...</th>\n",
       "      <td>...</td>\n",
       "    </tr>\n",
       "    <tr>\n",
       "      <th>electricity production, oil</th>\n",
       "      <th>Carbon dioxide, fossil</th>\n",
       "      <td>0.022543</td>\n",
       "    </tr>\n",
       "    <tr>\n",
       "      <th>market for electricity, high voltage, cobalt industry</th>\n",
       "      <th>Dinitrogen monoxide</th>\n",
       "      <td>-0.031791</td>\n",
       "    </tr>\n",
       "    <tr>\n",
       "      <th>market for electricity, medium voltage, cobalt industry</th>\n",
       "      <th>Sulfur hexafluoride</th>\n",
       "      <td>-0.090093</td>\n",
       "    </tr>\n",
       "    <tr>\n",
       "      <th>electricity production, natural gas, conventional power plant</th>\n",
       "      <th>Carbon dioxide, fossil</th>\n",
       "      <td>-0.095026</td>\n",
       "    </tr>\n",
       "    <tr>\n",
       "      <th>cobalt production</th>\n",
       "      <th>Carbon dioxide, fossil</th>\n",
       "      <td>-0.211093</td>\n",
       "    </tr>\n",
       "  </tbody>\n",
       "</table>\n",
       "<p>63 rows × 1 columns</p>\n",
       "</div>"
      ],
      "text/plain": [
       "                                                                             amount\n",
       "col_name                                           row_name                        \n",
       "electricity production, hard coal                  Carbon dioxide, fossil  9.790533\n",
       "heat and power co-generation, natural gas, comb... Carbon dioxide, fossil  6.357821\n",
       "electricity production, lignite                    Carbon dioxide, fossil  3.968893\n",
       "electricity production, natural gas, combined c... Carbon dioxide, fossil  3.251080\n",
       "heat and power co-generation, natural gas, 200k... Carbon dioxide, fossil  1.966277\n",
       "...                                                                             ...\n",
       "electricity production, oil                        Carbon dioxide, fossil  0.022543\n",
       "market for electricity, high voltage, cobalt in... Dinitrogen monoxide    -0.031791\n",
       "market for electricity, medium voltage, cobalt ... Sulfur hexafluoride    -0.090093\n",
       "electricity production, natural gas, convention... Carbon dioxide, fossil -0.095026\n",
       "cobalt production                                  Carbon dioxide, fossil -0.211093\n",
       "\n",
       "[63 rows x 1 columns]"
      ]
     },
     "execution_count": 17,
     "metadata": {},
     "output_type": "execute_result"
    }
   ],
   "source": [
    "# Elementary flows contribution analysis by process\n",
    "smartphone_lca.to_dataframe().pivot_table(index=['col_name', 'row_name'], values='amount', aggfunc='sum').sort_values(by='amount', ascending=False)"
   ]
  },
  {
   "cell_type": "code",
   "execution_count": 18,
   "id": "04718c76",
   "metadata": {},
   "outputs": [
    {
     "data": {
      "text/html": [
       "<div>\n",
       "<style scoped>\n",
       "    .dataframe tbody tr th:only-of-type {\n",
       "        vertical-align: middle;\n",
       "    }\n",
       "\n",
       "    .dataframe tbody tr th {\n",
       "        vertical-align: top;\n",
       "    }\n",
       "\n",
       "    .dataframe thead th {\n",
       "        text-align: right;\n",
       "    }\n",
       "</style>\n",
       "<table border=\"1\" class=\"dataframe\">\n",
       "  <thead>\n",
       "    <tr style=\"text-align: right;\">\n",
       "      <th></th>\n",
       "      <th>amount</th>\n",
       "    </tr>\n",
       "    <tr>\n",
       "      <th>row_name</th>\n",
       "      <th></th>\n",
       "    </tr>\n",
       "  </thead>\n",
       "  <tbody>\n",
       "    <tr>\n",
       "      <th>Carbon dioxide, fossil</th>\n",
       "      <td>30.226028</td>\n",
       "    </tr>\n",
       "    <tr>\n",
       "      <th>Dinitrogen monoxide</th>\n",
       "      <td>0.067706</td>\n",
       "    </tr>\n",
       "    <tr>\n",
       "      <th>Hexafluoroethane</th>\n",
       "      <td>1.407902</td>\n",
       "    </tr>\n",
       "    <tr>\n",
       "      <th>Methane, fossil</th>\n",
       "      <td>3.071459</td>\n",
       "    </tr>\n",
       "    <tr>\n",
       "      <th>Sulfur hexafluoride</th>\n",
       "      <td>-0.057984</td>\n",
       "    </tr>\n",
       "    <tr>\n",
       "      <th>Trifluoromethane</th>\n",
       "      <td>0.033163</td>\n",
       "    </tr>\n",
       "  </tbody>\n",
       "</table>\n",
       "</div>"
      ],
      "text/plain": [
       "                           amount\n",
       "row_name                         \n",
       "Carbon dioxide, fossil  30.226028\n",
       "Dinitrogen monoxide      0.067706\n",
       "Hexafluoroethane         1.407902\n",
       "Methane, fossil          3.071459\n",
       "Sulfur hexafluoride     -0.057984\n",
       "Trifluoromethane         0.033163"
      ]
     },
     "execution_count": 18,
     "metadata": {},
     "output_type": "execute_result"
    }
   ],
   "source": [
    "# Elementary flows contribution analysis as summary table\n",
    "smartphone_lca.to_dataframe().pivot_table(index='row_name',values='amount',aggfunc='sum')"
   ]
  },
  {
   "cell_type": "markdown",
   "id": "65ca78a9",
   "metadata": {},
   "source": [
    "### 7. Plot Contribution analysis graphs"
   ]
  },
  {
   "cell_type": "code",
   "execution_count": 20,
   "id": "d8658a79",
   "metadata": {},
   "outputs": [],
   "source": [
    "# Filter out the parent processes that are not relevant for the contribution analysis\n",
    "smartphone_ca_gwp = smartphone_ca_gwp.dropna(subset='parent') \n",
    "\n"
   ]
  },
  {
   "cell_type": "code",
   "execution_count": 21,
   "id": "2fbec9b8",
   "metadata": {},
   "outputs": [
    {
     "name": "stderr",
     "output_type": "stream",
     "text": [
      "C:\\Users\\TimWeber\\AppData\\Local\\Temp\\ipykernel_13904\\1074658361.py:7: UserWarning: Tight layout not applied. The left and right margins cannot be made large enough to accommodate all Axes decorations.\n",
      "  plt.tight_layout()\n"
     ]
    },
    {
     "data": {
      "image/png": "[encoded data removed]",
      "text/plain": [
       "<Figure size 600x300 with 1 Axes>"
      ]
     },
     "metadata": {},
     "output_type": "display_data"
    }
   ],
   "source": [
    "f, ax = plt.subplots(figsize=(6, 3))\n",
    "sns.barplot(y='name', x='score', data=smartphone_ca_gwp, ax=ax)\n",
    "ax.set(\n",
    "    title='Contribution analysis of the product under study',\n",
    "    xlabel='CO2 eq. emissions (kg)',\n",
    "    ylabel='')\n",
    "plt.tight_layout()\n",
    "plt.show()\n"
   ]
  }
 ],
 "metadata": {
  "kernelspec": {
   "display_name": "brightway25",
   "language": "python",
   "name": "python3"
  },
  "language_info": {
   "codemirror_mode": {
    "name": "ipython",
    "version": 3
   },
   "file_extension": ".py",
   "mimetype": "text/x-python",
   "name": "python",
   "nbconvert_exporter": "python",
   "pygments_lexer": "ipython3",
   "version": "3.12.11"
  }
 },
 "nbformat": 4,
 "nbformat_minor": 5
}
