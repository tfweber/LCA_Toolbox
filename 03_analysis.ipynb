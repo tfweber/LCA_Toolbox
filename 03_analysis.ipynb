{
 "cells": [
  {
   "cell_type": "code",
   "execution_count": null,
   "id": "4c86d140",
   "metadata": {},
   "outputs": [],
   "source": [
    "# This file aims to display some functions regarding Brightway 2.5, to demonstrate what can be done with the software when you have a foreground model matched with ecoinvent's bio- and technosphere."
   ]
  },
  {
   "cell_type": "markdown",
   "id": "c750cf2e",
   "metadata": {},
   "source": [
    "# Analysis"
   ]
  },
  {
   "cell_type": "markdown",
   "id": "b5448288",
   "metadata": {},
   "source": [
    "### 1. Loading the project"
   ]
  },
  {
   "cell_type": "code",
   "execution_count": null,
   "id": "3669ab2c",
   "metadata": {},
   "outputs": [],
   "source": [
    "# basic imports from brightway\n",
    "import bw2analyzer as ba\n",
    "import bw2calc as bc\n",
    "import bw2data as bd\n",
    "import bw2io as bi\n",
    "from bw2io.importers import SingleOutputEcospold2Importer\n",
    "import bw2analyzer as bwa\n",
    "from bw2data import methods\n",
    "\n",
    "# other relevant packages\n",
    "import numpy as np\n",
    "import pandas as pd\n",
    "import matplotlib.pyplot as plt\n",
    "from pathlib import Path\n",
    "import seaborn as sns"
   ]
  },
  {
   "cell_type": "code",
   "execution_count": null,
   "id": "30000da6",
   "metadata": {},
   "outputs": [],
   "source": [
    "# define a project where we install the databases and work in this script\n",
    "bd.projects.set_current('brightway25')"
   ]
  },
  {
   "cell_type": "markdown",
   "id": "5b324b81",
   "metadata": {},
   "source": [
    "### 2. Database overview"
   ]
  },
  {
   "cell_type": "code",
   "execution_count": null,
   "id": "b46e4c34",
   "metadata": {},
   "outputs": [],
   "source": [
    "bd.databases"
   ]
  },
  {
   "cell_type": "code",
   "execution_count": null,
   "id": "78022104",
   "metadata": {},
   "outputs": [],
   "source": [
    "bd.projects.current"
   ]
  },
  {
   "cell_type": "code",
   "execution_count": null,
   "id": "9d616a26",
   "metadata": {},
   "outputs": [],
   "source": [
    "ei_clca = bd.Database('ecoinvent310clca')\n",
    "ei_bio = bd.Database('ecoinvent-3.10-biosphere')\n",
    "db_template = bd.Database('bw25_db')\n",
    "el_bio3 = bd.Database('biosphere3')"
   ]
  },
  {
   "cell_type": "markdown",
   "id": "aca1586a",
   "metadata": {},
   "source": [
    "### 3. Database exploration"
   ]
  },
  {
   "cell_type": "code",
   "execution_count": 23,
   "id": "ddaf4b71",
   "metadata": {},
   "outputs": [
    {
     "data": {
      "text/plain": [
       "['porcelain ceramics production' (kilogram, RER, None)]"
      ]
     },
     "execution_count": 23,
     "metadata": {},
     "output_type": "execute_result"
    }
   ],
   "source": [
    "db_template.search('ceramics')"
   ]
  },
  {
   "cell_type": "code",
   "execution_count": null,
   "id": "45a4e890",
   "metadata": {},
   "outputs": [],
   "source": [
    "ei_clca.search('market group for electricity GLO')"
   ]
  },
  {
   "cell_type": "code",
   "execution_count": 24,
   "id": "9129ac64",
   "metadata": {},
   "outputs": [],
   "source": [
    "# define a process as object in the project\n",
    "ceramics = db_template.get(name = 'porcelain ceramics production', location = \"RER\", unit = 'kilogram')\n"
   ]
  },
  {
   "cell_type": "code",
   "execution_count": null,
   "id": "cf187b10",
   "metadata": {},
   "outputs": [],
   "source": [
    "ceramics_ei = ei_clca.get(name = 'market for sanitary ceramics', location = \"GLO\", unit = 'kilogram')"
   ]
  },
  {
   "cell_type": "markdown",
   "id": "6f6d8c1a",
   "metadata": {},
   "source": [
    "### 4. Impact assessment methods"
   ]
  },
  {
   "cell_type": "code",
   "execution_count": 25,
   "id": "3b0b476b",
   "metadata": {},
   "outputs": [],
   "source": [
    "lcia_gwp100 = ('EF v3.1', 'climate change', 'global warming potential (GWP100)')\n",
    "lcia_water = ('EF v3.1','water use','user deprivation potential (deprivation-weighted water consumption)')\n",
    "lcia_land = ('EF v3.1', 'land use', 'soil quality index')"
   ]
  },
  {
   "cell_type": "markdown",
   "id": "a68e120e",
   "metadata": {},
   "source": [
    "### 4. LCI "
   ]
  },
  {
   "cell_type": "code",
   "execution_count": 26,
   "id": "6166da62",
   "metadata": {},
   "outputs": [
    {
     "data": {
      "text/plain": [
       "'c:\\\\Users\\\\TimWeber\\\\repos_20LCA\\\\brightway25\\\\lci-bw25_db.xlsx'"
      ]
     },
     "execution_count": 26,
     "metadata": {},
     "output_type": "execute_result"
    }
   ],
   "source": [
    "# export the LCI to e\n",
    "bi.export.excel.write_lci_excel(db_template.name,\n",
    "                                objs=[ceramics],\n",
    "                                dirpath=Path.cwd())"
   ]
  },
  {
   "cell_type": "markdown",
   "id": "52d66648",
   "metadata": {},
   "source": [
    "### 5. LCIA"
   ]
  },
  {
   "cell_type": "code",
   "execution_count": 27,
   "id": "ca05a284",
   "metadata": {},
   "outputs": [
    {
     "data": {
      "text/plain": [
       "0.7265791393172016"
      ]
     },
     "execution_count": 27,
     "metadata": {},
     "output_type": "execute_result"
    }
   ],
   "source": [
    "# Quick LCIA calculation\n",
    "ceramics_lca = ceramics.lca(lcia_gwp100)\n",
    "ceramics_lca.score\n"
   ]
  },
  {
   "cell_type": "markdown",
   "id": "357aef27",
   "metadata": {},
   "source": [
    "### 6. Contribution analysis"
   ]
  },
  {
   "cell_type": "code",
   "execution_count": 28,
   "id": "a49b7b1e",
   "metadata": {},
   "outputs": [
    {
     "name": "stdout",
     "output_type": "stream",
     "text": [
      "Fraction of score | Absolute score | Amount | Activity\n",
      "0001 | 0.7266 |     1 | 'porcelain ceramics production' (kilogram, RER, None)\n",
      "  00.2 | 0.1451 | 0.5775 | 'market for kaolin' (kilogram, GLO, None)\n",
      "    0.123 | 0.08954 | 0.3783 | 'kaolin production' (kilogram, RoW, None)\n",
      "      0.0546 | 0.0397 | 0.05354 | 'market group for electricity, medium voltage' (kilowatt hour, RAS, None)\n",
      "    0.0699 | 0.05079 | 0.1992 | 'kaolin production' (kilogram, RER, None)\n",
      "  0.331 | 0.2407 | 1.028 | 'market group for electricity, high voltage' (kilowatt hour, RER, None)\n",
      "    0.327 | 0.2376 | 1.013 | 'market group for electricity, high voltage' (kilowatt hour, Europe without Switzerland, None)\n",
      "      0.124 | 0.08975 | 0.1495 | 'market for electricity, high voltage' (kilowatt hour, UA, None)\n",
      "  0.389 | 0.283 | 0.4507 | 'market group for natural gas, high pressure' (cubic meter, Europe without Switzerland, None)\n",
      "    0.0665 | 0.04834 | 0.06835 | 'market for natural gas, high pressure' (cubic meter, IT, None)\n",
      "    0.084 | 0.06106 | 0.08607 | 'market for natural gas, high pressure' (cubic meter, DE, None)\n",
      "      0.0674 | 0.049 | 0.05296 | 'natural gas, high pressure, import from RU' (cubic meter, DE, None)\n"
     ]
    }
   ],
   "source": [
    "# One option to do a contribution analysis is to use the recursive calculation method\n",
    "bwa.print_recursive_calculation(ceramics,\n",
    "lcia_method=lcia_gwp100,max_level=3,cutoff=0.05)"
   ]
  },
  {
   "cell_type": "code",
   "execution_count": 29,
   "id": "185b3405",
   "metadata": {},
   "outputs": [
    {
     "data": {
      "text/html": [
       "<div>\n",
       "<style scoped>\n",
       "    .dataframe tbody tr th:only-of-type {\n",
       "        vertical-align: middle;\n",
       "    }\n",
       "\n",
       "    .dataframe tbody tr th {\n",
       "        vertical-align: top;\n",
       "    }\n",
       "\n",
       "    .dataframe thead th {\n",
       "        text-align: right;\n",
       "    }\n",
       "</style>\n",
       "<table border=\"1\" class=\"dataframe\">\n",
       "  <thead>\n",
       "    <tr style=\"text-align: right;\">\n",
       "      <th></th>\n",
       "      <th>label</th>\n",
       "      <th>parent</th>\n",
       "      <th>score</th>\n",
       "      <th>fraction</th>\n",
       "      <th>amount</th>\n",
       "      <th>name</th>\n",
       "      <th>key</th>\n",
       "    </tr>\n",
       "  </thead>\n",
       "  <tbody>\n",
       "    <tr>\n",
       "      <th>0</th>\n",
       "      <td>root</td>\n",
       "      <td>None</td>\n",
       "      <td>0.726579</td>\n",
       "      <td>1.000000</td>\n",
       "      <td>1.000000e+00</td>\n",
       "      <td>porcelain ceramics production</td>\n",
       "      <td>(bw25_db, a1b7153986d8f8387752b14278a0b4c2)</td>\n",
       "    </tr>\n",
       "    <tr>\n",
       "      <th>1</th>\n",
       "      <td>root_a</td>\n",
       "      <td>root</td>\n",
       "      <td>0.145070</td>\n",
       "      <td>0.199662</td>\n",
       "      <td>5.775000e-01</td>\n",
       "      <td>market for kaolin</td>\n",
       "      <td>(ecoinvent310clca, ab4384f247d3857b5d30e291407...</td>\n",
       "    </tr>\n",
       "    <tr>\n",
       "      <th>2</th>\n",
       "      <td>root_b</td>\n",
       "      <td>root</td>\n",
       "      <td>0.015081</td>\n",
       "      <td>0.020756</td>\n",
       "      <td>2.750000e-01</td>\n",
       "      <td>market for feldspar</td>\n",
       "      <td>(ecoinvent310clca, d1b241d797d752c6515a7bb3d13...</td>\n",
       "    </tr>\n",
       "    <tr>\n",
       "      <th>3</th>\n",
       "      <td>root_d</td>\n",
       "      <td>root</td>\n",
       "      <td>0.240714</td>\n",
       "      <td>0.331297</td>\n",
       "      <td>1.027700e+00</td>\n",
       "      <td>market group for electricity, high voltage</td>\n",
       "      <td>(ecoinvent310clca, 1e1014b29f9e44d8265fcd8d871...</td>\n",
       "    </tr>\n",
       "    <tr>\n",
       "      <th>4</th>\n",
       "      <td>root_e</td>\n",
       "      <td>root</td>\n",
       "      <td>0.282982</td>\n",
       "      <td>0.389472</td>\n",
       "      <td>4.506667e-01</td>\n",
       "      <td>market group for natural gas, high pressure</td>\n",
       "      <td>(ecoinvent310clca, 1fc2418e39967f8ff8432afc4b6...</td>\n",
       "    </tr>\n",
       "    <tr>\n",
       "      <th>5</th>\n",
       "      <td>root_f</td>\n",
       "      <td>root</td>\n",
       "      <td>0.031445</td>\n",
       "      <td>0.043279</td>\n",
       "      <td>1.250000e-10</td>\n",
       "      <td>packaging glass factory construction</td>\n",
       "      <td>(ecoinvent310clca, d1d37459bfab78d834c25f0a808...</td>\n",
       "    </tr>\n",
       "  </tbody>\n",
       "</table>\n",
       "</div>"
      ],
      "text/plain": [
       "    label parent     score  fraction        amount  \\\n",
       "0    root   None  0.726579  1.000000  1.000000e+00   \n",
       "1  root_a   root  0.145070  0.199662  5.775000e-01   \n",
       "2  root_b   root  0.015081  0.020756  2.750000e-01   \n",
       "3  root_d   root  0.240714  0.331297  1.027700e+00   \n",
       "4  root_e   root  0.282982  0.389472  4.506667e-01   \n",
       "5  root_f   root  0.031445  0.043279  1.250000e-10   \n",
       "\n",
       "                                          name  \\\n",
       "0                porcelain ceramics production   \n",
       "1                            market for kaolin   \n",
       "2                          market for feldspar   \n",
       "3   market group for electricity, high voltage   \n",
       "4  market group for natural gas, high pressure   \n",
       "5         packaging glass factory construction   \n",
       "\n",
       "                                                 key  \n",
       "0        (bw25_db, a1b7153986d8f8387752b14278a0b4c2)  \n",
       "1  (ecoinvent310clca, ab4384f247d3857b5d30e291407...  \n",
       "2  (ecoinvent310clca, d1b241d797d752c6515a7bb3d13...  \n",
       "3  (ecoinvent310clca, 1e1014b29f9e44d8265fcd8d871...  \n",
       "4  (ecoinvent310clca, 1fc2418e39967f8ff8432afc4b6...  \n",
       "5  (ecoinvent310clca, d1d37459bfab78d834c25f0a808...  "
      ]
     },
     "execution_count": 29,
     "metadata": {},
     "output_type": "execute_result"
    }
   ],
   "source": [
    "# Another option is to use the recursive calculation to an object, which returns a DataFrame\n",
    "ceramics_ca_gwp = bwa.utils.recursive_calculation_to_object(ceramics,\n",
    "                                          lcia_method=lcia_gwp100,\n",
    "                                          max_level=1,\n",
    "                                          cutoff=0.02,\n",
    "                                          as_dataframe=True,\n",
    "                                          )\n",
    "ceramics_ca_gwp"
   ]
  },
  {
   "cell_type": "code",
   "execution_count": 30,
   "id": "3075ad93",
   "metadata": {},
   "outputs": [
    {
     "data": {
      "text/html": [
       "<div>\n",
       "<style scoped>\n",
       "    .dataframe tbody tr th:only-of-type {\n",
       "        vertical-align: middle;\n",
       "    }\n",
       "\n",
       "    .dataframe tbody tr th {\n",
       "        vertical-align: top;\n",
       "    }\n",
       "\n",
       "    .dataframe thead th {\n",
       "        text-align: right;\n",
       "    }\n",
       "</style>\n",
       "<table border=\"1\" class=\"dataframe\">\n",
       "  <thead>\n",
       "    <tr style=\"text-align: right;\">\n",
       "      <th></th>\n",
       "      <th></th>\n",
       "      <th>amount</th>\n",
       "    </tr>\n",
       "    <tr>\n",
       "      <th>col_name</th>\n",
       "      <th>row_name</th>\n",
       "      <th></th>\n",
       "    </tr>\n",
       "  </thead>\n",
       "  <tbody>\n",
       "    <tr>\n",
       "      <th>natural gas venting from petroleum/natural gas production</th>\n",
       "      <th>Methane, fossil</th>\n",
       "      <td>0.098833</td>\n",
       "    </tr>\n",
       "    <tr>\n",
       "      <th>electricity production, natural gas, combined cycle power plant</th>\n",
       "      <th>Carbon dioxide, fossil</th>\n",
       "      <td>0.093307</td>\n",
       "    </tr>\n",
       "    <tr>\n",
       "      <th>electricity production, lignite</th>\n",
       "      <th>Carbon dioxide, fossil</th>\n",
       "      <td>0.071315</td>\n",
       "    </tr>\n",
       "    <tr>\n",
       "      <th>heat and power co-generation, natural gas, combined cycle power plant, 400MW electrical</th>\n",
       "      <th>Carbon dioxide, fossil</th>\n",
       "      <td>0.067546</td>\n",
       "    </tr>\n",
       "    <tr>\n",
       "      <th>natural gas, burned in gas turbine</th>\n",
       "      <th>Carbon dioxide, fossil</th>\n",
       "      <td>0.058441</td>\n",
       "    </tr>\n",
       "    <tr>\n",
       "      <th>...</th>\n",
       "      <th>...</th>\n",
       "      <td>...</td>\n",
       "    </tr>\n",
       "    <tr>\n",
       "      <th>hard coal mine operation</th>\n",
       "      <th>Carbon dioxide, fossil</th>\n",
       "      <td>0.000344</td>\n",
       "    </tr>\n",
       "    <tr>\n",
       "      <th>treatment of blast furnace gas, in power plant</th>\n",
       "      <th>Carbon dioxide, fossil</th>\n",
       "      <td>0.000340</td>\n",
       "    </tr>\n",
       "    <tr>\n",
       "      <th>heat production, natural gas, at industrial furnace &gt;100kW</th>\n",
       "      <th>Carbon dioxide, fossil</th>\n",
       "      <td>0.000263</td>\n",
       "    </tr>\n",
       "    <tr>\n",
       "      <th>heat production, light fuel oil, at industrial furnace 1MW</th>\n",
       "      <th>Carbon dioxide, fossil</th>\n",
       "      <td>-0.000394</td>\n",
       "    </tr>\n",
       "    <tr>\n",
       "      <th>sponge iron production</th>\n",
       "      <th>Carbon dioxide, fossil</th>\n",
       "      <td>-0.000519</td>\n",
       "    </tr>\n",
       "  </tbody>\n",
       "</table>\n",
       "<p>72 rows × 1 columns</p>\n",
       "</div>"
      ],
      "text/plain": [
       "                                                                             amount\n",
       "col_name                                           row_name                        \n",
       "natural gas venting from petroleum/natural gas ... Methane, fossil         0.098833\n",
       "electricity production, natural gas, combined c... Carbon dioxide, fossil  0.093307\n",
       "electricity production, lignite                    Carbon dioxide, fossil  0.071315\n",
       "heat and power co-generation, natural gas, comb... Carbon dioxide, fossil  0.067546\n",
       "natural gas, burned in gas turbine                 Carbon dioxide, fossil  0.058441\n",
       "...                                                                             ...\n",
       "hard coal mine operation                           Carbon dioxide, fossil  0.000344\n",
       "treatment of blast furnace gas, in power plant     Carbon dioxide, fossil  0.000340\n",
       "heat production, natural gas, at industrial fur... Carbon dioxide, fossil  0.000263\n",
       "heat production, light fuel oil, at industrial ... Carbon dioxide, fossil -0.000394\n",
       "sponge iron production                             Carbon dioxide, fossil -0.000519\n",
       "\n",
       "[72 rows x 1 columns]"
      ]
     },
     "execution_count": 30,
     "metadata": {},
     "output_type": "execute_result"
    }
   ],
   "source": [
    "# Elementary flows contribution analysis by process\n",
    "ceramics_lca.to_dataframe().pivot_table(index=['col_name', 'row_name'], values='amount', aggfunc='sum').sort_values(by='amount', ascending=False)"
   ]
  },
  {
   "cell_type": "code",
   "execution_count": 31,
   "id": "04718c76",
   "metadata": {},
   "outputs": [
    {
     "data": {
      "text/html": [
       "<div>\n",
       "<style scoped>\n",
       "    .dataframe tbody tr th:only-of-type {\n",
       "        vertical-align: middle;\n",
       "    }\n",
       "\n",
       "    .dataframe tbody tr th {\n",
       "        vertical-align: top;\n",
       "    }\n",
       "\n",
       "    .dataframe thead th {\n",
       "        text-align: right;\n",
       "    }\n",
       "</style>\n",
       "<table border=\"1\" class=\"dataframe\">\n",
       "  <thead>\n",
       "    <tr style=\"text-align: right;\">\n",
       "      <th></th>\n",
       "      <th>amount</th>\n",
       "    </tr>\n",
       "    <tr>\n",
       "      <th>row_name</th>\n",
       "      <th></th>\n",
       "    </tr>\n",
       "  </thead>\n",
       "  <tbody>\n",
       "    <tr>\n",
       "      <th>Carbon dioxide, fossil</th>\n",
       "      <td>0.524682</td>\n",
       "    </tr>\n",
       "    <tr>\n",
       "      <th>Dinitrogen monoxide</th>\n",
       "      <td>0.001086</td>\n",
       "    </tr>\n",
       "    <tr>\n",
       "      <th>Methane, fossil</th>\n",
       "      <td>0.155425</td>\n",
       "    </tr>\n",
       "    <tr>\n",
       "      <th>Trifluoromethane</th>\n",
       "      <td>0.000743</td>\n",
       "    </tr>\n",
       "  </tbody>\n",
       "</table>\n",
       "</div>"
      ],
      "text/plain": [
       "                          amount\n",
       "row_name                        \n",
       "Carbon dioxide, fossil  0.524682\n",
       "Dinitrogen monoxide     0.001086\n",
       "Methane, fossil         0.155425\n",
       "Trifluoromethane        0.000743"
      ]
     },
     "execution_count": 31,
     "metadata": {},
     "output_type": "execute_result"
    }
   ],
   "source": [
    "# Elementary flows contribution analysis as summary table\n",
    "ceramics_lca.to_dataframe().pivot_table(index='row_name',values='amount',aggfunc='sum')"
   ]
  },
  {
   "cell_type": "markdown",
   "id": "65ca78a9",
   "metadata": {},
   "source": [
    "### 7. Plot Contribution analysis graphs"
   ]
  },
  {
   "cell_type": "code",
   "execution_count": 32,
   "id": "d8658a79",
   "metadata": {},
   "outputs": [],
   "source": [
    "# Filter out the parent processes that are not relevant for the contribution analysis\n",
    "ceramics_ca_gwp = ceramics_ca_gwp.dropna(subset='parent') \n",
    "\n"
   ]
  },
  {
   "cell_type": "code",
   "execution_count": 35,
   "id": "2fbec9b8",
   "metadata": {},
   "outputs": [
    {
     "data": {
      "image/png": "[encoded data removed]",
      "text/plain": [
       "<Figure size 600x300 with 1 Axes>"
      ]
     },
     "metadata": {},
     "output_type": "display_data"
    }
   ],
   "source": [
    "f, ax = plt.subplots(figsize=(6, 3))\n",
    "sns.barplot(y='name', x='score', data=ceramics_ca_gwp, ax=ax)\n",
    "ax.set(\n",
    "    title='Contribution analysis of the product under study',\n",
    "    xlabel='CO2 eq. emissions (kg)',\n",
    "    ylabel='')\n",
    "plt.tight_layout()\n",
    "plt.show()\n"
   ]
  }
 ],
 "metadata": {
  "kernelspec": {
   "display_name": "brightway25",
   "language": "python",
   "name": "python3"
  },
  "language_info": {
   "codemirror_mode": {
    "name": "ipython",
    "version": 3
   },
   "file_extension": ".py",
   "mimetype": "text/x-python",
   "name": "python",
   "nbconvert_exporter": "python",
   "pygments_lexer": "ipython3",
   "version": "3.12.11"
  }
 },
 "nbformat": 4,
 "nbformat_minor": 5
}
