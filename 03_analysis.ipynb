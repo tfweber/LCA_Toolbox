{
 "cells": [
  {
   "cell_type": "code",
   "execution_count": null,
   "id": "4c86d140",
   "metadata": {},
   "outputs": [],
   "source": [
    "# This file aims to display some functions regarding Brightway 2.5, to demonstrate what can be done with the software when you have a foreground model matched with ecoinvent's bio- and technosphere."
   ]
  },
  {
   "cell_type": "markdown",
   "id": "c750cf2e",
   "metadata": {},
   "source": [
    "# Analysis"
   ]
  },
  {
   "cell_type": "markdown",
   "id": "b5448288",
   "metadata": {},
   "source": [
    "### 1. Loading the project"
   ]
  },
  {
   "cell_type": "code",
   "execution_count": null,
   "id": "3669ab2c",
   "metadata": {},
   "outputs": [],
   "source": [
    "# basic imports from brightway\n",
    "import bw2analyzer as ba\n",
    "import bw2calc as bc\n",
    "import bw2data as bd\n",
    "import bw2io as bi\n",
    "from bw2io.importers import SingleOutputEcospold2Importer\n",
    "import bw2analyzer as bwa\n",
    "from bw2data import methods\n",
    "\n",
    "# other relevant packages\n",
    "import numpy as np\n",
    "import pandas as pd\n",
    "import matplotlib.pyplot as plt\n",
    "from pathlib import Path\n",
    "import seaborn as sns"
   ]
  },
  {
   "cell_type": "code",
   "execution_count": null,
   "id": "30000da6",
   "metadata": {},
   "outputs": [],
   "source": [
    "# define a project where we install the databases and work in this script\n",
    "bd.projects.set_current('brightway25')"
   ]
  },
  {
   "cell_type": "markdown",
   "id": "5b324b81",
   "metadata": {},
   "source": [
    "### 2. Database overview"
   ]
  },
  {
   "cell_type": "code",
   "execution_count": null,
   "id": "b46e4c34",
   "metadata": {},
   "outputs": [],
   "source": [
    "bd.databases"
   ]
  },
  {
   "cell_type": "code",
   "execution_count": null,
   "id": "78022104",
   "metadata": {},
   "outputs": [],
   "source": [
    "bd.projects.current"
   ]
  },
  {
   "cell_type": "code",
   "execution_count": null,
   "id": "9d616a26",
   "metadata": {},
   "outputs": [],
   "source": [
    "ei_clca = bd.Database('ecoinvent310clca')\n",
    "ei_bio = bd.Database('ecoinvent-3.10-biosphere')\n",
    "db_template = bd.Database('bw25_db')\n",
    "el_bio3 = bd.Database('biosphere3')"
   ]
  },
  {
   "cell_type": "markdown",
   "id": "aca1586a",
   "metadata": {},
   "source": [
    "### 3. Database exploration"
   ]
  },
  {
   "cell_type": "code",
   "execution_count": null,
   "id": "ddaf4b71",
   "metadata": {},
   "outputs": [],
   "source": [
    "db_template.search('ceramics')"
   ]
  },
  {
   "cell_type": "code",
   "execution_count": null,
   "id": "45a4e890",
   "metadata": {},
   "outputs": [],
   "source": [
    "ei_clca.search('ceramics')"
   ]
  },
  {
   "cell_type": "code",
   "execution_count": null,
   "id": "9129ac64",
   "metadata": {},
   "outputs": [],
   "source": [
    "# define a process as object in the project\n",
    "ceramics_bw = db_template.get(name = 'porcelain ceramics production', location = \"RER\", unit = 'kilogram')\n",
    "ceramics_ei = ei_clca.get(name = 'sanitary ceramics production', location = \"CH\", unit = 'kilogram')\n"
   ]
  },
  {
   "cell_type": "code",
   "execution_count": null,
   "id": "d2283e55",
   "metadata": {},
   "outputs": [],
   "source": [
    "# quickly print all exchanges of the process defined above, sorted by amount (large to small)\n",
    "exchanges = sorted(ceramics_bw.exchanges(), key=lambda exc: exc['amount'], reverse=True)\n",
    "for exc in exchanges:\n",
    "    print(exc)"
   ]
  },
  {
   "cell_type": "markdown",
   "id": "6f6d8c1a",
   "metadata": {},
   "source": [
    "### 4. Impact assessment methods"
   ]
  },
  {
   "cell_type": "code",
   "execution_count": null,
   "id": "feffe801",
   "metadata": {},
   "outputs": [],
   "source": [
    "# here we will analyse the set of methods that are available as part of the background\n",
    "list(bd.methods)[:5]"
   ]
  },
  {
   "cell_type": "code",
   "execution_count": null,
   "id": "a00284e0",
   "metadata": {},
   "outputs": [],
   "source": [
    "# printing all methods that contain a specific keyword, e.g. \"climate change\"\n",
    "climate_methods = [m for m in bd.methods if any(\"climate change\" in str(part).lower() for part in m)]\n",
    "for method in climate_methods:\n",
    "    print(method)"
   ]
  },
  {
   "cell_type": "code",
   "execution_count": null,
   "id": "3b0b476b",
   "metadata": {},
   "outputs": [],
   "source": [
    "# selecting the impact assessment methods that we want to use in our analysis\n",
    "lcia_gwp100 = ('EF v3.1', 'climate change', 'global warming potential (GWP100)')\n",
    "lcia_water = ('EF v3.1','water use','user deprivation potential (deprivation-weighted water consumption)')\n",
    "lcia_land = ('EF v3.1', 'land use', 'soil quality index')"
   ]
  },
  {
   "cell_type": "markdown",
   "id": "a68e120e",
   "metadata": {},
   "source": [
    "### 5. LCI "
   ]
  },
  {
   "cell_type": "code",
   "execution_count": null,
   "id": "6166da62",
   "metadata": {},
   "outputs": [],
   "source": [
    "# export the LCI to excel in an overview format\n",
    "bi.export.excel.write_lci_excel(db_template.name,\n",
    "                                objs=[ceramics_bw],\n",
    "                                dirpath=Path.cwd())"
   ]
  },
  {
   "cell_type": "markdown",
   "id": "52d66648",
   "metadata": {},
   "source": [
    "### 6. LCIA"
   ]
  },
  {
   "cell_type": "code",
   "execution_count": null,
   "id": "ca05a284",
   "metadata": {},
   "outputs": [],
   "source": [
    "# Quick LCIA calculation\n",
    "ceramics_bw_lca = ceramics_bw.lca(lcia_gwp100)\n",
    "ceramics_bw_lca.score\n"
   ]
  },
  {
   "cell_type": "code",
   "execution_count": null,
   "id": "a0b8bded",
   "metadata": {},
   "outputs": [],
   "source": [
    "ceramics_ei_lca = ceramics_ei.lca(lcia_gwp100)\n",
    "ceramics_ei_lca.score"
   ]
  },
  {
   "cell_type": "markdown",
   "id": "357aef27",
   "metadata": {},
   "source": [
    "### 7. Contribution analysis"
   ]
  },
  {
   "cell_type": "code",
   "execution_count": null,
   "id": "a49b7b1e",
   "metadata": {},
   "outputs": [],
   "source": [
    "# One option to do a contribution analysis is to use the recursive calculation method\n",
    "bwa.print_recursive_calculation(ceramics_bw,\n",
    "lcia_method=lcia_gwp100,max_level=3,cutoff=0.05)"
   ]
  },
  {
   "cell_type": "code",
   "execution_count": null,
   "id": "185b3405",
   "metadata": {},
   "outputs": [],
   "source": [
    "# Another option is to use the recursive calculation to an object, which returns a DataFrame\n",
    "ceramics_bw_ca = bwa.utils.recursive_calculation_to_object(ceramics_bw,\n",
    "                                          lcia_method=lcia_gwp100,\n",
    "                                          max_level=1,\n",
    "                                          cutoff=0.02,\n",
    "                                          as_dataframe=True,\n",
    "                                          )\n",
    "ceramics_bw_ca"
   ]
  },
  {
   "cell_type": "code",
   "execution_count": null,
   "id": "fa20fc0a",
   "metadata": {},
   "outputs": [],
   "source": [
    "# The goal here is to conduct the same analysis for the ecoinvent process so we can compare the contributions later\n",
    "ceramics_ei_ca = bwa.utils.recursive_calculation_to_object(ceramics_ei,\n",
    "                                          lcia_method=lcia_gwp100,\n",
    "                                          max_level=1,\n",
    "                                          cutoff=0.02,\n",
    "                                          as_dataframe=True,\n",
    "                                          )\n",
    "ceramics_ei_ca"
   ]
  },
  {
   "cell_type": "code",
   "execution_count": null,
   "id": "3075ad93",
   "metadata": {},
   "outputs": [],
   "source": [
    "# Elementary flows contribution analysis by process\n",
    "ceramics_ei_lca.to_dataframe().pivot_table(index=['col_name', 'row_name'], values='amount', aggfunc='sum').sort_values(by='amount', ascending=False)"
   ]
  },
  {
   "cell_type": "code",
   "execution_count": null,
   "id": "04718c76",
   "metadata": {},
   "outputs": [],
   "source": [
    "# Elementary flows contribution analysis as summary table\n",
    "ceramics_ei_lca.to_dataframe().pivot_table(index='row_name',values='amount',aggfunc='sum')"
   ]
  },
  {
   "cell_type": "markdown",
   "id": "65ca78a9",
   "metadata": {},
   "source": [
    "### 8. Plot Contribution analysis graphs"
   ]
  },
  {
   "cell_type": "code",
   "execution_count": null,
   "id": "d8658a79",
   "metadata": {},
   "outputs": [],
   "source": [
    "# Filter out the parent processes that are not relevant for the contribution analysis\n",
    "ceramics_bw_ca = ceramics_bw_ca.dropna(subset='parent') \n",
    "ceramics_ei_ca = ceramics_ei_ca.dropna(subset='parent')\n",
    "\n"
   ]
  },
  {
   "cell_type": "code",
   "execution_count": null,
   "id": "2fbec9b8",
   "metadata": {},
   "outputs": [],
   "source": [
    "# First, we plot the contribution analysis for the brigthway ceramics production process\n",
    "f, ax = plt.subplots(figsize=(6, 3))\n",
    "sns.barplot(y='name', x='score', data=ceramics_bw_ca, ax=ax)\n",
    "ax.set(\n",
    "    title='Contribution analysis of the product under study',\n",
    "    xlabel='CO2 eq. emissions (kg)',\n",
    "    ylabel='')\n",
    "plt.tight_layout()\n",
    "plt.show()\n"
   ]
  },
  {
   "cell_type": "code",
   "execution_count": null,
   "id": "d5135d1e",
   "metadata": {},
   "outputs": [],
   "source": [
    "# Then, we plot the same for the ecoinvent ceramics production process\n",
    "f, ax = plt.subplots(figsize=(6, 3))\n",
    "sns.barplot(y='name', x='score', data=ceramics_ei_ca, ax=ax)\n",
    "ax.set(\n",
    "    title='Contribution analysis of the product under study',\n",
    "    xlabel='CO2 eq. emissions (kg)',\n",
    "    ylabel='')\n",
    "plt.tight_layout()\n",
    "plt.show()\n"
   ]
  },
  {
   "cell_type": "markdown",
   "id": "80ed83fb",
   "metadata": {},
   "source": [
    "### 9. Comparison"
   ]
  },
  {
   "cell_type": "code",
   "execution_count": 42,
   "id": "414bdf37",
   "metadata": {},
   "outputs": [
    {
     "data": {
      "text/plain": [
       "activity     contributor                                         \n",
       "ceramics_bw  market for kaolin                                       0.145070\n",
       "             market for feldspar                                     0.015081\n",
       "             market group for electricity, high voltage              0.240714\n",
       "             market group for natural gas, high pressure             0.282982\n",
       "             packaging glass factory construction                    0.031445\n",
       "ceramics_ei  ceramic factory construction                            0.096369\n",
       "             market for electricity, medium voltage                  0.188177\n",
       "             market for heat, district or industrial, natural gas    2.730413\n",
       "             market for kaolin                                       0.111534\n",
       "Name: score, dtype: float64"
      ]
     },
     "execution_count": 42,
     "metadata": {},
     "output_type": "execute_result"
    }
   ],
   "source": [
    "combined_df = pd.concat([ceramics_bw_ca.set_index('name').score,ceramics_ei_ca.set_index('name').score],\n",
    "                        keys=['ceramics_bw','ceramics_ei'],\n",
    "                        names=['activity','contributor'])\n",
    "combined_df"
   ]
  },
  {
   "cell_type": "code",
   "execution_count": 45,
   "id": "2f4a8b06",
   "metadata": {},
   "outputs": [
    {
     "data": {
      "image/png": "[encoded data removed]",
      "text/plain": [
       "<Figure size 1000x600 with 1 Axes>"
      ]
     },
     "metadata": {},
     "output_type": "display_data"
    }
   ],
   "source": [
    "ax = combined_df.unstack().plot.barh(\n",
    "    stacked=True,\n",
    "    title='Main contributors to global warming',\n",
    "    xlabel='kg CO2eq',\n",
    "    figsize=(10,6)\n",
    ")\n",
    "\n",
    "plt.legend(bbox_to_anchor=(1.05, 1), loc='upper left')  # moves legend outside\n",
    "plt.tight_layout()\n",
    "plt.show()"
   ]
  }
 ],
 "metadata": {
  "kernelspec": {
   "display_name": "brightway25",
   "language": "python",
   "name": "python3"
  },
  "language_info": {
   "codemirror_mode": {
    "name": "ipython",
    "version": 3
   },
   "file_extension": ".py",
   "mimetype": "text/x-python",
   "name": "python",
   "nbconvert_exporter": "python",
   "pygments_lexer": "ipython3",
   "version": "3.12.11"
  }
 },
 "nbformat": 4,
 "nbformat_minor": 5
}
