{
 "cells": [
  {
   "cell_type": "code",
   "execution_count": null,
   "id": "4c86d140",
   "metadata": {},
   "outputs": [],
   "source": [
    "# This file aims to display some functions regarding Brightway 2.5, to demonstrate what can be done with the software when you have a foreground model matched with ecoinvent's bio- and technosphere."
   ]
  },
  {
   "cell_type": "markdown",
   "id": "c750cf2e",
   "metadata": {},
   "source": [
    "# Analysis"
   ]
  },
  {
   "cell_type": "markdown",
   "id": "b5448288",
   "metadata": {},
   "source": [
    "### 1. Loading the project"
   ]
  },
  {
   "cell_type": "code",
   "execution_count": null,
   "id": "3669ab2c",
   "metadata": {},
   "outputs": [],
   "source": [
    "# basic imports from brightway\n",
    "import bw2analyzer as ba\n",
    "import bw2calc as bc\n",
    "import bw2data as bd\n",
    "import bw2io as bi\n",
    "from bw2io.importers import SingleOutputEcospold2Importer\n",
    "import bw2analyzer as bwa\n",
    "from bw2data import methods\n",
    "\n",
    "# other relevant packages\n",
    "import numpy as np\n",
    "import pandas as pd\n",
    "import matplotlib.pyplot as plt\n",
    "from pathlib import Path\n",
    "import seaborn as sns"
   ]
  },
  {
   "cell_type": "code",
   "execution_count": null,
   "id": "30000da6",
   "metadata": {},
   "outputs": [],
   "source": [
    "# define a project where we install the databases and work in this script\n",
    "bd.projects.set_current('brightway25')"
   ]
  },
  {
   "cell_type": "markdown",
   "id": "5b324b81",
   "metadata": {},
   "source": [
    "### 2. Database overview"
   ]
  },
  {
   "cell_type": "code",
   "execution_count": null,
   "id": "b46e4c34",
   "metadata": {},
   "outputs": [],
   "source": [
    "bd.databases"
   ]
  },
  {
   "cell_type": "code",
   "execution_count": null,
   "id": "78022104",
   "metadata": {},
   "outputs": [],
   "source": [
    "bd.projects.current"
   ]
  },
  {
   "cell_type": "code",
   "execution_count": null,
   "id": "9d616a26",
   "metadata": {},
   "outputs": [],
   "source": [
    "ei_clca = bd.Database('ecoinvent310clca')\n",
    "ei_bio = bd.Database('ecoinvent-3.10-biosphere')\n",
    "db_template = bd.Database('bw25_db')\n",
    "el_bio3 = bd.Database('biosphere3')"
   ]
  },
  {
   "cell_type": "markdown",
   "id": "aca1586a",
   "metadata": {},
   "source": [
    "### 3. Database exploration"
   ]
  },
  {
   "cell_type": "code",
   "execution_count": null,
   "id": "ddaf4b71",
   "metadata": {},
   "outputs": [],
   "source": [
    "db_template.search('ceramics')"
   ]
  },
  {
   "cell_type": "code",
   "execution_count": null,
   "id": "45a4e890",
   "metadata": {},
   "outputs": [],
   "source": [
    "ei_clca.search('market group for electricity GLO')"
   ]
  },
  {
   "cell_type": "code",
   "execution_count": null,
   "id": "9129ac64",
   "metadata": {},
   "outputs": [],
   "source": [
    "# define a process as object in the project\n",
    "ceramics = db_template.get(name = 'porcelain ceramics production', location = \"RER\", unit = 'kilogram')\n"
   ]
  },
  {
   "cell_type": "code",
   "execution_count": null,
   "id": "d2283e55",
   "metadata": {},
   "outputs": [],
   "source": [
    "# quickly print all exchanges of the process defined above\n",
    "for exc in ceramics.exchanges():\n",
    "    print(exc)"
   ]
  },
  {
   "cell_type": "markdown",
   "id": "6f6d8c1a",
   "metadata": {},
   "source": [
    "### 4. Impact assessment methods"
   ]
  },
  {
   "cell_type": "code",
   "execution_count": null,
   "id": "feffe801",
   "metadata": {},
   "outputs": [],
   "source": [
    "# here we will analyse the set of methods that are available as part of the background\n",
    "list(bd.methods)[:5]"
   ]
  },
  {
   "cell_type": "code",
   "execution_count": null,
   "id": "a00284e0",
   "metadata": {},
   "outputs": [],
   "source": [
    "# printing all methods that contain a specific keyword, e.g. \"climate change\"\n",
    "climate_methods = [m for m in bd.methods if any(\"climate change\" in str(part).lower() for part in m)]\n",
    "for method in climate_methods:\n",
    "    print(method)"
   ]
  },
  {
   "cell_type": "code",
   "execution_count": null,
   "id": "3b0b476b",
   "metadata": {},
   "outputs": [],
   "source": [
    "# selecting the impact assessment methods that we want to use in our analysis\n",
    "lcia_gwp100 = ('EF v3.1', 'climate change', 'global warming potential (GWP100)')\n",
    "lcia_water = ('EF v3.1','water use','user deprivation potential (deprivation-weighted water consumption)')\n",
    "lcia_land = ('EF v3.1', 'land use', 'soil quality index')"
   ]
  },
  {
   "cell_type": "markdown",
   "id": "a68e120e",
   "metadata": {},
   "source": [
    "### 4. LCI "
   ]
  },
  {
   "cell_type": "code",
   "execution_count": null,
   "id": "6166da62",
   "metadata": {},
   "outputs": [],
   "source": [
    "# export the LCI to e\n",
    "bi.export.excel.write_lci_excel(db_template.name,\n",
    "                                objs=[ceramics],\n",
    "                                dirpath=Path.cwd())"
   ]
  },
  {
   "cell_type": "markdown",
   "id": "52d66648",
   "metadata": {},
   "source": [
    "### 5. LCIA"
   ]
  },
  {
   "cell_type": "code",
   "execution_count": null,
   "id": "ca05a284",
   "metadata": {},
   "outputs": [],
   "source": [
    "# Quick LCIA calculation\n",
    "ceramics_lca = ceramics.lca(lcia_gwp100)\n",
    "ceramics_lca.score\n"
   ]
  },
  {
   "cell_type": "markdown",
   "id": "357aef27",
   "metadata": {},
   "source": [
    "### 6. Contribution analysis"
   ]
  },
  {
   "cell_type": "code",
   "execution_count": null,
   "id": "a49b7b1e",
   "metadata": {},
   "outputs": [],
   "source": [
    "# One option to do a contribution analysis is to use the recursive calculation method\n",
    "bwa.print_recursive_calculation(ceramics,\n",
    "lcia_method=lcia_gwp100,max_level=3,cutoff=0.05)"
   ]
  },
  {
   "cell_type": "code",
   "execution_count": null,
   "id": "185b3405",
   "metadata": {},
   "outputs": [],
   "source": [
    "# Another option is to use the recursive calculation to an object, which returns a DataFrame\n",
    "ceramics_ca_gwp = bwa.utils.recursive_calculation_to_object(ceramics,\n",
    "                                          lcia_method=lcia_gwp100,\n",
    "                                          max_level=1,\n",
    "                                          cutoff=0.02,\n",
    "                                          as_dataframe=True,\n",
    "                                          )\n",
    "ceramics_ca_gwp"
   ]
  },
  {
   "cell_type": "code",
   "execution_count": null,
   "id": "3075ad93",
   "metadata": {},
   "outputs": [],
   "source": [
    "# Elementary flows contribution analysis by process\n",
    "ceramics_lca.to_dataframe().pivot_table(index=['col_name', 'row_name'], values='amount', aggfunc='sum').sort_values(by='amount', ascending=False)"
   ]
  },
  {
   "cell_type": "code",
   "execution_count": null,
   "id": "04718c76",
   "metadata": {},
   "outputs": [],
   "source": [
    "# Elementary flows contribution analysis as summary table\n",
    "ceramics_lca.to_dataframe().pivot_table(index='row_name',values='amount',aggfunc='sum')"
   ]
  },
  {
   "cell_type": "markdown",
   "id": "65ca78a9",
   "metadata": {},
   "source": [
    "### 7. Plot Contribution analysis graphs"
   ]
  },
  {
   "cell_type": "code",
   "execution_count": null,
   "id": "d8658a79",
   "metadata": {},
   "outputs": [],
   "source": [
    "# Filter out the parent processes that are not relevant for the contribution analysis\n",
    "ceramics_ca_gwp = ceramics_ca_gwp.dropna(subset='parent') \n",
    "\n"
   ]
  },
  {
   "cell_type": "code",
   "execution_count": null,
   "id": "2fbec9b8",
   "metadata": {},
   "outputs": [],
   "source": [
    "f, ax = plt.subplots(figsize=(6, 3))\n",
    "sns.barplot(y='name', x='score', data=ceramics_ca_gwp, ax=ax)\n",
    "ax.set(\n",
    "    title='Contribution analysis of the product under study',\n",
    "    xlabel='CO2 eq. emissions (kg)',\n",
    "    ylabel='')\n",
    "plt.tight_layout()\n",
    "plt.show()\n"
   ]
  }
 ],
 "metadata": {
  "kernelspec": {
   "display_name": "brightway25",
   "language": "python",
   "name": "python3"
  },
  "language_info": {
   "codemirror_mode": {
    "name": "ipython",
    "version": 3
   },
   "file_extension": ".py",
   "mimetype": "text/x-python",
   "name": "python",
   "nbconvert_exporter": "python",
   "pygments_lexer": "ipython3",
   "version": "3.12.11"
  }
 },
 "nbformat": 4,
 "nbformat_minor": 5
}
