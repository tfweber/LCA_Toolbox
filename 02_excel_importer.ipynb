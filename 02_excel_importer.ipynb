{
 "cells": [
  {
   "cell_type": "code",
   "execution_count": null,
   "id": "4c5cdf83",
   "metadata": {},
   "outputs": [],
   "source": [
    "# This file imports an EXCEL model (here template example from BW25 sharepoint folder) and matches it with the background database in the project. For this repository we are currently working with ecoinvent310clca\n",
    "\n",
    "# After successfully importing a database to a Brightway project, the database is stored in the project and doesn't have to be imported every time we open the repository. Unless we make changes to the background database of course"
   ]
  },
  {
   "cell_type": "markdown",
   "id": "d4eda904",
   "metadata": {},
   "source": [
    "# EXCEL Model importer"
   ]
  },
  {
   "cell_type": "markdown",
   "id": "a1bbd74e",
   "metadata": {},
   "source": [
    "#### 1. Import packages"
   ]
  },
  {
   "cell_type": "code",
   "execution_count": 4,
   "id": "570df8b9",
   "metadata": {},
   "outputs": [
    {
     "name": "stdout",
     "output_type": "stream",
     "text": [
      "12:31:27+0200 [warning  ] Can't import `SimaProBlockCSVImporter` - please install `bw2io` with `pip install bw2io[multifunctional]` or install `multifunctional` and `bw_simapro_csv` manually.\n"
     ]
    }
   ],
   "source": [
    "# basic imports from brightway\n",
    "import bw2analyzer as ba\n",
    "import bw2calc as bc\n",
    "import bw2data as bd\n",
    "from bw2data import databases\n",
    "import bw2io as bi\n",
    "from bw2io import ExcelImporter\n",
    "from bw2io.importers import SingleOutputEcospold2Importer\n",
    "import bw2analyzer as bwa\n",
    "from bw2data import methods\n",
    "import argparse\n",
    "import bw2data as bd\n",
    "\n",
    "# other relevant packages\n",
    "import numpy as np\n",
    "import pandas as pd\n",
    "import matplotlib.pyplot as plt\n",
    "from pathlib import Path"
   ]
  },
  {
   "cell_type": "markdown",
   "id": "4edefd78",
   "metadata": {},
   "source": [
    "#### 2. Set project and see databases"
   ]
  },
  {
   "cell_type": "code",
   "execution_count": 5,
   "id": "97ab9d3b",
   "metadata": {},
   "outputs": [],
   "source": [
    "# define a project where we install the databases and work in this script\n",
    "bd.projects.set_current('brightway25')"
   ]
  },
  {
   "cell_type": "code",
   "execution_count": 6,
   "id": "d72656cc",
   "metadata": {},
   "outputs": [
    {
     "data": {
      "text/plain": [
       "Databases dictionary with 4 object(s):\n",
       "\tbiosphere3\n",
       "\tbw25_db\n",
       "\tecoinvent-3.10-biosphere\n",
       "\tecoinvent310clca"
      ]
     },
     "execution_count": 6,
     "metadata": {},
     "output_type": "execute_result"
    }
   ],
   "source": [
    "bd.databases"
   ]
  },
  {
   "cell_type": "code",
   "execution_count": 7,
   "id": "9bf969b7",
   "metadata": {},
   "outputs": [],
   "source": [
    "ei_clca = bd.Database('ecoinvent310clca')\n",
    "ei_bio = bd.Database('ecoinvent-3.10-biosphere')\n",
    "db_template = bd.Database('bw25_db')\n",
    "el_bio3 = bd.Database('biosphere3')"
   ]
  },
  {
   "cell_type": "markdown",
   "id": "743c6c64",
   "metadata": {},
   "source": [
    "#### 3. Import the EXCEL file containing the model "
   ]
  },
  {
   "cell_type": "code",
   "execution_count": 8,
   "id": "45dab468",
   "metadata": {},
   "outputs": [
    {
     "name": "stdout",
     "output_type": "stream",
     "text": [
      "Extracted 1 worksheets in 0.05 seconds\n"
     ]
    }
   ],
   "source": [
    "excel_db = bi.ExcelImporter(\"C:\\\\Users\\\\TimWeber\\\\OneDrive - 2.-0 LCA Consultants ApS\\\\Intranet - Brightway2\\\\excel_model_example\\\\bw25_model_example.xlsx\")"
   ]
  },
  {
   "cell_type": "markdown",
   "id": "77582f2d",
   "metadata": {},
   "source": [
    "#### 4. Importing means matching with background databases and writing the database"
   ]
  },
  {
   "cell_type": "code",
   "execution_count": 9,
   "id": "8aaf00e7",
   "metadata": {},
   "outputs": [
    {
     "name": "stdout",
     "output_type": "stream",
     "text": [
      "Applying strategy: csv_restore_tuples\n",
      "Applying strategy: csv_restore_booleans\n",
      "Applying strategy: csv_numerize\n",
      "Applying strategy: csv_drop_unknown\n",
      "Applying strategy: csv_add_missing_exchanges_section\n",
      "Applying strategy: normalize_units\n",
      "Applying strategy: normalize_biosphere_categories\n",
      "Applying strategy: normalize_biosphere_names\n",
      "Applying strategy: strip_biosphere_exc_locations\n",
      "Applying strategy: set_code_by_activity_hash\n",
      "Applying strategy: link_iterable_by_fields\n",
      "Applying strategy: assign_only_product_as_production\n",
      "Applying strategy: link_technosphere_by_activity_hash\n",
      "Applying strategy: drop_falsey_uncertainty_fields_but_keep_zeros\n",
      "Applying strategy: convert_uncertainty_types_to_integers\n",
      "Applying strategy: convert_activity_parameters_to_list\n",
      "Applied 16 strategies in 0.65 seconds\n"
     ]
    }
   ],
   "source": [
    "excel_db.apply_strategies()"
   ]
  },
  {
   "cell_type": "code",
   "execution_count": 10,
   "id": "a4023446",
   "metadata": {},
   "outputs": [
    {
     "name": "stdout",
     "output_type": "stream",
     "text": [
      "Applying strategy: link_iterable_by_fields\n"
     ]
    }
   ],
   "source": [
    "excel_db.match_database(fields=['name','location'])"
   ]
  },
  {
   "cell_type": "code",
   "execution_count": 11,
   "id": "3ed4559f",
   "metadata": {},
   "outputs": [
    {
     "name": "stdout",
     "output_type": "stream",
     "text": [
      "Applying strategy: link_iterable_by_fields\n"
     ]
    }
   ],
   "source": [
    "excel_db.match_database(db_name='ecoinvent310clca',\n",
    "                        fields=['name','location','unit'])"
   ]
  },
  {
   "cell_type": "code",
   "execution_count": 12,
   "id": "56ad6141",
   "metadata": {},
   "outputs": [
    {
     "name": "stdout",
     "output_type": "stream",
     "text": [
      "Applying strategy: link_iterable_by_fields\n"
     ]
    }
   ],
   "source": [
    "excel_db.match_database(db_name='ecoinvent-3.10-biosphere',\n",
    "                        fields=['name','categories','unit'])"
   ]
  },
  {
   "cell_type": "code",
   "execution_count": 13,
   "id": "8053630c",
   "metadata": {},
   "outputs": [
    {
     "name": "stdout",
     "output_type": "stream",
     "text": [
      "Applying strategy: link_iterable_by_fields\n"
     ]
    }
   ],
   "source": [
    "excel_db.match_database(db_name='biosphere3',\n",
    "                        fields=['name','categories','unit'])"
   ]
  },
  {
   "cell_type": "code",
   "execution_count": 14,
   "id": "349fd661",
   "metadata": {},
   "outputs": [
    {
     "data": {
      "text/html": [
       "<div>\n",
       "<style scoped>\n",
       "    .dataframe tbody tr th:only-of-type {\n",
       "        vertical-align: middle;\n",
       "    }\n",
       "\n",
       "    .dataframe tbody tr th {\n",
       "        vertical-align: top;\n",
       "    }\n",
       "\n",
       "    .dataframe thead th {\n",
       "        text-align: right;\n",
       "    }\n",
       "</style>\n",
       "<table border=\"1\" class=\"dataframe\">\n",
       "  <thead>\n",
       "    <tr style=\"text-align: right;\">\n",
       "      <th></th>\n",
       "    </tr>\n",
       "  </thead>\n",
       "  <tbody>\n",
       "  </tbody>\n",
       "</table>\n",
       "</div>"
      ],
      "text/plain": [
       "Empty DataFrame\n",
       "Columns: []\n",
       "Index: []"
      ]
     },
     "execution_count": 14,
     "metadata": {},
     "output_type": "execute_result"
    }
   ],
   "source": [
    "# check foreground imports for unlinked processes\n",
    "pd.DataFrame(excel_db.unlinked)"
   ]
  },
  {
   "cell_type": "code",
   "execution_count": 15,
   "id": "5662d7b2",
   "metadata": {},
   "outputs": [
    {
     "name": "stdout",
     "output_type": "stream",
     "text": [
      "12:31:32+0200"
     ]
    },
    {
     "name": "stdout",
     "output_type": "stream",
     "text": [
      " [warning  ] Not able to determine geocollections for all datasets. This database is not ready for regionalization.\n"
     ]
    },
    {
     "name": "stderr",
     "output_type": "stream",
     "text": [
      "100%|██████████| 1/1 [00:00<00:00, 313.64it/s]\n"
     ]
    },
    {
     "name": "stdout",
     "output_type": "stream",
     "text": [
      "12:31:33+0200 [info     ] Vacuuming database            \n",
      "Created database: bw25_db\n"
     ]
    }
   ],
   "source": [
    "excel_db.write_database()"
   ]
  },
  {
   "cell_type": "code",
   "execution_count": 16,
   "id": "2d8a98e3",
   "metadata": {},
   "outputs": [
    {
     "data": {
      "text/plain": [
       "[]"
      ]
     },
     "execution_count": 16,
     "metadata": {},
     "output_type": "execute_result"
    }
   ],
   "source": [
    "# if there are unlinked exchanges, this helps localizing them in order to fix them\n",
    "list(excel_db.unlinked)\n"
   ]
  },
  {
   "cell_type": "markdown",
   "id": "0ba49287",
   "metadata": {},
   "source": [
    "#### 5. Store data in a dataframe so it can be analysed in Brightway 2.5"
   ]
  },
  {
   "cell_type": "code",
   "execution_count": 17,
   "id": "159c0adb",
   "metadata": {},
   "outputs": [],
   "source": [
    "data_db_template = [activity.as_dict() for activity in db_template]\n"
   ]
  },
  {
   "cell_type": "code",
   "execution_count": 18,
   "id": "53b57810",
   "metadata": {},
   "outputs": [],
   "source": [
    "df_db_template = pd.DataFrame(data_db_template)\n"
   ]
  },
  {
   "cell_type": "code",
   "execution_count": 19,
   "id": "507072d0",
   "metadata": {},
   "outputs": [
    {
     "data": {
      "text/html": [
       "<div>\n",
       "<style scoped>\n",
       "    .dataframe tbody tr th:only-of-type {\n",
       "        vertical-align: middle;\n",
       "    }\n",
       "\n",
       "    .dataframe tbody tr th {\n",
       "        vertical-align: top;\n",
       "    }\n",
       "\n",
       "    .dataframe thead th {\n",
       "        text-align: right;\n",
       "    }\n",
       "</style>\n",
       "<table border=\"1\" class=\"dataframe\">\n",
       "  <thead>\n",
       "    <tr style=\"text-align: right;\">\n",
       "      <th></th>\n",
       "      <th>comment</th>\n",
       "      <th>location</th>\n",
       "      <th>production amount</th>\n",
       "      <th>reference product</th>\n",
       "      <th>unit</th>\n",
       "      <th>name</th>\n",
       "      <th>worksheet name</th>\n",
       "      <th>database</th>\n",
       "      <th>code</th>\n",
       "      <th>type</th>\n",
       "      <th>id</th>\n",
       "    </tr>\n",
       "  </thead>\n",
       "  <tbody>\n",
       "    <tr>\n",
       "      <th>0</th>\n",
       "      <td>This dataset represents production of porcelai...</td>\n",
       "      <td>RER</td>\n",
       "      <td>1</td>\n",
       "      <td>porcelain ceramics production</td>\n",
       "      <td>kilogram</td>\n",
       "      <td>porcelain ceramics production</td>\n",
       "      <td>LCI</td>\n",
       "      <td>bw25_db</td>\n",
       "      <td>a1b7153986d8f8387752b14278a0b4c2</td>\n",
       "      <td>processwithreferenceproduct</td>\n",
       "      <td>218678817873801216</td>\n",
       "    </tr>\n",
       "  </tbody>\n",
       "</table>\n",
       "</div>"
      ],
      "text/plain": [
       "                                             comment location  \\\n",
       "0  This dataset represents production of porcelai...      RER   \n",
       "\n",
       "   production amount              reference product      unit  \\\n",
       "0                  1  porcelain ceramics production  kilogram   \n",
       "\n",
       "                            name worksheet name database  \\\n",
       "0  porcelain ceramics production            LCI  bw25_db   \n",
       "\n",
       "                               code                         type  \\\n",
       "0  a1b7153986d8f8387752b14278a0b4c2  processwithreferenceproduct   \n",
       "\n",
       "                   id  \n",
       "0  218678817873801216  "
      ]
     },
     "metadata": {},
     "output_type": "display_data"
    }
   ],
   "source": [
    "from IPython.display import display\n",
    "display(df_db_template)"
   ]
  },
  {
   "cell_type": "code",
   "execution_count": 20,
   "id": "7d25e612",
   "metadata": {},
   "outputs": [
    {
     "name": "stdout",
     "output_type": "stream",
     "text": [
      "Extra activities (no matching products): set()\n",
      "Extra products (no matching activities): set()\n"
     ]
    }
   ],
   "source": [
    "# Get all activities and products\n",
    "activities = set(db_template)  # All activities in the database\n",
    "\n",
    "# Get all products linked via production exchanges\n",
    "products = set([\n",
    "    exc.input for act in db_template\n",
    "    for exc in act.exchanges() if exc.input == act.key\n",
    "])\n",
    "\n",
    "# Identify mismatches\n",
    "extra_activities = activities - products\n",
    "extra_products = products - activities\n",
    "\n",
    "print(\"Extra activities (no matching products):\", extra_activities)\n",
    "print(\"Extra products (no matching activities):\", extra_products)"
   ]
  },
  {
   "cell_type": "code",
   "execution_count": 21,
   "id": "fef2a891",
   "metadata": {},
   "outputs": [
    {
     "name": "stdout",
     "output_type": "stream",
     "text": [
      "'porcelain ceramics production' (kilogram, RER, None)\n"
     ]
    }
   ],
   "source": [
    "# what also works to show all activities in a database is the following\n",
    "for act in db_template:\n",
    "    print(act)"
   ]
  }
 ],
 "metadata": {
  "kernelspec": {
   "display_name": "brightway25",
   "language": "python",
   "name": "python3"
  },
  "language_info": {
   "codemirror_mode": {
    "name": "ipython",
    "version": 3
   },
   "file_extension": ".py",
   "mimetype": "text/x-python",
   "name": "python",
   "nbconvert_exporter": "python",
   "pygments_lexer": "ipython3",
   "version": "3.12.11"
  }
 },
 "nbformat": 4,
 "nbformat_minor": 5
}
