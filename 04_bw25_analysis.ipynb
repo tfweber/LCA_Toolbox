{
 "cells": [
  {
   "cell_type": "markdown",
   "id": "c750cf2e",
   "metadata": {},
   "source": [
    "READ.ME\n",
    "\n",
    "This file helps you explore the functions of Brightway 2.5 in an intuitive way. So far, we have linked a background database with a simple foreground model in the previous sections of this repository.\n",
    "\n",
    "It is not a tutorial to go through, but a collection of usable code which you can adapt for your own projects. The goal is to make Brightway 2.5 easy to use for your own projects. Any contribution to this overview is welcome.\n",
    "\n",
    "\n",
    "# Analysis\n",
    "\n",
    "Before analyzing a Brightway model, ensure all required packages, databases, and projects are installed. These have already been set up in other scripts in this repository, so we can call them directly from the project folder stored in Brightway without re-importing or re-matching background databases.\n",
    "\n",
    "### 1. Loading the project\n",
    "\n",
    "This section loads the necessary packages and project (defined earlier in 01_ecoinvent and 02_excel_importer). Here, the focus is on Brightway’s analysis tools."
   ]
  },
  {
   "cell_type": "code",
   "execution_count": 49,
   "id": "3669ab2c",
   "metadata": {},
   "outputs": [],
   "source": [
    "# basic packages from brightway\n",
    "import bw2analyzer as ba\n",
    "import bw2calc as bc\n",
    "import bw2data as bd\n",
    "import bw2io as bi\n",
    "from bw2io.importers import SingleOutputEcospold2Importer\n",
    "import bw2analyzer as bwa\n",
    "from bw2data import methods\n",
    "\n",
    "# other relevant packages\n",
    "import numpy as np\n",
    "import pandas as pd\n",
    "import matplotlib.pyplot as plt\n",
    "from pathlib import Path\n",
    "import seaborn as sns"
   ]
  },
  {
   "cell_type": "code",
   "execution_count": 50,
   "id": "30000da6",
   "metadata": {},
   "outputs": [],
   "source": [
    "# call the project we want to work in, in this case brightway25 where we have set up the databases\n",
    "bd.projects.set_current('LCA_Toolbox')"
   ]
  },
  {
   "cell_type": "markdown",
   "id": "5b324b81",
   "metadata": {},
   "source": [
    "### 2. Database overview\n",
    "\n",
    "This section provides an overview of the background and foreground databases stored in the Brightway project."
   ]
  },
  {
   "cell_type": "code",
   "execution_count": 51,
   "id": "b46e4c34",
   "metadata": {},
   "outputs": [
    {
     "data": {
      "text/plain": [
       "Databases dictionary with 4 object(s):\n",
       "\tbiosphere3\n",
       "\tbw25_db\n",
       "\tecoinvent-3.10-biosphere\n",
       "\tecoinvent310clca"
      ]
     },
     "execution_count": 51,
     "metadata": {},
     "output_type": "execute_result"
    }
   ],
   "source": [
    "bd.databases"
   ]
  },
  {
   "cell_type": "code",
   "execution_count": 52,
   "id": "78022104",
   "metadata": {},
   "outputs": [
    {
     "data": {
      "text/plain": [
       "'LCA_Toolbox'"
      ]
     },
     "execution_count": 52,
     "metadata": {},
     "output_type": "execute_result"
    }
   ],
   "source": [
    "bd.projects.current"
   ]
  },
  {
   "cell_type": "code",
   "execution_count": 53,
   "id": "9d616a26",
   "metadata": {},
   "outputs": [],
   "source": [
    "ei_clca = bd.Database('ecoinvent310clca')\n",
    "ei_bio = bd.Database('ecoinvent-3.10-biosphere')\n",
    "db_template = bd.Database('bw25_db')\n",
    "el_bio3 = bd.Database('biosphere3')"
   ]
  },
  {
   "cell_type": "markdown",
   "id": "aca1586a",
   "metadata": {},
   "source": [
    "### 3. Database exploration\n",
    "\n",
    "The functionalities described through the code below show how the databases can be searched and how individual activities can be extracted and studied."
   ]
  },
  {
   "cell_type": "code",
   "execution_count": 54,
   "id": "ddaf4b71",
   "metadata": {},
   "outputs": [
    {
     "data": {
      "text/plain": [
       "['porcelain ceramics production' (kilogram, RER, None)]"
      ]
     },
     "execution_count": 54,
     "metadata": {},
     "output_type": "execute_result"
    }
   ],
   "source": [
    "# search for activities in the database\n",
    "db_template.search('ceramics')"
   ]
  },
  {
   "cell_type": "code",
   "execution_count": 80,
   "id": "45a4e890",
   "metadata": {},
   "outputs": [
    {
     "data": {
      "text/plain": [
       "['welding, arc, steel' (meter, RoW, None),\n",
       " 'welding, arc, steel' (meter, RER, None),\n",
       " 'welding, arc, aluminium' (meter, RER, None),\n",
       " 'welding, arc, aluminium' (meter, RoW, None),\n",
       " 'market for welding, arc, steel' (meter, GLO, None),\n",
       " 'market for welding, arc, aluminium' (meter, GLO, None),\n",
       " 'welding, gas, steel' (meter, RER, None),\n",
       " 'welding, gas, steel' (meter, RoW, None),\n",
       " 'market for welding, gas, steel' (meter, GLO, None),\n",
       " 'welding, arc, aluminium' (meter, CA-QC, None),\n",
       " 'market for helium' (kilogram, GLO, None),\n",
       " 'market for titania slag, 85% titanium dioxide' (kilogram, GLO, None),\n",
       " 'market for helium, crude stockpiling' (kilogram, GLO, None),\n",
       " 'market for helium, crude' (kilogram, GLO, None),\n",
       " 'ferry production' (unit, GLO, None),\n",
       " 'container ship production' (unit, GLO, None),\n",
       " 'tanker production, for petroleum' (unit, GLO, None),\n",
       " 'bulk carrier production, for dry goods' (unit, GLO, None),\n",
       " 'tanker production, for liquefied natural gas' (unit, GLO, None),\n",
       " 'tanker production, for liquid goods other than petroleum and liquefied natural gas' (unit, GLO, None),\n",
       " 'market for lithium fluoride' (kilogram, GLO, None),\n",
       " 'market for methylcyclohexane' (kilogram, GLO, None),\n",
       " 'treatment of spent nuclear fuel, conditioning' (kilogram, RoW, None),\n",
       " 'treatment of spent nuclear fuel, conditioning' (kilogram, CH, None),\n",
       " 'treatment of spent nuclear fuel, conditioning' (kilogram, CN, None)]"
      ]
     },
     "execution_count": 80,
     "metadata": {},
     "output_type": "execute_result"
    }
   ],
   "source": [
    "ei_clca.search('welding')"
   ]
  },
  {
   "cell_type": "code",
   "execution_count": 56,
   "id": "c2d58e87",
   "metadata": {},
   "outputs": [
    {
     "data": {
      "text/plain": [
       "'catch crop growing, sunflower, August-October, organic fertiliser 30 kg N' (kilogram, RoW, None)"
      ]
     },
     "execution_count": 56,
     "metadata": {},
     "output_type": "execute_result"
    }
   ],
   "source": [
    "# select a random activity from the database\n",
    "ei_clca.random()"
   ]
  },
  {
   "cell_type": "code",
   "execution_count": 57,
   "id": "d0ee39db",
   "metadata": {},
   "outputs": [
    {
     "data": {
      "text/plain": [
       "'c:\\\\Users\\\\TimWeber\\\\repos_20LCA\\\\LCA_Toolbox\\\\lci-bw25_db.xlsx'"
      ]
     },
     "execution_count": 57,
     "metadata": {},
     "output_type": "execute_result"
    }
   ],
   "source": [
    "# export the LCI to Microsoft Excel in an overview format\n",
    "bi.export.excel.write_lci_excel(db_template.name,\n",
    "                                objs=[steel_treat],\n",
    "                                dirpath=Path.cwd())"
   ]
  },
  {
   "cell_type": "code",
   "execution_count": 58,
   "id": "d5b359a3",
   "metadata": {},
   "outputs": [
    {
     "data": {
      "text/plain": [
       "[Exchange: 1.0 kilogram 'market for land tenure, arable land, measured as carbon net primary productivity, annual crop' (kilogram, DE, None) to 'market for land tenure, arable land, measured as carbon net primary productivity, annual crop' (kilogram, DE, None)>]"
      ]
     },
     "execution_count": 58,
     "metadata": {},
     "output_type": "execute_result"
    }
   ],
   "source": [
    "# print the outputs of the process\n",
    "list(steel.production())"
   ]
  },
  {
   "cell_type": "code",
   "execution_count": 59,
   "id": "f4edf33b",
   "metadata": {},
   "outputs": [
    {
     "data": {
      "text/plain": [
       "[Exchange: 275.499997 kilogram 'market for land tenure, arable land, measured as carbon net primary productivity, annual crop' (kilogram, DE, None) to 'land use change, annual crop' (hectare, DE, None)>]"
      ]
     },
     "execution_count": 59,
     "metadata": {},
     "output_type": "execute_result"
    }
   ],
   "source": [
    "# print the consumers of a product\n",
    "list(steel.consumers())\n"
   ]
  },
  {
   "cell_type": "code",
   "execution_count": 60,
   "id": "a3665307",
   "metadata": {},
   "outputs": [
    {
     "data": {
      "text/plain": [
       "[Exchange: 1.0 kilogram 'market for land tenure, arable land, measured as carbon net primary productivity, annual crop' (kilogram, DE, None) to 'market for land tenure, arable land, measured as carbon net primary productivity, annual crop' (kilogram, DE, None)>,\n",
       " Exchange: 0.938421897695875 kilogram 'land already in use, annual cropland to annual crop' (kilogram, DE, None) to 'market for land tenure, arable land, measured as carbon net primary productivity, annual crop' (kilogram, DE, None)>,\n",
       " Exchange: 0.0615781023041247 kilogram 'land already in use, perennial cropland to annual crop' (kilogram, DE, None) to 'market for land tenure, arable land, measured as carbon net primary productivity, annual crop' (kilogram, DE, None)>]"
      ]
     },
     "execution_count": 60,
     "metadata": {},
     "output_type": "execute_result"
    }
   ],
   "source": [
    "# (1) this is a way to print all exchanges of a process, there are multiple ways to extract this information\n",
    "list(steel.edges())\n"
   ]
  },
  {
   "cell_type": "code",
   "execution_count": 61,
   "id": "3758f24f",
   "metadata": {},
   "outputs": [
    {
     "name": "stdout",
     "output_type": "stream",
     "text": [
      "Exchange: 1.0277 kilowatt hour 'market group for electricity, high voltage' (kilowatt hour, RER, None) to 'porcelain ceramics production' (kilogram, RER, None)>\n",
      "Exchange: 1 kilogram 'porcelain ceramics production' (kilogram, RER, None) to 'porcelain ceramics production' (kilogram, RER, None)>\n",
      "Exchange: 0.5775000000000001 kilogram 'market for kaolin' (kilogram, GLO, None) to 'porcelain ceramics production' (kilogram, RER, None)>\n",
      "Exchange: 0.45066666666666666 cubic meter 'market group for natural gas, high pressure' (cubic meter, Europe without Switzerland, None) to 'porcelain ceramics production' (kilogram, RER, None)>\n",
      "Exchange: 0.275 kilogram 'market for feldspar' (kilogram, GLO, None) to 'porcelain ceramics production' (kilogram, RER, None)>\n",
      "Exchange: 0.24750000000000003 kilogram 'market for silica sand' (kilogram, GLO, None) to 'porcelain ceramics production' (kilogram, RER, None)>\n",
      "Exchange: 0.01261 kilogram 'Sulfur dioxide' (kilogram, None, ('air',)) to 'porcelain ceramics production' (kilogram, RER, None)>\n",
      "Exchange: 0.0001261 kilogram 'Hydrogen fluoride' (kilogram, None, ('air',)) to 'porcelain ceramics production' (kilogram, RER, None)>\n",
      "Exchange: 8.72639e-05 cubic meter 'Water' (cubic meter, None, ('air',)) to 'porcelain ceramics production' (kilogram, RER, None)>\n",
      "Exchange: 1.25e-10 unit 'packaging glass factory construction' (unit, RER, None) to 'porcelain ceramics production' (kilogram, RER, None)>\n"
     ]
    }
   ],
   "source": [
    "# (2) this is an other way to print all exchanges of a process\n",
    "exchanges = sorted(ceramics_bw.exchanges(), key=lambda exc: exc['amount'], reverse=True)\n",
    "for exc in exchanges:\n",
    "    print(exc)"
   ]
  },
  {
   "cell_type": "code",
   "execution_count": 62,
   "id": "bbdced7f",
   "metadata": {},
   "outputs": [
    {
     "data": {
      "text/plain": [
       "[Exchange: -0.000177 kilogram 'market for bilge oil' (kilogram, CH, None) to 'sanitary ceramics production' (kilogram, CH, None)>,\n",
       " Exchange: 4e-09 unit 'ceramic factory construction' (unit, CH, None) to 'sanitary ceramics production' (kilogram, CH, None)>,\n",
       " Exchange: 0.00303 kilogram 'market for chemical, inorganic' (kilogram, GLO, None) to 'sanitary ceramics production' (kilogram, CH, None)>,\n",
       " Exchange: 0.425 kilogram 'market for clay' (kilogram, CH, None) to 'sanitary ceramics production' (kilogram, CH, None)>,\n",
       " Exchange: 0.878 kilowatt hour 'market for electricity, medium voltage' (kilowatt hour, CH, None) to 'sanitary ceramics production' (kilogram, CH, None)>,\n",
       " Exchange: 0.379 kilogram 'market for feldspar' (kilogram, GLO, None) to 'sanitary ceramics production' (kilogram, CH, None)>,\n",
       " Exchange: -0.000102 kilogram 'market for hazardous waste, for underground deposit' (kilogram, RER, None) to 'sanitary ceramics production' (kilogram, CH, None)>,\n",
       " Exchange: 22.895 megajoule 'market for heat, district or industrial, natural gas' (megajoule, CH, None) to 'sanitary ceramics production' (kilogram, CH, None)>,\n",
       " Exchange: -0.127 kilogram 'market for inert waste, for final disposal' (kilogram, CH, None) to 'sanitary ceramics production' (kilogram, CH, None)>,\n",
       " Exchange: 0.444 kilogram 'market for kaolin' (kilogram, GLO, None) to 'sanitary ceramics production' (kilogram, CH, None)>,\n",
       " Exchange: -0.0386 kilogram 'market for municipal solid waste' (kilogram, CH, None) to 'sanitary ceramics production' (kilogram, CH, None)>,\n",
       " Exchange: 0.00151 kilogram 'market for polyethylene, high density, granulate' (kilogram, GLO, None) to 'sanitary ceramics production' (kilogram, CH, None)>,\n",
       " Exchange: 0.251 kilogram 'market for silica sand' (kilogram, GLO, None) to 'sanitary ceramics production' (kilogram, CH, None)>,\n",
       " Exchange: -6.93e-05 kilogram 'market for spent solvent mixture' (kilogram, CH, None) to 'sanitary ceramics production' (kilogram, CH, None)>,\n",
       " Exchange: 0.125 kilogram 'market for stucco' (kilogram, GLO, None) to 'sanitary ceramics production' (kilogram, CH, None)>,\n",
       " Exchange: 0.541 kilogram 'market for tap water' (kilogram, CH, None) to 'sanitary ceramics production' (kilogram, CH, None)>,\n",
       " Exchange: -1.58e-07 kilogram 'market for waste emulsion paint' (kilogram, CH, None) to 'sanitary ceramics production' (kilogram, CH, None)>,\n",
       " Exchange: -0.000283 kilogram 'market for waste mineral oil' (kilogram, CH, None) to 'sanitary ceramics production' (kilogram, CH, None)>,\n",
       " Exchange: -4.34e-05 kilogram 'market for waste plastic, mixture' (kilogram, CH, None) to 'sanitary ceramics production' (kilogram, CH, None)>,\n",
       " Exchange: -0.000983 cubic meter 'market for wastewater from ceramic production' (cubic meter, CH, None) to 'sanitary ceramics production' (kilogram, CH, None)>]"
      ]
     },
     "execution_count": 62,
     "metadata": {},
     "output_type": "execute_result"
    }
   ],
   "source": [
    "# (3) Alternative way to display all exchanges with the technosphere\n",
    "list(ceramics_ei.technosphere())\n"
   ]
  },
  {
   "cell_type": "markdown",
   "id": "6f6d8c1a",
   "metadata": {},
   "source": [
    "### 4. Impact assessment methods\n",
    "\n",
    "To calculate the Life Cycle Impacts the back- and foreground need to be linked to an assessment method. There is a large number of available methods that are pre-installed together with the ecoinvent biosphere flows in the 01_bw25_ecoinvent_importer script."
   ]
  },
  {
   "cell_type": "code",
   "execution_count": 63,
   "id": "feffe801",
   "metadata": {},
   "outputs": [
    {
     "data": {
      "text/plain": [
       "[('CML v4.8 2016 no LT',\n",
       "  'acidification no LT',\n",
       "  'acidification (incl. fate, average Europe total, A&B) no LT'),\n",
       " ('CML v4.8 2016 no LT',\n",
       "  'climate change no LT',\n",
       "  'global warming potential (GWP100) no LT'),\n",
       " ('CML v4.8 2016 no LT',\n",
       "  'ecotoxicity: freshwater no LT',\n",
       "  'freshwater aquatic ecotoxicity (FAETP inf) no LT'),\n",
       " ('CML v4.8 2016 no LT',\n",
       "  'ecotoxicity: marine no LT',\n",
       "  'marine aquatic ecotoxicity (MAETP inf) no LT'),\n",
       " ('CML v4.8 2016 no LT',\n",
       "  'ecotoxicity: terrestrial no LT',\n",
       "  'terrestrial ecotoxicity (TETP inf) no LT')]"
      ]
     },
     "execution_count": 63,
     "metadata": {},
     "output_type": "execute_result"
    }
   ],
   "source": [
    "# here we will analyse the set of methods that are available as part of the background\n",
    "list(bd.methods)[:5]"
   ]
  },
  {
   "cell_type": "code",
   "execution_count": 64,
   "id": "a00284e0",
   "metadata": {},
   "outputs": [
    {
     "name": "stdout",
     "output_type": "stream",
     "text": [
      "('CML v4.8 2016 no LT', 'climate change no LT', 'global warming potential (GWP100) no LT')\n",
      "('CML v4.8 2016', 'climate change', 'global warming potential (GWP100)')\n",
      "('Ecological Scarcity 2021 no LT', 'climate change no LT', 'global warming potential (GWP100) no LT')\n",
      "('Ecological Scarcity 2021', 'climate change', 'global warming potential (GWP100)')\n",
      "('EF v3.0 no LT', 'climate change no LT', 'global warming potential (GWP100) no LT')\n",
      "('EF v3.0 no LT', 'climate change: biogenic no LT', 'global warming potential (GWP100) no LT')\n",
      "('EF v3.0 no LT', 'climate change: fossil no LT', 'global warming potential (GWP100) no LT')\n",
      "('EF v3.0 no LT', 'climate change: land use and land use change no LT', 'global warming potential (GWP100) no LT')\n",
      "('EF v3.0', 'climate change', 'global warming potential (GWP100)')\n",
      "('EF v3.0', 'climate change: biogenic', 'global warming potential (GWP100)')\n",
      "('EF v3.0', 'climate change: fossil', 'global warming potential (GWP100)')\n",
      "('EF v3.0', 'climate change: land use and land use change', 'global warming potential (GWP100)')\n",
      "('EF v3.1 no LT', 'climate change no LT', 'global warming potential (GWP100) no LT')\n",
      "('EF v3.1 no LT', 'climate change: biogenic no LT', 'global warming potential (GWP100) no LT')\n",
      "('EF v3.1 no LT', 'climate change: fossil no LT', 'global warming potential (GWP100) no LT')\n",
      "('EF v3.1 no LT', 'climate change: land use and land use change no LT', 'global warming potential (GWP100) no LT')\n",
      "('EF v3.1', 'climate change', 'global warming potential (GWP100)')\n",
      "('EF v3.1', 'climate change: biogenic', 'global warming potential (GWP100)')\n",
      "('EF v3.1', 'climate change: fossil', 'global warming potential (GWP100)')\n",
      "('EF v3.1', 'climate change: land use and land use change', 'global warming potential (GWP100)')\n",
      "('IMPACT World+ v2.0.1, footprint version', 'climate change', 'carbon footprint')\n",
      "('IPCC 2013 no LT', 'climate change no LT', 'global temperature change potential (GTP100) no LT')\n",
      "('IPCC 2013 no LT', 'climate change no LT', 'global temperature change potential (GTP20) no LT')\n",
      "('IPCC 2013 no LT', 'climate change no LT', 'global warming potential (GWP100) no LT')\n",
      "('IPCC 2013 no LT', 'climate change no LT', 'global warming potential (GWP20) no LT')\n",
      "('IPCC 2013', 'climate change', 'global temperature change potential (GTP100)')\n",
      "('IPCC 2013', 'climate change', 'global temperature change potential (GTP20)')\n",
      "('IPCC 2013', 'climate change', 'global warming potential (GWP100)')\n",
      "('IPCC 2013', 'climate change', 'global warming potential (GWP20)')\n",
      "('IPCC 2021 no LT', 'climate change no LT', 'global temperature change potential (GTP100) no LT')\n",
      "('IPCC 2021 no LT', 'climate change no LT', 'global temperature change potential (GTP50) no LT')\n",
      "('IPCC 2021 no LT', 'climate change no LT', 'global warming potential (GWP100) no LT')\n",
      "('IPCC 2021 no LT', 'climate change no LT', 'global warming potential (GWP20) no LT')\n",
      "('IPCC 2021 no LT', 'climate change no LT', 'global warming potential (GWP500) no LT')\n",
      "('IPCC 2021 no LT', 'climate change: biogenic no LT', 'global temperature change potential (GTP100) no LT')\n",
      "('IPCC 2021 no LT', 'climate change: biogenic no LT', 'global temperature change potential (GTP50) no LT')\n",
      "('IPCC 2021 no LT', 'climate change: biogenic no LT', 'global warming potential (GWP100) no LT')\n",
      "('IPCC 2021 no LT', 'climate change: biogenic no LT', 'global warming potential (GWP20) no LT')\n",
      "('IPCC 2021 no LT', 'climate change: biogenic no LT', 'global warming potential (GWP500) no LT')\n",
      "('IPCC 2021 no LT', 'climate change: biogenic, including SLCFs no LT', 'global temperature change potential (GTP100) no LT')\n",
      "('IPCC 2021 no LT', 'climate change: biogenic, including SLCFs no LT', 'global warming potential (GWP100) no LT')\n",
      "('IPCC 2021 no LT', 'climate change: biogenic, including SLCFs no LT', 'global warming potential (GWP20) no LT')\n",
      "('IPCC 2021 no LT', 'climate change: fossil no LT', 'global temperature change potential (GTP100) no LT')\n",
      "('IPCC 2021 no LT', 'climate change: fossil no LT', 'global temperature change potential (GTP50) no LT')\n",
      "('IPCC 2021 no LT', 'climate change: fossil no LT', 'global warming potential (GWP100) no LT')\n",
      "('IPCC 2021 no LT', 'climate change: fossil no LT', 'global warming potential (GWP20) no LT')\n",
      "('IPCC 2021 no LT', 'climate change: fossil no LT', 'global warming potential (GWP500) no LT')\n",
      "('IPCC 2021 no LT', 'climate change: fossil, including SLCFs no LT', 'global temperature change potential (GTP100) no LT')\n",
      "('IPCC 2021 no LT', 'climate change: fossil, including SLCFs no LT', 'global warming potential (GWP100) no LT')\n",
      "('IPCC 2021 no LT', 'climate change: fossil, including SLCFs no LT', 'global warming potential (GWP20) no LT')\n",
      "('IPCC 2021 no LT', 'climate change: including SLCFs no LT', 'global temperature change potential (GTP100) no LT')\n",
      "('IPCC 2021 no LT', 'climate change: including SLCFs no LT', 'global warming potential (GWP100) no LT')\n",
      "('IPCC 2021 no LT', 'climate change: including SLCFs no LT', 'global warming potential (GWP20) no LT')\n",
      "('IPCC 2021 no LT', 'climate change: land use no LT', 'global temperature change potential (GTP100) no LT')\n",
      "('IPCC 2021 no LT', 'climate change: land use no LT', 'global temperature change potential (GTP50) no LT')\n",
      "('IPCC 2021 no LT', 'climate change: land use no LT', 'global warming potential (GWP100) no LT')\n",
      "('IPCC 2021 no LT', 'climate change: land use no LT', 'global warming potential (GWP20) no LT')\n",
      "('IPCC 2021 no LT', 'climate change: land use no LT', 'global warming potential (GWP500) no LT')\n",
      "('IPCC 2021 no LT', 'climate change: land use, including SLCFs no LT', 'global temperature change potential (GTP100) no LT')\n",
      "('IPCC 2021 no LT', 'climate change: land use, including SLCFs no LT', 'global warming potential (GWP100) no LT')\n",
      "('IPCC 2021 no LT', 'climate change: land use, including SLCFs no LT', 'global warming potential (GWP20) no LT')\n",
      "('IPCC 2021', 'climate change', 'global temperature change potential (GTP100)')\n",
      "('IPCC 2021', 'climate change', 'global temperature change potential (GTP50)')\n",
      "('IPCC 2021', 'climate change', 'global warming potential (GWP100)')\n",
      "('IPCC 2021', 'climate change', 'global warming potential (GWP20)')\n",
      "('IPCC 2021', 'climate change', 'global warming potential (GWP500)')\n",
      "('IPCC 2021', 'climate change: biogenic', 'global temperature change potential (GTP100)')\n",
      "('IPCC 2021', 'climate change: biogenic', 'global temperature change potential (GTP50)')\n",
      "('IPCC 2021', 'climate change: biogenic', 'global warming potential (GWP100)')\n",
      "('IPCC 2021', 'climate change: biogenic', 'global warming potential (GWP20)')\n",
      "('IPCC 2021', 'climate change: biogenic', 'global warming potential (GWP500)')\n",
      "('IPCC 2021', 'climate change: biogenic, including SLCFs', 'global temperature change potential (GTP100)')\n",
      "('IPCC 2021', 'climate change: biogenic, including SLCFs', 'global warming potential (GWP100)')\n",
      "('IPCC 2021', 'climate change: biogenic, including SLCFs', 'global warming potential (GWP20)')\n",
      "('IPCC 2021', 'climate change: fossil', 'global temperature change potential (GTP100)')\n",
      "('IPCC 2021', 'climate change: fossil', 'global temperature change potential (GTP50)')\n",
      "('IPCC 2021', 'climate change: fossil', 'global warming potential (GWP100)')\n",
      "('IPCC 2021', 'climate change: fossil', 'global warming potential (GWP20)')\n",
      "('IPCC 2021', 'climate change: fossil', 'global warming potential (GWP500)')\n",
      "('IPCC 2021', 'climate change: fossil, including SLCFs', 'global temperature change potential (GTP100)')\n",
      "('IPCC 2021', 'climate change: fossil, including SLCFs', 'global warming potential (GWP100)')\n",
      "('IPCC 2021', 'climate change: fossil, including SLCFs', 'global warming potential (GWP20)')\n",
      "('IPCC 2021', 'climate change: including SLCFs', 'global temperature change potential (GTP100)')\n",
      "('IPCC 2021', 'climate change: including SLCFs', 'global warming potential (GWP100)')\n",
      "('IPCC 2021', 'climate change: including SLCFs', 'global warming potential (GWP20)')\n",
      "('IPCC 2021', 'climate change: land use', 'global temperature change potential (GTP100)')\n",
      "('IPCC 2021', 'climate change: land use', 'global temperature change potential (GTP50)')\n",
      "('IPCC 2021', 'climate change: land use', 'global warming potential (GWP100)')\n",
      "('IPCC 2021', 'climate change: land use', 'global warming potential (GWP20)')\n",
      "('IPCC 2021', 'climate change: land use', 'global warming potential (GWP500)')\n",
      "('IPCC 2021', 'climate change: land use, including SLCFs', 'global temperature change potential (GTP100)')\n",
      "('IPCC 2021', 'climate change: land use, including SLCFs', 'global warming potential (GWP100)')\n",
      "('IPCC 2021', 'climate change: land use, including SLCFs', 'global warming potential (GWP20)')\n",
      "('ReCiPe 2016 v1.03, endpoint (E) no LT', 'ecosystem quality no LT', 'climate change: freshwater ecosystems no LT')\n",
      "('ReCiPe 2016 v1.03, endpoint (E) no LT', 'ecosystem quality no LT', 'climate change: terrestrial ecosystems no LT')\n",
      "('ReCiPe 2016 v1.03, endpoint (E) no LT', 'human health no LT', 'climate change: human health no LT')\n",
      "('ReCiPe 2016 v1.03, endpoint (E)', 'ecosystem quality', 'climate change: freshwater ecosystems')\n",
      "('ReCiPe 2016 v1.03, endpoint (E)', 'ecosystem quality', 'climate change: terrestrial ecosystems')\n",
      "('ReCiPe 2016 v1.03, endpoint (E)', 'human health', 'climate change: human health')\n",
      "('ReCiPe 2016 v1.03, endpoint (H) no LT', 'ecosystem quality no LT', 'climate change: freshwater ecosystems no LT')\n",
      "('ReCiPe 2016 v1.03, endpoint (H) no LT', 'ecosystem quality no LT', 'climate change: terrestrial ecosystems no LT')\n",
      "('ReCiPe 2016 v1.03, endpoint (H) no LT', 'human health no LT', 'climate change: human health no LT')\n",
      "('ReCiPe 2016 v1.03, endpoint (H)', 'ecosystem quality', 'climate change: freshwater ecosystems')\n",
      "('ReCiPe 2016 v1.03, endpoint (H)', 'ecosystem quality', 'climate change: terrestrial ecosystems')\n",
      "('ReCiPe 2016 v1.03, endpoint (H)', 'human health', 'climate change: human health')\n",
      "('ReCiPe 2016 v1.03, endpoint (I) no LT', 'ecosystem quality no LT', 'climate change: freshwater ecosystems no LT')\n",
      "('ReCiPe 2016 v1.03, endpoint (I) no LT', 'ecosystem quality no LT', 'climate change: terrestrial ecosystems no LT')\n",
      "('ReCiPe 2016 v1.03, endpoint (I) no LT', 'human health no LT', 'climate change: human health no LT')\n",
      "('ReCiPe 2016 v1.03, endpoint (I)', 'ecosystem quality', 'climate change: freshwater ecosystems')\n",
      "('ReCiPe 2016 v1.03, endpoint (I)', 'ecosystem quality', 'climate change: terrestrial ecosystems')\n",
      "('ReCiPe 2016 v1.03, endpoint (I)', 'human health', 'climate change: human health')\n",
      "('ReCiPe 2016 v1.03, midpoint (E) no LT', 'climate change no LT', 'global warming potential (GWP1000) no LT')\n",
      "('ReCiPe 2016 v1.03, midpoint (E)', 'climate change', 'global warming potential (GWP1000)')\n",
      "('ReCiPe 2016 v1.03, midpoint (H) no LT', 'climate change no LT', 'global warming potential (GWP100) no LT')\n",
      "('ReCiPe 2016 v1.03, midpoint (H)', 'climate change', 'global warming potential (GWP100)')\n",
      "('ReCiPe 2016 v1.03, midpoint (I) no LT', 'climate change no LT', 'global warming potential (GWP20) no LT')\n",
      "('ReCiPe 2016 v1.03, midpoint (I)', 'climate change', 'global warming potential (GWP20)')\n",
      "('TRACI v2.1 no LT', 'climate change no LT', 'global warming potential (GWP100) no LT')\n",
      "('TRACI v2.1', 'climate change', 'global warming potential (GWP100)')\n",
      "('EF v3.0 EN15804', 'climate change', 'global warming potential (GWP100)')\n",
      "('EF v3.0 EN15804', 'climate change: biogenic', 'global warming potential (GWP100)')\n",
      "('EF v3.0 EN15804', 'climate change: fossil', 'global warming potential (GWP100)')\n",
      "('EF v3.0 EN15804', 'climate change: GHG (EPD PCR)', 'global warming potential (GWP100)')\n",
      "('EF v3.0 EN15804', 'climate change: land use and land use change', 'global warming potential (GWP100)')\n",
      "('EF v3.1 EN15804', 'climate change', 'global warming potential (GWP100)')\n",
      "('EF v3.1 EN15804', 'climate change: biogenic', 'global warming potential (GWP100)')\n",
      "('EF v3.1 EN15804', 'climate change: fossil', 'global warming potential (GWP100)')\n",
      "('EF v3.1 EN15804', 'climate change: GHG (EPD PCR)', 'global warming potential (GWP100)')\n",
      "('EF v3.1 EN15804', 'climate change: land use and land use change', 'global warming potential (GWP100)')\n"
     ]
    }
   ],
   "source": [
    "# printing all methods that contain a specific keyword, e.g. \"climate change\"\n",
    "climate_methods = [m for m in bd.methods if any(\"climate change\" in str(part).lower() for part in m)]\n",
    "for method in climate_methods:\n",
    "    print(method)"
   ]
  },
  {
   "cell_type": "code",
   "execution_count": 65,
   "id": "3b0b476b",
   "metadata": {},
   "outputs": [],
   "source": [
    "# selecting the impact assessment methods that we want to use in our analysis\n",
    "lcia_gwp100 = ('EF v3.1', 'climate change', 'global warming potential (GWP100)')\n",
    "lcia_water = ('EF v3.1','water use','user deprivation potential (deprivation-weighted water consumption)')\n",
    "lcia_land = ('EF v3.1', 'land use', 'soil quality index')"
   ]
  },
  {
   "cell_type": "markdown",
   "id": "52d66648",
   "metadata": {},
   "source": [
    "### 5. LCIA\n",
    "\n",
    "This section shows how LCA results can be calculated quickly and be displayed as final score, process- and elementary flow based."
   ]
  },
  {
   "cell_type": "code",
   "execution_count": 66,
   "id": "ca05a284",
   "metadata": {},
   "outputs": [
    {
     "data": {
      "text/plain": [
       "0.7265791393172021"
      ]
     },
     "execution_count": 66,
     "metadata": {},
     "output_type": "execute_result"
    }
   ],
   "source": [
    "# Quick LCIA calculation\n",
    "ceramics_bw_lca = ceramics_bw.lca(lcia_gwp100)\n",
    "ceramics_bw_lca.score\n"
   ]
  },
  {
   "cell_type": "code",
   "execution_count": 67,
   "id": "a0b8bded",
   "metadata": {},
   "outputs": [
    {
     "data": {
      "text/plain": [
       "3.204853545579472"
      ]
     },
     "execution_count": 67,
     "metadata": {},
     "output_type": "execute_result"
    }
   ],
   "source": [
    "ceramics_ei_lca = ceramics_ei.lca(lcia_gwp100)\n",
    "ceramics_ei_lca.score"
   ]
  },
  {
   "cell_type": "code",
   "execution_count": 68,
   "id": "3177f8ec",
   "metadata": {},
   "outputs": [
    {
     "data": {
      "text/html": [
       "<div>\n",
       "<style scoped>\n",
       "    .dataframe tbody tr th:only-of-type {\n",
       "        vertical-align: middle;\n",
       "    }\n",
       "\n",
       "    .dataframe tbody tr th {\n",
       "        vertical-align: top;\n",
       "    }\n",
       "\n",
       "    .dataframe thead th {\n",
       "        text-align: right;\n",
       "    }\n",
       "</style>\n",
       "<table border=\"1\" class=\"dataframe\">\n",
       "  <thead>\n",
       "    <tr style=\"text-align: right;\">\n",
       "      <th></th>\n",
       "      <th></th>\n",
       "      <th>amount</th>\n",
       "    </tr>\n",
       "    <tr>\n",
       "      <th>col_name</th>\n",
       "      <th>row_name</th>\n",
       "      <th></th>\n",
       "    </tr>\n",
       "  </thead>\n",
       "  <tbody>\n",
       "    <tr>\n",
       "      <th>heat and power co-generation, natural gas, 200kW electrical, lean burn</th>\n",
       "      <th>Carbon dioxide, fossil</th>\n",
       "      <td>2.485570</td>\n",
       "    </tr>\n",
       "    <tr>\n",
       "      <th>natural gas venting from petroleum/natural gas production</th>\n",
       "      <th>Methane, fossil</th>\n",
       "      <td>0.178738</td>\n",
       "    </tr>\n",
       "    <tr>\n",
       "      <th>natural gas, burned in gas turbine</th>\n",
       "      <th>Carbon dioxide, fossil</th>\n",
       "      <td>0.131738</td>\n",
       "    </tr>\n",
       "    <tr>\n",
       "      <th>heat and power co-generation, natural gas, 200kW electrical, lean burn</th>\n",
       "      <th>Methane, fossil</th>\n",
       "      <td>0.105814</td>\n",
       "    </tr>\n",
       "    <tr>\n",
       "      <th>transport, pipeline, onshore, long distance, natural gas</th>\n",
       "      <th>Methane, fossil</th>\n",
       "      <td>0.087236</td>\n",
       "    </tr>\n",
       "    <tr>\n",
       "      <th>...</th>\n",
       "      <th>...</th>\n",
       "      <td>...</td>\n",
       "    </tr>\n",
       "    <tr>\n",
       "      <th>electricity production, wood, future</th>\n",
       "      <th>Dinitrogen monoxide</th>\n",
       "      <td>-0.001518</td>\n",
       "    </tr>\n",
       "    <tr>\n",
       "      <th>electricity production, natural gas, combined cycle power plant</th>\n",
       "      <th>Dinitrogen monoxide</th>\n",
       "      <td>-0.002206</td>\n",
       "    </tr>\n",
       "    <tr>\n",
       "      <th>market for electricity, high voltage</th>\n",
       "      <th>Dinitrogen monoxide</th>\n",
       "      <td>-0.004463</td>\n",
       "    </tr>\n",
       "    <tr>\n",
       "      <th>heat and power co-generation, diesel, 200kW electrical, SCR-NOx reduction</th>\n",
       "      <th>Carbon dioxide, fossil</th>\n",
       "      <td>-0.006561</td>\n",
       "    </tr>\n",
       "    <tr>\n",
       "      <th>electricity production, natural gas, combined cycle power plant</th>\n",
       "      <th>Carbon dioxide, fossil</th>\n",
       "      <td>-0.450854</td>\n",
       "    </tr>\n",
       "  </tbody>\n",
       "</table>\n",
       "<p>88 rows × 1 columns</p>\n",
       "</div>"
      ],
      "text/plain": [
       "                                                                             amount\n",
       "col_name                                           row_name                        \n",
       "heat and power co-generation, natural gas, 200k... Carbon dioxide, fossil  2.485570\n",
       "natural gas venting from petroleum/natural gas ... Methane, fossil         0.178738\n",
       "natural gas, burned in gas turbine                 Carbon dioxide, fossil  0.131738\n",
       "heat and power co-generation, natural gas, 200k... Methane, fossil         0.105814\n",
       "transport, pipeline, onshore, long distance, na... Methane, fossil         0.087236\n",
       "...                                                                             ...\n",
       "electricity production, wood, future               Dinitrogen monoxide    -0.001518\n",
       "electricity production, natural gas, combined c... Dinitrogen monoxide    -0.002206\n",
       "market for electricity, high voltage               Dinitrogen monoxide    -0.004463\n",
       "heat and power co-generation, diesel, 200kW ele... Carbon dioxide, fossil -0.006561\n",
       "electricity production, natural gas, combined c... Carbon dioxide, fossil -0.450854\n",
       "\n",
       "[88 rows x 1 columns]"
      ]
     },
     "execution_count": 68,
     "metadata": {},
     "output_type": "execute_result"
    }
   ],
   "source": [
    "# Elementary flows contribution analysis by process\n",
    "ceramics_ei_lca.to_dataframe().pivot_table(index=['col_name', 'row_name'], values='amount', aggfunc='sum').sort_values(by='amount', ascending=False)"
   ]
  },
  {
   "cell_type": "code",
   "execution_count": 69,
   "id": "0943b393",
   "metadata": {},
   "outputs": [
    {
     "data": {
      "text/html": [
       "<div>\n",
       "<style scoped>\n",
       "    .dataframe tbody tr th:only-of-type {\n",
       "        vertical-align: middle;\n",
       "    }\n",
       "\n",
       "    .dataframe tbody tr th {\n",
       "        vertical-align: top;\n",
       "    }\n",
       "\n",
       "    .dataframe thead th {\n",
       "        text-align: right;\n",
       "    }\n",
       "</style>\n",
       "<table border=\"1\" class=\"dataframe\">\n",
       "  <thead>\n",
       "    <tr style=\"text-align: right;\">\n",
       "      <th></th>\n",
       "      <th>amount</th>\n",
       "    </tr>\n",
       "    <tr>\n",
       "      <th>row_name</th>\n",
       "      <th></th>\n",
       "    </tr>\n",
       "  </thead>\n",
       "  <tbody>\n",
       "    <tr>\n",
       "      <th>Carbon dioxide, fossil</th>\n",
       "      <td>2.605547</td>\n",
       "    </tr>\n",
       "    <tr>\n",
       "      <th>Dinitrogen monoxide</th>\n",
       "      <td>0.051966</td>\n",
       "    </tr>\n",
       "    <tr>\n",
       "      <th>Methane, fossil</th>\n",
       "      <td>0.491032</td>\n",
       "    </tr>\n",
       "    <tr>\n",
       "      <th>Sulfur hexafluoride</th>\n",
       "      <td>0.001161</td>\n",
       "    </tr>\n",
       "    <tr>\n",
       "      <th>Tetrafluoromethane</th>\n",
       "      <td>0.000556</td>\n",
       "    </tr>\n",
       "    <tr>\n",
       "      <th>Trifluoromethane</th>\n",
       "      <td>0.002012</td>\n",
       "    </tr>\n",
       "  </tbody>\n",
       "</table>\n",
       "</div>"
      ],
      "text/plain": [
       "                          amount\n",
       "row_name                        \n",
       "Carbon dioxide, fossil  2.605547\n",
       "Dinitrogen monoxide     0.051966\n",
       "Methane, fossil         0.491032\n",
       "Sulfur hexafluoride     0.001161\n",
       "Tetrafluoromethane      0.000556\n",
       "Trifluoromethane        0.002012"
      ]
     },
     "execution_count": 69,
     "metadata": {},
     "output_type": "execute_result"
    }
   ],
   "source": [
    "# Elementary flows contribution analysis as summary table\n",
    "ceramics_ei_lca.to_dataframe().pivot_table(index='row_name',values='amount',aggfunc='sum')"
   ]
  },
  {
   "cell_type": "markdown",
   "id": "357aef27",
   "metadata": {},
   "source": [
    "### 6. Contribution analysis\n",
    "\n",
    "There are different ways to analyse the contribution analysis in Brightway 2.5. Two ways are displayed below. The max_level and cutoff can be adjusted based on the level of detail you want from the analysis."
   ]
  },
  {
   "cell_type": "code",
   "execution_count": 70,
   "id": "a49b7b1e",
   "metadata": {},
   "outputs": [
    {
     "name": "stdout",
     "output_type": "stream",
     "text": [
      "Fraction of score | Absolute score | Amount | Activity\n",
      "0001 | 0.7266 |     1 | 'porcelain ceramics production' (kilogram, RER, None)\n",
      "  00.2 | 0.1451 | 0.5775 | 'market for kaolin' (kilogram, GLO, None)\n",
      "    0.123 | 0.08954 | 0.3783 | 'kaolin production' (kilogram, RoW, None)\n",
      "      0.0546 | 0.0397 | 0.05354 | 'market group for electricity, medium voltage' (kilowatt hour, RAS, None)\n",
      "    0.0699 | 0.05079 | 0.1992 | 'kaolin production' (kilogram, RER, None)\n",
      "  0.331 | 0.2407 | 1.028 | 'market group for electricity, high voltage' (kilowatt hour, RER, None)\n",
      "    0.327 | 0.2376 | 1.013 | 'market group for electricity, high voltage' (kilowatt hour, Europe without Switzerland, None)\n",
      "      0.124 | 0.08975 | 0.1495 | 'market for electricity, high voltage' (kilowatt hour, UA, None)\n",
      "  0.389 | 0.283 | 0.4507 | 'market group for natural gas, high pressure' (cubic meter, Europe without Switzerland, None)\n",
      "    0.0665 | 0.04834 | 0.06835 | 'market for natural gas, high pressure' (cubic meter, IT, None)\n",
      "    0.084 | 0.06106 | 0.08607 | 'market for natural gas, high pressure' (cubic meter, DE, None)\n",
      "      0.0674 | 0.049 | 0.05296 | 'natural gas, high pressure, import from RU' (cubic meter, DE, None)\n"
     ]
    }
   ],
   "source": [
    "# One option to do a contribution analysis is to use the recursive calculation method\n",
    "bwa.print_recursive_calculation(ceramics_bw,\n",
    "lcia_method=lcia_gwp100,max_level=3,cutoff=0.05)"
   ]
  },
  {
   "cell_type": "code",
   "execution_count": 71,
   "id": "13ff9308",
   "metadata": {},
   "outputs": [
    {
     "name": "stdout",
     "output_type": "stream",
     "text": [
      "Fraction of score | Absolute score | Amount | Activity\n",
      "0001 | 3.205 |     1 | 'sanitary ceramics production' (kilogram, CH, None)\n",
      "  0.0587 | 0.1882 | 0.878 | 'market for electricity, medium voltage' (kilowatt hour, CH, None)\n",
      "    0.0579 | 0.1855 | 0.8816 | 'electricity voltage transformation from high to medium voltage' (kilowatt hour, CH, None)\n",
      "      0.0579 | 0.1855 | 0.8869 | 'market for electricity, high voltage' (kilowatt hour, CH, None)\n",
      "  0.852 |  2.73 | 22.89 | 'market for heat, district or industrial, natural gas' (megajoule, CH, None)\n",
      "    0.852 |  2.73 | 22.89 | 'heat and power co-generation, natural gas, 200kW electrical, lean burn' (megajoule, CH, None)\n",
      "      -0.264 | -0.8445 | -4.037 | 'market for electricity, high voltage' (kilowatt hour, CH, None)\n",
      "      0.283 | 0.9079 | 1.129 | 'market for natural gas, low pressure' (cubic meter, CH, None)\n"
     ]
    }
   ],
   "source": [
    "# One option to do a contribution analysis is to use the recursive calculation method\n",
    "bwa.print_recursive_calculation(ceramics_ei,\n",
    "lcia_method=lcia_gwp100,max_level=3,cutoff=0.05)"
   ]
  },
  {
   "cell_type": "code",
   "execution_count": 72,
   "id": "185b3405",
   "metadata": {},
   "outputs": [
    {
     "data": {
      "text/html": [
       "<div>\n",
       "<style scoped>\n",
       "    .dataframe tbody tr th:only-of-type {\n",
       "        vertical-align: middle;\n",
       "    }\n",
       "\n",
       "    .dataframe tbody tr th {\n",
       "        vertical-align: top;\n",
       "    }\n",
       "\n",
       "    .dataframe thead th {\n",
       "        text-align: right;\n",
       "    }\n",
       "</style>\n",
       "<table border=\"1\" class=\"dataframe\">\n",
       "  <thead>\n",
       "    <tr style=\"text-align: right;\">\n",
       "      <th></th>\n",
       "      <th>label</th>\n",
       "      <th>parent</th>\n",
       "      <th>score</th>\n",
       "      <th>fraction</th>\n",
       "      <th>amount</th>\n",
       "      <th>name</th>\n",
       "      <th>key</th>\n",
       "    </tr>\n",
       "  </thead>\n",
       "  <tbody>\n",
       "    <tr>\n",
       "      <th>0</th>\n",
       "      <td>root</td>\n",
       "      <td>None</td>\n",
       "      <td>0.726579</td>\n",
       "      <td>1.000000</td>\n",
       "      <td>1.000000e+00</td>\n",
       "      <td>porcelain ceramics production</td>\n",
       "      <td>(bw25_db, a1b7153986d8f8387752b14278a0b4c2)</td>\n",
       "    </tr>\n",
       "    <tr>\n",
       "      <th>1</th>\n",
       "      <td>root_a</td>\n",
       "      <td>root</td>\n",
       "      <td>0.145070</td>\n",
       "      <td>0.199662</td>\n",
       "      <td>5.775000e-01</td>\n",
       "      <td>market for kaolin</td>\n",
       "      <td>(ecoinvent310clca, ab4384f247d3857b5d30e291407...</td>\n",
       "    </tr>\n",
       "    <tr>\n",
       "      <th>2</th>\n",
       "      <td>root_b</td>\n",
       "      <td>root</td>\n",
       "      <td>0.015081</td>\n",
       "      <td>0.020756</td>\n",
       "      <td>2.750000e-01</td>\n",
       "      <td>market for feldspar</td>\n",
       "      <td>(ecoinvent310clca, d1b241d797d752c6515a7bb3d13...</td>\n",
       "    </tr>\n",
       "    <tr>\n",
       "      <th>3</th>\n",
       "      <td>root_d</td>\n",
       "      <td>root</td>\n",
       "      <td>0.240714</td>\n",
       "      <td>0.331297</td>\n",
       "      <td>1.027700e+00</td>\n",
       "      <td>market group for electricity, high voltage</td>\n",
       "      <td>(ecoinvent310clca, 1e1014b29f9e44d8265fcd8d871...</td>\n",
       "    </tr>\n",
       "    <tr>\n",
       "      <th>4</th>\n",
       "      <td>root_e</td>\n",
       "      <td>root</td>\n",
       "      <td>0.282982</td>\n",
       "      <td>0.389472</td>\n",
       "      <td>4.506667e-01</td>\n",
       "      <td>market group for natural gas, high pressure</td>\n",
       "      <td>(ecoinvent310clca, 1fc2418e39967f8ff8432afc4b6...</td>\n",
       "    </tr>\n",
       "    <tr>\n",
       "      <th>5</th>\n",
       "      <td>root_f</td>\n",
       "      <td>root</td>\n",
       "      <td>0.031445</td>\n",
       "      <td>0.043279</td>\n",
       "      <td>1.250000e-10</td>\n",
       "      <td>packaging glass factory construction</td>\n",
       "      <td>(ecoinvent310clca, d1d37459bfab78d834c25f0a808...</td>\n",
       "    </tr>\n",
       "  </tbody>\n",
       "</table>\n",
       "</div>"
      ],
      "text/plain": [
       "    label parent     score  fraction        amount  \\\n",
       "0    root   None  0.726579  1.000000  1.000000e+00   \n",
       "1  root_a   root  0.145070  0.199662  5.775000e-01   \n",
       "2  root_b   root  0.015081  0.020756  2.750000e-01   \n",
       "3  root_d   root  0.240714  0.331297  1.027700e+00   \n",
       "4  root_e   root  0.282982  0.389472  4.506667e-01   \n",
       "5  root_f   root  0.031445  0.043279  1.250000e-10   \n",
       "\n",
       "                                          name  \\\n",
       "0                porcelain ceramics production   \n",
       "1                            market for kaolin   \n",
       "2                          market for feldspar   \n",
       "3   market group for electricity, high voltage   \n",
       "4  market group for natural gas, high pressure   \n",
       "5         packaging glass factory construction   \n",
       "\n",
       "                                                 key  \n",
       "0        (bw25_db, a1b7153986d8f8387752b14278a0b4c2)  \n",
       "1  (ecoinvent310clca, ab4384f247d3857b5d30e291407...  \n",
       "2  (ecoinvent310clca, d1b241d797d752c6515a7bb3d13...  \n",
       "3  (ecoinvent310clca, 1e1014b29f9e44d8265fcd8d871...  \n",
       "4  (ecoinvent310clca, 1fc2418e39967f8ff8432afc4b6...  \n",
       "5  (ecoinvent310clca, d1d37459bfab78d834c25f0a808...  "
      ]
     },
     "execution_count": 72,
     "metadata": {},
     "output_type": "execute_result"
    }
   ],
   "source": [
    "# Another option is to use the recursive calculation to an object, which returns a DataFrame\n",
    "ceramics_bw_ca = bwa.utils.recursive_calculation_to_object(ceramics_bw,\n",
    "                                          lcia_method=lcia_gwp100,\n",
    "                                          max_level=1,\n",
    "                                          cutoff=0.02,\n",
    "                                          as_dataframe=True,\n",
    "                                          )\n",
    "ceramics_bw_ca"
   ]
  },
  {
   "cell_type": "code",
   "execution_count": 73,
   "id": "fa20fc0a",
   "metadata": {},
   "outputs": [
    {
     "data": {
      "text/html": [
       "<div>\n",
       "<style scoped>\n",
       "    .dataframe tbody tr th:only-of-type {\n",
       "        vertical-align: middle;\n",
       "    }\n",
       "\n",
       "    .dataframe tbody tr th {\n",
       "        vertical-align: top;\n",
       "    }\n",
       "\n",
       "    .dataframe thead th {\n",
       "        text-align: right;\n",
       "    }\n",
       "</style>\n",
       "<table border=\"1\" class=\"dataframe\">\n",
       "  <thead>\n",
       "    <tr style=\"text-align: right;\">\n",
       "      <th></th>\n",
       "      <th>label</th>\n",
       "      <th>parent</th>\n",
       "      <th>score</th>\n",
       "      <th>fraction</th>\n",
       "      <th>amount</th>\n",
       "      <th>name</th>\n",
       "      <th>key</th>\n",
       "    </tr>\n",
       "  </thead>\n",
       "  <tbody>\n",
       "    <tr>\n",
       "      <th>0</th>\n",
       "      <td>root</td>\n",
       "      <td>None</td>\n",
       "      <td>3.204854</td>\n",
       "      <td>1.000000</td>\n",
       "      <td>1.000000e+00</td>\n",
       "      <td>sanitary ceramics production</td>\n",
       "      <td>(ecoinvent310clca, f4c28131c8632ceafd5ba9e2824...</td>\n",
       "    </tr>\n",
       "    <tr>\n",
       "      <th>1</th>\n",
       "      <td>root_b</td>\n",
       "      <td>root</td>\n",
       "      <td>0.096369</td>\n",
       "      <td>0.030070</td>\n",
       "      <td>4.000000e-09</td>\n",
       "      <td>ceramic factory construction</td>\n",
       "      <td>(ecoinvent310clca, 761b89a10caf803ec946412afce...</td>\n",
       "    </tr>\n",
       "    <tr>\n",
       "      <th>2</th>\n",
       "      <td>root_e</td>\n",
       "      <td>root</td>\n",
       "      <td>0.188177</td>\n",
       "      <td>0.058716</td>\n",
       "      <td>8.780000e-01</td>\n",
       "      <td>market for electricity, medium voltage</td>\n",
       "      <td>(ecoinvent310clca, f5470659c2f13b8d76123cdf597...</td>\n",
       "    </tr>\n",
       "    <tr>\n",
       "      <th>3</th>\n",
       "      <td>root_h</td>\n",
       "      <td>root</td>\n",
       "      <td>2.730413</td>\n",
       "      <td>0.851962</td>\n",
       "      <td>2.289500e+01</td>\n",
       "      <td>market for heat, district or industrial, natur...</td>\n",
       "      <td>(ecoinvent310clca, 7f5f59a9e27382bbf6e0548c257...</td>\n",
       "    </tr>\n",
       "    <tr>\n",
       "      <th>4</th>\n",
       "      <td>root_j</td>\n",
       "      <td>root</td>\n",
       "      <td>0.111534</td>\n",
       "      <td>0.034802</td>\n",
       "      <td>4.440000e-01</td>\n",
       "      <td>market for kaolin</td>\n",
       "      <td>(ecoinvent310clca, ab4384f247d3857b5d30e291407...</td>\n",
       "    </tr>\n",
       "  </tbody>\n",
       "</table>\n",
       "</div>"
      ],
      "text/plain": [
       "    label parent     score  fraction        amount  \\\n",
       "0    root   None  3.204854  1.000000  1.000000e+00   \n",
       "1  root_b   root  0.096369  0.030070  4.000000e-09   \n",
       "2  root_e   root  0.188177  0.058716  8.780000e-01   \n",
       "3  root_h   root  2.730413  0.851962  2.289500e+01   \n",
       "4  root_j   root  0.111534  0.034802  4.440000e-01   \n",
       "\n",
       "                                                name  \\\n",
       "0                       sanitary ceramics production   \n",
       "1                       ceramic factory construction   \n",
       "2             market for electricity, medium voltage   \n",
       "3  market for heat, district or industrial, natur...   \n",
       "4                                  market for kaolin   \n",
       "\n",
       "                                                 key  \n",
       "0  (ecoinvent310clca, f4c28131c8632ceafd5ba9e2824...  \n",
       "1  (ecoinvent310clca, 761b89a10caf803ec946412afce...  \n",
       "2  (ecoinvent310clca, f5470659c2f13b8d76123cdf597...  \n",
       "3  (ecoinvent310clca, 7f5f59a9e27382bbf6e0548c257...  \n",
       "4  (ecoinvent310clca, ab4384f247d3857b5d30e291407...  "
      ]
     },
     "execution_count": 73,
     "metadata": {},
     "output_type": "execute_result"
    }
   ],
   "source": [
    "# The goal here is to conduct the same analysis for the ecoinvent process so we can compare the contributions later\n",
    "ceramics_ei_ca = bwa.utils.recursive_calculation_to_object(ceramics_ei,\n",
    "                                          lcia_method=lcia_gwp100,\n",
    "                                          max_level=1,\n",
    "                                          cutoff=0.02,\n",
    "                                          as_dataframe=True,\n",
    "                                          )\n",
    "ceramics_ei_ca"
   ]
  },
  {
   "cell_type": "markdown",
   "id": "65ca78a9",
   "metadata": {},
   "source": [
    "### 7. Plot Contribution analysis graphs"
   ]
  },
  {
   "cell_type": "code",
   "execution_count": 74,
   "id": "d8658a79",
   "metadata": {},
   "outputs": [],
   "source": [
    "# Filter out the parent processes that are not relevant for the contribution analysis\n",
    "ceramics_bw_ca = ceramics_bw_ca.dropna(subset='parent') \n",
    "ceramics_ei_ca = ceramics_ei_ca.dropna(subset='parent')"
   ]
  },
  {
   "cell_type": "code",
   "execution_count": 75,
   "id": "2fbec9b8",
   "metadata": {},
   "outputs": [
    {
     "data": {
      "image/png": "[encoded data removed]",
      "text/plain": [
       "<Figure size 600x300 with 1 Axes>"
      ]
     },
     "metadata": {},
     "output_type": "display_data"
    }
   ],
   "source": [
    "# First, we plot the contribution analysis for the brigthway ceramics production process\n",
    "f, ax = plt.subplots(figsize=(6, 3))\n",
    "sns.barplot(y='name', x='score', data=ceramics_bw_ca, ax=ax)\n",
    "ax.set(\n",
    "    title='Contribution analysis of the product under study',\n",
    "    xlabel='CO2 eq. emissions (kg)',\n",
    "    ylabel='')\n",
    "plt.tight_layout()\n",
    "plt.show()\n"
   ]
  },
  {
   "cell_type": "code",
   "execution_count": 76,
   "id": "d5135d1e",
   "metadata": {},
   "outputs": [
    {
     "data": {
      "image/png": "[encoded data removed]",
      "text/plain": [
       "<Figure size 600x300 with 1 Axes>"
      ]
     },
     "metadata": {},
     "output_type": "display_data"
    }
   ],
   "source": [
    "# Then, we plot the same for the ecoinvent ceramics production process\n",
    "f, ax = plt.subplots(figsize=(6, 3))\n",
    "sns.barplot(y='name', x='score', data=ceramics_ei_ca, ax=ax)\n",
    "ax.set(\n",
    "    title='Contribution analysis of the product under study',\n",
    "    xlabel='CO2 eq. emissions (kg)',\n",
    "    ylabel='')\n",
    "plt.tight_layout()\n",
    "plt.show()\n"
   ]
  },
  {
   "cell_type": "markdown",
   "id": "80ed83fb",
   "metadata": {},
   "source": [
    "### 8. Comparison\n",
    "\n",
    "Only your creativity limits you in what you can do with the results from the impact assessment and contribution analysis. The data can also be stored in a combined dataframe (=combined_df) to then be shown in the same graph conveniently."
   ]
  },
  {
   "cell_type": "code",
   "execution_count": 77,
   "id": "414bdf37",
   "metadata": {},
   "outputs": [
    {
     "data": {
      "text/plain": [
       "activity     contributor                                         \n",
       "ceramics_bw  market for kaolin                                       0.145070\n",
       "             market for feldspar                                     0.015081\n",
       "             market group for electricity, high voltage              0.240714\n",
       "             market group for natural gas, high pressure             0.282982\n",
       "             packaging glass factory construction                    0.031445\n",
       "ceramics_ei  ceramic factory construction                            0.096369\n",
       "             market for electricity, medium voltage                  0.188177\n",
       "             market for heat, district or industrial, natural gas    2.730413\n",
       "             market for kaolin                                       0.111534\n",
       "Name: score, dtype: float64"
      ]
     },
     "execution_count": 77,
     "metadata": {},
     "output_type": "execute_result"
    }
   ],
   "source": [
    "combined_df = pd.concat([ceramics_bw_ca.set_index('name').score,ceramics_ei_ca.set_index('name').score],\n",
    "                        keys=['ceramics_bw','ceramics_ei'],\n",
    "                        names=['activity','contributor'])\n",
    "combined_df"
   ]
  },
  {
   "cell_type": "code",
   "execution_count": 78,
   "id": "2f4a8b06",
   "metadata": {},
   "outputs": [
    {
     "data": {
      "image/png": "[encoded data removed]",
      "text/plain": [
       "<Figure size 1000x600 with 1 Axes>"
      ]
     },
     "metadata": {},
     "output_type": "display_data"
    }
   ],
   "source": [
    "ax = combined_df.unstack().plot.barh(\n",
    "    stacked=True,\n",
    "    title='Main contributors to global warming',\n",
    "    xlabel='kg CO2eq',\n",
    "    figsize=(10,6)\n",
    ")\n",
    "\n",
    "plt.legend(bbox_to_anchor=(1.05, 1), loc='upper left')  # moves legend outside\n",
    "plt.tight_layout()\n",
    "plt.show()"
   ]
  }
 ],
 "metadata": {
  "kernelspec": {
   "display_name": "LCA_Toolbox",
   "language": "python",
   "name": "python3"
  },
  "language_info": {
   "codemirror_mode": {
    "name": "ipython",
    "version": 3
   },
   "file_extension": ".py",
   "mimetype": "text/x-python",
   "name": "python",
   "nbconvert_exporter": "python",
   "pygments_lexer": "ipython3",
   "version": "3.11.13"
  }
 },
 "nbformat": 4,
 "nbformat_minor": 5
}
