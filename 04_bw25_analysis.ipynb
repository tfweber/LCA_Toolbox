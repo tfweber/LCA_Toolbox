{
 "cells": [
  {
   "cell_type": "markdown",
   "id": "c750cf2e",
   "metadata": {},
   "source": [
    "**READ.ME**\n",
    "\n",
    "This file helps you explore the functions of Brightway 2.5 in an intuitive way. So far, we have linked a background database with a simple foreground model in the previous sections of this repository.\n",
    "\n",
    "It is not a tutorial to go through, but a collection of usable code which you can adapt for your own projects. The goal is to make Brightway 2.5 easy to use for your own projects. Any contribution to this overview is welcome.\n",
    "\n",
    "\n",
    "## 🌍 Brightway 2.5 - Quick Exploration Guide\n",
    "\n",
    "Before analyzing a Brightway model, ensure all required packages, databases, and projects are installed. These have already been set up in other scripts in this repository, so we can call them directly from the project folder stored in Brightway without re-importing or re-matching background databases.\n",
    "\n",
    "### ⚙️ Step 1: Load Your Project\n",
    "\n",
    "After ensuring all necessary packages are installed, you call the same project where you have installed and imported your databases. This happens through:\n",
    "\n",
    "    bd.projects.set_current('LCA_Toolbox')\n",
    "\n"
   ]
  },
  {
   "cell_type": "code",
   "execution_count": null,
   "id": "3669ab2c",
   "metadata": {},
   "outputs": [],
   "source": [
    "# basic packages from brightway\n",
    "import bw2analyzer as ba\n",
    "import bw2calc as bc\n",
    "import bw2data as bd\n",
    "import bw2io as bi\n",
    "from bw2io.importers import SingleOutputEcospold2Importer\n",
    "import bw2analyzer as bwa\n",
    "from bw2data import methods\n",
    "\n",
    "# other relevant packages\n",
    "import numpy as np\n",
    "import pandas as pd\n",
    "import matplotlib.pyplot as plt\n",
    "from pathlib import Path\n",
    "import seaborn as sns"
   ]
  },
  {
   "cell_type": "code",
   "execution_count": null,
   "id": "30000da6",
   "metadata": {},
   "outputs": [],
   "source": [
    "# call the project we want to work in, in this case brightway25 where we have set up the databases\n",
    "bd.projects.set_current('LCA_Toolbox')"
   ]
  },
  {
   "cell_type": "markdown",
   "id": "5b324b81",
   "metadata": {},
   "source": [
    "### ⚙️ Step 2: Database overview\n",
    "\n",
    "This section provides an overview of the background and foreground databases stored in the Brightway project."
   ]
  },
  {
   "cell_type": "code",
   "execution_count": null,
   "id": "b46e4c34",
   "metadata": {},
   "outputs": [],
   "source": [
    "bd.databases"
   ]
  },
  {
   "cell_type": "code",
   "execution_count": null,
   "id": "78022104",
   "metadata": {},
   "outputs": [],
   "source": [
    "bd.projects.current"
   ]
  },
  {
   "cell_type": "code",
   "execution_count": null,
   "id": "9d616a26",
   "metadata": {},
   "outputs": [],
   "source": [
    "ei_clca = bd.Database('ecoinvent310clca')\n",
    "ei_bio = bd.Database('ecoinvent-3.10-biosphere')\n",
    "db_template = bd.Database('bw25_db')\n",
    "el_bio3 = bd.Database('biosphere3')"
   ]
  },
  {
   "cell_type": "markdown",
   "id": "aca1586a",
   "metadata": {},
   "source": [
    "#### 🔍 Step 3: Searching the Database\n",
    "\n",
    "Use the following function to search your database:\n",
    "\n",
    "```python\n",
    "database.search('')"
   ]
  },
  {
   "cell_type": "code",
   "execution_count": null,
   "id": "ddaf4b71",
   "metadata": {},
   "outputs": [],
   "source": [
    "# search for activities in the database\n",
    "db_template.search('ceramics')"
   ]
  },
  {
   "cell_type": "code",
   "execution_count": null,
   "id": "45a4e890",
   "metadata": {},
   "outputs": [],
   "source": [
    "ei_clca.search('welding')"
   ]
  },
  {
   "cell_type": "code",
   "execution_count": null,
   "id": "c2d58e87",
   "metadata": {},
   "outputs": [],
   "source": [
    "# select a random activity from the database\n",
    "ei_clca.random()"
   ]
  },
  {
   "cell_type": "markdown",
   "id": "1ec8dcc3",
   "metadata": {},
   "source": [
    "#### 🧾 Step 4: Select a Process & Check Inventory\n",
    "\n",
    "The code below assigns the object \"define_name\" to the entry in the database that matches the search criteria.\n",
    "\n",
    "    define_name = database.get(name='', location='', unit='')\n",
    "\n",
    "You can directly export the inventory of the defined process to an Excel overview using the following code.\n",
    "\n",
    "    bi.export.excel.write_lci_excel(database.name, objs=[define_name], dirpath=Path.cwd())"
   ]
  },
  {
   "cell_type": "code",
   "execution_count": null,
   "id": "ce9a7d73",
   "metadata": {},
   "outputs": [],
   "source": [
    "# define a process and store in a object in the project\n",
    "ceramics_bw = db_template.get(name = 'porcelain ceramics production', location = \"RER\", unit = 'kilogram')\n",
    "ceramics_ei = ei_clca.get(name = 'sanitary ceramics production', location = \"CH\", unit = 'kilogram')"
   ]
  },
  {
   "cell_type": "code",
   "execution_count": null,
   "id": "d0ee39db",
   "metadata": {},
   "outputs": [],
   "source": [
    "# export the LCI to Microsoft Excel in an overview format\n",
    "bi.export.excel.write_lci_excel(db_template.name, objs=[transport], dirpath=Path.cwd())"
   ]
  },
  {
   "cell_type": "code",
   "execution_count": null,
   "id": "d5b359a3",
   "metadata": {},
   "outputs": [],
   "source": [
    "# print the outputs of the process\n",
    "list(steel.production())"
   ]
  },
  {
   "cell_type": "code",
   "execution_count": null,
   "id": "f4edf33b",
   "metadata": {},
   "outputs": [],
   "source": [
    "# print the consumers of a product\n",
    "list(steel.consumers())\n"
   ]
  },
  {
   "cell_type": "code",
   "execution_count": null,
   "id": "a3665307",
   "metadata": {},
   "outputs": [],
   "source": [
    "# (1) this is a way to print all exchanges of a process, there are multiple ways to extract this information\n",
    "list(steel.edges())\n"
   ]
  },
  {
   "cell_type": "code",
   "execution_count": null,
   "id": "3758f24f",
   "metadata": {},
   "outputs": [],
   "source": [
    "# (2) this is an other way to print all exchanges of a process\n",
    "exchanges = sorted(ceramics_bw.exchanges(), key=lambda exc: exc['amount'], reverse=True)\n",
    "for exc in exchanges:\n",
    "    print(exc)"
   ]
  },
  {
   "cell_type": "code",
   "execution_count": null,
   "id": "bbdced7f",
   "metadata": {},
   "outputs": [],
   "source": [
    "# (3) Alternative way to display all exchanges with the technosphere\n",
    "list(ceramics_ei.technosphere())\n"
   ]
  },
  {
   "cell_type": "markdown",
   "id": "6f6d8c1a",
   "metadata": {},
   "source": [
    "### 🌿 Step 4: Impact Assessment Methods\n",
    "\n",
    "To calculate the Life Cycle Impacts the back- and foreground need to be linked to an assessment method. There is a large number of available methods that are pre-installed together with the ecoinvent biosphere flows in the 01_bw25_ecoinvent_importer script."
   ]
  },
  {
   "cell_type": "code",
   "execution_count": null,
   "id": "feffe801",
   "metadata": {},
   "outputs": [],
   "source": [
    "# here we will analyse the set of methods that are available as part of the background\n",
    "list(bd.methods)[:5]"
   ]
  },
  {
   "cell_type": "code",
   "execution_count": null,
   "id": "a00284e0",
   "metadata": {},
   "outputs": [],
   "source": [
    "# printing all methods that contain a specific keyword, e.g. \"climate change\"\n",
    "climate_methods = [m for m in bd.methods if any(\"climate change\" in str(part).lower() for part in m)]\n",
    "for method in climate_methods:\n",
    "    print(method)"
   ]
  },
  {
   "cell_type": "code",
   "execution_count": null,
   "id": "3b0b476b",
   "metadata": {},
   "outputs": [],
   "source": [
    "# selecting the impact assessment methods that we want to use in our analysis\n",
    "lcia_gwp100 = ('EF v3.1', 'climate change', 'global warming potential (GWP100)')\n",
    "lcia_water = ('EF v3.1','water use','user deprivation potential (deprivation-weighted water consumption)')\n",
    "lcia_land = ('EF v3.1', 'land use', 'soil quality index')"
   ]
  },
  {
   "cell_type": "markdown",
   "id": "52d66648",
   "metadata": {},
   "source": [
    "### 📈 5. LCIA\n",
    "\n",
    "This section shows how LCA results can be calculated quickly and be displayed as final score, process- and elementary flow based."
   ]
  },
  {
   "cell_type": "code",
   "execution_count": null,
   "id": "ca05a284",
   "metadata": {},
   "outputs": [],
   "source": [
    "# Quick LCIA calculation\n",
    "ceramics_bw_lca = ceramics_bw.lca(lcia_gwp100)\n",
    "ceramics_bw_lca.score\n"
   ]
  },
  {
   "cell_type": "code",
   "execution_count": null,
   "id": "a0b8bded",
   "metadata": {},
   "outputs": [],
   "source": [
    "ceramics_ei_lca = ceramics_ei.lca(lcia_gwp100)\n",
    "ceramics_ei_lca.score"
   ]
  },
  {
   "cell_type": "code",
   "execution_count": null,
   "id": "3177f8ec",
   "metadata": {},
   "outputs": [],
   "source": [
    "# Elementary flows contribution analysis by process\n",
    "ceramics_ei_lca.to_dataframe().pivot_table(index=['col_name', 'row_name'], values='amount', aggfunc='sum').sort_values(by='amount', ascending=False)"
   ]
  },
  {
   "cell_type": "code",
   "execution_count": null,
   "id": "0943b393",
   "metadata": {},
   "outputs": [],
   "source": [
    "# Elementary flows contribution analysis as summary table\n",
    "ceramics_ei_lca.to_dataframe().pivot_table(index='row_name',values='amount',aggfunc='sum')"
   ]
  },
  {
   "cell_type": "markdown",
   "id": "357aef27",
   "metadata": {},
   "source": [
    "### 📊 6. Contribution analysis\n",
    "\n",
    "There are different ways to analyse the contribution analysis in Brightway 2.5. Two ways are displayed below. The max_level and cutoff can be adjusted based on the level of detail you want from the analysis."
   ]
  },
  {
   "cell_type": "code",
   "execution_count": null,
   "id": "a49b7b1e",
   "metadata": {},
   "outputs": [],
   "source": [
    "# One option to do a contribution analysis is to use the recursive calculation method\n",
    "bwa.print_recursive_calculation(ceramics_bw,\n",
    "lcia_method=lcia_gwp100,max_level=3,cutoff=0.05)"
   ]
  },
  {
   "cell_type": "code",
   "execution_count": null,
   "id": "13ff9308",
   "metadata": {},
   "outputs": [],
   "source": [
    "# One option to do a contribution analysis is to use the recursive calculation method\n",
    "bwa.print_recursive_calculation(ceramics_ei,\n",
    "lcia_method=lcia_gwp100,max_level=3,cutoff=0.05)"
   ]
  },
  {
   "cell_type": "code",
   "execution_count": null,
   "id": "185b3405",
   "metadata": {},
   "outputs": [],
   "source": [
    "# Another option is to use the recursive calculation to an object, which returns a DataFrame\n",
    "ceramics_bw_ca = bwa.utils.recursive_calculation_to_object(ceramics_bw,\n",
    "                                          lcia_method=lcia_gwp100,\n",
    "                                          max_level=1,\n",
    "                                          cutoff=0.02,\n",
    "                                          as_dataframe=True,\n",
    "                                          )\n",
    "ceramics_bw_ca"
   ]
  },
  {
   "cell_type": "code",
   "execution_count": null,
   "id": "fa20fc0a",
   "metadata": {},
   "outputs": [],
   "source": [
    "# The goal here is to conduct the same analysis for the ecoinvent process so we can compare the contributions later\n",
    "ceramics_ei_ca = bwa.utils.recursive_calculation_to_object(ceramics_ei,\n",
    "                                          lcia_method=lcia_gwp100,\n",
    "                                          max_level=1,\n",
    "                                          cutoff=0.02,\n",
    "                                          as_dataframe=True,\n",
    "                                          )\n",
    "ceramics_ei_ca"
   ]
  },
  {
   "cell_type": "markdown",
   "id": "65ca78a9",
   "metadata": {},
   "source": [
    "### 7. Plot Contribution analysis graphs"
   ]
  },
  {
   "cell_type": "code",
   "execution_count": null,
   "id": "d8658a79",
   "metadata": {},
   "outputs": [],
   "source": [
    "# Filter out the parent processes that are not relevant for the contribution analysis\n",
    "ceramics_bw_ca = ceramics_bw_ca.dropna(subset='parent') \n",
    "ceramics_ei_ca = ceramics_ei_ca.dropna(subset='parent')"
   ]
  },
  {
   "cell_type": "code",
   "execution_count": null,
   "id": "2fbec9b8",
   "metadata": {},
   "outputs": [],
   "source": [
    "# First, we plot the contribution analysis for the brigthway ceramics production process\n",
    "f, ax = plt.subplots(figsize=(6, 3))\n",
    "sns.barplot(y='name', x='score', data=ceramics_bw_ca, ax=ax)\n",
    "ax.set(\n",
    "    title='Contribution analysis of the product under study',\n",
    "    xlabel='CO2 eq. emissions (kg)',\n",
    "    ylabel='')\n",
    "plt.tight_layout()\n",
    "plt.show()\n"
   ]
  },
  {
   "cell_type": "code",
   "execution_count": null,
   "id": "d5135d1e",
   "metadata": {},
   "outputs": [],
   "source": [
    "# Then, we plot the same for the ecoinvent ceramics production process\n",
    "f, ax = plt.subplots(figsize=(6, 3))\n",
    "sns.barplot(y='name', x='score', data=ceramics_ei_ca, ax=ax)\n",
    "ax.set(\n",
    "    title='Contribution analysis of the product under study',\n",
    "    xlabel='CO2 eq. emissions (kg)',\n",
    "    ylabel='')\n",
    "plt.tight_layout()\n",
    "plt.show()\n"
   ]
  },
  {
   "cell_type": "markdown",
   "id": "80ed83fb",
   "metadata": {},
   "source": [
    "### 8. Comparison\n",
    "\n",
    "Only your creativity limits you in what you can do with the results from the impact assessment and contribution analysis. The data can also be stored in a combined dataframe (=combined_df) to then be shown in the same graph conveniently."
   ]
  },
  {
   "cell_type": "code",
   "execution_count": null,
   "id": "414bdf37",
   "metadata": {},
   "outputs": [],
   "source": [
    "combined_df = pd.concat([ceramics_bw_ca.set_index('name').score,ceramics_ei_ca.set_index('name').score],\n",
    "                        keys=['ceramics_bw','ceramics_ei'],\n",
    "                        names=['activity','contributor'])\n",
    "combined_df"
   ]
  },
  {
   "cell_type": "code",
   "execution_count": null,
   "id": "2f4a8b06",
   "metadata": {},
   "outputs": [],
   "source": [
    "ax = combined_df.unstack().plot.barh(\n",
    "    stacked=True,\n",
    "    title='Main contributors to global warming',\n",
    "    xlabel='kg CO2eq',\n",
    "    figsize=(10,6)\n",
    ")\n",
    "\n",
    "plt.legend(bbox_to_anchor=(1.05, 1), loc='upper left')  # moves legend outside\n",
    "plt.tight_layout()\n",
    "plt.show()"
   ]
  }
 ],
 "metadata": {
  "kernelspec": {
   "display_name": "LCA_Toolbox",
   "language": "python",
   "name": "python3"
  },
  "language_info": {
   "codemirror_mode": {
    "name": "ipython",
    "version": 3
   },
   "file_extension": ".py",
   "mimetype": "text/x-python",
   "name": "python",
   "nbconvert_exporter": "python",
   "pygments_lexer": "ipython3",
   "version": "3.11.13"
  }
 },
 "nbformat": 4,
 "nbformat_minor": 5
}
