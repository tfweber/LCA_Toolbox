{
 "cells": [
  {
   "cell_type": "markdown",
   "id": "c750cf2e",
   "metadata": {},
   "source": [
    "**READ.ME**\n",
    "\n",
    "This file helps you explore the functions of Brightway 2.5 in an intuitive way. So far, we have linked a background database with a simple foreground model in the previous sections of this repository.\n",
    "\n",
    "It is not a tutorial to go through, but a collection of usable code which you can adapt for your own projects. The goal is to make Brightway 2.5 easy to use for your own projects. Any contribution to this overview is welcome.\n",
    "\n",
    "\n",
    "## 🌍 Brightway 2.5 - Quick Exploration Guide\n",
    "\n",
    "Before analyzing a Brightway model, ensure all required packages, databases, and projects are installed. These have already been set up in other scripts in this repository, so we can call them directly from the project folder stored in Brightway without re-importing or re-matching background databases.\n",
    "\n",
    "### ⚙️ Step 1: Load Your Project\n",
    "\n",
    "After ensuring all necessary packages are installed, you call the same project where you have installed and imported your databases. This happens through `bd.projects.set_current('LCA_Toolbox')`\n",
    "\n"
   ]
  },
  {
   "cell_type": "code",
   "execution_count": 1,
   "id": "3669ab2c",
   "metadata": {},
   "outputs": [],
   "source": [
    "# basic packages from brightway\n",
    "import bw2analyzer as ba\n",
    "import bw2calc as bc\n",
    "import bw2data as bd\n",
    "import bw2io as bi\n",
    "from bw2io.importers import SingleOutputEcospold2Importer\n",
    "import bw2analyzer as bwa\n",
    "from bw2data import methods\n",
    "\n",
    "# other relevant packages\n",
    "import numpy as np\n",
    "import pandas as pd\n",
    "import matplotlib.pyplot as plt\n",
    "from pathlib import Path\n",
    "import seaborn as sns"
   ]
  },
  {
   "cell_type": "code",
   "execution_count": 2,
   "id": "30000da6",
   "metadata": {},
   "outputs": [],
   "source": [
    "# call the project we want to work in, in this case brightway25 where we have set up the databases\n",
    "bd.projects.set_current('LCA_Toolbox')"
   ]
  },
  {
   "cell_type": "markdown",
   "id": "5b324b81",
   "metadata": {},
   "source": [
    "### ⚙️ Step 2: Database overview\n",
    "\n",
    "This section provides an overview of the background and foreground databases stored in the Brightway project."
   ]
  },
  {
   "cell_type": "code",
   "execution_count": 3,
   "id": "b46e4c34",
   "metadata": {},
   "outputs": [
    {
     "data": {
      "text/plain": [
       "Databases dictionary with 4 object(s):\n",
       "\tbiosphere3\n",
       "\tbw25_db\n",
       "\tecoinvent-3.10-biosphere\n",
       "\tecoinvent310clca"
      ]
     },
     "execution_count": 3,
     "metadata": {},
     "output_type": "execute_result"
    }
   ],
   "source": [
    "bd.databases"
   ]
  },
  {
   "cell_type": "code",
   "execution_count": 4,
   "id": "78022104",
   "metadata": {},
   "outputs": [
    {
     "data": {
      "text/plain": [
       "'LCA_Toolbox'"
      ]
     },
     "execution_count": 4,
     "metadata": {},
     "output_type": "execute_result"
    }
   ],
   "source": [
    "bd.projects.current"
   ]
  },
  {
   "cell_type": "code",
   "execution_count": 5,
   "id": "9d616a26",
   "metadata": {},
   "outputs": [],
   "source": [
    "ei_clca = bd.Database('ecoinvent310clca')\n",
    "ei_bio = bd.Database('ecoinvent-3.10-biosphere')\n",
    "db_template = bd.Database('bw25_db')\n",
    "el_bio3 = bd.Database('biosphere3')"
   ]
  },
  {
   "cell_type": "markdown",
   "id": "aca1586a",
   "metadata": {},
   "source": [
    "#### 🔍 Step 3: Searching the Database\n",
    "\n",
    "Use the following `database.search('')` function to search for entries in your database"
   ]
  },
  {
   "cell_type": "code",
   "execution_count": 6,
   "id": "ddaf4b71",
   "metadata": {},
   "outputs": [
    {
     "data": {
      "text/plain": [
       "['porcelain ceramics production' (kilogram, RER, None)]"
      ]
     },
     "execution_count": 6,
     "metadata": {},
     "output_type": "execute_result"
    }
   ],
   "source": [
    "# search for activities in the database\n",
    "db_template.search('ceramics')"
   ]
  },
  {
   "cell_type": "code",
   "execution_count": 34,
   "id": "45a4e890",
   "metadata": {},
   "outputs": [
    {
     "data": {
      "text/plain": [
       "['ammonia production, steam reforming, liquid' (kilogram, CN, None),\n",
       " 'ammonia production, steam reforming, liquid' (kilogram, RNA, None),\n",
       " 'ammonia production, steam reforming, liquid' (kilogram, RAF, None),\n",
       " 'ammonia production, steam reforming, liquid' (kilogram, RER w/o RU, None),\n",
       " 'ammonia production, steam reforming, liquid' (kilogram, RLA, None),\n",
       " 'ammonia production, steam reforming, liquid' (kilogram, UN-OCEANIA, None),\n",
       " 'ammonia production, steam reforming, liquid' (kilogram, UN-SEASIA, None),\n",
       " 'ammonia production, steam reforming, liquid' (kilogram, SAS, None),\n",
       " 'ammonia production, steam reforming, liquid' (kilogram, RU, None),\n",
       " 'ammonia production, partial oxidation, liquid' (kilogram, CN, None),\n",
       " 'ammonia production, partial oxidation, liquid' (kilogram, RoW, None),\n",
       " 'ammonia production, steam reforming, liquid' (kilogram, RoW, None),\n",
       " 'urea production' (kilogram, RER, None),\n",
       " 'urea production' (kilogram, CN, None),\n",
       " 'urea production' (kilogram, RNA, None),\n",
       " 'nutrient supply from ammonia, anhydrous, liquid' (kilogram, SAS, None),\n",
       " 'nutrient supply from ammonia, anhydrous, liquid' (kilogram, RAF, None),\n",
       " 'nutrient supply from ammonia, anhydrous, liquid' (kilogram, CN, None),\n",
       " 'nutrient supply from ammonia, anhydrous, liquid' (kilogram, RLA, None),\n",
       " 'nutrient supply from ammonia, anhydrous, liquid' (kilogram, RNA, None),\n",
       " 'nutrient supply from ammonia, anhydrous, liquid' (kilogram, RoW, None),\n",
       " 'nutrient supply from ammonia, anhydrous, liquid' (kilogram, RU, None),\n",
       " 'nutrient supply from ammonia, anhydrous, liquid' (kilogram, UN-OCEANIA, None),\n",
       " 'nutrient supply from ammonia, anhydrous, liquid' (kilogram, UN-SEASIA, None),\n",
       " 'nutrient supply from ammonia, anhydrous, liquid' (kilogram, RER w/o RU, None)]"
      ]
     },
     "execution_count": 34,
     "metadata": {},
     "output_type": "execute_result"
    }
   ],
   "source": [
    "ei_clca.search('ammonia production')"
   ]
  },
  {
   "cell_type": "code",
   "execution_count": 8,
   "id": "c2d58e87",
   "metadata": {},
   "outputs": [
    {
     "data": {
      "text/plain": [
       "'market for waste wood, untreated' (kilogram, BA, None)"
      ]
     },
     "execution_count": 8,
     "metadata": {},
     "output_type": "execute_result"
    }
   ],
   "source": [
    "# select a random activity from the database\n",
    "ei_clca.random()"
   ]
  },
  {
   "cell_type": "markdown",
   "id": "1ec8dcc3",
   "metadata": {},
   "source": [
    "#### 🧾 Step 4: Select a Process & Check Inventory\n",
    "\n",
    "`define_name = database.get(name='', location='', unit='')` assigns the object \"define_name\" to the entry in the database that matches the search criteria.\n",
    "    \n",
    "You can directly export the inventory of the defined process to an Excel overview through `bi.export.excel.write_lci_excel(database.name, objs=[define_name], dirpath=Path.cwd())`.\n",
    "\n",
    "    "
   ]
  },
  {
   "cell_type": "code",
   "execution_count": 35,
   "id": "ce9a7d73",
   "metadata": {},
   "outputs": [],
   "source": [
    "# define a process and store in a object in the project\n",
    "ceramics_bw = db_template.get(name = 'porcelain ceramics production', location = \"RER\", unit = 'kilogram')\n",
    "ceramics_ei = ei_clca.get(name = 'sanitary ceramics production', location = \"CH\", unit = 'kilogram')\n",
    "\n",
    "blasting = ei_clca.get(name = 'abrasive blasting, alumina, carbon steel substrate', location = \"GLO\", unit = 'square meter')\n",
    "\n",
    "ammonia = ei_clca.get(name = 'ammonia production, steam reforming, liquid', location = \"RER w/o RU\", unit = 'kilogram')"
   ]
  },
  {
   "cell_type": "code",
   "execution_count": 36,
   "id": "d0ee39db",
   "metadata": {},
   "outputs": [
    {
     "data": {
      "text/plain": [
       "'c:\\\\Users\\\\TimWeber\\\\repos_20LCA\\\\LCA_Toolbox\\\\lci-ecoinvent310clca.xlsx'"
      ]
     },
     "execution_count": 36,
     "metadata": {},
     "output_type": "execute_result"
    }
   ],
   "source": [
    "# export the LCI to Microsoft Excel in an overview format\n",
    "bi.export.excel.write_lci_excel(ei_clca.name, objs=[ammonia], dirpath=Path.cwd())"
   ]
  },
  {
   "cell_type": "code",
   "execution_count": 11,
   "id": "d5b359a3",
   "metadata": {},
   "outputs": [
    {
     "data": {
      "text/plain": [
       "[Exchange: 1.0 kilogram 'sanitary ceramics production' (kilogram, CH, None) to 'sanitary ceramics production' (kilogram, CH, None)>]"
      ]
     },
     "execution_count": 11,
     "metadata": {},
     "output_type": "execute_result"
    }
   ],
   "source": [
    "# print the outputs of the process\n",
    "list(ceramics_ei.production())"
   ]
  },
  {
   "cell_type": "code",
   "execution_count": 12,
   "id": "f4edf33b",
   "metadata": {},
   "outputs": [
    {
     "data": {
      "text/plain": [
       "[Exchange: 0.00841688555967824 kilogram 'sanitary ceramics production' (kilogram, CH, None) to 'market for sanitary ceramics' (kilogram, GLO, None)>]"
      ]
     },
     "execution_count": 12,
     "metadata": {},
     "output_type": "execute_result"
    }
   ],
   "source": [
    "# print the consumers of a product\n",
    "list(ceramics_ei.consumers())\n"
   ]
  },
  {
   "cell_type": "code",
   "execution_count": 13,
   "id": "a3665307",
   "metadata": {},
   "outputs": [
    {
     "data": {
      "text/plain": [
       "[Exchange: 1.0 kilogram 'sanitary ceramics production' (kilogram, CH, None) to 'sanitary ceramics production' (kilogram, CH, None)>,\n",
       " Exchange: -0.000177 kilogram 'market for bilge oil' (kilogram, CH, None) to 'sanitary ceramics production' (kilogram, CH, None)>,\n",
       " Exchange: 4e-09 unit 'ceramic factory construction' (unit, CH, None) to 'sanitary ceramics production' (kilogram, CH, None)>,\n",
       " Exchange: 0.00303 kilogram 'market for chemical, inorganic' (kilogram, GLO, None) to 'sanitary ceramics production' (kilogram, CH, None)>,\n",
       " Exchange: 0.425 kilogram 'market for clay' (kilogram, CH, None) to 'sanitary ceramics production' (kilogram, CH, None)>,\n",
       " Exchange: 0.878 kilowatt hour 'market for electricity, medium voltage' (kilowatt hour, CH, None) to 'sanitary ceramics production' (kilogram, CH, None)>,\n",
       " Exchange: 0.379 kilogram 'market for feldspar' (kilogram, GLO, None) to 'sanitary ceramics production' (kilogram, CH, None)>,\n",
       " Exchange: -0.000102 kilogram 'market for hazardous waste, for underground deposit' (kilogram, RER, None) to 'sanitary ceramics production' (kilogram, CH, None)>,\n",
       " Exchange: 22.895 megajoule 'market for heat, district or industrial, natural gas' (megajoule, CH, None) to 'sanitary ceramics production' (kilogram, CH, None)>,\n",
       " Exchange: -0.127 kilogram 'market for inert waste, for final disposal' (kilogram, CH, None) to 'sanitary ceramics production' (kilogram, CH, None)>,\n",
       " Exchange: 0.444 kilogram 'market for kaolin' (kilogram, GLO, None) to 'sanitary ceramics production' (kilogram, CH, None)>,\n",
       " Exchange: -0.0386 kilogram 'market for municipal solid waste' (kilogram, CH, None) to 'sanitary ceramics production' (kilogram, CH, None)>,\n",
       " Exchange: 0.00151 kilogram 'market for polyethylene, high density, granulate' (kilogram, GLO, None) to 'sanitary ceramics production' (kilogram, CH, None)>,\n",
       " Exchange: 0.251 kilogram 'market for silica sand' (kilogram, GLO, None) to 'sanitary ceramics production' (kilogram, CH, None)>,\n",
       " Exchange: -6.93e-05 kilogram 'market for spent solvent mixture' (kilogram, CH, None) to 'sanitary ceramics production' (kilogram, CH, None)>,\n",
       " Exchange: 0.125 kilogram 'market for stucco' (kilogram, GLO, None) to 'sanitary ceramics production' (kilogram, CH, None)>,\n",
       " Exchange: 0.541 kilogram 'market for tap water' (kilogram, CH, None) to 'sanitary ceramics production' (kilogram, CH, None)>,\n",
       " Exchange: -1.58e-07 kilogram 'market for waste emulsion paint' (kilogram, CH, None) to 'sanitary ceramics production' (kilogram, CH, None)>,\n",
       " Exchange: -0.000283 kilogram 'market for waste mineral oil' (kilogram, CH, None) to 'sanitary ceramics production' (kilogram, CH, None)>,\n",
       " Exchange: -4.34e-05 kilogram 'market for waste plastic, mixture' (kilogram, CH, None) to 'sanitary ceramics production' (kilogram, CH, None)>,\n",
       " Exchange: -0.000983 cubic meter 'market for wastewater from ceramic production' (cubic meter, CH, None) to 'sanitary ceramics production' (kilogram, CH, None)>,\n",
       " Exchange: 0.00871 kilogram 'Particulate Matter, < 2.5 um' (kilogram, None, ('air',)) to 'sanitary ceramics production' (kilogram, CH, None)>,\n",
       " Exchange: 0.00167115 cubic meter 'Water' (cubic meter, None, ('air',)) to 'sanitary ceramics production' (kilogram, CH, None)>,\n",
       " Exchange: 0.00848685 cubic meter 'Water' (cubic meter, None, ('water',)) to 'sanitary ceramics production' (kilogram, CH, None)>,\n",
       " Exchange: 0.0106 cubic meter 'Water, well, in ground' (cubic meter, None, ('natural resource', 'in water')) to 'sanitary ceramics production' (kilogram, CH, None)>]"
      ]
     },
     "execution_count": 13,
     "metadata": {},
     "output_type": "execute_result"
    }
   ],
   "source": [
    "# (1) this is a way to print all exchanges of a process, there are multiple ways to extract this information\n",
    "list(ceramics_ei.edges())\n"
   ]
  },
  {
   "cell_type": "code",
   "execution_count": 14,
   "id": "3758f24f",
   "metadata": {},
   "outputs": [
    {
     "name": "stdout",
     "output_type": "stream",
     "text": [
      "Exchange: 22.895 megajoule 'market for heat, district or industrial, natural gas' (megajoule, CH, None) to 'sanitary ceramics production' (kilogram, CH, None)>\n",
      "Exchange: 1.0 kilogram 'sanitary ceramics production' (kilogram, CH, None) to 'sanitary ceramics production' (kilogram, CH, None)>\n",
      "Exchange: 0.878 kilowatt hour 'market for electricity, medium voltage' (kilowatt hour, CH, None) to 'sanitary ceramics production' (kilogram, CH, None)>\n",
      "Exchange: 0.541 kilogram 'market for tap water' (kilogram, CH, None) to 'sanitary ceramics production' (kilogram, CH, None)>\n",
      "Exchange: 0.444 kilogram 'market for kaolin' (kilogram, GLO, None) to 'sanitary ceramics production' (kilogram, CH, None)>\n",
      "Exchange: 0.425 kilogram 'market for clay' (kilogram, CH, None) to 'sanitary ceramics production' (kilogram, CH, None)>\n",
      "Exchange: 0.379 kilogram 'market for feldspar' (kilogram, GLO, None) to 'sanitary ceramics production' (kilogram, CH, None)>\n",
      "Exchange: 0.251 kilogram 'market for silica sand' (kilogram, GLO, None) to 'sanitary ceramics production' (kilogram, CH, None)>\n",
      "Exchange: 0.125 kilogram 'market for stucco' (kilogram, GLO, None) to 'sanitary ceramics production' (kilogram, CH, None)>\n",
      "Exchange: 0.0106 cubic meter 'Water, well, in ground' (cubic meter, None, ('natural resource', 'in water')) to 'sanitary ceramics production' (kilogram, CH, None)>\n",
      "Exchange: 0.00871 kilogram 'Particulate Matter, < 2.5 um' (kilogram, None, ('air',)) to 'sanitary ceramics production' (kilogram, CH, None)>\n",
      "Exchange: 0.00848685 cubic meter 'Water' (cubic meter, None, ('water',)) to 'sanitary ceramics production' (kilogram, CH, None)>\n",
      "Exchange: 0.00303 kilogram 'market for chemical, inorganic' (kilogram, GLO, None) to 'sanitary ceramics production' (kilogram, CH, None)>\n",
      "Exchange: 0.00167115 cubic meter 'Water' (cubic meter, None, ('air',)) to 'sanitary ceramics production' (kilogram, CH, None)>\n",
      "Exchange: 0.00151 kilogram 'market for polyethylene, high density, granulate' (kilogram, GLO, None) to 'sanitary ceramics production' (kilogram, CH, None)>\n",
      "Exchange: 4e-09 unit 'ceramic factory construction' (unit, CH, None) to 'sanitary ceramics production' (kilogram, CH, None)>\n",
      "Exchange: -1.58e-07 kilogram 'market for waste emulsion paint' (kilogram, CH, None) to 'sanitary ceramics production' (kilogram, CH, None)>\n",
      "Exchange: -4.34e-05 kilogram 'market for waste plastic, mixture' (kilogram, CH, None) to 'sanitary ceramics production' (kilogram, CH, None)>\n",
      "Exchange: -6.93e-05 kilogram 'market for spent solvent mixture' (kilogram, CH, None) to 'sanitary ceramics production' (kilogram, CH, None)>\n",
      "Exchange: -0.000102 kilogram 'market for hazardous waste, for underground deposit' (kilogram, RER, None) to 'sanitary ceramics production' (kilogram, CH, None)>\n",
      "Exchange: -0.000177 kilogram 'market for bilge oil' (kilogram, CH, None) to 'sanitary ceramics production' (kilogram, CH, None)>\n",
      "Exchange: -0.000283 kilogram 'market for waste mineral oil' (kilogram, CH, None) to 'sanitary ceramics production' (kilogram, CH, None)>\n",
      "Exchange: -0.000983 cubic meter 'market for wastewater from ceramic production' (cubic meter, CH, None) to 'sanitary ceramics production' (kilogram, CH, None)>\n",
      "Exchange: -0.0386 kilogram 'market for municipal solid waste' (kilogram, CH, None) to 'sanitary ceramics production' (kilogram, CH, None)>\n",
      "Exchange: -0.127 kilogram 'market for inert waste, for final disposal' (kilogram, CH, None) to 'sanitary ceramics production' (kilogram, CH, None)>\n"
     ]
    }
   ],
   "source": [
    "# (2) this is an other way to print all exchanges of a process\n",
    "exchanges = sorted(ceramics_ei.exchanges(), key=lambda exc: exc['amount'], reverse=True)\n",
    "for exc in exchanges:\n",
    "    print(exc)"
   ]
  },
  {
   "cell_type": "code",
   "execution_count": 15,
   "id": "bbdced7f",
   "metadata": {},
   "outputs": [
    {
     "data": {
      "text/plain": [
       "[Exchange: -0.000177 kilogram 'market for bilge oil' (kilogram, CH, None) to 'sanitary ceramics production' (kilogram, CH, None)>,\n",
       " Exchange: 4e-09 unit 'ceramic factory construction' (unit, CH, None) to 'sanitary ceramics production' (kilogram, CH, None)>,\n",
       " Exchange: 0.00303 kilogram 'market for chemical, inorganic' (kilogram, GLO, None) to 'sanitary ceramics production' (kilogram, CH, None)>,\n",
       " Exchange: 0.425 kilogram 'market for clay' (kilogram, CH, None) to 'sanitary ceramics production' (kilogram, CH, None)>,\n",
       " Exchange: 0.878 kilowatt hour 'market for electricity, medium voltage' (kilowatt hour, CH, None) to 'sanitary ceramics production' (kilogram, CH, None)>,\n",
       " Exchange: 0.379 kilogram 'market for feldspar' (kilogram, GLO, None) to 'sanitary ceramics production' (kilogram, CH, None)>,\n",
       " Exchange: -0.000102 kilogram 'market for hazardous waste, for underground deposit' (kilogram, RER, None) to 'sanitary ceramics production' (kilogram, CH, None)>,\n",
       " Exchange: 22.895 megajoule 'market for heat, district or industrial, natural gas' (megajoule, CH, None) to 'sanitary ceramics production' (kilogram, CH, None)>,\n",
       " Exchange: -0.127 kilogram 'market for inert waste, for final disposal' (kilogram, CH, None) to 'sanitary ceramics production' (kilogram, CH, None)>,\n",
       " Exchange: 0.444 kilogram 'market for kaolin' (kilogram, GLO, None) to 'sanitary ceramics production' (kilogram, CH, None)>,\n",
       " Exchange: -0.0386 kilogram 'market for municipal solid waste' (kilogram, CH, None) to 'sanitary ceramics production' (kilogram, CH, None)>,\n",
       " Exchange: 0.00151 kilogram 'market for polyethylene, high density, granulate' (kilogram, GLO, None) to 'sanitary ceramics production' (kilogram, CH, None)>,\n",
       " Exchange: 0.251 kilogram 'market for silica sand' (kilogram, GLO, None) to 'sanitary ceramics production' (kilogram, CH, None)>,\n",
       " Exchange: -6.93e-05 kilogram 'market for spent solvent mixture' (kilogram, CH, None) to 'sanitary ceramics production' (kilogram, CH, None)>,\n",
       " Exchange: 0.125 kilogram 'market for stucco' (kilogram, GLO, None) to 'sanitary ceramics production' (kilogram, CH, None)>,\n",
       " Exchange: 0.541 kilogram 'market for tap water' (kilogram, CH, None) to 'sanitary ceramics production' (kilogram, CH, None)>,\n",
       " Exchange: -1.58e-07 kilogram 'market for waste emulsion paint' (kilogram, CH, None) to 'sanitary ceramics production' (kilogram, CH, None)>,\n",
       " Exchange: -0.000283 kilogram 'market for waste mineral oil' (kilogram, CH, None) to 'sanitary ceramics production' (kilogram, CH, None)>,\n",
       " Exchange: -4.34e-05 kilogram 'market for waste plastic, mixture' (kilogram, CH, None) to 'sanitary ceramics production' (kilogram, CH, None)>,\n",
       " Exchange: -0.000983 cubic meter 'market for wastewater from ceramic production' (cubic meter, CH, None) to 'sanitary ceramics production' (kilogram, CH, None)>]"
      ]
     },
     "execution_count": 15,
     "metadata": {},
     "output_type": "execute_result"
    }
   ],
   "source": [
    "# (3) Alternative way to display all exchanges with the technosphere\n",
    "list(ceramics_ei.technosphere())\n"
   ]
  },
  {
   "cell_type": "markdown",
   "id": "6f6d8c1a",
   "metadata": {},
   "source": [
    "### 🌿 Step 4: Impact Assessment Methods\n",
    "\n",
    "To calculate the Life Cycle Impacts the back- and foreground need to be linked to an assessment method. There is a large number of available methods that are pre-installed together with the ecoinvent biosphere flows in the 01_bw25_ecoinvent_importer script."
   ]
  },
  {
   "cell_type": "code",
   "execution_count": 17,
   "id": "feffe801",
   "metadata": {},
   "outputs": [
    {
     "data": {
      "text/plain": [
       "[('CML v4.8 2016 no LT',\n",
       "  'acidification no LT',\n",
       "  'acidification (incl. fate, average Europe total, A&B) no LT'),\n",
       " ('CML v4.8 2016 no LT',\n",
       "  'climate change no LT',\n",
       "  'global warming potential (GWP100) no LT'),\n",
       " ('CML v4.8 2016 no LT',\n",
       "  'ecotoxicity: freshwater no LT',\n",
       "  'freshwater aquatic ecotoxicity (FAETP inf) no LT'),\n",
       " ('CML v4.8 2016 no LT',\n",
       "  'ecotoxicity: marine no LT',\n",
       "  'marine aquatic ecotoxicity (MAETP inf) no LT'),\n",
       " ('CML v4.8 2016 no LT',\n",
       "  'ecotoxicity: terrestrial no LT',\n",
       "  'terrestrial ecotoxicity (TETP inf) no LT')]"
      ]
     },
     "execution_count": 17,
     "metadata": {},
     "output_type": "execute_result"
    }
   ],
   "source": [
    "# here we will analyse the set of methods that are available as part of the background\n",
    "list(bd.methods)[:5]"
   ]
  },
  {
   "cell_type": "code",
   "execution_count": 18,
   "id": "a00284e0",
   "metadata": {},
   "outputs": [
    {
     "name": "stdout",
     "output_type": "stream",
     "text": [
      "('CML v4.8 2016 no LT', 'climate change no LT', 'global warming potential (GWP100) no LT')\n",
      "('CML v4.8 2016', 'climate change', 'global warming potential (GWP100)')\n",
      "('Ecological Scarcity 2021 no LT', 'climate change no LT', 'global warming potential (GWP100) no LT')\n",
      "('Ecological Scarcity 2021', 'climate change', 'global warming potential (GWP100)')\n",
      "('EF v3.0 no LT', 'climate change no LT', 'global warming potential (GWP100) no LT')\n",
      "('EF v3.0 no LT', 'climate change: biogenic no LT', 'global warming potential (GWP100) no LT')\n",
      "('EF v3.0 no LT', 'climate change: fossil no LT', 'global warming potential (GWP100) no LT')\n",
      "('EF v3.0 no LT', 'climate change: land use and land use change no LT', 'global warming potential (GWP100) no LT')\n",
      "('EF v3.0', 'climate change', 'global warming potential (GWP100)')\n",
      "('EF v3.0', 'climate change: biogenic', 'global warming potential (GWP100)')\n",
      "('EF v3.0', 'climate change: fossil', 'global warming potential (GWP100)')\n",
      "('EF v3.0', 'climate change: land use and land use change', 'global warming potential (GWP100)')\n",
      "('EF v3.1 no LT', 'climate change no LT', 'global warming potential (GWP100) no LT')\n",
      "('EF v3.1 no LT', 'climate change: biogenic no LT', 'global warming potential (GWP100) no LT')\n",
      "('EF v3.1 no LT', 'climate change: fossil no LT', 'global warming potential (GWP100) no LT')\n",
      "('EF v3.1 no LT', 'climate change: land use and land use change no LT', 'global warming potential (GWP100) no LT')\n",
      "('EF v3.1', 'climate change', 'global warming potential (GWP100)')\n",
      "('EF v3.1', 'climate change: biogenic', 'global warming potential (GWP100)')\n",
      "('EF v3.1', 'climate change: fossil', 'global warming potential (GWP100)')\n",
      "('EF v3.1', 'climate change: land use and land use change', 'global warming potential (GWP100)')\n",
      "('IMPACT World+ v2.0.1, footprint version', 'climate change', 'carbon footprint')\n",
      "('IPCC 2013 no LT', 'climate change no LT', 'global temperature change potential (GTP100) no LT')\n",
      "('IPCC 2013 no LT', 'climate change no LT', 'global temperature change potential (GTP20) no LT')\n",
      "('IPCC 2013 no LT', 'climate change no LT', 'global warming potential (GWP100) no LT')\n",
      "('IPCC 2013 no LT', 'climate change no LT', 'global warming potential (GWP20) no LT')\n",
      "('IPCC 2013', 'climate change', 'global temperature change potential (GTP100)')\n",
      "('IPCC 2013', 'climate change', 'global temperature change potential (GTP20)')\n",
      "('IPCC 2013', 'climate change', 'global warming potential (GWP100)')\n",
      "('IPCC 2013', 'climate change', 'global warming potential (GWP20)')\n",
      "('IPCC 2021 no LT', 'climate change no LT', 'global temperature change potential (GTP100) no LT')\n",
      "('IPCC 2021 no LT', 'climate change no LT', 'global temperature change potential (GTP50) no LT')\n",
      "('IPCC 2021 no LT', 'climate change no LT', 'global warming potential (GWP100) no LT')\n",
      "('IPCC 2021 no LT', 'climate change no LT', 'global warming potential (GWP20) no LT')\n",
      "('IPCC 2021 no LT', 'climate change no LT', 'global warming potential (GWP500) no LT')\n",
      "('IPCC 2021 no LT', 'climate change: biogenic no LT', 'global temperature change potential (GTP100) no LT')\n",
      "('IPCC 2021 no LT', 'climate change: biogenic no LT', 'global temperature change potential (GTP50) no LT')\n",
      "('IPCC 2021 no LT', 'climate change: biogenic no LT', 'global warming potential (GWP100) no LT')\n",
      "('IPCC 2021 no LT', 'climate change: biogenic no LT', 'global warming potential (GWP20) no LT')\n",
      "('IPCC 2021 no LT', 'climate change: biogenic no LT', 'global warming potential (GWP500) no LT')\n",
      "('IPCC 2021 no LT', 'climate change: biogenic, including SLCFs no LT', 'global temperature change potential (GTP100) no LT')\n",
      "('IPCC 2021 no LT', 'climate change: biogenic, including SLCFs no LT', 'global warming potential (GWP100) no LT')\n",
      "('IPCC 2021 no LT', 'climate change: biogenic, including SLCFs no LT', 'global warming potential (GWP20) no LT')\n",
      "('IPCC 2021 no LT', 'climate change: fossil no LT', 'global temperature change potential (GTP100) no LT')\n",
      "('IPCC 2021 no LT', 'climate change: fossil no LT', 'global temperature change potential (GTP50) no LT')\n",
      "('IPCC 2021 no LT', 'climate change: fossil no LT', 'global warming potential (GWP100) no LT')\n",
      "('IPCC 2021 no LT', 'climate change: fossil no LT', 'global warming potential (GWP20) no LT')\n",
      "('IPCC 2021 no LT', 'climate change: fossil no LT', 'global warming potential (GWP500) no LT')\n",
      "('IPCC 2021 no LT', 'climate change: fossil, including SLCFs no LT', 'global temperature change potential (GTP100) no LT')\n",
      "('IPCC 2021 no LT', 'climate change: fossil, including SLCFs no LT', 'global warming potential (GWP100) no LT')\n",
      "('IPCC 2021 no LT', 'climate change: fossil, including SLCFs no LT', 'global warming potential (GWP20) no LT')\n",
      "('IPCC 2021 no LT', 'climate change: including SLCFs no LT', 'global temperature change potential (GTP100) no LT')\n",
      "('IPCC 2021 no LT', 'climate change: including SLCFs no LT', 'global warming potential (GWP100) no LT')\n",
      "('IPCC 2021 no LT', 'climate change: including SLCFs no LT', 'global warming potential (GWP20) no LT')\n",
      "('IPCC 2021 no LT', 'climate change: land use no LT', 'global temperature change potential (GTP100) no LT')\n",
      "('IPCC 2021 no LT', 'climate change: land use no LT', 'global temperature change potential (GTP50) no LT')\n",
      "('IPCC 2021 no LT', 'climate change: land use no LT', 'global warming potential (GWP100) no LT')\n",
      "('IPCC 2021 no LT', 'climate change: land use no LT', 'global warming potential (GWP20) no LT')\n",
      "('IPCC 2021 no LT', 'climate change: land use no LT', 'global warming potential (GWP500) no LT')\n",
      "('IPCC 2021 no LT', 'climate change: land use, including SLCFs no LT', 'global temperature change potential (GTP100) no LT')\n",
      "('IPCC 2021 no LT', 'climate change: land use, including SLCFs no LT', 'global warming potential (GWP100) no LT')\n",
      "('IPCC 2021 no LT', 'climate change: land use, including SLCFs no LT', 'global warming potential (GWP20) no LT')\n",
      "('IPCC 2021', 'climate change', 'global temperature change potential (GTP100)')\n",
      "('IPCC 2021', 'climate change', 'global temperature change potential (GTP50)')\n",
      "('IPCC 2021', 'climate change', 'global warming potential (GWP100)')\n",
      "('IPCC 2021', 'climate change', 'global warming potential (GWP20)')\n",
      "('IPCC 2021', 'climate change', 'global warming potential (GWP500)')\n",
      "('IPCC 2021', 'climate change: biogenic', 'global temperature change potential (GTP100)')\n",
      "('IPCC 2021', 'climate change: biogenic', 'global temperature change potential (GTP50)')\n",
      "('IPCC 2021', 'climate change: biogenic', 'global warming potential (GWP100)')\n",
      "('IPCC 2021', 'climate change: biogenic', 'global warming potential (GWP20)')\n",
      "('IPCC 2021', 'climate change: biogenic', 'global warming potential (GWP500)')\n",
      "('IPCC 2021', 'climate change: biogenic, including SLCFs', 'global temperature change potential (GTP100)')\n",
      "('IPCC 2021', 'climate change: biogenic, including SLCFs', 'global warming potential (GWP100)')\n",
      "('IPCC 2021', 'climate change: biogenic, including SLCFs', 'global warming potential (GWP20)')\n",
      "('IPCC 2021', 'climate change: fossil', 'global temperature change potential (GTP100)')\n",
      "('IPCC 2021', 'climate change: fossil', 'global temperature change potential (GTP50)')\n",
      "('IPCC 2021', 'climate change: fossil', 'global warming potential (GWP100)')\n",
      "('IPCC 2021', 'climate change: fossil', 'global warming potential (GWP20)')\n",
      "('IPCC 2021', 'climate change: fossil', 'global warming potential (GWP500)')\n",
      "('IPCC 2021', 'climate change: fossil, including SLCFs', 'global temperature change potential (GTP100)')\n",
      "('IPCC 2021', 'climate change: fossil, including SLCFs', 'global warming potential (GWP100)')\n",
      "('IPCC 2021', 'climate change: fossil, including SLCFs', 'global warming potential (GWP20)')\n",
      "('IPCC 2021', 'climate change: including SLCFs', 'global temperature change potential (GTP100)')\n",
      "('IPCC 2021', 'climate change: including SLCFs', 'global warming potential (GWP100)')\n",
      "('IPCC 2021', 'climate change: including SLCFs', 'global warming potential (GWP20)')\n",
      "('IPCC 2021', 'climate change: land use', 'global temperature change potential (GTP100)')\n",
      "('IPCC 2021', 'climate change: land use', 'global temperature change potential (GTP50)')\n",
      "('IPCC 2021', 'climate change: land use', 'global warming potential (GWP100)')\n",
      "('IPCC 2021', 'climate change: land use', 'global warming potential (GWP20)')\n",
      "('IPCC 2021', 'climate change: land use', 'global warming potential (GWP500)')\n",
      "('IPCC 2021', 'climate change: land use, including SLCFs', 'global temperature change potential (GTP100)')\n",
      "('IPCC 2021', 'climate change: land use, including SLCFs', 'global warming potential (GWP100)')\n",
      "('IPCC 2021', 'climate change: land use, including SLCFs', 'global warming potential (GWP20)')\n",
      "('ReCiPe 2016 v1.03, endpoint (E) no LT', 'ecosystem quality no LT', 'climate change: freshwater ecosystems no LT')\n",
      "('ReCiPe 2016 v1.03, endpoint (E) no LT', 'ecosystem quality no LT', 'climate change: terrestrial ecosystems no LT')\n",
      "('ReCiPe 2016 v1.03, endpoint (E) no LT', 'human health no LT', 'climate change: human health no LT')\n",
      "('ReCiPe 2016 v1.03, endpoint (E)', 'ecosystem quality', 'climate change: freshwater ecosystems')\n",
      "('ReCiPe 2016 v1.03, endpoint (E)', 'ecosystem quality', 'climate change: terrestrial ecosystems')\n",
      "('ReCiPe 2016 v1.03, endpoint (E)', 'human health', 'climate change: human health')\n",
      "('ReCiPe 2016 v1.03, endpoint (H) no LT', 'ecosystem quality no LT', 'climate change: freshwater ecosystems no LT')\n",
      "('ReCiPe 2016 v1.03, endpoint (H) no LT', 'ecosystem quality no LT', 'climate change: terrestrial ecosystems no LT')\n",
      "('ReCiPe 2016 v1.03, endpoint (H) no LT', 'human health no LT', 'climate change: human health no LT')\n",
      "('ReCiPe 2016 v1.03, endpoint (H)', 'ecosystem quality', 'climate change: freshwater ecosystems')\n",
      "('ReCiPe 2016 v1.03, endpoint (H)', 'ecosystem quality', 'climate change: terrestrial ecosystems')\n",
      "('ReCiPe 2016 v1.03, endpoint (H)', 'human health', 'climate change: human health')\n",
      "('ReCiPe 2016 v1.03, endpoint (I) no LT', 'ecosystem quality no LT', 'climate change: freshwater ecosystems no LT')\n",
      "('ReCiPe 2016 v1.03, endpoint (I) no LT', 'ecosystem quality no LT', 'climate change: terrestrial ecosystems no LT')\n",
      "('ReCiPe 2016 v1.03, endpoint (I) no LT', 'human health no LT', 'climate change: human health no LT')\n",
      "('ReCiPe 2016 v1.03, endpoint (I)', 'ecosystem quality', 'climate change: freshwater ecosystems')\n",
      "('ReCiPe 2016 v1.03, endpoint (I)', 'ecosystem quality', 'climate change: terrestrial ecosystems')\n",
      "('ReCiPe 2016 v1.03, endpoint (I)', 'human health', 'climate change: human health')\n",
      "('ReCiPe 2016 v1.03, midpoint (E) no LT', 'climate change no LT', 'global warming potential (GWP1000) no LT')\n",
      "('ReCiPe 2016 v1.03, midpoint (E)', 'climate change', 'global warming potential (GWP1000)')\n",
      "('ReCiPe 2016 v1.03, midpoint (H) no LT', 'climate change no LT', 'global warming potential (GWP100) no LT')\n",
      "('ReCiPe 2016 v1.03, midpoint (H)', 'climate change', 'global warming potential (GWP100)')\n",
      "('ReCiPe 2016 v1.03, midpoint (I) no LT', 'climate change no LT', 'global warming potential (GWP20) no LT')\n",
      "('ReCiPe 2016 v1.03, midpoint (I)', 'climate change', 'global warming potential (GWP20)')\n",
      "('TRACI v2.1 no LT', 'climate change no LT', 'global warming potential (GWP100) no LT')\n",
      "('TRACI v2.1', 'climate change', 'global warming potential (GWP100)')\n",
      "('EF v3.0 EN15804', 'climate change', 'global warming potential (GWP100)')\n",
      "('EF v3.0 EN15804', 'climate change: biogenic', 'global warming potential (GWP100)')\n",
      "('EF v3.0 EN15804', 'climate change: fossil', 'global warming potential (GWP100)')\n",
      "('EF v3.0 EN15804', 'climate change: GHG (EPD PCR)', 'global warming potential (GWP100)')\n",
      "('EF v3.0 EN15804', 'climate change: land use and land use change', 'global warming potential (GWP100)')\n",
      "('EF v3.1 EN15804', 'climate change', 'global warming potential (GWP100)')\n",
      "('EF v3.1 EN15804', 'climate change: biogenic', 'global warming potential (GWP100)')\n",
      "('EF v3.1 EN15804', 'climate change: fossil', 'global warming potential (GWP100)')\n",
      "('EF v3.1 EN15804', 'climate change: GHG (EPD PCR)', 'global warming potential (GWP100)')\n",
      "('EF v3.1 EN15804', 'climate change: land use and land use change', 'global warming potential (GWP100)')\n"
     ]
    }
   ],
   "source": [
    "# printing all methods that contain a specific keyword, e.g. \"climate change\"\n",
    "climate_methods = [m for m in bd.methods if any(\"climate change\" in str(part).lower() for part in m)]\n",
    "for method in climate_methods:\n",
    "    print(method)"
   ]
  },
  {
   "cell_type": "code",
   "execution_count": 19,
   "id": "3b0b476b",
   "metadata": {},
   "outputs": [],
   "source": [
    "# selecting the impact assessment methods that we want to use in our analysis\n",
    "lcia_gwp100 = ('EF v3.1', 'climate change', 'global warming potential (GWP100)')\n",
    "lcia_water = ('EF v3.1','water use','user deprivation potential (deprivation-weighted water consumption)')\n",
    "lcia_land = ('EF v3.1', 'land use', 'soil quality index')"
   ]
  },
  {
   "cell_type": "markdown",
   "id": "52d66648",
   "metadata": {},
   "source": [
    "### 📈 5. LCIA\n",
    "\n",
    "This section shows how LCA results can be calculated quickly and be displayed as final score, process- and elementary flow based."
   ]
  },
  {
   "cell_type": "code",
   "execution_count": 37,
   "id": "ca05a284",
   "metadata": {},
   "outputs": [
    {
     "data": {
      "text/plain": [
       "2.5809471763526646"
      ]
     },
     "execution_count": 37,
     "metadata": {},
     "output_type": "execute_result"
    }
   ],
   "source": [
    "# Quick LCIA calculation\n",
    "ammonia_lca = ammonia.lca(lcia_gwp100)\n",
    "ammonia_lca.score\n"
   ]
  },
  {
   "cell_type": "code",
   "execution_count": 38,
   "id": "3177f8ec",
   "metadata": {},
   "outputs": [
    {
     "data": {
      "text/html": [
       "<div>\n",
       "<style scoped>\n",
       "    .dataframe tbody tr th:only-of-type {\n",
       "        vertical-align: middle;\n",
       "    }\n",
       "\n",
       "    .dataframe tbody tr th {\n",
       "        vertical-align: top;\n",
       "    }\n",
       "\n",
       "    .dataframe thead th {\n",
       "        text-align: right;\n",
       "    }\n",
       "</style>\n",
       "<table border=\"1\" class=\"dataframe\">\n",
       "  <thead>\n",
       "    <tr style=\"text-align: right;\">\n",
       "      <th></th>\n",
       "      <th></th>\n",
       "      <th>amount</th>\n",
       "    </tr>\n",
       "    <tr>\n",
       "      <th>col_name</th>\n",
       "      <th>row_name</th>\n",
       "      <th></th>\n",
       "    </tr>\n",
       "  </thead>\n",
       "  <tbody>\n",
       "    <tr>\n",
       "      <th>ammonia production, steam reforming, liquid</th>\n",
       "      <th>Carbon dioxide, fossil</th>\n",
       "      <td>1.440022</td>\n",
       "    </tr>\n",
       "    <tr>\n",
       "      <th>heat production, natural gas, at boiler modulating &gt;100kW</th>\n",
       "      <th>Carbon dioxide, fossil</th>\n",
       "      <td>0.595010</td>\n",
       "    </tr>\n",
       "    <tr>\n",
       "      <th>natural gas venting from petroleum/natural gas production</th>\n",
       "      <th>Methane, fossil</th>\n",
       "      <td>0.150454</td>\n",
       "    </tr>\n",
       "    <tr>\n",
       "      <th>natural gas, burned in gas turbine</th>\n",
       "      <th>Carbon dioxide, fossil</th>\n",
       "      <td>0.102019</td>\n",
       "    </tr>\n",
       "    <tr>\n",
       "      <th>sweet gas, burned in gas turbine</th>\n",
       "      <th>Carbon dioxide, fossil</th>\n",
       "      <td>0.069720</td>\n",
       "    </tr>\n",
       "    <tr>\n",
       "      <th>...</th>\n",
       "      <th>...</th>\n",
       "      <td>...</td>\n",
       "    </tr>\n",
       "    <tr>\n",
       "      <th>heat production, light fuel oil, at industrial furnace 1MW</th>\n",
       "      <th>Carbon dioxide, fossil</th>\n",
       "      <td>-0.009993</td>\n",
       "    </tr>\n",
       "    <tr>\n",
       "      <th>heat production, heavy fuel oil, at industrial furnace 1MW</th>\n",
       "      <th>Carbon dioxide, fossil</th>\n",
       "      <td>-0.010344</td>\n",
       "    </tr>\n",
       "    <tr>\n",
       "      <th>refinery gas, burned in furnace</th>\n",
       "      <th>Carbon dioxide, fossil</th>\n",
       "      <td>-0.011557</td>\n",
       "    </tr>\n",
       "    <tr>\n",
       "      <th>heat production, at hard coal industrial furnace 1-10MW</th>\n",
       "      <th>Carbon dioxide, fossil</th>\n",
       "      <td>-0.016707</td>\n",
       "    </tr>\n",
       "    <tr>\n",
       "      <th>heat production, natural gas, at industrial furnace &gt;100kW</th>\n",
       "      <th>Carbon dioxide, fossil</th>\n",
       "      <td>-0.068721</td>\n",
       "    </tr>\n",
       "  </tbody>\n",
       "</table>\n",
       "<p>82 rows × 1 columns</p>\n",
       "</div>"
      ],
      "text/plain": [
       "                                                                             amount\n",
       "col_name                                           row_name                        \n",
       "ammonia production, steam reforming, liquid        Carbon dioxide, fossil  1.440022\n",
       "heat production, natural gas, at boiler modulat... Carbon dioxide, fossil  0.595010\n",
       "natural gas venting from petroleum/natural gas ... Methane, fossil         0.150454\n",
       "natural gas, burned in gas turbine                 Carbon dioxide, fossil  0.102019\n",
       "sweet gas, burned in gas turbine                   Carbon dioxide, fossil  0.069720\n",
       "...                                                                             ...\n",
       "heat production, light fuel oil, at industrial ... Carbon dioxide, fossil -0.009993\n",
       "heat production, heavy fuel oil, at industrial ... Carbon dioxide, fossil -0.010344\n",
       "refinery gas, burned in furnace                    Carbon dioxide, fossil -0.011557\n",
       "heat production, at hard coal industrial furnac... Carbon dioxide, fossil -0.016707\n",
       "heat production, natural gas, at industrial fur... Carbon dioxide, fossil -0.068721\n",
       "\n",
       "[82 rows x 1 columns]"
      ]
     },
     "execution_count": 38,
     "metadata": {},
     "output_type": "execute_result"
    }
   ],
   "source": [
    "# Elementary flows contribution analysis by process\n",
    "ammonia_lca.to_dataframe().pivot_table(index=['col_name', 'row_name'], values='amount', aggfunc='sum').sort_values(by='amount', ascending=False)"
   ]
  },
  {
   "cell_type": "code",
   "execution_count": 39,
   "id": "0943b393",
   "metadata": {},
   "outputs": [
    {
     "data": {
      "text/html": [
       "<div>\n",
       "<style scoped>\n",
       "    .dataframe tbody tr th:only-of-type {\n",
       "        vertical-align: middle;\n",
       "    }\n",
       "\n",
       "    .dataframe tbody tr th {\n",
       "        vertical-align: top;\n",
       "    }\n",
       "\n",
       "    .dataframe thead th {\n",
       "        text-align: right;\n",
       "    }\n",
       "</style>\n",
       "<table border=\"1\" class=\"dataframe\">\n",
       "  <thead>\n",
       "    <tr style=\"text-align: right;\">\n",
       "      <th></th>\n",
       "      <th>amount</th>\n",
       "    </tr>\n",
       "    <tr>\n",
       "      <th>row_name</th>\n",
       "      <th></th>\n",
       "    </tr>\n",
       "  </thead>\n",
       "  <tbody>\n",
       "    <tr>\n",
       "      <th>Carbon dioxide, fossil</th>\n",
       "      <td>2.295854</td>\n",
       "    </tr>\n",
       "    <tr>\n",
       "      <th>Dinitrogen monoxide</th>\n",
       "      <td>0.001728</td>\n",
       "    </tr>\n",
       "    <tr>\n",
       "      <th>Methane, fossil</th>\n",
       "      <td>0.243535</td>\n",
       "    </tr>\n",
       "    <tr>\n",
       "      <th>Tetrafluoromethane</th>\n",
       "      <td>0.000287</td>\n",
       "    </tr>\n",
       "    <tr>\n",
       "      <th>Trifluoromethane</th>\n",
       "      <td>0.001290</td>\n",
       "    </tr>\n",
       "  </tbody>\n",
       "</table>\n",
       "</div>"
      ],
      "text/plain": [
       "                          amount\n",
       "row_name                        \n",
       "Carbon dioxide, fossil  2.295854\n",
       "Dinitrogen monoxide     0.001728\n",
       "Methane, fossil         0.243535\n",
       "Tetrafluoromethane      0.000287\n",
       "Trifluoromethane        0.001290"
      ]
     },
     "execution_count": 39,
     "metadata": {},
     "output_type": "execute_result"
    }
   ],
   "source": [
    "# Elementary flows contribution analysis as summary table\n",
    "ammonia_lca.to_dataframe().pivot_table(index='row_name',values='amount',aggfunc='sum')"
   ]
  },
  {
   "cell_type": "markdown",
   "id": "357aef27",
   "metadata": {},
   "source": [
    "### 📊 6. Contribution analysis\n",
    "\n",
    "There are different ways to analyse the contribution analysis in Brightway 2.5. Two ways are displayed below. The max_level and cutoff can be adjusted based on the level of detail you want from the analysis."
   ]
  },
  {
   "cell_type": "code",
   "execution_count": 41,
   "id": "a49b7b1e",
   "metadata": {},
   "outputs": [
    {
     "name": "stdout",
     "output_type": "stream",
     "text": [
      "Fraction of score | Absolute score | Amount | Activity\n",
      "0001 | 2.581 |     1 | 'ammonia production, steam reforming, liquid' (kilogram, RER w/o RU, None)\n",
      "  0.304 | 0.7857 |  10.2 | 'heat production, natural gas, at boiler modulating >100kW' (megajoule, Europe without Switzerland, Non\n",
      "    0.0718 | 0.1853 | 0.2951 | 'market group for natural gas, high pressure' (cubic meter, Europe without Switzerland, None)\n",
      "  0.151 | 0.3897 | 0.6207 | 'market group for natural gas, high pressure' (cubic meter, Europe without Switzerland, None)\n",
      "  -0.0655 | -0.1689 | -0.5418 | 'market for steam, in chemical industry' (kilogram, RER, None)\n",
      "    -0.0655 | -0.1689 | -0.5418 | 'steam production, in chemical industry' (kilogram, RER, None)\n",
      "      -0.0655 | -0.1689 | -1.49 | 'market for heat, from steam, in chemical industry' (megajoule, RER, None)\n"
     ]
    }
   ],
   "source": [
    "# One option to do a contribution analysis is to use the recursive calculation method\n",
    "bwa.print_recursive_calculation(ammonia,\n",
    "lcia_method=lcia_gwp100,max_level=3,cutoff=0.05)"
   ]
  },
  {
   "cell_type": "code",
   "execution_count": 44,
   "id": "185b3405",
   "metadata": {},
   "outputs": [
    {
     "data": {
      "text/html": [
       "<div>\n",
       "<style scoped>\n",
       "    .dataframe tbody tr th:only-of-type {\n",
       "        vertical-align: middle;\n",
       "    }\n",
       "\n",
       "    .dataframe tbody tr th {\n",
       "        vertical-align: top;\n",
       "    }\n",
       "\n",
       "    .dataframe thead th {\n",
       "        text-align: right;\n",
       "    }\n",
       "</style>\n",
       "<table border=\"1\" class=\"dataframe\">\n",
       "  <thead>\n",
       "    <tr style=\"text-align: right;\">\n",
       "      <th></th>\n",
       "      <th>label</th>\n",
       "      <th>parent</th>\n",
       "      <th>score</th>\n",
       "      <th>fraction</th>\n",
       "      <th>amount</th>\n",
       "      <th>name</th>\n",
       "      <th>key</th>\n",
       "    </tr>\n",
       "  </thead>\n",
       "  <tbody>\n",
       "    <tr>\n",
       "      <th>0</th>\n",
       "      <td>root</td>\n",
       "      <td>None</td>\n",
       "      <td>2.580947</td>\n",
       "      <td>1.000000</td>\n",
       "      <td>1.000000e+00</td>\n",
       "      <td>ammonia production, steam reforming, liquid</td>\n",
       "      <td>(ecoinvent310clca, f18dd35808a7c59e60b6977f3d6...</td>\n",
       "    </tr>\n",
       "    <tr>\n",
       "      <th>1</th>\n",
       "      <td>root_a</td>\n",
       "      <td>root</td>\n",
       "      <td>0.071498</td>\n",
       "      <td>0.027702</td>\n",
       "      <td>4.000000e-10</td>\n",
       "      <td>market for chemical factory, organics</td>\n",
       "      <td>(ecoinvent310clca, 2a9318e8aabb76ab5836bb3e9fc...</td>\n",
       "    </tr>\n",
       "    <tr>\n",
       "      <th>2</th>\n",
       "      <td>root_b</td>\n",
       "      <td>root</td>\n",
       "      <td>0.053418</td>\n",
       "      <td>0.020697</td>\n",
       "      <td>2.333333e-01</td>\n",
       "      <td>market group for electricity, low voltage</td>\n",
       "      <td>(ecoinvent310clca, 8acbacf199bbba5b263dfa1c473...</td>\n",
       "    </tr>\n",
       "    <tr>\n",
       "      <th>3</th>\n",
       "      <td>root_c</td>\n",
       "      <td>root</td>\n",
       "      <td>0.785689</td>\n",
       "      <td>0.304419</td>\n",
       "      <td>1.020000e+01</td>\n",
       "      <td>heat production, natural gas, at boiler modula...</td>\n",
       "      <td>(ecoinvent310clca, 5403113d251569b18586297bfe5...</td>\n",
       "    </tr>\n",
       "    <tr>\n",
       "      <th>4</th>\n",
       "      <td>root_f</td>\n",
       "      <td>root</td>\n",
       "      <td>0.389732</td>\n",
       "      <td>0.151003</td>\n",
       "      <td>6.206724e-01</td>\n",
       "      <td>market group for natural gas, high pressure</td>\n",
       "      <td>(ecoinvent310clca, 1fc2418e39967f8ff8432afc4b6...</td>\n",
       "    </tr>\n",
       "    <tr>\n",
       "      <th>5</th>\n",
       "      <td>root_i</td>\n",
       "      <td>root</td>\n",
       "      <td>-0.168932</td>\n",
       "      <td>-0.065453</td>\n",
       "      <td>-5.418182e-01</td>\n",
       "      <td>market for steam, in chemical industry</td>\n",
       "      <td>(ecoinvent310clca, 99d597205c88fa6290026911917...</td>\n",
       "    </tr>\n",
       "  </tbody>\n",
       "</table>\n",
       "</div>"
      ],
      "text/plain": [
       "    label parent     score  fraction        amount  \\\n",
       "0    root   None  2.580947  1.000000  1.000000e+00   \n",
       "1  root_a   root  0.071498  0.027702  4.000000e-10   \n",
       "2  root_b   root  0.053418  0.020697  2.333333e-01   \n",
       "3  root_c   root  0.785689  0.304419  1.020000e+01   \n",
       "4  root_f   root  0.389732  0.151003  6.206724e-01   \n",
       "5  root_i   root -0.168932 -0.065453 -5.418182e-01   \n",
       "\n",
       "                                                name  \\\n",
       "0        ammonia production, steam reforming, liquid   \n",
       "1              market for chemical factory, organics   \n",
       "2          market group for electricity, low voltage   \n",
       "3  heat production, natural gas, at boiler modula...   \n",
       "4        market group for natural gas, high pressure   \n",
       "5             market for steam, in chemical industry   \n",
       "\n",
       "                                                 key  \n",
       "0  (ecoinvent310clca, f18dd35808a7c59e60b6977f3d6...  \n",
       "1  (ecoinvent310clca, 2a9318e8aabb76ab5836bb3e9fc...  \n",
       "2  (ecoinvent310clca, 8acbacf199bbba5b263dfa1c473...  \n",
       "3  (ecoinvent310clca, 5403113d251569b18586297bfe5...  \n",
       "4  (ecoinvent310clca, 1fc2418e39967f8ff8432afc4b6...  \n",
       "5  (ecoinvent310clca, 99d597205c88fa6290026911917...  "
      ]
     },
     "execution_count": 44,
     "metadata": {},
     "output_type": "execute_result"
    }
   ],
   "source": [
    "# Another option is to use the recursive calculation to an object, which returns a DataFrame\n",
    "ammonia_lca_ca = bwa.utils.recursive_calculation_to_object(ammonia,\n",
    "                                          lcia_method=lcia_gwp100,\n",
    "                                          max_level=1,\n",
    "                                          cutoff=0.02,\n",
    "                                          as_dataframe=True,\n",
    "                                          )\n",
    "ammonia_lca_ca"
   ]
  },
  {
   "cell_type": "markdown",
   "id": "65ca78a9",
   "metadata": {},
   "source": [
    "### 🎨 7. Plot Contribution analysis graphs"
   ]
  },
  {
   "cell_type": "code",
   "execution_count": 45,
   "id": "d8658a79",
   "metadata": {},
   "outputs": [],
   "source": [
    "# Filter out the parent processes that are not relevant for the contribution analysis\n",
    "ammonia_lca_ca = ammonia_lca_ca.dropna(subset='parent') "
   ]
  },
  {
   "cell_type": "code",
   "execution_count": 46,
   "id": "2fbec9b8",
   "metadata": {},
   "outputs": [
    {
     "data": {
      "image/png": "[encoded data removed]",
      "text/plain": [
       "<Figure size 600x300 with 1 Axes>"
      ]
     },
     "metadata": {},
     "output_type": "display_data"
    }
   ],
   "source": [
    "# First, we plot the contribution analysis for the brigthway ceramics production process\n",
    "f, ax = plt.subplots(figsize=(6, 3))\n",
    "sns.barplot(y='name', x='score', data=ammonia_lca_ca, ax=ax)\n",
    "ax.set(\n",
    "    title='Contribution analysis of the product under study',\n",
    "    xlabel='CO2 eq. emissions (kg)',\n",
    "    ylabel='')\n",
    "plt.tight_layout()\n",
    "plt.show()\n"
   ]
  },
  {
   "cell_type": "markdown",
   "id": "80ed83fb",
   "metadata": {},
   "source": [
    "### ⚖️ 8. Comparison\n",
    "\n",
    "Only your creativity limits you in what you can do with the results from the impact assessment and contribution analysis. The data can also be stored in a combined dataframe (=combined_df) to then be shown in the same graph conveniently."
   ]
  },
  {
   "cell_type": "code",
   "execution_count": null,
   "id": "414bdf37",
   "metadata": {},
   "outputs": [
    {
     "data": {
      "text/plain": [
       "activity     contributor                                         \n",
       "ceramics_bw  market for kaolin                                       0.145070\n",
       "             market for feldspar                                     0.015081\n",
       "             market group for electricity, high voltage              0.240714\n",
       "             market group for natural gas, high pressure             0.282982\n",
       "             packaging glass factory construction                    0.031445\n",
       "ceramics_ei  ceramic factory construction                            0.096369\n",
       "             market for electricity, medium voltage                  0.188177\n",
       "             market for heat, district or industrial, natural gas    2.730413\n",
       "             market for kaolin                                       0.111534\n",
       "Name: score, dtype: float64"
      ]
     },
     "execution_count": 31,
     "metadata": {},
     "output_type": "execute_result"
    }
   ],
   "source": [
    "# This is an example for combining two results in one table\n",
    "combined_df = pd.concat([contribution_analysis_A.set_index('name').score,contribution_analysis_B.set_index('name').score],\n",
    "                        keys=['ceramics_bw','ceramics_ei'],\n",
    "                        names=['activity','contributor'])\n",
    "combined_df"
   ]
  },
  {
   "cell_type": "code",
   "execution_count": 32,
   "id": "2f4a8b06",
   "metadata": {},
   "outputs": [
    {
     "data": {
      "image/png": "[encoded data removed]",
      "text/plain": [
       "<Figure size 1000x600 with 1 Axes>"
      ]
     },
     "metadata": {},
     "output_type": "display_data"
    }
   ],
   "source": [
    "ax = combined_df.unstack().plot.barh(\n",
    "    stacked=True,\n",
    "    title='Main contributors to global warming',\n",
    "    xlabel='kg CO2eq',\n",
    "    figsize=(10,6)\n",
    ")\n",
    "\n",
    "plt.legend(bbox_to_anchor=(1.05, 1), loc='upper left')  # moves legend outside\n",
    "plt.tight_layout()\n",
    "plt.show()"
   ]
  }
 ],
 "metadata": {
  "kernelspec": {
   "display_name": "LCA_Toolbox",
   "language": "python",
   "name": "python3"
  },
  "language_info": {
   "codemirror_mode": {
    "name": "ipython",
    "version": 3
   },
   "file_extension": ".py",
   "mimetype": "text/x-python",
   "name": "python",
   "nbconvert_exporter": "python",
   "pygments_lexer": "ipython3",
   "version": "3.11.13"
  }
 },
 "nbformat": 4,
 "nbformat_minor": 5
}
