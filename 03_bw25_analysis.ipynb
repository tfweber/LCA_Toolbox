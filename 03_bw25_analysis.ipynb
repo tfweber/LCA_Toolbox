{
 "cells": [
  {
   "cell_type": "code",
   "execution_count": 3,
   "id": "4c86d140",
   "metadata": {},
   "outputs": [],
   "source": [
    "# This file aims to display some functions regarding Brightway 2.5, to demonstrate what can be done with the software when you have a foreground model matched with ecoinvent's bio- and technosphere."
   ]
  },
  {
   "cell_type": "markdown",
   "id": "c750cf2e",
   "metadata": {},
   "source": [
    "# Analysis"
   ]
  },
  {
   "cell_type": "markdown",
   "id": "b5448288",
   "metadata": {},
   "source": [
    "### 1. Loading the project"
   ]
  },
  {
   "cell_type": "code",
   "execution_count": 4,
   "id": "3669ab2c",
   "metadata": {},
   "outputs": [],
   "source": [
    "# basic imports from brightway\n",
    "import bw2analyzer as ba\n",
    "import bw2calc as bc\n",
    "import bw2data as bd\n",
    "import bw2io as bi\n",
    "from bw2io.importers import SingleOutputEcospold2Importer\n",
    "import bw2analyzer as bwa\n",
    "from bw2data import methods\n",
    "\n",
    "# other relevant packages\n",
    "import numpy as np\n",
    "import pandas as pd\n",
    "import matplotlib.pyplot as plt\n",
    "from pathlib import Path\n",
    "import seaborn as sns"
   ]
  },
  {
   "cell_type": "code",
   "execution_count": 5,
   "id": "30000da6",
   "metadata": {},
   "outputs": [],
   "source": [
    "# define a project where we install the databases and work in this script\n",
    "bd.projects.set_current('brightway25')"
   ]
  },
  {
   "cell_type": "markdown",
   "id": "5b324b81",
   "metadata": {},
   "source": [
    "### 2. Database overview"
   ]
  },
  {
   "cell_type": "code",
   "execution_count": 6,
   "id": "b46e4c34",
   "metadata": {},
   "outputs": [
    {
     "data": {
      "text/plain": [
       "Databases dictionary with 4 object(s):\n",
       "\tbiosphere3\n",
       "\tbw25_db\n",
       "\tecoinvent-3.10-biosphere\n",
       "\tecoinvent310clca"
      ]
     },
     "execution_count": 6,
     "metadata": {},
     "output_type": "execute_result"
    }
   ],
   "source": [
    "bd.databases"
   ]
  },
  {
   "cell_type": "code",
   "execution_count": 7,
   "id": "78022104",
   "metadata": {},
   "outputs": [
    {
     "data": {
      "text/plain": [
       "'brightway25'"
      ]
     },
     "execution_count": 7,
     "metadata": {},
     "output_type": "execute_result"
    }
   ],
   "source": [
    "bd.projects.current"
   ]
  },
  {
   "cell_type": "code",
   "execution_count": 8,
   "id": "9d616a26",
   "metadata": {},
   "outputs": [],
   "source": [
    "ei_clca = bd.Database('ecoinvent310clca')\n",
    "ei_bio = bd.Database('ecoinvent-3.10-biosphere')\n",
    "db_template = bd.Database('bw25_db')\n",
    "el_bio3 = bd.Database('biosphere3')"
   ]
  },
  {
   "cell_type": "markdown",
   "id": "aca1586a",
   "metadata": {},
   "source": [
    "### 3. Database exploration"
   ]
  },
  {
   "cell_type": "code",
   "execution_count": 9,
   "id": "ddaf4b71",
   "metadata": {},
   "outputs": [
    {
     "data": {
      "text/plain": [
       "['porcelain ceramics production' (kilogram, RER, None)]"
      ]
     },
     "execution_count": 9,
     "metadata": {},
     "output_type": "execute_result"
    }
   ],
   "source": [
    "db_template.search('ceramics')"
   ]
  },
  {
   "cell_type": "code",
   "execution_count": 10,
   "id": "45a4e890",
   "metadata": {},
   "outputs": [
    {
     "data": {
      "text/plain": [
       "['market for sanitary ceramics' (kilogram, GLO, None),\n",
       " 'sanitary ceramics production' (kilogram, RoW, None),\n",
       " 'sanitary ceramics production' (kilogram, CH, None),\n",
       " 'refractory production, basic, packed' (kilogram, RoW, None),\n",
       " 'refractory production, fireclay, packed' (kilogram, DE, None),\n",
       " 'refractory production, fireclay, packed' (kilogram, RoW, None),\n",
       " 'refractory production, basic, packed' (kilogram, DE, None),\n",
       " 'market for ceramic tile' (kilogram, GLO, None),\n",
       " 'ceramic tile production' (kilogram, CH, None),\n",
       " 'market for feldspar' (kilogram, GLO, None),\n",
       " 'power saw production, with catalytic converter' (unit, GLO, None),\n",
       " 'ceramic tile production' (kilogram, RoW, None),\n",
       " 'market for titanium dioxide' (kilogram, RoW, None),\n",
       " 'market for titanium dioxide' (kilogram, RER, None),\n",
       " 'market for kaolin' (kilogram, GLO, None),\n",
       " 'strontium carbonate production' (kilogram, GLO, None),\n",
       " 'sodium tripolyphosphate production' (kilogram, RoW, None),\n",
       " 'sodium tripolyphosphate production' (kilogram, RER, None),\n",
       " 'indium production' (kilogram, RER, None),\n",
       " 'sodium tetrafluoroborate production, sodium tetrahydridoborate fluorination' (kilogram, GLO, None),\n",
       " 'kaolin production' (kilogram, RoW, None),\n",
       " 'kaolin production' (kilogram, RER, None),\n",
       " 'bromine production' (kilogram, RoW, None),\n",
       " 'bromine production' (kilogram, RER, None)]"
      ]
     },
     "execution_count": 10,
     "metadata": {},
     "output_type": "execute_result"
    }
   ],
   "source": [
    "ei_clca.search('ceramics')"
   ]
  },
  {
   "cell_type": "code",
   "execution_count": 11,
   "id": "9129ac64",
   "metadata": {},
   "outputs": [],
   "source": [
    "# define a process as object in the project\n",
    "ceramics_bw = db_template.get(name = 'porcelain ceramics production', location = \"RER\", unit = 'kilogram')\n",
    "ceramics_ei = ei_clca.get(name = 'sanitary ceramics production', location = \"CH\", unit = 'kilogram')\n"
   ]
  },
  {
   "cell_type": "code",
   "execution_count": 12,
   "id": "d2283e55",
   "metadata": {},
   "outputs": [
    {
     "name": "stdout",
     "output_type": "stream",
     "text": [
      "Exchange: 1.0277 kilowatt hour 'market group for electricity, high voltage' (kilowatt hour, RER, None) to 'porcelain ceramics production' (kilogram, RER, None)>\n",
      "Exchange: 1 kilogram 'porcelain ceramics production' (kilogram, RER, None) to 'porcelain ceramics production' (kilogram, RER, None)>\n",
      "Exchange: 0.5775000000000001 kilogram 'market for kaolin' (kilogram, GLO, None) to 'porcelain ceramics production' (kilogram, RER, None)>\n",
      "Exchange: 0.45066666666666666 cubic meter 'market group for natural gas, high pressure' (cubic meter, Europe without Switzerland, None) to 'porcelain ceramics production' (kilogram, RER, None)>\n",
      "Exchange: 0.275 kilogram 'market for feldspar' (kilogram, GLO, None) to 'porcelain ceramics production' (kilogram, RER, None)>\n",
      "Exchange: 0.24750000000000003 kilogram 'market for silica sand' (kilogram, GLO, None) to 'porcelain ceramics production' (kilogram, RER, None)>\n",
      "Exchange: 0.01261 kilogram 'Sulfur dioxide' (kilogram, None, ('air',)) to 'porcelain ceramics production' (kilogram, RER, None)>\n",
      "Exchange: 0.0001261 kilogram 'Hydrogen fluoride' (kilogram, None, ('air',)) to 'porcelain ceramics production' (kilogram, RER, None)>\n",
      "Exchange: 8.72639e-05 cubic meter 'Water' (cubic meter, None, ('air',)) to 'porcelain ceramics production' (kilogram, RER, None)>\n",
      "Exchange: 1.25e-10 unit 'packaging glass factory construction' (unit, RER, None) to 'porcelain ceramics production' (kilogram, RER, None)>\n"
     ]
    }
   ],
   "source": [
    "# quickly print all exchanges of the process defined above, sorted by amount (large to small)\n",
    "exchanges = sorted(ceramics_bw.exchanges(), key=lambda exc: exc['amount'], reverse=True)\n",
    "for exc in exchanges:\n",
    "    print(exc)"
   ]
  },
  {
   "cell_type": "markdown",
   "id": "6f6d8c1a",
   "metadata": {},
   "source": [
    "### 4. Impact assessment methods"
   ]
  },
  {
   "cell_type": "code",
   "execution_count": 13,
   "id": "feffe801",
   "metadata": {},
   "outputs": [
    {
     "data": {
      "text/plain": [
       "[('CML v4.8 2016 no LT',\n",
       "  'acidification no LT',\n",
       "  'acidification (incl. fate, average Europe total, A&B) no LT'),\n",
       " ('CML v4.8 2016 no LT',\n",
       "  'climate change no LT',\n",
       "  'global warming potential (GWP100) no LT'),\n",
       " ('CML v4.8 2016 no LT',\n",
       "  'ecotoxicity: freshwater no LT',\n",
       "  'freshwater aquatic ecotoxicity (FAETP inf) no LT'),\n",
       " ('CML v4.8 2016 no LT',\n",
       "  'ecotoxicity: marine no LT',\n",
       "  'marine aquatic ecotoxicity (MAETP inf) no LT'),\n",
       " ('CML v4.8 2016 no LT',\n",
       "  'ecotoxicity: terrestrial no LT',\n",
       "  'terrestrial ecotoxicity (TETP inf) no LT')]"
      ]
     },
     "execution_count": 13,
     "metadata": {},
     "output_type": "execute_result"
    }
   ],
   "source": [
    "# here we will analyse the set of methods that are available as part of the background\n",
    "list(bd.methods)[:5]"
   ]
  },
  {
   "cell_type": "code",
   "execution_count": 14,
   "id": "a00284e0",
   "metadata": {},
   "outputs": [
    {
     "name": "stdout",
     "output_type": "stream",
     "text": [
      "('CML v4.8 2016 no LT', 'climate change no LT', 'global warming potential (GWP100) no LT')\n",
      "('CML v4.8 2016', 'climate change', 'global warming potential (GWP100)')\n",
      "('Ecological Scarcity 2021 no LT', 'climate change no LT', 'global warming potential (GWP100) no LT')\n",
      "('Ecological Scarcity 2021', 'climate change', 'global warming potential (GWP100)')\n",
      "('EF v3.0 no LT', 'climate change no LT', 'global warming potential (GWP100) no LT')\n",
      "('EF v3.0 no LT', 'climate change: biogenic no LT', 'global warming potential (GWP100) no LT')\n",
      "('EF v3.0 no LT', 'climate change: fossil no LT', 'global warming potential (GWP100) no LT')\n",
      "('EF v3.0 no LT', 'climate change: land use and land use change no LT', 'global warming potential (GWP100) no LT')\n",
      "('EF v3.0', 'climate change', 'global warming potential (GWP100)')\n",
      "('EF v3.0', 'climate change: biogenic', 'global warming potential (GWP100)')\n",
      "('EF v3.0', 'climate change: fossil', 'global warming potential (GWP100)')\n",
      "('EF v3.0', 'climate change: land use and land use change', 'global warming potential (GWP100)')\n",
      "('EF v3.1 no LT', 'climate change no LT', 'global warming potential (GWP100) no LT')\n",
      "('EF v3.1 no LT', 'climate change: biogenic no LT', 'global warming potential (GWP100) no LT')\n",
      "('EF v3.1 no LT', 'climate change: fossil no LT', 'global warming potential (GWP100) no LT')\n",
      "('EF v3.1 no LT', 'climate change: land use and land use change no LT', 'global warming potential (GWP100) no LT')\n",
      "('EF v3.1', 'climate change', 'global warming potential (GWP100)')\n",
      "('EF v3.1', 'climate change: biogenic', 'global warming potential (GWP100)')\n",
      "('EF v3.1', 'climate change: fossil', 'global warming potential (GWP100)')\n",
      "('EF v3.1', 'climate change: land use and land use change', 'global warming potential (GWP100)')\n",
      "('IMPACT World+ v2.0.1, footprint version', 'climate change', 'carbon footprint')\n",
      "('IPCC 2013 no LT', 'climate change no LT', 'global temperature change potential (GTP100) no LT')\n",
      "('IPCC 2013 no LT', 'climate change no LT', 'global temperature change potential (GTP20) no LT')\n",
      "('IPCC 2013 no LT', 'climate change no LT', 'global warming potential (GWP100) no LT')\n",
      "('IPCC 2013 no LT', 'climate change no LT', 'global warming potential (GWP20) no LT')\n",
      "('IPCC 2013', 'climate change', 'global temperature change potential (GTP100)')\n",
      "('IPCC 2013', 'climate change', 'global temperature change potential (GTP20)')\n",
      "('IPCC 2013', 'climate change', 'global warming potential (GWP100)')\n",
      "('IPCC 2013', 'climate change', 'global warming potential (GWP20)')\n",
      "('IPCC 2021 no LT', 'climate change no LT', 'global temperature change potential (GTP100) no LT')\n",
      "('IPCC 2021 no LT', 'climate change no LT', 'global temperature change potential (GTP50) no LT')\n",
      "('IPCC 2021 no LT', 'climate change no LT', 'global warming potential (GWP100) no LT')\n",
      "('IPCC 2021 no LT', 'climate change no LT', 'global warming potential (GWP20) no LT')\n",
      "('IPCC 2021 no LT', 'climate change no LT', 'global warming potential (GWP500) no LT')\n",
      "('IPCC 2021 no LT', 'climate change: biogenic no LT', 'global temperature change potential (GTP100) no LT')\n",
      "('IPCC 2021 no LT', 'climate change: biogenic no LT', 'global temperature change potential (GTP50) no LT')\n",
      "('IPCC 2021 no LT', 'climate change: biogenic no LT', 'global warming potential (GWP100) no LT')\n",
      "('IPCC 2021 no LT', 'climate change: biogenic no LT', 'global warming potential (GWP20) no LT')\n",
      "('IPCC 2021 no LT', 'climate change: biogenic no LT', 'global warming potential (GWP500) no LT')\n",
      "('IPCC 2021 no LT', 'climate change: biogenic, including SLCFs no LT', 'global temperature change potential (GTP100) no LT')\n",
      "('IPCC 2021 no LT', 'climate change: biogenic, including SLCFs no LT', 'global warming potential (GWP100) no LT')\n",
      "('IPCC 2021 no LT', 'climate change: biogenic, including SLCFs no LT', 'global warming potential (GWP20) no LT')\n",
      "('IPCC 2021 no LT', 'climate change: fossil no LT', 'global temperature change potential (GTP100) no LT')\n",
      "('IPCC 2021 no LT', 'climate change: fossil no LT', 'global temperature change potential (GTP50) no LT')\n",
      "('IPCC 2021 no LT', 'climate change: fossil no LT', 'global warming potential (GWP100) no LT')\n",
      "('IPCC 2021 no LT', 'climate change: fossil no LT', 'global warming potential (GWP20) no LT')\n",
      "('IPCC 2021 no LT', 'climate change: fossil no LT', 'global warming potential (GWP500) no LT')\n",
      "('IPCC 2021 no LT', 'climate change: fossil, including SLCFs no LT', 'global temperature change potential (GTP100) no LT')\n",
      "('IPCC 2021 no LT', 'climate change: fossil, including SLCFs no LT', 'global warming potential (GWP100) no LT')\n",
      "('IPCC 2021 no LT', 'climate change: fossil, including SLCFs no LT', 'global warming potential (GWP20) no LT')\n",
      "('IPCC 2021 no LT', 'climate change: including SLCFs no LT', 'global temperature change potential (GTP100) no LT')\n",
      "('IPCC 2021 no LT', 'climate change: including SLCFs no LT', 'global warming potential (GWP100) no LT')\n",
      "('IPCC 2021 no LT', 'climate change: including SLCFs no LT', 'global warming potential (GWP20) no LT')\n",
      "('IPCC 2021 no LT', 'climate change: land use no LT', 'global temperature change potential (GTP100) no LT')\n",
      "('IPCC 2021 no LT', 'climate change: land use no LT', 'global temperature change potential (GTP50) no LT')\n",
      "('IPCC 2021 no LT', 'climate change: land use no LT', 'global warming potential (GWP100) no LT')\n",
      "('IPCC 2021 no LT', 'climate change: land use no LT', 'global warming potential (GWP20) no LT')\n",
      "('IPCC 2021 no LT', 'climate change: land use no LT', 'global warming potential (GWP500) no LT')\n",
      "('IPCC 2021 no LT', 'climate change: land use, including SLCFs no LT', 'global temperature change potential (GTP100) no LT')\n",
      "('IPCC 2021 no LT', 'climate change: land use, including SLCFs no LT', 'global warming potential (GWP100) no LT')\n",
      "('IPCC 2021 no LT', 'climate change: land use, including SLCFs no LT', 'global warming potential (GWP20) no LT')\n",
      "('IPCC 2021', 'climate change', 'global temperature change potential (GTP100)')\n",
      "('IPCC 2021', 'climate change', 'global temperature change potential (GTP50)')\n",
      "('IPCC 2021', 'climate change', 'global warming potential (GWP100)')\n",
      "('IPCC 2021', 'climate change', 'global warming potential (GWP20)')\n",
      "('IPCC 2021', 'climate change', 'global warming potential (GWP500)')\n",
      "('IPCC 2021', 'climate change: biogenic', 'global temperature change potential (GTP100)')\n",
      "('IPCC 2021', 'climate change: biogenic', 'global temperature change potential (GTP50)')\n",
      "('IPCC 2021', 'climate change: biogenic', 'global warming potential (GWP100)')\n",
      "('IPCC 2021', 'climate change: biogenic', 'global warming potential (GWP20)')\n",
      "('IPCC 2021', 'climate change: biogenic', 'global warming potential (GWP500)')\n",
      "('IPCC 2021', 'climate change: biogenic, including SLCFs', 'global temperature change potential (GTP100)')\n",
      "('IPCC 2021', 'climate change: biogenic, including SLCFs', 'global warming potential (GWP100)')\n",
      "('IPCC 2021', 'climate change: biogenic, including SLCFs', 'global warming potential (GWP20)')\n",
      "('IPCC 2021', 'climate change: fossil', 'global temperature change potential (GTP100)')\n",
      "('IPCC 2021', 'climate change: fossil', 'global temperature change potential (GTP50)')\n",
      "('IPCC 2021', 'climate change: fossil', 'global warming potential (GWP100)')\n",
      "('IPCC 2021', 'climate change: fossil', 'global warming potential (GWP20)')\n",
      "('IPCC 2021', 'climate change: fossil', 'global warming potential (GWP500)')\n",
      "('IPCC 2021', 'climate change: fossil, including SLCFs', 'global temperature change potential (GTP100)')\n",
      "('IPCC 2021', 'climate change: fossil, including SLCFs', 'global warming potential (GWP100)')\n",
      "('IPCC 2021', 'climate change: fossil, including SLCFs', 'global warming potential (GWP20)')\n",
      "('IPCC 2021', 'climate change: including SLCFs', 'global temperature change potential (GTP100)')\n",
      "('IPCC 2021', 'climate change: including SLCFs', 'global warming potential (GWP100)')\n",
      "('IPCC 2021', 'climate change: including SLCFs', 'global warming potential (GWP20)')\n",
      "('IPCC 2021', 'climate change: land use', 'global temperature change potential (GTP100)')\n",
      "('IPCC 2021', 'climate change: land use', 'global temperature change potential (GTP50)')\n",
      "('IPCC 2021', 'climate change: land use', 'global warming potential (GWP100)')\n",
      "('IPCC 2021', 'climate change: land use', 'global warming potential (GWP20)')\n",
      "('IPCC 2021', 'climate change: land use', 'global warming potential (GWP500)')\n",
      "('IPCC 2021', 'climate change: land use, including SLCFs', 'global temperature change potential (GTP100)')\n",
      "('IPCC 2021', 'climate change: land use, including SLCFs', 'global warming potential (GWP100)')\n",
      "('IPCC 2021', 'climate change: land use, including SLCFs', 'global warming potential (GWP20)')\n",
      "('ReCiPe 2016 v1.03, endpoint (E) no LT', 'ecosystem quality no LT', 'climate change: freshwater ecosystems no LT')\n",
      "('ReCiPe 2016 v1.03, endpoint (E) no LT', 'ecosystem quality no LT', 'climate change: terrestrial ecosystems no LT')\n",
      "('ReCiPe 2016 v1.03, endpoint (E) no LT', 'human health no LT', 'climate change: human health no LT')\n",
      "('ReCiPe 2016 v1.03, endpoint (E)', 'ecosystem quality', 'climate change: freshwater ecosystems')\n",
      "('ReCiPe 2016 v1.03, endpoint (E)', 'ecosystem quality', 'climate change: terrestrial ecosystems')\n",
      "('ReCiPe 2016 v1.03, endpoint (E)', 'human health', 'climate change: human health')\n",
      "('ReCiPe 2016 v1.03, endpoint (H) no LT', 'ecosystem quality no LT', 'climate change: freshwater ecosystems no LT')\n",
      "('ReCiPe 2016 v1.03, endpoint (H) no LT', 'ecosystem quality no LT', 'climate change: terrestrial ecosystems no LT')\n",
      "('ReCiPe 2016 v1.03, endpoint (H) no LT', 'human health no LT', 'climate change: human health no LT')\n",
      "('ReCiPe 2016 v1.03, endpoint (H)', 'ecosystem quality', 'climate change: freshwater ecosystems')\n",
      "('ReCiPe 2016 v1.03, endpoint (H)', 'ecosystem quality', 'climate change: terrestrial ecosystems')\n",
      "('ReCiPe 2016 v1.03, endpoint (H)', 'human health', 'climate change: human health')\n",
      "('ReCiPe 2016 v1.03, endpoint (I) no LT', 'ecosystem quality no LT', 'climate change: freshwater ecosystems no LT')\n",
      "('ReCiPe 2016 v1.03, endpoint (I) no LT', 'ecosystem quality no LT', 'climate change: terrestrial ecosystems no LT')\n",
      "('ReCiPe 2016 v1.03, endpoint (I) no LT', 'human health no LT', 'climate change: human health no LT')\n",
      "('ReCiPe 2016 v1.03, endpoint (I)', 'ecosystem quality', 'climate change: freshwater ecosystems')\n",
      "('ReCiPe 2016 v1.03, endpoint (I)', 'ecosystem quality', 'climate change: terrestrial ecosystems')\n",
      "('ReCiPe 2016 v1.03, endpoint (I)', 'human health', 'climate change: human health')\n",
      "('ReCiPe 2016 v1.03, midpoint (E) no LT', 'climate change no LT', 'global warming potential (GWP1000) no LT')\n",
      "('ReCiPe 2016 v1.03, midpoint (E)', 'climate change', 'global warming potential (GWP1000)')\n",
      "('ReCiPe 2016 v1.03, midpoint (H) no LT', 'climate change no LT', 'global warming potential (GWP100) no LT')\n",
      "('ReCiPe 2016 v1.03, midpoint (H)', 'climate change', 'global warming potential (GWP100)')\n",
      "('ReCiPe 2016 v1.03, midpoint (I) no LT', 'climate change no LT', 'global warming potential (GWP20) no LT')\n",
      "('ReCiPe 2016 v1.03, midpoint (I)', 'climate change', 'global warming potential (GWP20)')\n",
      "('TRACI v2.1 no LT', 'climate change no LT', 'global warming potential (GWP100) no LT')\n",
      "('TRACI v2.1', 'climate change', 'global warming potential (GWP100)')\n",
      "('EF v3.0 EN15804', 'climate change', 'global warming potential (GWP100)')\n",
      "('EF v3.0 EN15804', 'climate change: biogenic', 'global warming potential (GWP100)')\n",
      "('EF v3.0 EN15804', 'climate change: fossil', 'global warming potential (GWP100)')\n",
      "('EF v3.0 EN15804', 'climate change: GHG (EPD PCR)', 'global warming potential (GWP100)')\n",
      "('EF v3.0 EN15804', 'climate change: land use and land use change', 'global warming potential (GWP100)')\n",
      "('EF v3.1 EN15804', 'climate change', 'global warming potential (GWP100)')\n",
      "('EF v3.1 EN15804', 'climate change: biogenic', 'global warming potential (GWP100)')\n",
      "('EF v3.1 EN15804', 'climate change: fossil', 'global warming potential (GWP100)')\n",
      "('EF v3.1 EN15804', 'climate change: GHG (EPD PCR)', 'global warming potential (GWP100)')\n",
      "('EF v3.1 EN15804', 'climate change: land use and land use change', 'global warming potential (GWP100)')\n"
     ]
    }
   ],
   "source": [
    "# printing all methods that contain a specific keyword, e.g. \"climate change\"\n",
    "climate_methods = [m for m in bd.methods if any(\"climate change\" in str(part).lower() for part in m)]\n",
    "for method in climate_methods:\n",
    "    print(method)"
   ]
  },
  {
   "cell_type": "code",
   "execution_count": 15,
   "id": "3b0b476b",
   "metadata": {},
   "outputs": [],
   "source": [
    "# selecting the impact assessment methods that we want to use in our analysis\n",
    "lcia_gwp100 = ('EF v3.1', 'climate change', 'global warming potential (GWP100)')\n",
    "lcia_water = ('EF v3.1','water use','user deprivation potential (deprivation-weighted water consumption)')\n",
    "lcia_land = ('EF v3.1', 'land use', 'soil quality index')"
   ]
  },
  {
   "cell_type": "markdown",
   "id": "a68e120e",
   "metadata": {},
   "source": [
    "### 5. LCI "
   ]
  },
  {
   "cell_type": "code",
   "execution_count": 16,
   "id": "6166da62",
   "metadata": {},
   "outputs": [
    {
     "data": {
      "text/plain": [
       "'c:\\\\Users\\\\TimWeber\\\\repos_20LCA\\\\LCA_Toolbox\\\\lci-bw25_db.xlsx'"
      ]
     },
     "execution_count": 16,
     "metadata": {},
     "output_type": "execute_result"
    }
   ],
   "source": [
    "# export the LCI to excel in an overview format\n",
    "bi.export.excel.write_lci_excel(db_template.name,\n",
    "                                objs=[ceramics_bw],\n",
    "                                dirpath=Path.cwd())"
   ]
  },
  {
   "cell_type": "markdown",
   "id": "52d66648",
   "metadata": {},
   "source": [
    "### 6. LCIA"
   ]
  },
  {
   "cell_type": "code",
   "execution_count": 17,
   "id": "ca05a284",
   "metadata": {},
   "outputs": [
    {
     "data": {
      "text/plain": [
       "0.7265791393172021"
      ]
     },
     "execution_count": 17,
     "metadata": {},
     "output_type": "execute_result"
    }
   ],
   "source": [
    "# Quick LCIA calculation\n",
    "ceramics_bw_lca = ceramics_bw.lca(lcia_gwp100)\n",
    "ceramics_bw_lca.score\n"
   ]
  },
  {
   "cell_type": "code",
   "execution_count": 18,
   "id": "a0b8bded",
   "metadata": {},
   "outputs": [
    {
     "data": {
      "text/plain": [
       "3.204853545579472"
      ]
     },
     "execution_count": 18,
     "metadata": {},
     "output_type": "execute_result"
    }
   ],
   "source": [
    "ceramics_ei_lca = ceramics_ei.lca(lcia_gwp100)\n",
    "ceramics_ei_lca.score"
   ]
  },
  {
   "cell_type": "markdown",
   "id": "357aef27",
   "metadata": {},
   "source": [
    "### 7. Contribution analysis"
   ]
  },
  {
   "cell_type": "code",
   "execution_count": null,
   "id": "a49b7b1e",
   "metadata": {},
   "outputs": [
    {
     "name": "stdout",
     "output_type": "stream",
     "text": [
      "Fraction of score | Absolute score | Amount | Activity\n",
      "0001 | 0.7266 |     1 | 'porcelain ceramics production' (kilogram, RER, None)\n",
      "  00.2 | 0.1451 | 0.5775 | 'market for kaolin' (kilogram, GLO, None)\n",
      "    0.123 | 0.08954 | 0.3783 | 'kaolin production' (kilogram, RoW, None)\n",
      "      0.0546 | 0.0397 | 0.05354 | 'market group for electricity, medium voltage' (kilowatt hour, RAS, None)\n",
      "    0.0699 | 0.05079 | 0.1992 | 'kaolin production' (kilogram, RER, None)\n",
      "  0.331 | 0.2407 | 1.028 | 'market group for electricity, high voltage' (kilowatt hour, RER, None)\n",
      "    0.327 | 0.2376 | 1.013 | 'market group for electricity, high voltage' (kilowatt hour, Europe without Switzerland, None)\n",
      "      0.124 | 0.08975 | 0.1495 | 'market for electricity, high voltage' (kilowatt hour, UA, None)\n",
      "  0.389 | 0.283 | 0.4507 | 'market group for natural gas, high pressure' (cubic meter, Europe without Switzerland, None)\n",
      "    0.0665 | 0.04834 | 0.06835 | 'market for natural gas, high pressure' (cubic meter, IT, None)\n",
      "    0.084 | 0.06106 | 0.08607 | 'market for natural gas, high pressure' (cubic meter, DE, None)\n",
      "      0.0674 | 0.049 | 0.05296 | 'natural gas, high pressure, import from RU' (cubic meter, DE, None)\n"
     ]
    }
   ],
   "source": [
    "# One option to do a contribution analysis is to use the recursive calculation method\n",
    "bwa.print_recursive_calculation(ceramics_bw,\n",
    "lcia_method=lcia_gwp100,max_level=3,cutoff=0.05)"
   ]
  },
  {
   "cell_type": "code",
   "execution_count": null,
   "id": "185b3405",
   "metadata": {},
   "outputs": [],
   "source": [
    "# Another option is to use the recursive calculation to an object, which returns a DataFrame\n",
    "ceramics_bw_ca = bwa.utils.recursive_calculation_to_object(ceramics_bw,\n",
    "                                          lcia_method=lcia_gwp100,\n",
    "                                          max_level=1,\n",
    "                                          cutoff=0.02,\n",
    "                                          as_dataframe=True,\n",
    "                                          )\n",
    "ceramics_bw_ca"
   ]
  },
  {
   "cell_type": "code",
   "execution_count": null,
   "id": "fa20fc0a",
   "metadata": {},
   "outputs": [],
   "source": [
    "# The goal here is to conduct the same analysis for the ecoinvent process so we can compare the contributions later\n",
    "ceramics_ei_ca = bwa.utils.recursive_calculation_to_object(ceramics_ei,\n",
    "                                          lcia_method=lcia_gwp100,\n",
    "                                          max_level=1,\n",
    "                                          cutoff=0.02,\n",
    "                                          as_dataframe=True,\n",
    "                                          )\n",
    "ceramics_ei_ca"
   ]
  },
  {
   "cell_type": "code",
   "execution_count": null,
   "id": "3075ad93",
   "metadata": {},
   "outputs": [],
   "source": [
    "# Elementary flows contribution analysis by process\n",
    "ceramics_ei_lca.to_dataframe().pivot_table(index=['col_name', 'row_name'], values='amount', aggfunc='sum').sort_values(by='amount', ascending=False)"
   ]
  },
  {
   "cell_type": "code",
   "execution_count": null,
   "id": "04718c76",
   "metadata": {},
   "outputs": [],
   "source": [
    "# Elementary flows contribution analysis as summary table\n",
    "ceramics_ei_lca.to_dataframe().pivot_table(index='row_name',values='amount',aggfunc='sum')"
   ]
  },
  {
   "cell_type": "markdown",
   "id": "65ca78a9",
   "metadata": {},
   "source": [
    "### 8. Plot Contribution analysis graphs"
   ]
  },
  {
   "cell_type": "code",
   "execution_count": null,
   "id": "d8658a79",
   "metadata": {},
   "outputs": [],
   "source": [
    "# Filter out the parent processes that are not relevant for the contribution analysis\n",
    "ceramics_bw_ca = ceramics_bw_ca.dropna(subset='parent') \n",
    "ceramics_ei_ca = ceramics_ei_ca.dropna(subset='parent')\n",
    "\n"
   ]
  },
  {
   "cell_type": "code",
   "execution_count": null,
   "id": "2fbec9b8",
   "metadata": {},
   "outputs": [],
   "source": [
    "# First, we plot the contribution analysis for the brigthway ceramics production process\n",
    "f, ax = plt.subplots(figsize=(6, 3))\n",
    "sns.barplot(y='name', x='score', data=ceramics_bw_ca, ax=ax)\n",
    "ax.set(\n",
    "    title='Contribution analysis of the product under study',\n",
    "    xlabel='CO2 eq. emissions (kg)',\n",
    "    ylabel='')\n",
    "plt.tight_layout()\n",
    "plt.show()\n"
   ]
  },
  {
   "cell_type": "code",
   "execution_count": null,
   "id": "d5135d1e",
   "metadata": {},
   "outputs": [],
   "source": [
    "# Then, we plot the same for the ecoinvent ceramics production process\n",
    "f, ax = plt.subplots(figsize=(6, 3))\n",
    "sns.barplot(y='name', x='score', data=ceramics_ei_ca, ax=ax)\n",
    "ax.set(\n",
    "    title='Contribution analysis of the product under study',\n",
    "    xlabel='CO2 eq. emissions (kg)',\n",
    "    ylabel='')\n",
    "plt.tight_layout()\n",
    "plt.show()\n"
   ]
  },
  {
   "cell_type": "markdown",
   "id": "80ed83fb",
   "metadata": {},
   "source": [
    "### 9. Comparison"
   ]
  },
  {
   "cell_type": "code",
   "execution_count": null,
   "id": "414bdf37",
   "metadata": {},
   "outputs": [],
   "source": [
    "combined_df = pd.concat([ceramics_bw_ca.set_index('name').score,ceramics_ei_ca.set_index('name').score],\n",
    "                        keys=['ceramics_bw','ceramics_ei'],\n",
    "                        names=['activity','contributor'])\n",
    "combined_df"
   ]
  },
  {
   "cell_type": "code",
   "execution_count": null,
   "id": "2f4a8b06",
   "metadata": {},
   "outputs": [],
   "source": [
    "ax = combined_df.unstack().plot.barh(\n",
    "    stacked=True,\n",
    "    title='Main contributors to global warming',\n",
    "    xlabel='kg CO2eq',\n",
    "    figsize=(10,6)\n",
    ")\n",
    "\n",
    "plt.legend(bbox_to_anchor=(1.05, 1), loc='upper left')  # moves legend outside\n",
    "plt.tight_layout()\n",
    "plt.show()"
   ]
  }
 ],
 "metadata": {
  "kernelspec": {
   "display_name": "LCA_Toolbox",
   "language": "python",
   "name": "python3"
  },
  "language_info": {
   "codemirror_mode": {
    "name": "ipython",
    "version": 3
   },
   "file_extension": ".py",
   "mimetype": "text/x-python",
   "name": "python",
   "nbconvert_exporter": "python",
   "pygments_lexer": "ipython3",
   "version": "3.11.13"
  }
 },
 "nbformat": 4,
 "nbformat_minor": 5
}
