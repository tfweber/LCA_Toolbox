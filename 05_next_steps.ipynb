{
 "cells": [
  {
   "cell_type": "markdown",
   "id": "a368407e",
   "metadata": {},
   "source": [
    "As next steps we want to develop an importer for BONSAI, get ODYM-RECC running, modify EcoInvent with PREMISE."
   ]
  }
 ],
 "metadata": {
  "kernelspec": {
   "display_name": "brightway25",
   "language": "python",
   "name": "python3"
  },
  "language_info": {
   "codemirror_mode": {
    "name": "ipython",
    "version": 3
   },
   "file_extension": ".py",
   "mimetype": "text/x-python",
   "name": "python",
   "nbconvert_exporter": "python",
   "pygments_lexer": "ipython3",
   "version": "3.12.11"
  }
 },
 "nbformat": 4,
 "nbformat_minor": 5
}
