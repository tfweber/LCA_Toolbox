{
 "cells": [
  {
   "cell_type": "markdown",
   "id": "a368407e",
   "metadata": {},
   "source": [
    "As next steps you can expect an importer for BONSAI, get ODYM-RECC running and develop a modified version of EcoInvent with PREMISE."
   ]
  },
  {
   "cell_type": "code",
   "execution_count": null,
   "id": "28fa3dee",
   "metadata": {},
   "outputs": [],
   "source": [
    "# please add your suggestions here regarding what should be learned about the tools out there"
   ]
  }
 ],
 "metadata": {
  "kernelspec": {
   "display_name": "base",
   "language": "python",
   "name": "python3"
  },
  "language_info": {
   "codemirror_mode": {
    "name": "ipython",
    "version": 3
   },
   "file_extension": ".py",
   "mimetype": "text/x-python",
   "name": "python",
   "nbconvert_exporter": "python",
   "pygments_lexer": "ipython3",
   "version": "3.12.7"
  }
 },
 "nbformat": 4,
 "nbformat_minor": 5
}
