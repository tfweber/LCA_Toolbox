{
 "cells": [
  {
   "cell_type": "code",
   "execution_count": 1,
   "id": "04365249",
   "metadata": {},
   "outputs": [],
   "source": [
    "# The new plan as of now is to find out how to link Brightway to other Python models such as PREMISE and ODYM. We can then perform prospective LCA and combine Material Flow Analysis (MFA) with LCA."
   ]
  },
  {
   "cell_type": "code",
   "execution_count": 1,
   "id": "475035d3",
   "metadata": {},
   "outputs": [],
   "source": [
    "# Also, I want that others try to see if they can run this repository and get the same results."
   ]
  },
  {
   "cell_type": "code",
   "execution_count": 1,
   "id": "99dd0fe0",
   "metadata": {},
   "outputs": [],
   "source": [
    "# An important next step is to try to run the code for the BONSAI importer and understand how it works and which data it pulls - check REED repository for this."
   ]
  }
 ],
 "metadata": {
  "kernelspec": {
   "display_name": "brightway25",
   "language": "python",
   "name": "python3"
  },
  "language_info": {
   "codemirror_mode": {
    "name": "ipython",
    "version": 3
   },
   "file_extension": ".py",
   "mimetype": "text/x-python",
   "name": "python",
   "nbconvert_exporter": "python",
   "pygments_lexer": "ipython3",
   "version": "3.12.11"
  }
 },
 "nbformat": 4,
 "nbformat_minor": 5
}
