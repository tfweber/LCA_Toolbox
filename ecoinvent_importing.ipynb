{
 "cells": [
  {
   "cell_type": "markdown",
   "id": "60cf6934",
   "metadata": {},
   "source": [
    "# ecoinvent import"
   ]
  },
  {
   "cell_type": "markdown",
   "id": "e57b800b",
   "metadata": {},
   "source": [
    "### 1. Install required packages\n",
    "\n",
    "Before starting here with your work in brightway, make sure that you followed the steps in the README.md section to install brightway on your machine and setup an environment to work in."
   ]
  },
  {
   "cell_type": "code",
   "execution_count": 1,
   "id": "455a1854",
   "metadata": {},
   "outputs": [
    {
     "name": "stdout",
     "output_type": "stream",
     "text": [
      "13:48:26+0200 [warning  ] Can't import `SimaProBlockCSVImporter` - please install `bw2io` with `pip install bw2io[multifunctional]` or install `multifunctional` and `bw_simapro_csv` manually.\n"
     ]
    }
   ],
   "source": [
    "# basic imports from brightway\n",
    "import bw2analyzer as ba\n",
    "import bw2calc as bc\n",
    "import bw2data as bd\n",
    "import bw2io as bi\n",
    "from bw2io.importers import SingleOutputEcospold2Importer\n",
    "import bw2analyzer as bwa\n",
    "from bw2data import methods\n",
    "from bw2io import create_default_biosphere3\n",
    "\n",
    "# other relevant packages\n",
    "import numpy as np\n",
    "import pandas as pd\n",
    "import matplotlib.pyplot as plt\n",
    "from pathlib import Path"
   ]
  },
  {
   "cell_type": "markdown",
   "id": "33afa251",
   "metadata": {},
   "source": [
    "### 2. Setup the project"
   ]
  },
  {
   "cell_type": "code",
   "execution_count": 4,
   "id": "73d09e6e",
   "metadata": {},
   "outputs": [],
   "source": [
    "# define a project where we install the databases and work in this script\n",
    "bd.projects.set_current('brightway25')"
   ]
  },
  {
   "cell_type": "markdown",
   "id": "f691ff6d",
   "metadata": {},
   "source": [
    "### 3. Install the desired databases"
   ]
  },
  {
   "cell_type": "code",
   "execution_count": 6,
   "id": "f102fbdf",
   "metadata": {},
   "outputs": [
    {
     "name": "stdout",
     "output_type": "stream",
     "text": [
      "Applying strategy: normalize_units\n",
      "Applying strategy: drop_unspecified_subcategories\n",
      "Applying strategy: ensure_categories_are_tuples\n",
      "Applied 3 strategies in 0.01 seconds\n"
     ]
    },
    {
     "name": "stderr",
     "output_type": "stream",
     "text": [
      "100%|██████████| 4709/4709 [00:00<00:00, 13599.13it/s]\n"
     ]
    },
    {
     "name": "stdout",
     "output_type": "stream",
     "text": [
      "13:49:00+0200 [info     ] Vacuuming database            \n",
      "Created database: biosphere3\n"
     ]
    }
   ],
   "source": [
    "create_default_biosphere3()"
   ]
  },
  {
   "cell_type": "code",
   "execution_count": null,
   "id": "5e9e54fa",
   "metadata": {},
   "outputs": [],
   "source": [
    "# import the biosphere database from ecoinvent \n",
    "bi.remote.install_project('ecoinvent-3.10-biosphere','brightway25',\n",
    "                                  overwrite_existing=True)"
   ]
  },
  {
   "cell_type": "code",
   "execution_count": null,
   "id": "a16f78fd",
   "metadata": {},
   "outputs": [],
   "source": [
    "# Define the names for ecoinvent databases used in the project\n",
    "ei_path = \"C:\\\\Users\\\\TimWeber\\\\OneDrive - 2.-0 LCA Consultants ApS\\\\Desktop\\\\ecoinvent_310\\\\background\\\\ecoinvent 3.10_consequential_ecoSpold02\\\\datasets\"\n",
    "ei_conseq = \"ecoinvent310clca\""
   ]
  },
  {
   "cell_type": "code",
   "execution_count": null,
   "id": "66881ef9",
   "metadata": {},
   "outputs": [],
   "source": [
    "ei_importer = SingleOutputEcospold2Importer(ei_path, ei_conseq)"
   ]
  },
  {
   "cell_type": "code",
   "execution_count": null,
   "id": "f808267e",
   "metadata": {},
   "outputs": [],
   "source": [
    "ei_importer.apply_strategies()"
   ]
  },
  {
   "cell_type": "code",
   "execution_count": null,
   "id": "24875d04",
   "metadata": {},
   "outputs": [],
   "source": [
    "ei_importer.write_database()"
   ]
  },
  {
   "cell_type": "code",
   "execution_count": null,
   "id": "a3bb04ff",
   "metadata": {},
   "outputs": [],
   "source": [
    "pd.DataFrame(ei_importer.unlinked)"
   ]
  },
  {
   "cell_type": "markdown",
   "id": "23b22f3a",
   "metadata": {},
   "source": [
    "### 4. Show databases"
   ]
  },
  {
   "cell_type": "code",
   "execution_count": 7,
   "id": "b7ac9c99",
   "metadata": {},
   "outputs": [
    {
     "data": {
      "text/plain": [
       "Databases dictionary with 4 object(s):\n",
       "\tbiosphere3\n",
       "\tbw25_db\n",
       "\tecoinvent-3.10-biosphere\n",
       "\tecoinvent310clca"
      ]
     },
     "execution_count": 7,
     "metadata": {},
     "output_type": "execute_result"
    }
   ],
   "source": [
    "# see the databases imported to the project\n",
    "bd.databases"
   ]
  },
  {
   "cell_type": "code",
   "execution_count": null,
   "id": "51abcf36",
   "metadata": {},
   "outputs": [],
   "source": []
  }
 ],
 "metadata": {
  "kernelspec": {
   "display_name": "brightway25",
   "language": "python",
   "name": "python3"
  },
  "language_info": {
   "codemirror_mode": {
    "name": "ipython",
    "version": 3
   },
   "file_extension": ".py",
   "mimetype": "text/x-python",
   "name": "python",
   "nbconvert_exporter": "python",
   "pygments_lexer": "ipython3",
   "version": "3.12.11"
  }
 },
 "nbformat": 4,
 "nbformat_minor": 5
}
