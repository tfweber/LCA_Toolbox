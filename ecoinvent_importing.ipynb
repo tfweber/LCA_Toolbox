{
 "cells": [
  {
   "cell_type": "markdown",
   "id": "60cf6934",
   "metadata": {},
   "source": [
    "# ecoinvent import"
   ]
  },
  {
   "cell_type": "markdown",
   "id": "e57b800b",
   "metadata": {},
   "source": [
    "### 1. Install required packages\n",
    "\n",
    "Before starting here with your work in brightway, make sure that you followed the steps in the README.md section to install brightway on your machine and setup an environment to work in."
   ]
  },
  {
   "cell_type": "code",
   "execution_count": 1,
   "id": "455a1854",
   "metadata": {},
   "outputs": [
    {
     "name": "stdout",
     "output_type": "stream",
     "text": [
      "09:09:22+0200 [warning  ] Can't import `SimaProBlockCSVImporter` - please install `bw2io` with `pip install bw2io[multifunctional]` or install `multifunctional` and `bw_simapro_csv` manually.\n"
     ]
    }
   ],
   "source": [
    "# basic imports from brightway\n",
    "import bw2analyzer as ba\n",
    "import bw2calc as bc\n",
    "import bw2data as bd\n",
    "import bw2io as bi\n",
    "from bw2io.importers import SingleOutputEcospold2Importer\n",
    "import bw2analyzer as bwa\n",
    "from bw2data import methods\n",
    "\n",
    "# other relevant packages\n",
    "import numpy as np\n",
    "import pandas as pd\n",
    "import matplotlib.pyplot as plt\n",
    "from pathlib import Path"
   ]
  },
  {
   "cell_type": "markdown",
   "id": "33afa251",
   "metadata": {},
   "source": [
    "### 2. Setup the project"
   ]
  },
  {
   "cell_type": "code",
   "execution_count": 11,
   "id": "73d09e6e",
   "metadata": {},
   "outputs": [],
   "source": [
    "# define a project where we install the databases and work in this script\n",
    "bd.projects.set_current('brightway25')"
   ]
  },
  {
   "cell_type": "markdown",
   "id": "f691ff6d",
   "metadata": {},
   "source": [
    "### 3. Install the desired databases"
   ]
  },
  {
   "cell_type": "code",
   "execution_count": 3,
   "id": "5e9e54fa",
   "metadata": {},
   "outputs": [
    {
     "name": "stdout",
     "output_type": "stream",
     "text": [
      "Restoring project backup archive - this could take a few minutes...\n",
      "09:09:31+0200 [info     ] Applying automatic update: 4.0 database search directories FTS5\n",
      "09:09:31+0200 [info     ] Reindexing database ecoinvent-3.10-biosphere\n",
      "Restored project: brightway25\n"
     ]
    },
    {
     "data": {
      "text/plain": [
       "'brightway25'"
      ]
     },
     "execution_count": 3,
     "metadata": {},
     "output_type": "execute_result"
    }
   ],
   "source": [
    "# import the biosphere database from ecoinvent \n",
    "bi.remote.install_project('ecoinvent-3.10-biosphere','brightway25',\n",
    "                                  overwrite_existing=True)"
   ]
  },
  {
   "cell_type": "code",
   "execution_count": 4,
   "id": "a16f78fd",
   "metadata": {},
   "outputs": [],
   "source": [
    "# Define the names for ecoinvent databases used in the project\n",
    "ei_path = \"C:\\\\Users\\\\TimWeber\\\\OneDrive - 2.-0 LCA Consultants ApS\\\\Desktop\\\\ecoinvent_310\\\\background\\\\ecoinvent 3.10_consequential_ecoSpold02\\\\datasets\"\n",
    "ei_conseq = \"ecoinvent310clca\""
   ]
  },
  {
   "cell_type": "code",
   "execution_count": 5,
   "id": "66881ef9",
   "metadata": {},
   "outputs": [
    {
     "name": "stdout",
     "output_type": "stream",
     "text": [
      "Extracting XML data from 20772 datasets\n",
      "09:15:41+0200 [info     ] Extracted 20772 datasets in 366.38 seconds\n"
     ]
    }
   ],
   "source": [
    "ei_importer = SingleOutputEcospold2Importer(ei_path, ei_conseq)"
   ]
  },
  {
   "cell_type": "code",
   "execution_count": 6,
   "id": "f808267e",
   "metadata": {},
   "outputs": [
    {
     "name": "stdout",
     "output_type": "stream",
     "text": [
      "Applying strategy: normalize_units\n",
      "Applying strategy: update_ecoinvent_locations\n",
      "Applying strategy: remove_zero_amount_coproducts\n",
      "Applying strategy: remove_zero_amount_inputs_with_no_activity\n",
      "Applying strategy: remove_unnamed_parameters\n",
      "Applying strategy: es2_assign_only_product_with_amount_as_reference_product\n",
      "Applying strategy: assign_single_product_as_activity\n",
      "Applying strategy: create_composite_code\n",
      "Applying strategy: drop_unspecified_subcategories\n",
      "Applying strategy: fix_ecoinvent_flows_pre35\n",
      "Applying strategy: drop_temporary_outdated_biosphere_flows\n",
      "Applying strategy: link_biosphere_by_flow_uuid\n",
      "Applying strategy: link_internal_technosphere_by_composite_code\n",
      "Applying strategy: delete_exchanges_missing_activity\n",
      "Applying strategy: delete_ghost_exchanges\n",
      "Applying strategy: remove_uncertainty_from_negative_loss_exchanges\n",
      "Applying strategy: fix_unreasonably_high_lognormal_uncertainties\n",
      "Applying strategy: convert_activity_parameters_to_list\n",
      "Applying strategy: add_cpc_classification_from_single_reference_product\n",
      "Applying strategy: delete_none_synonyms\n",
      "Applying strategy: update_social_flows_in_older_consequential\n",
      "Applying strategy: set_lognormal_loc_value\n",
      "Applied 22 strategies in 20.24 seconds\n"
     ]
    }
   ],
   "source": [
    "ei_importer.apply_strategies()"
   ]
  },
  {
   "cell_type": "code",
   "execution_count": 7,
   "id": "24875d04",
   "metadata": {},
   "outputs": [
    {
     "name": "stdout",
     "output_type": "stream",
     "text": [
      "09:16:10+0200 [warning  ] Not able to determine geocollections for all datasets. This database is not ready for regionalization.\n"
     ]
    },
    {
     "name": "stderr",
     "output_type": "stream",
     "text": [
      "100%|██████████| 20772/20772 [02:07<00:00, 163.37it/s]\n"
     ]
    },
    {
     "name": "stdout",
     "output_type": "stream",
     "text": [
      "09:18:17+0200 [info     ] Vacuuming database            \n",
      "Created database: ecoinvent310clca\n"
     ]
    },
    {
     "data": {
      "text/plain": [
       "Brightway2 SQLiteBackend: ecoinvent310clca"
      ]
     },
     "execution_count": 7,
     "metadata": {},
     "output_type": "execute_result"
    }
   ],
   "source": [
    "ei_importer.write_database()"
   ]
  },
  {
   "cell_type": "code",
   "execution_count": 8,
   "id": "a3bb04ff",
   "metadata": {},
   "outputs": [
    {
     "data": {
      "text/html": [
       "<div>\n",
       "<style scoped>\n",
       "    .dataframe tbody tr th:only-of-type {\n",
       "        vertical-align: middle;\n",
       "    }\n",
       "\n",
       "    .dataframe tbody tr th {\n",
       "        vertical-align: top;\n",
       "    }\n",
       "\n",
       "    .dataframe thead th {\n",
       "        text-align: right;\n",
       "    }\n",
       "</style>\n",
       "<table border=\"1\" class=\"dataframe\">\n",
       "  <thead>\n",
       "    <tr style=\"text-align: right;\">\n",
       "      <th></th>\n",
       "    </tr>\n",
       "  </thead>\n",
       "  <tbody>\n",
       "  </tbody>\n",
       "</table>\n",
       "</div>"
      ],
      "text/plain": [
       "Empty DataFrame\n",
       "Columns: []\n",
       "Index: []"
      ]
     },
     "execution_count": 8,
     "metadata": {},
     "output_type": "execute_result"
    }
   ],
   "source": [
    "pd.DataFrame(ei_importer.unlinked)"
   ]
  },
  {
   "cell_type": "markdown",
   "id": "23b22f3a",
   "metadata": {},
   "source": [
    "### 4. Show databases"
   ]
  },
  {
   "cell_type": "code",
   "execution_count": 15,
   "id": "b7ac9c99",
   "metadata": {},
   "outputs": [
    {
     "data": {
      "text/plain": [
       "Databases dictionary with 3 object(s):\n",
       "\tbw25_db\n",
       "\tecoinvent-3.10-biosphere\n",
       "\tecoinvent310clca"
      ]
     },
     "execution_count": 15,
     "metadata": {},
     "output_type": "execute_result"
    }
   ],
   "source": [
    "# see the databases imported to the project\n",
    "bd.databases"
   ]
  },
  {
   "cell_type": "code",
   "execution_count": 14,
   "id": "26164f0b",
   "metadata": {},
   "outputs": [
    {
     "ename": "KeyError",
     "evalue": "",
     "output_type": "error",
     "traceback": [
      "\u001b[31m---------------------------------------------------------------------------\u001b[39m",
      "\u001b[31mKeyError\u001b[39m                                  Traceback (most recent call last)",
      "\u001b[36mCell\u001b[39m\u001b[36m \u001b[39m\u001b[32mIn[14]\u001b[39m\u001b[32m, line 2\u001b[39m\n\u001b[32m      1\u001b[39m \u001b[38;5;66;03m# delete a database\u001b[39;00m\n\u001b[32m----> \u001b[39m\u001b[32m2\u001b[39m \u001b[38;5;28;01mdel\u001b[39;00m \u001b[43mbd\u001b[49m\u001b[43m.\u001b[49m\u001b[43mdatabases\u001b[49m\u001b[43m[\u001b[49m\u001b[33;43m'\u001b[39;49m\u001b[33;43mtest\u001b[39;49m\u001b[33;43m'\u001b[39;49m\u001b[43m]\u001b[49m\n",
      "\u001b[36mFile \u001b[39m\u001b[32mc:\\Users\\TimWeber\\anaconda3\\envs\\brightway25\\Lib\\site-packages\\bw2data\\meta.py:109\u001b[39m, in \u001b[36mDatabases.__delitem__\u001b[39m\u001b[34m(self, name, signal)\u001b[39m\n\u001b[32m    106\u001b[39m \u001b[38;5;28;01mfrom\u001b[39;00m\u001b[38;5;250m \u001b[39m\u001b[34;01mbw2data\u001b[39;00m\u001b[38;5;250m \u001b[39m\u001b[38;5;28;01mimport\u001b[39;00m Database\n\u001b[32m    108\u001b[39m \u001b[38;5;28;01mif\u001b[39;00m name \u001b[38;5;129;01mnot\u001b[39;00m \u001b[38;5;129;01min\u001b[39;00m \u001b[38;5;28mself\u001b[39m:\n\u001b[32m--> \u001b[39m\u001b[32m109\u001b[39m     \u001b[38;5;28;01mraise\u001b[39;00m \u001b[38;5;167;01mKeyError\u001b[39;00m\n\u001b[32m    111\u001b[39m \u001b[38;5;28;01mtry\u001b[39;00m:\n\u001b[32m    112\u001b[39m     Database(name).delete(warn=\u001b[38;5;28;01mFalse\u001b[39;00m, signal=\u001b[38;5;28;01mFalse\u001b[39;00m)\n",
      "\u001b[31mKeyError\u001b[39m: "
     ]
    }
   ],
   "source": [
    "# delete a database\n",
    "del bd.databases['test']"
   ]
  }
 ],
 "metadata": {
  "kernelspec": {
   "display_name": "brightway25",
   "language": "python",
   "name": "python3"
  },
  "language_info": {
   "codemirror_mode": {
    "name": "ipython",
    "version": 3
   },
   "file_extension": ".py",
   "mimetype": "text/x-python",
   "name": "python",
   "nbconvert_exporter": "python",
   "pygments_lexer": "ipython3",
   "version": "3.12.11"
  }
 },
 "nbformat": 4,
 "nbformat_minor": 5
}
