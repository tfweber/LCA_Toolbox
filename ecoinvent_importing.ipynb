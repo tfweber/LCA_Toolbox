{
 "cells": [
  {
   "cell_type": "code",
   "execution_count": null,
   "id": "480b8a48",
   "metadata": {},
   "outputs": [],
   "source": [
    "# This is a test for now\n",
    "# Tomorrow, we should add an examplatory Excel model to be imported to bw25"
   ]
  },
  {
   "cell_type": "code",
   "execution_count": null,
   "id": "bac6808f",
   "metadata": {},
   "outputs": [],
   "source": [
    "# basic imports from brightway\n",
    "import bw2analyzer as ba\n",
    "import bw2calc as bc\n",
    "import bw2data as bd\n",
    "import bw2io as bi\n",
    "from bw2io.importers import SingleOutputEcospold2Importer\n",
    "import bw2analyzer as bwa\n",
    "from bw2data import methods\n",
    "\n",
    "# other relevant packages\n",
    "import numpy as np\n",
    "import pandas as pd\n",
    "import matplotlib.pyplot as plt\n",
    "from pathlib import Path"
   ]
  },
  {
   "cell_type": "code",
   "execution_count": null,
   "id": "73d09e6e",
   "metadata": {},
   "outputs": [],
   "source": [
    "# define a project where we install the databases and work in this script\n",
    "bd.projects.set_current('bw25_explore')"
   ]
  },
  {
   "cell_type": "code",
   "execution_count": null,
   "id": "5e9e54fa",
   "metadata": {},
   "outputs": [],
   "source": [
    "# import the biosphere database from ecoinvent \n",
    "bi.remote.install_project('ecoinvent-3.10-biosphere','bw25_explore',\n",
    "                                  overwrite_existing=True)"
   ]
  },
  {
   "cell_type": "code",
   "execution_count": null,
   "id": "a16f78fd",
   "metadata": {},
   "outputs": [],
   "source": [
    "# Define the names for ecoinvent databases used in the project\n",
    "ei_path = \"C:\\\\Users\\\\TimWeber\\\\OneDrive - 2.-0 LCA Consultants ApS\\\\Desktop\\\\ecoinvent_310\\\\background\\\\ecoinvent 3.10_consequential_ecoSpold02\\\\datasets\"\n",
    "ei_conseq = \"ecoinvent-3.10-consequential\""
   ]
  },
  {
   "cell_type": "code",
   "execution_count": null,
   "id": "66881ef9",
   "metadata": {},
   "outputs": [],
   "source": [
    "ei_importer = SingleOutputEcospold2Importer(ei_path, ei_conseq)"
   ]
  },
  {
   "cell_type": "code",
   "execution_count": null,
   "id": "f808267e",
   "metadata": {},
   "outputs": [],
   "source": [
    "ei_importer.apply_strategies()"
   ]
  },
  {
   "cell_type": "code",
   "execution_count": null,
   "id": "24875d04",
   "metadata": {},
   "outputs": [],
   "source": [
    "ei_importer.write_database()"
   ]
  },
  {
   "cell_type": "code",
   "execution_count": null,
   "id": "a3bb04ff",
   "metadata": {},
   "outputs": [],
   "source": [
    "pd.DataFrame(ei_importer.unlinked)"
   ]
  },
  {
   "cell_type": "code",
   "execution_count": null,
   "id": "b7ac9c99",
   "metadata": {},
   "outputs": [],
   "source": [
    "# see the databases imported to the project\n",
    "bd.databases"
   ]
  },
  {
   "cell_type": "code",
   "execution_count": null,
   "id": "15b0579c",
   "metadata": {},
   "outputs": [],
   "source": [
    "ei_clca = bd.Database('ecoinvent-3.10-consequential')\n",
    "ei_bio = bd.Database('ecoinvent-3.10-biosphere')\n"
   ]
  },
  {
   "cell_type": "code",
   "execution_count": null,
   "id": "2beedaec",
   "metadata": {},
   "outputs": [],
   "source": [
    "# look for processes in CLCA ecoinvent database\n",
    "ei_clca.search('smartphone')"
   ]
  },
  {
   "cell_type": "code",
   "execution_count": null,
   "id": "08212b8b",
   "metadata": {},
   "outputs": [],
   "source": [
    "aluminium = ei_clca.get(name = 'consumer electronics production, mobile device, smartphone', location = \"GLO\", unit = 'unit')\n"
   ]
  },
  {
   "cell_type": "code",
   "execution_count": null,
   "id": "f3366b80",
   "metadata": {},
   "outputs": [],
   "source": [
    "lcia_gwp100 = ('EF v3.1', 'climate change', 'global warming potential (GWP100)')\n",
    "lcia_water = ('EF v3.1','water use','user deprivation potential (deprivation-weighted water consumption)')\n",
    "lcia_land = ('EF v3.1', 'land use', 'soil quality index')"
   ]
  },
  {
   "cell_type": "code",
   "execution_count": null,
   "id": "db41801b",
   "metadata": {},
   "outputs": [],
   "source": []
  }
 ],
 "metadata": {
  "kernelspec": {
   "display_name": "explore_v2",
   "language": "python",
   "name": "python3"
  },
  "language_info": {
   "codemirror_mode": {
    "name": "ipython",
    "version": 3
   },
   "file_extension": ".py",
   "mimetype": "text/x-python",
   "name": "python",
   "nbconvert_exporter": "python",
   "pygments_lexer": "ipython3",
   "version": "3.12.11"
  }
 },
 "nbformat": 4,
 "nbformat_minor": 5
}
