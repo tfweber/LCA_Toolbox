{
 "cells": [
  {
   "cell_type": "markdown",
   "id": "8013c048",
   "metadata": {},
   "source": [
    "This file is for pure exploration applied to other projects and repositories. I am making use of the imported ecoinvent version to explore."
   ]
  },
  {
   "cell_type": "code",
   "execution_count": null,
   "id": "c215cf76",
   "metadata": {},
   "outputs": [],
   "source": [
    "# basic imports from brightway\n",
    "import bw2analyzer as ba\n",
    "import bw2calc as bc\n",
    "import bw2data as bd\n",
    "import bw2io as bi\n",
    "from bw2io.importers import SingleOutputEcospold2Importer\n",
    "import bw2analyzer as bwa\n",
    "from bw2data import methods\n",
    "\n",
    "# other relevant packages\n",
    "import numpy as np\n",
    "import pandas as pd\n",
    "import matplotlib.pyplot as plt\n",
    "from pathlib import Path\n",
    "import seaborn as sns"
   ]
  },
  {
   "cell_type": "code",
   "execution_count": null,
   "id": "5f771a9a",
   "metadata": {},
   "outputs": [],
   "source": [
    "# define a project where we install the databases and work in this script\n",
    "bd.projects.set_current('brightway25')"
   ]
  },
  {
   "cell_type": "code",
   "execution_count": null,
   "id": "6c41b0a4",
   "metadata": {},
   "outputs": [],
   "source": [
    "bd.databases"
   ]
  },
  {
   "cell_type": "code",
   "execution_count": null,
   "id": "4570bae2",
   "metadata": {},
   "outputs": [],
   "source": [
    "ei_clca = bd.Database('ecoinvent310clca')\n",
    "ei_bio = bd.Database('ecoinvent-3.10-biosphere')\n",
    "db_template = bd.Database('bw25_db')\n",
    "el_bio3 = bd.Database('biosphere3')"
   ]
  },
  {
   "cell_type": "code",
   "execution_count": null,
   "id": "ac5ba881",
   "metadata": {},
   "outputs": [],
   "source": [
    "ei_clca.search('steel')"
   ]
  },
  {
   "cell_type": "code",
   "execution_count": null,
   "id": "ec46eb1e",
   "metadata": {},
   "outputs": [],
   "source": [
    "steel = ei_clca.get(name = 'steel production, electric, chromium steel 18/8', location = \"RER\", unit = 'kilogram')\n",
    "cast_iron = ei_clca.get(name = 'cast iron production', location = \"RER\", unit = 'kilogram')\n",
    "\n",
    "welding_arc = ei_clca.get(name = 'welding, arc, steel', location = \"RER\", unit = 'meter')\n",
    "welding_gas = ei_clca.get(name = 'welding, gas, steel', location = \"RER\", unit = 'meter')"
   ]
  },
  {
   "cell_type": "code",
   "execution_count": null,
   "id": "0e6d9a67",
   "metadata": {},
   "outputs": [],
   "source": [
    "# export the LCI to excel in an overview format\n",
    "bi.export.excel.write_lci_excel(ei_clca.name,\n",
    "                                objs=[welding_arc, welding_gas],\n",
    "                                dirpath=Path.cwd())"
   ]
  },
  {
   "cell_type": "code",
   "execution_count": null,
   "id": "60028fa6",
   "metadata": {},
   "outputs": [],
   "source": [
    "# quickly print all exchanges of the process defined above, sorted by amount (large to small)\n",
    "exchanges = sorted(welding_arc.exchanges(), key=lambda exc: exc['amount'], reverse=True)\n",
    "for exc in exchanges:\n",
    "    print(exc)"
   ]
  },
  {
   "cell_type": "code",
   "execution_count": null,
   "id": "9effb271",
   "metadata": {},
   "outputs": [],
   "source": [
    "# printing all methods that contain a specific keyword, e.g. \"climate change\"\n",
    "climate_methods = [m for m in bd.methods if any(\"gwp100\" in str(part).lower() for part in m)]\n",
    "for method in climate_methods:\n",
    "    print(method)"
   ]
  },
  {
   "cell_type": "code",
   "execution_count": null,
   "id": "432fbe91",
   "metadata": {},
   "outputs": [],
   "source": [
    "# selecting the impact assessment methods that we want to use in our analysis\n",
    "lcia_gwp100 = ('EF v3.1', 'climate change', 'global warming potential (GWP100)')\n",
    "lcia_water = ('EF v3.1','water use','user deprivation potential (deprivation-weighted water consumption)')\n",
    "lcia_land = ('EF v3.1', 'land use', 'soil quality index')"
   ]
  },
  {
   "cell_type": "markdown",
   "id": "224f9b5b",
   "metadata": {},
   "source": [
    "### 1. Level: comparing the final results for steel and cast iron"
   ]
  },
  {
   "cell_type": "code",
   "execution_count": null,
   "id": "84a2b488",
   "metadata": {},
   "outputs": [],
   "source": [
    "# One option to do a contribution analysis is to use the recursive calculation method\n",
    "bwa.print_recursive_calculation(welding_arc,\n",
    "lcia_method=lcia_gwp100,max_level=3,cutoff=0.05)"
   ]
  },
  {
   "cell_type": "code",
   "execution_count": null,
   "id": "2985da52",
   "metadata": {},
   "outputs": [],
   "source": [
    "# Quick LCIA calculation\n",
    "arcwelding_lca = welding_arc.lca(lcia_gwp100)\n",
    "arcwelding_lca.score"
   ]
  },
  {
   "cell_type": "code",
   "execution_count": null,
   "id": "86383da5",
   "metadata": {},
   "outputs": [],
   "source": [
    "gaswelding_lca = welding_gas.lca(lcia_gwp100)\n",
    "gaswelding_lca.score"
   ]
  },
  {
   "cell_type": "code",
   "execution_count": null,
   "id": "0a598282",
   "metadata": {},
   "outputs": [],
   "source": [
    "# Another option is to use the recursive calculation to an object, which returns a DataFrame\n",
    "arcwelding_lca_ca = bwa.utils.recursive_calculation_to_object(welding_arc,\n",
    "                                          lcia_method=lcia_gwp100,\n",
    "                                          max_level=1,\n",
    "                                          cutoff=0.01,\n",
    "                                          as_dataframe=True,\n",
    "                                          )"
   ]
  },
  {
   "cell_type": "code",
   "execution_count": null,
   "id": "bad42fa7",
   "metadata": {},
   "outputs": [],
   "source": [
    "# The goal here is to conduct the same analysis for the ecoinvent process so we can compare the contributions later\n",
    "gaswelding_lca_ca = bwa.utils.recursive_calculation_to_object(welding_gas,\n",
    "                                          lcia_method=lcia_gwp100,\n",
    "                                          max_level=1,\n",
    "                                          cutoff=0.01,\n",
    "                                          as_dataframe=True,\n",
    "                                          )"
   ]
  },
  {
   "cell_type": "code",
   "execution_count": null,
   "id": "f33ce3e9",
   "metadata": {},
   "outputs": [],
   "source": [
    "# Filter out the parent processes that are not relevant for the contribution analysis\n",
    "arcwelding_lca_ca = arcwelding_lca_ca.dropna(subset='parent') \n",
    "gaswelding_lca_ca = gaswelding_lca_ca.dropna(subset='parent')\n",
    "\n"
   ]
  },
  {
   "cell_type": "code",
   "execution_count": null,
   "id": "e6fd1454",
   "metadata": {},
   "outputs": [],
   "source": [
    "combined_df = pd.concat([arcwelding_lca_ca.set_index('name').score,gaswelding_lca_ca.set_index('name').score],\n",
    "                        keys=['arc welding','gas welding'],\n",
    "                        names=['activity','contributor'])\n",
    "combined_df"
   ]
  },
  {
   "cell_type": "code",
   "execution_count": null,
   "id": "efc38e29",
   "metadata": {},
   "outputs": [],
   "source": [
    "combined_df = combined_df.groupby(level=combined_df.index.names).sum()\n",
    "\n",
    "ax = combined_df.unstack().plot.barh(\n",
    "    stacked=True,\n",
    "    title='Main contributors to global warming',\n",
    "    xlabel='kg CO2eq',\n",
    "    figsize=(10,6)\n",
    ")\n",
    "\n",
    "plt.legend(bbox_to_anchor=(1.05, 1), loc='upper left')\n",
    "plt.tight_layout()\n",
    "plt.show()"
   ]
  },
  {
   "cell_type": "markdown",
   "id": "095bfe86",
   "metadata": {},
   "source": [
    "#"
   ]
  },
  {
   "cell_type": "markdown",
   "id": "e3283635",
   "metadata": {},
   "source": [
    "### 2. Level: looking at the pig iron"
   ]
  },
  {
   "cell_type": "code",
   "execution_count": null,
   "id": "95523ac7",
   "metadata": {},
   "outputs": [],
   "source": [
    "ei_clca.search('welding')"
   ]
  },
  {
   "cell_type": "code",
   "execution_count": null,
   "id": "16f88c0d",
   "metadata": {},
   "outputs": [],
   "source": [
    "pig_iron = ei_clca.get(name = 'pig iron production', location = \"RER\", unit = 'kilogram')"
   ]
  },
  {
   "cell_type": "code",
   "execution_count": null,
   "id": "22877942",
   "metadata": {},
   "outputs": [],
   "source": [
    "ferronickel = ei_clca.get(name = 'ferronickel production', location = \"GLO\", unit = 'kilogram')"
   ]
  },
  {
   "cell_type": "code",
   "execution_count": null,
   "id": "cc3c8b46",
   "metadata": {},
   "outputs": [],
   "source": [
    "# export the LCI to excel in an overview format\n",
    "bi.export.excel.write_lci_excel(ei_clca.name,\n",
    "                                objs=[pig_iron],\n",
    "                                dirpath=Path.cwd())"
   ]
  },
  {
   "cell_type": "code",
   "execution_count": null,
   "id": "84f468d7",
   "metadata": {},
   "outputs": [],
   "source": [
    "pig_iron_lca = pig_iron.lca(lcia_gwp100)\n",
    "pig_iron_lca.score"
   ]
  },
  {
   "cell_type": "code",
   "execution_count": null,
   "id": "c49c419e",
   "metadata": {},
   "outputs": [],
   "source": [
    "# deeper contribution analysis for steel vs cast iron\n",
    "bwa.print_recursive_calculation(steel,\n",
    "lcia_method=lcia_gwp100,max_level=4,cutoff=0.03)"
   ]
  },
  {
   "cell_type": "code",
   "execution_count": null,
   "id": "07bc5ee7",
   "metadata": {},
   "outputs": [],
   "source": [
    "# deeper contribution analysis for steel vs cast iron\n",
    "bwa.print_recursive_calculation(ferronickel,\n",
    "lcia_method=lcia_gwp100,max_level=2,cutoff=0.03)"
   ]
  },
  {
   "cell_type": "code",
   "execution_count": null,
   "id": "6933830c",
   "metadata": {},
   "outputs": [],
   "source": [
    "# deeper contribution analysis for steel vs cast iron\n",
    "bwa.print_recursive_calculation(cast_iron,\n",
    "lcia_method=lcia_gwp100,max_level=4,cutoff=0.03)"
   ]
  },
  {
   "cell_type": "code",
   "execution_count": null,
   "id": "441d074d",
   "metadata": {},
   "outputs": [],
   "source": [
    "# deeper contribution analysis for steel vs cast iron\n",
    "bwa.print_recursive_calculation(pig_iron,\n",
    "lcia_method=lcia_gwp100,max_level=3,cutoff=0.01)"
   ]
  }
 ],
 "metadata": {
  "kernelspec": {
   "display_name": "LCA_Toolbox",
   "language": "python",
   "name": "python3"
  },
  "language_info": {
   "codemirror_mode": {
    "name": "ipython",
    "version": 3
   },
   "file_extension": ".py",
   "mimetype": "text/x-python",
   "name": "python",
   "nbconvert_exporter": "python",
   "pygments_lexer": "ipython3",
   "version": "3.11.13"
  }
 },
 "nbformat": 4,
 "nbformat_minor": 5
}
