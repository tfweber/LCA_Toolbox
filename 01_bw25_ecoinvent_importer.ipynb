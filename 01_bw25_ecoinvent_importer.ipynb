{
 "cells": [
  {
   "cell_type": "markdown",
   "id": "a023dcbf",
   "metadata": {},
   "source": [
    "This part of the repository is for importing ecoinvent, given that you have downloaded Ecospold2 files from the ecoinvent website. If that is the case, you must make sure you installed Brightway 2.5 and have an active environment to work in."
   ]
  },
  {
   "cell_type": "markdown",
   "id": "60cf6934",
   "metadata": {},
   "source": [
    "# EcoInvent import"
   ]
  },
  {
   "cell_type": "markdown",
   "id": "e57b800b",
   "metadata": {},
   "source": [
    "### 1. Install required packages\n",
    "\n",
    "Before starting here with your work in brightway, make sure that you followed the steps in the README.md section to install brightway on your machine and setup an environment to work in."
   ]
  },
  {
   "cell_type": "code",
   "execution_count": null,
   "id": "455a1854",
   "metadata": {},
   "outputs": [],
   "source": [
    "# basic imports from brightway\n",
    "import bw2analyzer as ba\n",
    "import bw2calc as bc\n",
    "import bw2data as bd\n",
    "import bw2io as bi\n",
    "from bw2io.importers import SingleOutputEcospold2Importer\n",
    "import bw2analyzer as bwa\n",
    "from bw2data import methods\n",
    "from bw2io import create_default_biosphere3\n",
    "\n",
    "# other relevant packages\n",
    "import numpy as np\n",
    "import pandas as pd\n",
    "import matplotlib.pyplot as plt\n",
    "from pathlib import Path"
   ]
  },
  {
   "cell_type": "markdown",
   "id": "33afa251",
   "metadata": {},
   "source": [
    "### 2. Setup the project"
   ]
  },
  {
   "cell_type": "code",
   "execution_count": null,
   "id": "73d09e6e",
   "metadata": {},
   "outputs": [],
   "source": [
    "# Define a project name that you want to work in\n",
    "bd.projects.set_current('LCA_Toolbox')"
   ]
  },
  {
   "cell_type": "code",
   "execution_count": null,
   "id": "10d23ed1",
   "metadata": {},
   "outputs": [],
   "source": [
    "# When checking the databases for the first time you shouldn't see any databases\n",
    "bd.databases"
   ]
  },
  {
   "cell_type": "markdown",
   "id": "f691ff6d",
   "metadata": {},
   "source": [
    "### 3. Install the desired databases"
   ]
  },
  {
   "cell_type": "markdown",
   "id": "2db1755c",
   "metadata": {},
   "source": [
    "Note that there are different ways of importing ecoinvent to your brightway project. If you have username and password at hand you can install the database just using this access codes. The first suggestion is to use a structured importer available from the brightway cloud."
   ]
  },
  {
   "cell_type": "code",
   "execution_count": null,
   "id": "c1e80786",
   "metadata": {},
   "outputs": [],
   "source": [
    "bi.import_ecoinvent_release(\n",
    "    version='3.11',\n",
    "    system_model='consequential', # can be cutoff / apos / consequential / EN15804\n",
    "    username='your_username',\n",
    "    password='your_password'\n",
    "    )"
   ]
  },
  {
   "cell_type": "markdown",
   "id": "9794f2ae",
   "metadata": {},
   "source": [
    "The other way to import ecoinvent is to do it step by step. This is relevant when you only have the ecoSpold02 datasets available."
   ]
  },
  {
   "cell_type": "code",
   "execution_count": null,
   "id": "f102fbdf",
   "metadata": {},
   "outputs": [],
   "source": [
    "# download the ecoinvent biosphere3 database\n",
    "create_default_biosphere3()"
   ]
  },
  {
   "cell_type": "code",
   "execution_count": null,
   "id": "c5111376",
   "metadata": {},
   "outputs": [],
   "source": [
    "# import the biosphere 3.10 database from ecoinvent\n",
    "bi.remote.install_project('ecoinvent-3.10-biosphere','LCA_Toolbox',\n",
    "                                  overwrite_existing=True)"
   ]
  },
  {
   "cell_type": "code",
   "execution_count": null,
   "id": "a16f78fd",
   "metadata": {},
   "outputs": [],
   "source": [
    "# You are required to specify the path to your ecoinvent files here\n",
    "ei_path = \"C:\\\\Users\\\\TimWeber\\\\OneDrive - 2.-0 LCA Consultants ApS\\\\Desktop\\\\ecoinvent_310\\\\background\\\\ecoinvent 3.10_consequential_ecoSpold02\\\\datasets\"\n",
    "ei_conseq = \"ecoinvent310clca\""
   ]
  },
  {
   "cell_type": "code",
   "execution_count": null,
   "id": "66881ef9",
   "metadata": {},
   "outputs": [],
   "source": [
    "ei_importer = SingleOutputEcospold2Importer(ei_path, ei_conseq)"
   ]
  },
  {
   "cell_type": "code",
   "execution_count": null,
   "id": "f808267e",
   "metadata": {},
   "outputs": [],
   "source": [
    "ei_importer.apply_strategies()"
   ]
  },
  {
   "cell_type": "code",
   "execution_count": null,
   "id": "24875d04",
   "metadata": {},
   "outputs": [],
   "source": [
    "ei_importer.write_database()"
   ]
  },
  {
   "cell_type": "code",
   "execution_count": null,
   "id": "a3bb04ff",
   "metadata": {},
   "outputs": [],
   "source": [
    "pd.DataFrame(ei_importer.unlinked)"
   ]
  },
  {
   "cell_type": "markdown",
   "id": "23b22f3a",
   "metadata": {},
   "source": [
    "### 4. Show databases"
   ]
  },
  {
   "cell_type": "code",
   "execution_count": null,
   "id": "b7ac9c99",
   "metadata": {},
   "outputs": [],
   "source": [
    "# see the databases imported to the project\n",
    "bd.databases"
   ]
  },
  {
   "cell_type": "markdown",
   "id": "b23a8268",
   "metadata": {},
   "source": [
    "### 5. Delete a database"
   ]
  },
  {
   "cell_type": "code",
   "execution_count": null,
   "id": "ea2af8c6",
   "metadata": {},
   "outputs": [],
   "source": [
    "del bd.databases[\"name\"]"
   ]
  }
 ],
 "metadata": {
  "kernelspec": {
   "display_name": "LCA_Toolbox",
   "language": "python",
   "name": "python3"
  },
  "language_info": {
   "codemirror_mode": {
    "name": "ipython",
    "version": 3
   },
   "file_extension": ".py",
   "mimetype": "text/x-python",
   "name": "python",
   "nbconvert_exporter": "python",
   "pygments_lexer": "ipython3",
   "version": "3.11.13"
  }
 },
 "nbformat": 4,
 "nbformat_minor": 5
}
