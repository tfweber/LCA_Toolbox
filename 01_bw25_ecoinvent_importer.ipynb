{
 "cells": [
  {
   "cell_type": "markdown",
   "id": "a023dcbf",
   "metadata": {},
   "source": [
    "This part of the repository is for importing ecoinvent, given that you have downloaded Ecospold2 files from the ecoinvent website. If that is the case, you must make sure you installed Brightway 2.5 and have an active environment to work in."
   ]
  },
  {
   "cell_type": "markdown",
   "id": "60cf6934",
   "metadata": {},
   "source": [
    "# EcoInvent import"
   ]
  },
  {
   "cell_type": "markdown",
   "id": "e57b800b",
   "metadata": {},
   "source": [
    "### 1. Install required packages\n",
    "\n",
    "Before starting here with your work in brightway, make sure that you followed the steps in the README.md section to install brightway on your machine and setup an environment to work in."
   ]
  },
  {
   "cell_type": "code",
   "execution_count": 2,
   "id": "455a1854",
   "metadata": {},
   "outputs": [],
   "source": [
    "# basic imports from brightway\n",
    "import bw2analyzer as ba\n",
    "import bw2calc as bc\n",
    "import bw2data as bd\n",
    "import bw2io as bi\n",
    "from bw2io.importers import SingleOutputEcospold2Importer\n",
    "import bw2analyzer as bwa\n",
    "from bw2data import methods\n",
    "from bw2io import create_default_biosphere3\n",
    "\n",
    "# other relevant packages\n",
    "import numpy as np\n",
    "import pandas as pd\n",
    "import matplotlib.pyplot as plt\n",
    "from pathlib import Path"
   ]
  },
  {
   "cell_type": "markdown",
   "id": "33afa251",
   "metadata": {},
   "source": [
    "### 2. Setup the project"
   ]
  },
  {
   "cell_type": "code",
   "execution_count": 3,
   "id": "73d09e6e",
   "metadata": {},
   "outputs": [],
   "source": [
    "# Define a project name that you want to work in\n",
    "bd.projects.set_current('LCA_Toolbox')"
   ]
  },
  {
   "cell_type": "markdown",
   "id": "f691ff6d",
   "metadata": {},
   "source": [
    "### 3. Install the desired databases"
   ]
  },
  {
   "cell_type": "markdown",
   "id": "2db1755c",
   "metadata": {},
   "source": [
    "There are several ways to import ecoinvent into your Brightway project. If you have login credentials, you can install the database directly as shown below."
   ]
  },
  {
   "cell_type": "code",
   "execution_count": null,
   "id": "c1e80786",
   "metadata": {},
   "outputs": [],
   "source": [
    "bi.import_ecoinvent_release(\n",
    "    version='3.11',\n",
    "    system_model='consequential', # can be cutoff / apos / consequential / EN15804\n",
    "    username='your_username',\n",
    "    password='your_password'\n",
    "    )"
   ]
  },
  {
   "cell_type": "markdown",
   "id": "9794f2ae",
   "metadata": {},
   "source": [
    "Alternatively, you can import ecoinvent manually, which is useful if you only have the ecoSpold02 datasets."
   ]
  },
  {
   "cell_type": "code",
   "execution_count": null,
   "id": "f65aa319",
   "metadata": {},
   "outputs": [],
   "source": [
    "# You are required to specify the path to your ecoinvent files here\n",
    "ei_path = \"C:\\\\Users\\\\TimWeber\\\\OneDrive - 2.-0 LCA Consultants ApS\\\\Desktop\\\\ecoinvent_310\\\\background\\\\ecoinvent 3.10_consequential_ecoSpold02\\\\datasets\"\n",
    "ei_conseq = \"ecoinvent310clca\""
   ]
  },
  {
   "cell_type": "code",
   "execution_count": null,
   "id": "f102fbdf",
   "metadata": {},
   "outputs": [],
   "source": [
    "# download the ecoinvent biosphere3 database\n",
    "create_default_biosphere3()"
   ]
  },
  {
   "cell_type": "code",
   "execution_count": null,
   "id": "c5111376",
   "metadata": {},
   "outputs": [],
   "source": [
    "# import the biosphere 3.10 database from ecoinvent\n",
    "bi.remote.install_project('ecoinvent-3.10-biosphere','LCA_Toolbox',\n",
    "                                  overwrite_existing=True)"
   ]
  },
  {
   "cell_type": "code",
   "execution_count": null,
   "id": "66881ef9",
   "metadata": {},
   "outputs": [],
   "source": [
    "ei_importer = SingleOutputEcospold2Importer(ei_path, ei_conseq)\n",
    "ei_importer.apply_strategies()\n",
    "ei_importer.write_database()\n",
    "pd.DataFrame(ei_importer.unlinked)"
   ]
  },
  {
   "cell_type": "markdown",
   "id": "b23a8268",
   "metadata": {},
   "source": [
    "### 4. Delete a database"
   ]
  },
  {
   "cell_type": "code",
   "execution_count": null,
   "id": "ea2af8c6",
   "metadata": {},
   "outputs": [],
   "source": [
    "del bd.databases[\"name\"]"
   ]
  },
  {
   "cell_type": "markdown",
   "id": "1f434729",
   "metadata": {},
   "source": [
    "### 5. Check installed databases"
   ]
  },
  {
   "cell_type": "code",
   "execution_count": 5,
   "id": "dd739e95",
   "metadata": {},
   "outputs": [
    {
     "data": {
      "text/plain": [
       "Databases dictionary with 6 object(s):\n",
       "\tbiosphere3\n",
       "\tbw25_db\n",
       "\tecoinvent-3.10-biosphere\n",
       "\tecoinvent-3.11-biosphere\n",
       "\tecoinvent-3.11-consequential\n",
       "\tecoinvent310clca"
      ]
     },
     "execution_count": 5,
     "metadata": {},
     "output_type": "execute_result"
    }
   ],
   "source": [
    "bd.databases"
   ]
  }
 ],
 "metadata": {
  "kernelspec": {
   "display_name": "LCA_Toolbox",
   "language": "python",
   "name": "python3"
  },
  "language_info": {
   "codemirror_mode": {
    "name": "ipython",
    "version": 3
   },
   "file_extension": ".py",
   "mimetype": "text/x-python",
   "name": "python",
   "nbconvert_exporter": "python",
   "pygments_lexer": "ipython3",
   "version": "3.11.13"
  }
 },
 "nbformat": 4,
 "nbformat_minor": 5
}
