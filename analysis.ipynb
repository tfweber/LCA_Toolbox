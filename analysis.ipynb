{
 "cells": [
  {
   "cell_type": "code",
   "execution_count": null,
   "id": "73946948",
   "metadata": {},
   "outputs": [],
   "source": [
    "# Here we explore the analysis tools of brightway25\n",
    "# Later, we will look at the EXCEL importer"
   ]
  },
  {
   "cell_type": "code",
   "execution_count": null,
   "id": "50a57232",
   "metadata": {},
   "outputs": [],
   "source": [
    "# basic imports from brightway\n",
    "import bw2analyzer as ba\n",
    "import bw2calc as bc\n",
    "import bw2data as bd\n",
    "import bw2io as bi\n",
    "from bw2io.importers import SingleOutputEcospold2Importer\n",
    "import bw2analyzer as bwa\n",
    "from bw2data import methods\n",
    "\n",
    "# other relevant packages\n",
    "import numpy as np\n",
    "import pandas as pd\n",
    "import matplotlib.pyplot as plt\n",
    "from pathlib import Path"
   ]
  },
  {
   "cell_type": "code",
   "execution_count": null,
   "id": "30000da6",
   "metadata": {},
   "outputs": [],
   "source": [
    "# define a project where we install the databases and work in this script\n",
    "bd.projects.set_current('brightway25')"
   ]
  },
  {
   "cell_type": "code",
   "execution_count": null,
   "id": "37ba71fa",
   "metadata": {},
   "outputs": [],
   "source": [
    "bd.databases"
   ]
  },
  {
   "cell_type": "code",
   "execution_count": null,
   "id": "9d616a26",
   "metadata": {},
   "outputs": [],
   "source": [
    "ei_clca = bd.Database('ecoinvent-3.10-consequential')\n",
    "ei_bio = bd.Database('ecoinvent-3.10-biosphere')\n"
   ]
  },
  {
   "cell_type": "code",
   "execution_count": null,
   "id": "30512d43",
   "metadata": {},
   "outputs": [],
   "source": [
    "# look for processes in CLCA ecoinvent database\n",
    "ei_clca.search('smartphone')"
   ]
  },
  {
   "cell_type": "code",
   "execution_count": null,
   "id": "9129ac64",
   "metadata": {},
   "outputs": [],
   "source": [
    "aluminium = ei_clca.get(name = 'consumer electronics production, mobile device, smartphone', location = \"GLO\", unit = 'unit')\n"
   ]
  },
  {
   "cell_type": "code",
   "execution_count": null,
   "id": "3b0b476b",
   "metadata": {},
   "outputs": [],
   "source": [
    "lcia_gwp100 = ('EF v3.1', 'climate change', 'global warming potential (GWP100)')\n",
    "lcia_water = ('EF v3.1','water use','user deprivation potential (deprivation-weighted water consumption)')\n",
    "lcia_land = ('EF v3.1', 'land use', 'soil quality index')"
   ]
  }
 ],
 "metadata": {
  "kernelspec": {
   "display_name": "brightway25",
   "language": "python",
   "name": "python3"
  },
  "language_info": {
   "codemirror_mode": {
    "name": "ipython",
    "version": 3
   },
   "file_extension": ".py",
   "mimetype": "text/x-python",
   "name": "python",
   "nbconvert_exporter": "python",
   "pygments_lexer": "ipython3",
   "version": "3.12.11"
  }
 },
 "nbformat": 4,
 "nbformat_minor": 5
}
