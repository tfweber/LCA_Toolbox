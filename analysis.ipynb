{
 "cells": [
  {
   "cell_type": "markdown",
   "id": "c750cf2e",
   "metadata": {},
   "source": [
    "# Analysis"
   ]
  },
  {
   "cell_type": "markdown",
   "id": "b5448288",
   "metadata": {},
   "source": [
    "### 1. Loading the project"
   ]
  },
  {
   "cell_type": "code",
   "execution_count": null,
   "id": "3669ab2c",
   "metadata": {},
   "outputs": [],
   "source": [
    "# basic imports from brightway\n",
    "import bw2analyzer as ba\n",
    "import bw2calc as bc\n",
    "import bw2data as bd\n",
    "import bw2io as bi\n",
    "from bw2io.importers import SingleOutputEcospold2Importer\n",
    "import bw2analyzer as bwa\n",
    "from bw2data import methods\n",
    "\n",
    "# other relevant packages\n",
    "import numpy as np\n",
    "import pandas as pd\n",
    "import matplotlib.pyplot as plt\n",
    "from pathlib import Path"
   ]
  },
  {
   "cell_type": "code",
   "execution_count": null,
   "id": "30000da6",
   "metadata": {},
   "outputs": [],
   "source": [
    "# define a project where we install the databases and work in this script\n",
    "bd.projects.set_current('brightway25')"
   ]
  },
  {
   "cell_type": "markdown",
   "id": "5b324b81",
   "metadata": {},
   "source": [
    "### 2. Database overview"
   ]
  },
  {
   "cell_type": "code",
   "execution_count": null,
   "id": "b46e4c34",
   "metadata": {},
   "outputs": [],
   "source": [
    "bd.databases"
   ]
  },
  {
   "cell_type": "code",
   "execution_count": null,
   "id": "78022104",
   "metadata": {},
   "outputs": [],
   "source": [
    "bd.projects.current"
   ]
  },
  {
   "cell_type": "code",
   "execution_count": null,
   "id": "9d616a26",
   "metadata": {},
   "outputs": [],
   "source": [
    "ei_clca = bd.Database('ecoinvent-3.10-consequential')\n",
    "ei_bio = bd.Database('ecoinvent-3.10-biosphere')\n"
   ]
  },
  {
   "cell_type": "markdown",
   "id": "aca1586a",
   "metadata": {},
   "source": [
    "### 3. Database exploration"
   ]
  },
  {
   "cell_type": "code",
   "execution_count": null,
   "id": "ddaf4b71",
   "metadata": {},
   "outputs": [],
   "source": [
    "ei_clca.search('smartphone')"
   ]
  },
  {
   "cell_type": "code",
   "execution_count": null,
   "id": "9129ac64",
   "metadata": {},
   "outputs": [],
   "source": [
    "# define a process as object in the project\n",
    "smartphone = ei_clca.get(name = 'consumer electronics production, mobile device, smartphone', location = \"GLO\", unit = 'unit')\n"
   ]
  },
  {
   "cell_type": "markdown",
   "id": "6f6d8c1a",
   "metadata": {},
   "source": [
    "### 4. Impact assessment methods"
   ]
  },
  {
   "cell_type": "code",
   "execution_count": null,
   "id": "3b0b476b",
   "metadata": {},
   "outputs": [],
   "source": [
    "lcia_gwp100 = ('EF v3.1', 'climate change', 'global warming potential (GWP100)')\n",
    "lcia_water = ('EF v3.1','water use','user deprivation potential (deprivation-weighted water consumption)')\n",
    "lcia_land = ('EF v3.1', 'land use', 'soil quality index')"
   ]
  },
  {
   "cell_type": "markdown",
   "id": "a68e120e",
   "metadata": {},
   "source": [
    "### 4. LCI "
   ]
  },
  {
   "cell_type": "code",
   "execution_count": null,
   "id": "6166da62",
   "metadata": {},
   "outputs": [],
   "source": [
    "# export the LCI to e\n",
    "bi.export.excel.write_lci_excel(ei_clca.name,\n",
    "                                objs=[smartphone],\n",
    "                                dirpath=Path.cwd())"
   ]
  },
  {
   "cell_type": "markdown",
   "id": "52d66648",
   "metadata": {},
   "source": [
    "### 5. LCIA"
   ]
  },
  {
   "cell_type": "code",
   "execution_count": null,
   "id": "ca05a284",
   "metadata": {},
   "outputs": [],
   "source": [
    "# Quick LCIA calculation\n",
    "smartphone_lca = smartphone.lca(lcia_gwp100)\n",
    "smartphone_lca.score\n"
   ]
  },
  {
   "cell_type": "code",
   "execution_count": null,
   "id": "a49b7b1e",
   "metadata": {},
   "outputs": [],
   "source": [
    "# One option to do a contribution analysis is to use the recursive calculation method\n",
    "bwa.print_recursive_calculation(smartphone,\n",
    "lcia_method=lcia_gwp100,max_level=3,cutoff=0.05)"
   ]
  },
  {
   "cell_type": "code",
   "execution_count": null,
   "id": "185b3405",
   "metadata": {},
   "outputs": [],
   "source": [
    "# Another option is to use the recursive calculation to an object, which returns a DataFrame\n",
    "smartphone_ca_gwp = bwa.utils.recursive_calculation_to_object(smartphone,\n",
    "                                          lcia_method=lcia_gwp100,\n",
    "                                          max_level=2,\n",
    "                                          cutoff=0.01,\n",
    "                                          as_dataframe=True,\n",
    "                                          )\n",
    "smartphone_ca_gwp"
   ]
  }
 ],
 "metadata": {
  "kernelspec": {
   "display_name": "brightway25",
   "language": "python",
   "name": "python3"
  },
  "language_info": {
   "codemirror_mode": {
    "name": "ipython",
    "version": 3
   },
   "file_extension": ".py",
   "mimetype": "text/x-python",
   "name": "python",
   "nbconvert_exporter": "python",
   "pygments_lexer": "ipython3",
   "version": "3.12.11"
  }
 },
 "nbformat": 4,
 "nbformat_minor": 5
}
