{
 "cells": [
  {
   "cell_type": "markdown",
   "id": "c750cf2e",
   "metadata": {},
   "source": [
    "# Analysis"
   ]
  },
  {
   "cell_type": "markdown",
   "id": "b5448288",
   "metadata": {},
   "source": [
    "### 1. Loading the project"
   ]
  },
  {
   "cell_type": "code",
   "execution_count": 49,
   "id": "3669ab2c",
   "metadata": {},
   "outputs": [],
   "source": [
    "# basic imports from brightway\n",
    "import bw2analyzer as ba\n",
    "import bw2calc as bc\n",
    "import bw2data as bd\n",
    "import bw2io as bi\n",
    "from bw2io.importers import SingleOutputEcospold2Importer\n",
    "import bw2analyzer as bwa\n",
    "from bw2data import methods\n",
    "\n",
    "# other relevant packages\n",
    "import numpy as np\n",
    "import pandas as pd\n",
    "import matplotlib.pyplot as plt\n",
    "from pathlib import Path\n",
    "import seaborn as sns"
   ]
  },
  {
   "cell_type": "code",
   "execution_count": 61,
   "id": "30000da6",
   "metadata": {},
   "outputs": [],
   "source": [
    "# define a project where we install the databases and work in this script\n",
    "bd.projects.set_current('brightway25')"
   ]
  },
  {
   "cell_type": "markdown",
   "id": "5b324b81",
   "metadata": {},
   "source": [
    "### 2. Database overview"
   ]
  },
  {
   "cell_type": "code",
   "execution_count": 62,
   "id": "b46e4c34",
   "metadata": {},
   "outputs": [
    {
     "data": {
      "text/plain": [
       "Databases dictionary with 3 object(s):\n",
       "\tbw25_db\n",
       "\tecoinvent-3.10-biosphere\n",
       "\tecoinvent310clca"
      ]
     },
     "execution_count": 62,
     "metadata": {},
     "output_type": "execute_result"
    }
   ],
   "source": [
    "bd.databases"
   ]
  },
  {
   "cell_type": "code",
   "execution_count": 63,
   "id": "78022104",
   "metadata": {},
   "outputs": [
    {
     "data": {
      "text/plain": [
       "'brightway25'"
      ]
     },
     "execution_count": 63,
     "metadata": {},
     "output_type": "execute_result"
    }
   ],
   "source": [
    "bd.projects.current"
   ]
  },
  {
   "cell_type": "code",
   "execution_count": 64,
   "id": "9d616a26",
   "metadata": {},
   "outputs": [],
   "source": [
    "ei_clca = bd.Database('ecoinvent310clca')\n",
    "ei_bio = bd.Database('ecoinvent-3.10-biosphere')\n",
    "ceramics_db = bd.Database('bw25_db')"
   ]
  },
  {
   "cell_type": "markdown",
   "id": "aca1586a",
   "metadata": {},
   "source": [
    "### 3. Database exploration"
   ]
  },
  {
   "cell_type": "code",
   "execution_count": 65,
   "id": "ddaf4b71",
   "metadata": {},
   "outputs": [
    {
     "data": {
      "text/plain": [
       "['ceramics production' (kilogram, GLO, None)]"
      ]
     },
     "execution_count": 65,
     "metadata": {},
     "output_type": "execute_result"
    }
   ],
   "source": [
    "ceramics_db.search('ceramics')"
   ]
  },
  {
   "cell_type": "code",
   "execution_count": 67,
   "id": "9129ac64",
   "metadata": {},
   "outputs": [],
   "source": [
    "# define a process as object in the project\n",
    "ceramics = ceramics_db.get(name = 'ceramics production', location = \"GLO\", unit = 'kilogram')\n"
   ]
  },
  {
   "cell_type": "markdown",
   "id": "6f6d8c1a",
   "metadata": {},
   "source": [
    "### 4. Impact assessment methods"
   ]
  },
  {
   "cell_type": "code",
   "execution_count": 59,
   "id": "3b0b476b",
   "metadata": {},
   "outputs": [],
   "source": [
    "lcia_gwp100 = ('EF v3.1', 'climate change', 'global warming potential (GWP100)')\n",
    "lcia_water = ('EF v3.1','water use','user deprivation potential (deprivation-weighted water consumption)')\n",
    "lcia_land = ('EF v3.1', 'land use', 'soil quality index')"
   ]
  },
  {
   "cell_type": "markdown",
   "id": "a68e120e",
   "metadata": {},
   "source": [
    "### 4. LCI "
   ]
  },
  {
   "cell_type": "code",
   "execution_count": 69,
   "id": "6166da62",
   "metadata": {},
   "outputs": [
    {
     "data": {
      "text/plain": [
       "'c:\\\\Users\\\\TimWeber\\\\repos_20LCA\\\\brightway25\\\\lci-bw25_db.xlsx'"
      ]
     },
     "execution_count": 69,
     "metadata": {},
     "output_type": "execute_result"
    }
   ],
   "source": [
    "# export the LCI to e\n",
    "bi.export.excel.write_lci_excel(ceramics_db.name,\n",
    "                                objs=[ceramics],\n",
    "                                dirpath=Path.cwd())"
   ]
  },
  {
   "cell_type": "markdown",
   "id": "52d66648",
   "metadata": {},
   "source": [
    "### 5. LCIA"
   ]
  },
  {
   "cell_type": "code",
   "execution_count": 70,
   "id": "ca05a284",
   "metadata": {},
   "outputs": [
    {
     "name": "stderr",
     "output_type": "stream",
     "text": [
      "c:\\Users\\TimWeber\\anaconda3\\envs\\brightway25\\Lib\\site-packages\\bw2calc\\lca_base.py:87: UserWarning: No valid biosphere flows found. No inventory results can be calculated, `lcia` will raise an error\n",
      "  warnings.warn(\n"
     ]
    },
    {
     "ename": "EmptyBiosphere",
     "evalue": "",
     "output_type": "error",
     "traceback": [
      "\u001b[31m---------------------------------------------------------------------------\u001b[39m",
      "\u001b[31mEmptyBiosphere\u001b[39m                            Traceback (most recent call last)",
      "\u001b[36mCell\u001b[39m\u001b[36m \u001b[39m\u001b[32mIn[70]\u001b[39m\u001b[32m, line 2\u001b[39m\n\u001b[32m      1\u001b[39m \u001b[38;5;66;03m# Quick LCIA calculation\u001b[39;00m\n\u001b[32m----> \u001b[39m\u001b[32m2\u001b[39m smartphone_lca = \u001b[43mceramics\u001b[49m\u001b[43m.\u001b[49m\u001b[43mlca\u001b[49m\u001b[43m(\u001b[49m\u001b[43mlcia_gwp100\u001b[49m\u001b[43m)\u001b[49m\n\u001b[32m      3\u001b[39m smartphone_lca.score\n",
      "\u001b[36mFile \u001b[39m\u001b[32mc:\\Users\\TimWeber\\anaconda3\\envs\\brightway25\\Lib\\site-packages\\bw2data\\proxies.py:113\u001b[39m, in \u001b[36mActivityProxyBase.lca\u001b[39m\u001b[34m(self, method, amount)\u001b[39m\n\u001b[32m    111\u001b[39m lca.lci()\n\u001b[32m    112\u001b[39m \u001b[38;5;28;01mif\u001b[39;00m method \u001b[38;5;129;01mis\u001b[39;00m \u001b[38;5;129;01mnot\u001b[39;00m \u001b[38;5;28;01mNone\u001b[39;00m:\n\u001b[32m--> \u001b[39m\u001b[32m113\u001b[39m     \u001b[43mlca\u001b[49m\u001b[43m.\u001b[49m\u001b[43mlcia\u001b[49m\u001b[43m(\u001b[49m\u001b[43m)\u001b[49m\n\u001b[32m    114\u001b[39m \u001b[38;5;28;01mreturn\u001b[39;00m lca\n",
      "\u001b[36mFile \u001b[39m\u001b[32mc:\\Users\\TimWeber\\anaconda3\\envs\\brightway25\\Lib\\site-packages\\bw2calc\\lca_base.py:203\u001b[39m, in \u001b[36mLCABase.lcia\u001b[39m\u001b[34m(self, demand)\u001b[39m\n\u001b[32m    201\u001b[39m \u001b[38;5;28;01massert\u001b[39;00m \u001b[38;5;28mhasattr\u001b[39m(\u001b[38;5;28mself\u001b[39m, \u001b[33m\"\u001b[39m\u001b[33minventory\u001b[39m\u001b[33m\"\u001b[39m) \u001b[38;5;129;01mor\u001b[39;00m \u001b[38;5;28mhasattr\u001b[39m(\u001b[38;5;28mself\u001b[39m, \u001b[33m\"\u001b[39m\u001b[33minventories\u001b[39m\u001b[33m\"\u001b[39m), \u001b[33m\"\u001b[39m\u001b[33mMust do lci first\u001b[39m\u001b[33m\"\u001b[39m\n\u001b[32m    202\u001b[39m \u001b[38;5;28;01mif\u001b[39;00m \u001b[38;5;129;01mnot\u001b[39;00m \u001b[38;5;28mself\u001b[39m.dicts.biosphere:\n\u001b[32m--> \u001b[39m\u001b[32m203\u001b[39m     \u001b[38;5;28;01mraise\u001b[39;00m EmptyBiosphere\n\u001b[32m    205\u001b[39m \u001b[38;5;28;01mif\u001b[39;00m \u001b[38;5;129;01mnot\u001b[39;00m (\n\u001b[32m    206\u001b[39m     \u001b[38;5;28mhasattr\u001b[39m(\u001b[38;5;28mself\u001b[39m, \u001b[33m\"\u001b[39m\u001b[33mcharacterization_matrix\u001b[39m\u001b[33m\"\u001b[39m) \u001b[38;5;129;01mor\u001b[39;00m \u001b[38;5;28mhasattr\u001b[39m(\u001b[38;5;28mself\u001b[39m, \u001b[33m\"\u001b[39m\u001b[33mcharacterization_matrices\u001b[39m\u001b[33m\"\u001b[39m)\n\u001b[32m    207\u001b[39m ):\n\u001b[32m    208\u001b[39m     \u001b[38;5;28mself\u001b[39m.load_lcia_data()\n",
      "\u001b[31mEmptyBiosphere\u001b[39m: "
     ]
    }
   ],
   "source": [
    "# Quick LCIA calculation\n",
    "smartphone_lca = ceramics.lca(lcia_gwp100)\n",
    "smartphone_lca.score\n"
   ]
  },
  {
   "cell_type": "markdown",
   "id": "357aef27",
   "metadata": {},
   "source": [
    "### 6. Contribution analysis"
   ]
  },
  {
   "cell_type": "code",
   "execution_count": 41,
   "id": "a49b7b1e",
   "metadata": {},
   "outputs": [
    {
     "name": "stderr",
     "output_type": "stream",
     "text": [
      "c:\\Users\\TimWeber\\anaconda3\\envs\\brightway25\\Lib\\site-packages\\bw2calc\\lca_base.py:87: UserWarning: No valid biosphere flows found. No inventory results can be calculated, `lcia` will raise an error\n",
      "  warnings.warn(\n"
     ]
    },
    {
     "ename": "EmptyBiosphere",
     "evalue": "",
     "output_type": "error",
     "traceback": [
      "\u001b[31m---------------------------------------------------------------------------\u001b[39m",
      "\u001b[31mEmptyBiosphere\u001b[39m                            Traceback (most recent call last)",
      "\u001b[36mCell\u001b[39m\u001b[36m \u001b[39m\u001b[32mIn[41]\u001b[39m\u001b[32m, line 2\u001b[39m\n\u001b[32m      1\u001b[39m \u001b[38;5;66;03m# One option to do a contribution analysis is to use the recursive calculation method\u001b[39;00m\n\u001b[32m----> \u001b[39m\u001b[32m2\u001b[39m \u001b[43mbwa\u001b[49m\u001b[43m.\u001b[49m\u001b[43mprint_recursive_calculation\u001b[49m\u001b[43m(\u001b[49m\u001b[43mceramics\u001b[49m\u001b[43m,\u001b[49m\n\u001b[32m      3\u001b[39m \u001b[43mlcia_method\u001b[49m\u001b[43m=\u001b[49m\u001b[43mlcia_gwp100\u001b[49m\u001b[43m,\u001b[49m\u001b[43mmax_level\u001b[49m\u001b[43m=\u001b[49m\u001b[32;43m3\u001b[39;49m\u001b[43m,\u001b[49m\u001b[43mcutoff\u001b[49m\u001b[43m=\u001b[49m\u001b[32;43m0.05\u001b[39;49m\u001b[43m)\u001b[49m\n",
      "\u001b[36mFile \u001b[39m\u001b[32mc:\\Users\\TimWeber\\anaconda3\\envs\\brightway25\\Lib\\site-packages\\bw2analyzer\\utils.py:131\u001b[39m, in \u001b[36mprint_recursive_calculation\u001b[39m\u001b[34m(activity, lcia_method, amount, max_level, cutoff, string_length, file_obj, tab_character, use_matrix_values, _lca_obj, _total_score, __level, __first)\u001b[39m\n\u001b[32m    129\u001b[39m     _lca_obj = bc.LCA({activity: amount}, lcia_method)\n\u001b[32m    130\u001b[39m     _lca_obj.lci()\n\u001b[32m--> \u001b[39m\u001b[32m131\u001b[39m     \u001b[43m_lca_obj\u001b[49m\u001b[43m.\u001b[49m\u001b[43mlcia\u001b[49m\u001b[43m(\u001b[49m\u001b[43m)\u001b[49m\n\u001b[32m    132\u001b[39m     _total_score = _lca_obj.score\n\u001b[32m    133\u001b[39m \u001b[38;5;28;01melif\u001b[39;00m _total_score \u001b[38;5;129;01mis\u001b[39;00m \u001b[38;5;28;01mNone\u001b[39;00m:\n",
      "\u001b[36mFile \u001b[39m\u001b[32mc:\\Users\\TimWeber\\anaconda3\\envs\\brightway25\\Lib\\site-packages\\bw2calc\\lca_base.py:203\u001b[39m, in \u001b[36mLCABase.lcia\u001b[39m\u001b[34m(self, demand)\u001b[39m\n\u001b[32m    201\u001b[39m \u001b[38;5;28;01massert\u001b[39;00m \u001b[38;5;28mhasattr\u001b[39m(\u001b[38;5;28mself\u001b[39m, \u001b[33m\"\u001b[39m\u001b[33minventory\u001b[39m\u001b[33m\"\u001b[39m) \u001b[38;5;129;01mor\u001b[39;00m \u001b[38;5;28mhasattr\u001b[39m(\u001b[38;5;28mself\u001b[39m, \u001b[33m\"\u001b[39m\u001b[33minventories\u001b[39m\u001b[33m\"\u001b[39m), \u001b[33m\"\u001b[39m\u001b[33mMust do lci first\u001b[39m\u001b[33m\"\u001b[39m\n\u001b[32m    202\u001b[39m \u001b[38;5;28;01mif\u001b[39;00m \u001b[38;5;129;01mnot\u001b[39;00m \u001b[38;5;28mself\u001b[39m.dicts.biosphere:\n\u001b[32m--> \u001b[39m\u001b[32m203\u001b[39m     \u001b[38;5;28;01mraise\u001b[39;00m EmptyBiosphere\n\u001b[32m    205\u001b[39m \u001b[38;5;28;01mif\u001b[39;00m \u001b[38;5;129;01mnot\u001b[39;00m (\n\u001b[32m    206\u001b[39m     \u001b[38;5;28mhasattr\u001b[39m(\u001b[38;5;28mself\u001b[39m, \u001b[33m\"\u001b[39m\u001b[33mcharacterization_matrix\u001b[39m\u001b[33m\"\u001b[39m) \u001b[38;5;129;01mor\u001b[39;00m \u001b[38;5;28mhasattr\u001b[39m(\u001b[38;5;28mself\u001b[39m, \u001b[33m\"\u001b[39m\u001b[33mcharacterization_matrices\u001b[39m\u001b[33m\"\u001b[39m)\n\u001b[32m    207\u001b[39m ):\n\u001b[32m    208\u001b[39m     \u001b[38;5;28mself\u001b[39m.load_lcia_data()\n",
      "\u001b[31mEmptyBiosphere\u001b[39m: "
     ]
    }
   ],
   "source": [
    "# One option to do a contribution analysis is to use the recursive calculation method\n",
    "bwa.print_recursive_calculation(ceramics,\n",
    "lcia_method=lcia_gwp100,max_level=3,cutoff=0.05)"
   ]
  },
  {
   "cell_type": "code",
   "execution_count": 27,
   "id": "185b3405",
   "metadata": {},
   "outputs": [
    {
     "data": {
      "text/html": [
       "<div>\n",
       "<style scoped>\n",
       "    .dataframe tbody tr th:only-of-type {\n",
       "        vertical-align: middle;\n",
       "    }\n",
       "\n",
       "    .dataframe tbody tr th {\n",
       "        vertical-align: top;\n",
       "    }\n",
       "\n",
       "    .dataframe thead th {\n",
       "        text-align: right;\n",
       "    }\n",
       "</style>\n",
       "<table border=\"1\" class=\"dataframe\">\n",
       "  <thead>\n",
       "    <tr style=\"text-align: right;\">\n",
       "      <th></th>\n",
       "      <th>label</th>\n",
       "      <th>parent</th>\n",
       "      <th>score</th>\n",
       "      <th>fraction</th>\n",
       "      <th>amount</th>\n",
       "      <th>name</th>\n",
       "      <th>key</th>\n",
       "    </tr>\n",
       "  </thead>\n",
       "  <tbody>\n",
       "    <tr>\n",
       "      <th>0</th>\n",
       "      <td>root</td>\n",
       "      <td>None</td>\n",
       "      <td>37.618364</td>\n",
       "      <td>1.000000</td>\n",
       "      <td>1.000000</td>\n",
       "      <td>consumer electronics production, mobile device...</td>\n",
       "      <td>(ecoinvent-3.10-consequential, 81b1261c4390ecc...</td>\n",
       "    </tr>\n",
       "    <tr>\n",
       "      <th>1</th>\n",
       "      <td>root_a</td>\n",
       "      <td>root</td>\n",
       "      <td>0.833467</td>\n",
       "      <td>0.022156</td>\n",
       "      <td>0.038600</td>\n",
       "      <td>market for battery, Li-ion, NCA, rechargeable,...</td>\n",
       "      <td>(ecoinvent-3.10-consequential, 0eac769618da0c0...</td>\n",
       "    </tr>\n",
       "    <tr>\n",
       "      <th>2</th>\n",
       "      <td>root_p</td>\n",
       "      <td>root</td>\n",
       "      <td>4.843835</td>\n",
       "      <td>0.128763</td>\n",
       "      <td>0.045630</td>\n",
       "      <td>market for liquid crystal display, unmounted, ...</td>\n",
       "      <td>(ecoinvent-3.10-consequential, 386ff8d67353229...</td>\n",
       "    </tr>\n",
       "    <tr>\n",
       "      <th>3</th>\n",
       "      <td>root_v</td>\n",
       "      <td>root</td>\n",
       "      <td>3.298918</td>\n",
       "      <td>0.087694</td>\n",
       "      <td>1.000000</td>\n",
       "      <td>market for power adapter, for smartphone</td>\n",
       "      <td>(ecoinvent-3.10-consequential, 64454f11844724c...</td>\n",
       "    </tr>\n",
       "    <tr>\n",
       "      <th>4</th>\n",
       "      <td>root_w</td>\n",
       "      <td>root</td>\n",
       "      <td>27.827572</td>\n",
       "      <td>0.739734</td>\n",
       "      <td>0.002958</td>\n",
       "      <td>market for printed wiring board, mounted mainb...</td>\n",
       "      <td>(ecoinvent-3.10-consequential, f848d3037bdacb2...</td>\n",
       "    </tr>\n",
       "  </tbody>\n",
       "</table>\n",
       "</div>"
      ],
      "text/plain": [
       "    label parent      score  fraction    amount  \\\n",
       "0    root   None  37.618364  1.000000  1.000000   \n",
       "1  root_a   root   0.833467  0.022156  0.038600   \n",
       "2  root_p   root   4.843835  0.128763  0.045630   \n",
       "3  root_v   root   3.298918  0.087694  1.000000   \n",
       "4  root_w   root  27.827572  0.739734  0.002958   \n",
       "\n",
       "                                                name  \\\n",
       "0  consumer electronics production, mobile device...   \n",
       "1  market for battery, Li-ion, NCA, rechargeable,...   \n",
       "2  market for liquid crystal display, unmounted, ...   \n",
       "3           market for power adapter, for smartphone   \n",
       "4  market for printed wiring board, mounted mainb...   \n",
       "\n",
       "                                                 key  \n",
       "0  (ecoinvent-3.10-consequential, 81b1261c4390ecc...  \n",
       "1  (ecoinvent-3.10-consequential, 0eac769618da0c0...  \n",
       "2  (ecoinvent-3.10-consequential, 386ff8d67353229...  \n",
       "3  (ecoinvent-3.10-consequential, 64454f11844724c...  \n",
       "4  (ecoinvent-3.10-consequential, f848d3037bdacb2...  "
      ]
     },
     "execution_count": 27,
     "metadata": {},
     "output_type": "execute_result"
    }
   ],
   "source": [
    "# Another option is to use the recursive calculation to an object, which returns a DataFrame\n",
    "smartphone_ca_gwp = bwa.utils.recursive_calculation_to_object(smartphone,\n",
    "                                          lcia_method=lcia_gwp100,\n",
    "                                          max_level=1,\n",
    "                                          cutoff=0.02,\n",
    "                                          as_dataframe=True,\n",
    "                                          )\n",
    "smartphone_ca_gwp"
   ]
  },
  {
   "cell_type": "code",
   "execution_count": null,
   "id": "3075ad93",
   "metadata": {},
   "outputs": [],
   "source": [
    "# Elementary flows contribution analysis by process\n",
    "smartphone_lca.to_dataframe().pivot_table(index=['col_name', 'row_name'], values='amount', aggfunc='sum').sort_values(by='amount', ascending=False)"
   ]
  },
  {
   "cell_type": "code",
   "execution_count": null,
   "id": "04718c76",
   "metadata": {},
   "outputs": [],
   "source": [
    "# Elementary flows contribution analysis as summary table\n",
    "smartphone_lca.to_dataframe().pivot_table(index='row_name',values='amount',aggfunc='sum')"
   ]
  },
  {
   "cell_type": "markdown",
   "id": "65ca78a9",
   "metadata": {},
   "source": [
    "### 7. Plot Contribution analysis graphs"
   ]
  },
  {
   "cell_type": "code",
   "execution_count": 28,
   "id": "d8658a79",
   "metadata": {},
   "outputs": [],
   "source": [
    "# Filter out the parent processes that are not relevant for the contribution analysis\n",
    "smartphone_ca_gwp = smartphone_ca_gwp.dropna(subset='parent') \n",
    "\n"
   ]
  },
  {
   "cell_type": "code",
   "execution_count": null,
   "id": "2fbec9b8",
   "metadata": {},
   "outputs": [
    {
     "name": "stderr",
     "output_type": "stream",
     "text": [
      "C:\\Users\\TimWeber\\AppData\\Local\\Temp\\ipykernel_9604\\2326673357.py:7: UserWarning: Tight layout not applied. The left and right margins cannot be made large enough to accommodate all Axes decorations.\n",
      "  plt.tight_layout()\n"
     ]
    },
    {
     "data": {
      "image/png": "[encoded data removed]",
      "text/plain": [
       "<Figure size 600x300 with 1 Axes>"
      ]
     },
     "metadata": {},
     "output_type": "display_data"
    }
   ],
   "source": [
    "f, ax = plt.subplots(figsize=(6, 3))\n",
    "sns.barplot(y='name', x='score', data=smartphone_ca_gwp, ax=ax)\n",
    "ax.set(\n",
    "    title='Contribution analysis of smartphone production',\n",
    "    xlabel='CO2 eq. emissions (kg)',\n",
    "    ylabel='')\n",
    "plt.tight_layout()\n",
    "plt.show()\n"
   ]
  }
 ],
 "metadata": {
  "kernelspec": {
   "display_name": "brightway25",
   "language": "python",
   "name": "python3"
  },
  "language_info": {
   "codemirror_mode": {
    "name": "ipython",
    "version": 3
   },
   "file_extension": ".py",
   "mimetype": "text/x-python",
   "name": "python",
   "nbconvert_exporter": "python",
   "pygments_lexer": "ipython3",
   "version": "3.12.11"
  }
 },
 "nbformat": 4,
 "nbformat_minor": 5
}
