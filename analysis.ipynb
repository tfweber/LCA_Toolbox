{
 "cells": [
  {
   "cell_type": "markdown",
   "id": "c750cf2e",
   "metadata": {},
   "source": [
    "# Analysis"
   ]
  },
  {
   "cell_type": "markdown",
   "id": "b5448288",
   "metadata": {},
   "source": [
    "### 1. Loading the project"
   ]
  },
  {
   "cell_type": "code",
   "execution_count": 2,
   "id": "3669ab2c",
   "metadata": {},
   "outputs": [
    {
     "name": "stdout",
     "output_type": "stream",
     "text": [
      "12:14:33+0200 [warning  ] Can't import `SimaProBlockCSVImporter` - please install `bw2io` with `pip install bw2io[multifunctional]` or install `multifunctional` and `bw_simapro_csv` manually.\n"
     ]
    }
   ],
   "source": [
    "# basic imports from brightway\n",
    "import bw2analyzer as ba\n",
    "import bw2calc as bc\n",
    "import bw2data as bd\n",
    "import bw2io as bi\n",
    "from bw2io.importers import SingleOutputEcospold2Importer\n",
    "import bw2analyzer as bwa\n",
    "from bw2data import methods\n",
    "\n",
    "# other relevant packages\n",
    "import numpy as np\n",
    "import pandas as pd\n",
    "import matplotlib.pyplot as plt\n",
    "from pathlib import Path\n",
    "import seaborn as sns"
   ]
  },
  {
   "cell_type": "code",
   "execution_count": 3,
   "id": "30000da6",
   "metadata": {},
   "outputs": [],
   "source": [
    "# define a project where we install the databases and work in this script\n",
    "bd.projects.set_current('brightway25')"
   ]
  },
  {
   "cell_type": "markdown",
   "id": "5b324b81",
   "metadata": {},
   "source": [
    "### 2. Database overview"
   ]
  },
  {
   "cell_type": "code",
   "execution_count": 4,
   "id": "b46e4c34",
   "metadata": {},
   "outputs": [
    {
     "data": {
      "text/plain": [
       "Databases dictionary with 3 object(s):\n",
       "\tbw25_db\n",
       "\tecoinvent-3.10-biosphere\n",
       "\tecoinvent310clca"
      ]
     },
     "execution_count": 4,
     "metadata": {},
     "output_type": "execute_result"
    }
   ],
   "source": [
    "bd.databases"
   ]
  },
  {
   "cell_type": "code",
   "execution_count": 5,
   "id": "78022104",
   "metadata": {},
   "outputs": [
    {
     "data": {
      "text/plain": [
       "'brightway25'"
      ]
     },
     "execution_count": 5,
     "metadata": {},
     "output_type": "execute_result"
    }
   ],
   "source": [
    "bd.projects.current"
   ]
  },
  {
   "cell_type": "code",
   "execution_count": 6,
   "id": "9d616a26",
   "metadata": {},
   "outputs": [],
   "source": [
    "ei_clca = bd.Database('ecoinvent310clca')\n",
    "ei_bio = bd.Database('ecoinvent-3.10-biosphere')\n",
    "ceramics_db = bd.Database('bw25_db')"
   ]
  },
  {
   "cell_type": "markdown",
   "id": "aca1586a",
   "metadata": {},
   "source": [
    "### 3. Database exploration"
   ]
  },
  {
   "cell_type": "code",
   "execution_count": 7,
   "id": "ddaf4b71",
   "metadata": {},
   "outputs": [
    {
     "data": {
      "text/plain": [
       "['ceramics production' (kilogram, GLO, None)]"
      ]
     },
     "execution_count": 7,
     "metadata": {},
     "output_type": "execute_result"
    }
   ],
   "source": [
    "ceramics_db.search('ceramics')"
   ]
  },
  {
   "cell_type": "code",
   "execution_count": 8,
   "id": "45a4e890",
   "metadata": {},
   "outputs": [
    {
     "data": {
      "text/plain": [
       "['market for sanitary ceramics' (kilogram, GLO, None),\n",
       " 'sanitary ceramics production' (kilogram, RoW, None),\n",
       " 'sanitary ceramics production' (kilogram, CH, None),\n",
       " 'refractory production, basic, packed' (kilogram, RoW, None),\n",
       " 'refractory production, fireclay, packed' (kilogram, DE, None),\n",
       " 'refractory production, fireclay, packed' (kilogram, RoW, None),\n",
       " 'refractory production, basic, packed' (kilogram, DE, None),\n",
       " 'market for ceramic tile' (kilogram, GLO, None),\n",
       " 'ceramic tile production' (kilogram, CH, None),\n",
       " 'market for feldspar' (kilogram, GLO, None),\n",
       " 'power saw production, with catalytic converter' (unit, GLO, None),\n",
       " 'ceramic tile production' (kilogram, RoW, None),\n",
       " 'market for titanium dioxide' (kilogram, RoW, None),\n",
       " 'market for titanium dioxide' (kilogram, RER, None),\n",
       " 'market for kaolin' (kilogram, GLO, None),\n",
       " 'strontium carbonate production' (kilogram, GLO, None),\n",
       " 'sodium tripolyphosphate production' (kilogram, RoW, None),\n",
       " 'sodium tripolyphosphate production' (kilogram, RER, None),\n",
       " 'indium production' (kilogram, RER, None),\n",
       " 'sodium tetrafluoroborate production, sodium tetrahydridoborate fluorination' (kilogram, GLO, None),\n",
       " 'kaolin production' (kilogram, RoW, None),\n",
       " 'kaolin production' (kilogram, RER, None),\n",
       " 'bromine production' (kilogram, RoW, None),\n",
       " 'bromine production' (kilogram, RER, None)]"
      ]
     },
     "execution_count": 8,
     "metadata": {},
     "output_type": "execute_result"
    }
   ],
   "source": [
    "ei_clca.search('ceramics')"
   ]
  },
  {
   "cell_type": "code",
   "execution_count": 15,
   "id": "9129ac64",
   "metadata": {},
   "outputs": [],
   "source": [
    "# define a process as object in the project\n",
    "ceramics = ceramics_db.get(name = 'ceramics production', location = \"GLO\", unit = 'kilogram')\n"
   ]
  },
  {
   "cell_type": "code",
   "execution_count": 9,
   "id": "cf187b10",
   "metadata": {},
   "outputs": [],
   "source": [
    "ceramics_ei = ei_clca.get(name = 'market for sanitary ceramics', location = \"GLO\", unit = 'kilogram')"
   ]
  },
  {
   "cell_type": "markdown",
   "id": "6f6d8c1a",
   "metadata": {},
   "source": [
    "### 4. Impact assessment methods"
   ]
  },
  {
   "cell_type": "code",
   "execution_count": 10,
   "id": "3b0b476b",
   "metadata": {},
   "outputs": [],
   "source": [
    "lcia_gwp100 = ('EF v3.1', 'climate change', 'global warming potential (GWP100)')\n",
    "lcia_water = ('EF v3.1','water use','user deprivation potential (deprivation-weighted water consumption)')\n",
    "lcia_land = ('EF v3.1', 'land use', 'soil quality index')"
   ]
  },
  {
   "cell_type": "markdown",
   "id": "a68e120e",
   "metadata": {},
   "source": [
    "### 4. LCI "
   ]
  },
  {
   "cell_type": "code",
   "execution_count": 12,
   "id": "6166da62",
   "metadata": {},
   "outputs": [
    {
     "data": {
      "text/plain": [
       "'c:\\\\Users\\\\TimWeber\\\\repos_20LCA\\\\brightway25\\\\lci-ecoinvent310clca.xlsx'"
      ]
     },
     "execution_count": 12,
     "metadata": {},
     "output_type": "execute_result"
    }
   ],
   "source": [
    "# export the LCI to e\n",
    "bi.export.excel.write_lci_excel(ei_clca.name,\n",
    "                                objs=[ceramics_ei],\n",
    "                                dirpath=Path.cwd())"
   ]
  },
  {
   "cell_type": "markdown",
   "id": "52d66648",
   "metadata": {},
   "source": [
    "### 5. LCIA"
   ]
  },
  {
   "cell_type": "code",
   "execution_count": 16,
   "id": "ca05a284",
   "metadata": {},
   "outputs": [
    {
     "name": "stderr",
     "output_type": "stream",
     "text": [
      "c:\\Users\\TimWeber\\anaconda3\\envs\\brightway25\\Lib\\site-packages\\bw2calc\\lca_base.py:87: UserWarning: No valid biosphere flows found. No inventory results can be calculated, `lcia` will raise an error\n",
      "  warnings.warn(\n"
     ]
    },
    {
     "ename": "EmptyBiosphere",
     "evalue": "",
     "output_type": "error",
     "traceback": [
      "\u001b[31m---------------------------------------------------------------------------\u001b[39m",
      "\u001b[31mEmptyBiosphere\u001b[39m                            Traceback (most recent call last)",
      "\u001b[36mCell\u001b[39m\u001b[36m \u001b[39m\u001b[32mIn[16]\u001b[39m\u001b[32m, line 2\u001b[39m\n\u001b[32m      1\u001b[39m \u001b[38;5;66;03m# Quick LCIA calculation\u001b[39;00m\n\u001b[32m----> \u001b[39m\u001b[32m2\u001b[39m ceramics_lca = \u001b[43mceramics\u001b[49m\u001b[43m.\u001b[49m\u001b[43mlca\u001b[49m\u001b[43m(\u001b[49m\u001b[43mlcia_gwp100\u001b[49m\u001b[43m)\u001b[49m\n\u001b[32m      3\u001b[39m ceramics_lca.score\n",
      "\u001b[36mFile \u001b[39m\u001b[32mc:\\Users\\TimWeber\\anaconda3\\envs\\brightway25\\Lib\\site-packages\\bw2data\\proxies.py:113\u001b[39m, in \u001b[36mActivityProxyBase.lca\u001b[39m\u001b[34m(self, method, amount)\u001b[39m\n\u001b[32m    111\u001b[39m lca.lci()\n\u001b[32m    112\u001b[39m \u001b[38;5;28;01mif\u001b[39;00m method \u001b[38;5;129;01mis\u001b[39;00m \u001b[38;5;129;01mnot\u001b[39;00m \u001b[38;5;28;01mNone\u001b[39;00m:\n\u001b[32m--> \u001b[39m\u001b[32m113\u001b[39m     \u001b[43mlca\u001b[49m\u001b[43m.\u001b[49m\u001b[43mlcia\u001b[49m\u001b[43m(\u001b[49m\u001b[43m)\u001b[49m\n\u001b[32m    114\u001b[39m \u001b[38;5;28;01mreturn\u001b[39;00m lca\n",
      "\u001b[36mFile \u001b[39m\u001b[32mc:\\Users\\TimWeber\\anaconda3\\envs\\brightway25\\Lib\\site-packages\\bw2calc\\lca_base.py:203\u001b[39m, in \u001b[36mLCABase.lcia\u001b[39m\u001b[34m(self, demand)\u001b[39m\n\u001b[32m    201\u001b[39m \u001b[38;5;28;01massert\u001b[39;00m \u001b[38;5;28mhasattr\u001b[39m(\u001b[38;5;28mself\u001b[39m, \u001b[33m\"\u001b[39m\u001b[33minventory\u001b[39m\u001b[33m\"\u001b[39m) \u001b[38;5;129;01mor\u001b[39;00m \u001b[38;5;28mhasattr\u001b[39m(\u001b[38;5;28mself\u001b[39m, \u001b[33m\"\u001b[39m\u001b[33minventories\u001b[39m\u001b[33m\"\u001b[39m), \u001b[33m\"\u001b[39m\u001b[33mMust do lci first\u001b[39m\u001b[33m\"\u001b[39m\n\u001b[32m    202\u001b[39m \u001b[38;5;28;01mif\u001b[39;00m \u001b[38;5;129;01mnot\u001b[39;00m \u001b[38;5;28mself\u001b[39m.dicts.biosphere:\n\u001b[32m--> \u001b[39m\u001b[32m203\u001b[39m     \u001b[38;5;28;01mraise\u001b[39;00m EmptyBiosphere\n\u001b[32m    205\u001b[39m \u001b[38;5;28;01mif\u001b[39;00m \u001b[38;5;129;01mnot\u001b[39;00m (\n\u001b[32m    206\u001b[39m     \u001b[38;5;28mhasattr\u001b[39m(\u001b[38;5;28mself\u001b[39m, \u001b[33m\"\u001b[39m\u001b[33mcharacterization_matrix\u001b[39m\u001b[33m\"\u001b[39m) \u001b[38;5;129;01mor\u001b[39;00m \u001b[38;5;28mhasattr\u001b[39m(\u001b[38;5;28mself\u001b[39m, \u001b[33m\"\u001b[39m\u001b[33mcharacterization_matrices\u001b[39m\u001b[33m\"\u001b[39m)\n\u001b[32m    207\u001b[39m ):\n\u001b[32m    208\u001b[39m     \u001b[38;5;28mself\u001b[39m.load_lcia_data()\n",
      "\u001b[31mEmptyBiosphere\u001b[39m: "
     ]
    }
   ],
   "source": [
    "# Quick LCIA calculation\n",
    "ceramics_lca = ceramics.lca(lcia_gwp100)\n",
    "ceramics_lca.score\n"
   ]
  },
  {
   "cell_type": "markdown",
   "id": "357aef27",
   "metadata": {},
   "source": [
    "### 6. Contribution analysis"
   ]
  },
  {
   "cell_type": "code",
   "execution_count": null,
   "id": "a49b7b1e",
   "metadata": {},
   "outputs": [],
   "source": [
    "# One option to do a contribution analysis is to use the recursive calculation method\n",
    "bwa.print_recursive_calculation(ceramics,\n",
    "lcia_method=lcia_gwp100,max_level=3,cutoff=0.05)"
   ]
  },
  {
   "cell_type": "code",
   "execution_count": null,
   "id": "185b3405",
   "metadata": {},
   "outputs": [],
   "source": [
    "# Another option is to use the recursive calculation to an object, which returns a DataFrame\n",
    "ceramics_ca_gwp = bwa.utils.recursive_calculation_to_object(ceramics,\n",
    "                                          lcia_method=lcia_gwp100,\n",
    "                                          max_level=1,\n",
    "                                          cutoff=0.02,\n",
    "                                          as_dataframe=True,\n",
    "                                          )\n",
    "ceramics_ca_gwp"
   ]
  },
  {
   "cell_type": "code",
   "execution_count": null,
   "id": "3075ad93",
   "metadata": {},
   "outputs": [],
   "source": [
    "# Elementary flows contribution analysis by process\n",
    "ceramics_lca.to_dataframe().pivot_table(index=['col_name', 'row_name'], values='amount', aggfunc='sum').sort_values(by='amount', ascending=False)"
   ]
  },
  {
   "cell_type": "code",
   "execution_count": null,
   "id": "04718c76",
   "metadata": {},
   "outputs": [],
   "source": [
    "# Elementary flows contribution analysis as summary table\n",
    "ceramics_lca.to_dataframe().pivot_table(index='row_name',values='amount',aggfunc='sum')"
   ]
  },
  {
   "cell_type": "markdown",
   "id": "65ca78a9",
   "metadata": {},
   "source": [
    "### 7. Plot Contribution analysis graphs"
   ]
  },
  {
   "cell_type": "code",
   "execution_count": null,
   "id": "d8658a79",
   "metadata": {},
   "outputs": [],
   "source": [
    "# Filter out the parent processes that are not relevant for the contribution analysis\n",
    "ceramics_ca_gwp = ceramics_ca_gwp.dropna(subset='parent') \n",
    "\n"
   ]
  },
  {
   "cell_type": "code",
   "execution_count": null,
   "id": "2fbec9b8",
   "metadata": {},
   "outputs": [],
   "source": [
    "f, ax = plt.subplots(figsize=(6, 3))\n",
    "sns.barplot(y='name', x='score', data=ceramics_ca_gwp, ax=ax)\n",
    "ax.set(\n",
    "    title='Contribution analysis of smartphone production',\n",
    "    xlabel='CO2 eq. emissions (kg)',\n",
    "    ylabel='')\n",
    "plt.tight_layout()\n",
    "plt.show()\n"
   ]
  }
 ],
 "metadata": {
  "kernelspec": {
   "display_name": "brightway25",
   "language": "python",
   "name": "python3"
  },
  "language_info": {
   "codemirror_mode": {
    "name": "ipython",
    "version": 3
   },
   "file_extension": ".py",
   "mimetype": "text/x-python",
   "name": "python",
   "nbconvert_exporter": "python",
   "pygments_lexer": "ipython3",
   "version": "3.12.11"
  }
 },
 "nbformat": 4,
 "nbformat_minor": 5
}
