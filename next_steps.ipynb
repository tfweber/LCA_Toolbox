{
 "cells": [
  {
   "cell_type": "code",
   "execution_count": 1,
   "id": "04365249",
   "metadata": {},
   "outputs": [],
   "source": [
    "# As next steps, we want to import EXIOBASE and BONSAI and get to analyse them as well all linked to the same biosphere flows and in the same project."
   ]
  }
 ],
 "metadata": {
  "kernelspec": {
   "display_name": "brightway25",
   "language": "python",
   "name": "python3"
  },
  "language_info": {
   "codemirror_mode": {
    "name": "ipython",
    "version": 3
   },
   "file_extension": ".py",
   "mimetype": "text/x-python",
   "name": "python",
   "nbconvert_exporter": "python",
   "pygments_lexer": "ipython3",
   "version": "3.12.11"
  }
 },
 "nbformat": 4,
 "nbformat_minor": 5
}
